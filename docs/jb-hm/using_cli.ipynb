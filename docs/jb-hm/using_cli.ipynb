{
 "cells": [
  {
   "cell_type": "markdown",
   "id": "b96cbf42-1508-42a2-9aec-46708fad60b0",
   "metadata": {},
   "source": [
    "# Using the hillmaker CLI"
   ]
  },
  {
   "cell_type": "code",
   "execution_count": null,
   "id": "048105b2-6bd6-4283-bdff-717f266b850b",
   "metadata": {},
   "outputs": [],
   "source": []
  }
 ],
 "metadata": {
  "kernelspec": {
   "display_name": "Python [conda env:hm_oo]",
   "language": "python",
   "name": "python3"
  },
  "language_info": {
   "codemirror_mode": {
    "name": "ipython",
    "version": 3
   },
   "file_extension": ".py",
   "mimetype": "text/x-python",
   "name": "python",
   "nbconvert_exporter": "python",
   "pygments_lexer": "ipython3",
   "version": "3.10.12"
  }
 },
 "nbformat": 4,
 "nbformat_minor": 5
}
