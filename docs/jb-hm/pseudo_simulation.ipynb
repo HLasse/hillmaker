{
 "cells": [
  {
   "cell_type": "markdown",
   "id": "9042bc66-cc39-456b-b82d-dc8e4a8512aa",
   "metadata": {},
   "source": [
    "# Using hillmaker for pseudo-simulation\n",
    "\n",
    "COMING SOON"
   ]
  }
 ],
 "metadata": {
  "kernelspec": {
   "display_name": "Python 3 (ipykernel)",
   "language": "python",
   "name": "python3"
  },
  "language_info": {
   "codemirror_mode": {
    "name": "ipython",
    "version": 3
   },
   "file_extension": ".py",
   "mimetype": "text/x-python",
   "name": "python",
   "nbconvert_exporter": "python",
   "pygments_lexer": "ipython3",
   "version": "3.10.9"
  }
 },
 "nbformat": 4,
 "nbformat_minor": 5
}
