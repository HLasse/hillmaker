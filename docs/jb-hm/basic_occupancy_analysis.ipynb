{
 "cells": [
  {
   "cell_type": "markdown",
   "id": "9042bc66-cc39-456b-b82d-dc8e4a8512aa",
   "metadata": {},
   "source": [
    "# Basic occupancy analysis\n",
    "\n",
    "COMING SOON"
   ]
  },
  {
   "cell_type": "code",
   "execution_count": 1,
   "id": "8f082295-0ed4-4f5d-b649-ace295ce5cf1",
   "metadata": {
    "tags": [
     "remove-cell"
    ]
   },
   "outputs": [],
   "source": [
    "%load_ext autoreload\n",
    "%autoreload 2"
   ]
  },
  {
   "cell_type": "code",
   "execution_count": 2,
   "id": "81cbf234-e6ae-462f-839f-c8b48a388731",
   "metadata": {},
   "outputs": [],
   "source": [
    "import pandas as pd\n",
    "import hillmaker as hm"
   ]
  },
  {
   "cell_type": "markdown",
   "id": "cb5ff436-89df-45ac-89fa-2e93eeadf2a3",
   "metadata": {},
   "source": [
    "## A prototypical example - occupancy analysis of a hospital Short Stay Unit\n",
    "\n",
    "Patients flow through a short stay unit (SSU) for a variety of procedures, tests or therapies. Let's assume patients can be classified into one of five categories of patient types: ART (arterialgram), CAT (post cardiac-cath), MYE (myelogram), IVT (IV therapy), and OTH (other). We are interested in occupancy statistics by time of day and day of week to support things like staff scheduling and capacity planning.\n",
    "\n",
    "From one of our hospital information systems we were able to get raw data about the entry and exit times of each patient and exported the data to a csv file. We call each row of such data a *stop* (as in, the patient stopped here for a while). Let's take a peek at the data by first reading the csv file into a pandas `DataFrame`."
   ]
  },
  {
   "cell_type": "code",
   "execution_count": 3,
   "id": "e70992da-2b87-4737-97ee-5895e6bbc2b3",
   "metadata": {},
   "outputs": [
    {
     "name": "stdout",
     "output_type": "stream",
     "text": [
      "<class 'pandas.core.frame.DataFrame'>\n",
      "RangeIndex: 59877 entries, 0 to 59876\n",
      "Data columns (total 5 columns):\n",
      " #   Column     Non-Null Count  Dtype         \n",
      "---  ------     --------------  -----         \n",
      " 0   PatID      59877 non-null  int64         \n",
      " 1   InRoomTS   59877 non-null  datetime64[ns]\n",
      " 2   OutRoomTS  59877 non-null  datetime64[ns]\n",
      " 3   PatType    59877 non-null  object        \n",
      " 4   LOS_hours  59877 non-null  float64       \n",
      "dtypes: datetime64[ns](2), float64(1), int64(1), object(1)\n",
      "memory usage: 2.3+ MB\n"
     ]
    }
   ],
   "source": [
    "ssu_stopdata = './data/ssu_2024.csv'\n",
    "stops_df = pd.read_csv(ssu_stopdata, parse_dates=['InRoomTS','OutRoomTS'])\n",
    "stops_df.info() "
   ]
  },
  {
   "cell_type": "code",
   "execution_count": 30,
   "id": "b8187ad7-23af-4ae6-8efd-b013d2fdbf76",
   "metadata": {},
   "outputs": [],
   "source": [
    "ssu_all = hm.Scenario(scenario_name='ssu_all',\n",
    "                      data=stops_df,\n",
    "                      in_field='InRoomTS',\n",
    "                      out_field='OutRoomTS',\n",
    "                      start_analysis_dt='2024-01-02',\n",
    "                      end_analysis_dt='2024-09-30',\n",
    "                      cat_field='PatType',\n",
    "                      bin_size_minutes=60,\n",
    "                      verbosity=1,\n",
    "                     )"
   ]
  },
  {
   "cell_type": "code",
   "execution_count": 31,
   "id": "ebe3cc56-5a7b-4ab3-a907-45e44f908088",
   "metadata": {},
   "outputs": [
    {
     "name": "stdout",
     "output_type": "stream",
     "text": [
      "Required inputs\n",
      "-------------------------\n",
      "scenario_name = ssu_all\n",
      "data =\n",
      "       PatID            InRoomTS           OutRoomTS PatType  LOS_hours\n",
      "0          1 2024-01-01 07:44:00 2024-01-01 09:20:00     IVT   1.600000\n",
      "1          2 2024-01-01 08:28:00 2024-01-01 11:13:00     IVT   2.750000\n",
      "2          3 2024-01-01 11:44:00 2024-01-01 12:48:00     MYE   1.066667\n",
      "3          4 2024-01-01 11:51:00 2024-01-01 21:10:00     CAT   9.316667\n",
      "4          5 2024-01-01 12:10:00 2024-01-01 12:57:00     IVT   0.783333\n",
      "...      ...                 ...                 ...     ...        ...\n",
      "59872  59873 2024-09-30 19:31:00 2024-09-30 20:34:00     IVT   1.050000\n",
      "59873  59874 2024-09-30 20:23:00 2024-09-30 22:22:00     IVT   1.983333\n",
      "59874  59875 2024-09-30 21:00:00 2024-09-30 23:22:00     CAT   2.366667\n",
      "59875  59876 2024-09-30 21:57:00 2024-10-01 01:58:00     IVT   4.016667\n",
      "59876  59877 2024-09-30 22:45:00 2024-10-01 03:18:00     CAT   4.550000\n",
      "\n",
      "[59877 rows x 5 columns]\n",
      "in_field = InRoomTS\n",
      "out_field = OutRoomTS\n",
      "start_analysis_dt = 2024-01-02T00:00:00.000000000\n",
      "end_analysis_dt = 2024-09-30T23:59:59.000000000\n",
      "\n",
      "Frequently used optional inputs\n",
      "-----------------------------------\n",
      "cat_field = PatType\n",
      "bin_size_minutes = 60\n",
      "\n",
      "More optional inputs\n",
      "-------------------------\n",
      "cats_to_exclude = None\n",
      "occ_weight_field = None\n",
      "percentiles = (0.25, 0.5, 0.75, 0.95, 0.99)\n",
      "los_units = hours\n",
      "\n",
      "Macro-level plot options\n",
      "-------------------------\n",
      "make_all_dow_plots = False\n",
      "make_all_week_plots = True\n",
      "export_all_dow_plots = False\n",
      "export_all_week_plots = False\n",
      "plot_export_path = None\n",
      "\n",
      "Micro-level plot options\n",
      "-------------------------\n",
      "plot_style = ggplot\n",
      "figsize = (15, 10)\n",
      "bar_color_mean = steelblue\n",
      "plot_percentiles = (0.95, 0.75)\n",
      "pctile_color = ('black', 'grey')\n",
      "pctile_linestyle = ('-', '--')\n",
      "pctile_linewidth = (0.75, 0.75)\n",
      "cap = None\n",
      "cap_color = r\n",
      "xlabel = Hour\n",
      "ylabel = Volume\n",
      "main_title = \n",
      "main_title_properties = {'loc': 'left', 'fontsize': 16}\n",
      "subtitle = \n",
      "subtitle_properties = {'loc': 'left', 'style': 'italic'}\n",
      "legend_properties = {'loc': 'best', 'frameon': True, 'facecolor': 'w'}\n",
      "first_dow = mon\n",
      "\n",
      "Advanced options\n",
      "-------------------------\n",
      "edge_bins = 1\n",
      "highres_bin_size_minutes = 60\n",
      "keep_highres_bydatetime = False\n",
      "nonstationary_stats = True\n",
      "stationary_stats = True\n",
      "verbosity = 1\n",
      "\n",
      "\n"
     ]
    }
   ],
   "source": [
    "print(ssu_all)"
   ]
  },
  {
   "cell_type": "code",
   "execution_count": null,
   "id": "753a5bfd-2523-47dd-8760-e995eb5ff48d",
   "metadata": {},
   "outputs": [],
   "source": [
    "ssu_all.make_hills()"
   ]
  },
  {
   "cell_type": "code",
   "execution_count": null,
   "id": "27e2276c-ee8b-4fa9-8a43-231b4fb7b95c",
   "metadata": {},
   "outputs": [],
   "source": [
    "ssu_all.hills.keys()"
   ]
  },
  {
   "cell_type": "code",
   "execution_count": null,
   "id": "f51007dc-1093-48b2-9d4c-17cce1f73ab1",
   "metadata": {},
   "outputs": [],
   "source": []
  }
 ],
 "metadata": {
  "kernelspec": {
   "display_name": "Python [conda env:hm_oo]",
   "language": "python",
   "name": "conda-env-hm_oo-py"
  },
  "language_info": {
   "codemirror_mode": {
    "name": "ipython",
    "version": 3
   },
   "file_extension": ".py",
   "mimetype": "text/x-python",
   "name": "python",
   "nbconvert_exporter": "python",
   "pygments_lexer": "ipython3",
   "version": "3.10.12"
  }
 },
 "nbformat": 4,
 "nbformat_minor": 5
}
