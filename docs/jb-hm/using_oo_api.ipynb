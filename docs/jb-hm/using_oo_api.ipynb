{
 "cells": [
  {
   "cell_type": "markdown",
   "id": "79aa1471-20a2-4d7b-b2ec-3df57b916a18",
   "metadata": {
    "tags": []
   },
   "source": [
    "# Using object oriented API"
   ]
  },
  {
   "cell_type": "code",
   "execution_count": null,
   "id": "3de16b9e-060f-4ba3-8b50-758f1445d1dc",
   "metadata": {},
   "outputs": [],
   "source": []
  }
 ],
 "metadata": {
  "kernelspec": {
   "display_name": "Python [conda env:hm_oo]",
   "language": "python",
   "name": "python3"
  },
  "language_info": {
   "codemirror_mode": {
    "name": "ipython",
    "version": 3
   },
   "file_extension": ".py",
   "mimetype": "text/x-python",
   "name": "python",
   "nbconvert_exporter": "python",
   "pygments_lexer": "ipython3",
   "version": "3.10.12"
  }
 },
 "nbformat": 4,
 "nbformat_minor": 5
}
