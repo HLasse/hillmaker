{
 "cells": [
  {
   "cell_type": "markdown",
   "id": "f38a6194-1948-40df-a2eb-12a1ffb1a37a",
   "metadata": {},
   "source": [
    "# Using the `make_hills()` function\n",
    "\n",
    "The `hillmaker.hills.make_hills` function is the gateway to hillmaker and is used by the CLI, the object oriented API, or on its own to launch the hillmaking process. It has numerous input arguments for customizing how hillmaker works. In this tutorial we will describe all of the input arguments and discuss their use. This same information applies to the CLI and the object oriented API's `Scenario.make_hills` method."
   ]
  },
  {
   "cell_type": "code",
   "execution_count": 4,
   "id": "c4292d32-2c2b-4699-82ae-0b110adee165",
   "metadata": {},
   "outputs": [],
   "source": [
    "%load_ext autoreload\n",
    "%autoreload 2"
   ]
  },
  {
   "cell_type": "code",
   "execution_count": 5,
   "id": "d30936c3-f09b-4f33-aab3-2a7ad13fca05",
   "metadata": {},
   "outputs": [],
   "source": [
    "import pandas as pd\n",
    "import hillmaker as hm"
   ]
  },
  {
   "cell_type": "code",
   "execution_count": 9,
   "id": "ab275aa1-7398-472f-b6c3-d9d606d52212",
   "metadata": {},
   "outputs": [
    {
     "name": "stdout",
     "output_type": "stream",
     "text": [
      "<class 'pandas.core.frame.DataFrame'>\n",
      "RangeIndex: 59877 entries, 0 to 59876\n",
      "Data columns (total 5 columns):\n",
      " #   Column     Non-Null Count  Dtype         \n",
      "---  ------     --------------  -----         \n",
      " 0   PatID      59877 non-null  int64         \n",
      " 1   InRoomTS   59877 non-null  datetime64[ns]\n",
      " 2   OutRoomTS  59877 non-null  datetime64[ns]\n",
      " 3   PatType    59877 non-null  object        \n",
      " 4   LOS_hours  59877 non-null  float64       \n",
      "dtypes: datetime64[ns](2), float64(1), int64(1), object(1)\n",
      "memory usage: 2.3+ MB\n"
     ]
    }
   ],
   "source": [
    "ssu_stopdata = './data/ssu_2024.csv'\n",
    "ssu_stops_df = pd.read_csv(ssu_stopdata, parse_dates=['InRoomTS','OutRoomTS'])\n",
    "ssu_stops_df.info() # Check out the structure of the resulting DataFrame"
   ]
  },
  {
   "cell_type": "code",
   "execution_count": 4,
   "id": "286cdb07-8e04-4835-9d83-60eb41362a61",
   "metadata": {},
   "outputs": [
    {
     "data": {
      "text/plain": [
       "\u001b[0;31mSignature:\u001b[0m\n",
       "\u001b[0mhm\u001b[0m\u001b[0;34m.\u001b[0m\u001b[0mmake_hills\u001b[0m\u001b[0;34m(\u001b[0m\u001b[0;34m\u001b[0m\n",
       "\u001b[0;34m\u001b[0m    \u001b[0mscenario_name\u001b[0m\u001b[0;34m:\u001b[0m \u001b[0mstr\u001b[0m\u001b[0;34m,\u001b[0m\u001b[0;34m\u001b[0m\n",
       "\u001b[0;34m\u001b[0m    \u001b[0mstops_df\u001b[0m\u001b[0;34m:\u001b[0m \u001b[0mpandas\u001b[0m\u001b[0;34m.\u001b[0m\u001b[0mcore\u001b[0m\u001b[0;34m.\u001b[0m\u001b[0mframe\u001b[0m\u001b[0;34m.\u001b[0m\u001b[0mDataFrame\u001b[0m\u001b[0;34m,\u001b[0m\u001b[0;34m\u001b[0m\n",
       "\u001b[0;34m\u001b[0m    \u001b[0min_field\u001b[0m\u001b[0;34m:\u001b[0m \u001b[0mstr\u001b[0m\u001b[0;34m,\u001b[0m\u001b[0;34m\u001b[0m\n",
       "\u001b[0;34m\u001b[0m    \u001b[0mout_field\u001b[0m\u001b[0;34m:\u001b[0m \u001b[0mstr\u001b[0m\u001b[0;34m,\u001b[0m\u001b[0;34m\u001b[0m\n",
       "\u001b[0;34m\u001b[0m    \u001b[0mstart_analysis_dt\u001b[0m\u001b[0;34m:\u001b[0m \u001b[0mstr\u001b[0m \u001b[0;34m|\u001b[0m \u001b[0mdatetime\u001b[0m\u001b[0;34m.\u001b[0m\u001b[0mdate\u001b[0m \u001b[0;34m|\u001b[0m \u001b[0mdatetime\u001b[0m\u001b[0;34m.\u001b[0m\u001b[0mdatetime\u001b[0m \u001b[0;34m|\u001b[0m \u001b[0mpandas\u001b[0m\u001b[0;34m.\u001b[0m\u001b[0m_libs\u001b[0m\u001b[0;34m.\u001b[0m\u001b[0mtslibs\u001b[0m\u001b[0;34m.\u001b[0m\u001b[0mtimestamps\u001b[0m\u001b[0;34m.\u001b[0m\u001b[0mTimestamp\u001b[0m \u001b[0;34m|\u001b[0m \u001b[0mnumpy\u001b[0m\u001b[0;34m.\u001b[0m\u001b[0mdatetime64\u001b[0m\u001b[0;34m,\u001b[0m\u001b[0;34m\u001b[0m\n",
       "\u001b[0;34m\u001b[0m    \u001b[0mend_analysis_dt\u001b[0m\u001b[0;34m:\u001b[0m \u001b[0mstr\u001b[0m \u001b[0;34m|\u001b[0m \u001b[0mdatetime\u001b[0m\u001b[0;34m.\u001b[0m\u001b[0mdate\u001b[0m \u001b[0;34m|\u001b[0m \u001b[0mdatetime\u001b[0m\u001b[0;34m.\u001b[0m\u001b[0mdatetime\u001b[0m \u001b[0;34m|\u001b[0m \u001b[0mpandas\u001b[0m\u001b[0;34m.\u001b[0m\u001b[0m_libs\u001b[0m\u001b[0;34m.\u001b[0m\u001b[0mtslibs\u001b[0m\u001b[0;34m.\u001b[0m\u001b[0mtimestamps\u001b[0m\u001b[0;34m.\u001b[0m\u001b[0mTimestamp\u001b[0m \u001b[0;34m|\u001b[0m \u001b[0mnumpy\u001b[0m\u001b[0;34m.\u001b[0m\u001b[0mdatetime64\u001b[0m\u001b[0;34m,\u001b[0m\u001b[0;34m\u001b[0m\n",
       "\u001b[0;34m\u001b[0m    \u001b[0mcat_field\u001b[0m\u001b[0;34m:\u001b[0m \u001b[0mstr\u001b[0m \u001b[0;34m=\u001b[0m \u001b[0;32mNone\u001b[0m\u001b[0;34m,\u001b[0m\u001b[0;34m\u001b[0m\n",
       "\u001b[0;34m\u001b[0m    \u001b[0mbin_size_minutes\u001b[0m\u001b[0;34m:\u001b[0m \u001b[0mint\u001b[0m \u001b[0;34m=\u001b[0m \u001b[0;36m60\u001b[0m\u001b[0;34m,\u001b[0m\u001b[0;34m\u001b[0m\n",
       "\u001b[0;34m\u001b[0m    \u001b[0mhighres_bin_size_minutes\u001b[0m\u001b[0;34m:\u001b[0m \u001b[0mint\u001b[0m \u001b[0;34m=\u001b[0m \u001b[0;36m5\u001b[0m\u001b[0;34m,\u001b[0m\u001b[0;34m\u001b[0m\n",
       "\u001b[0;34m\u001b[0m    \u001b[0mkeep_highres_bydatetime\u001b[0m\u001b[0;34m:\u001b[0m \u001b[0mbool\u001b[0m \u001b[0;34m=\u001b[0m \u001b[0;32mFalse\u001b[0m\u001b[0;34m,\u001b[0m\u001b[0;34m\u001b[0m\n",
       "\u001b[0;34m\u001b[0m    \u001b[0mpercentiles\u001b[0m\u001b[0;34m:\u001b[0m \u001b[0mUnion\u001b[0m\u001b[0;34m[\u001b[0m\u001b[0mTuple\u001b[0m\u001b[0;34m,\u001b[0m \u001b[0mList\u001b[0m\u001b[0;34m]\u001b[0m \u001b[0;34m=\u001b[0m \u001b[0;34m(\u001b[0m\u001b[0;36m0.25\u001b[0m\u001b[0;34m,\u001b[0m \u001b[0;36m0.5\u001b[0m\u001b[0;34m,\u001b[0m \u001b[0;36m0.75\u001b[0m\u001b[0;34m,\u001b[0m \u001b[0;36m0.95\u001b[0m\u001b[0;34m,\u001b[0m \u001b[0;36m0.99\u001b[0m\u001b[0;34m)\u001b[0m\u001b[0;34m,\u001b[0m\u001b[0;34m\u001b[0m\n",
       "\u001b[0;34m\u001b[0m    \u001b[0mcats_to_exclude\u001b[0m\u001b[0;34m:\u001b[0m \u001b[0mstr\u001b[0m \u001b[0;34m|\u001b[0m \u001b[0;32mNone\u001b[0m \u001b[0;34m=\u001b[0m \u001b[0;32mNone\u001b[0m\u001b[0;34m,\u001b[0m\u001b[0;34m\u001b[0m\n",
       "\u001b[0;34m\u001b[0m    \u001b[0mocc_weight_field\u001b[0m\u001b[0;34m:\u001b[0m \u001b[0mstr\u001b[0m \u001b[0;34m|\u001b[0m \u001b[0;32mNone\u001b[0m \u001b[0;34m=\u001b[0m \u001b[0;32mNone\u001b[0m\u001b[0;34m,\u001b[0m\u001b[0;34m\u001b[0m\n",
       "\u001b[0;34m\u001b[0m    \u001b[0mcap\u001b[0m\u001b[0;34m:\u001b[0m \u001b[0mint\u001b[0m \u001b[0;34m|\u001b[0m \u001b[0;32mNone\u001b[0m \u001b[0;34m=\u001b[0m \u001b[0;32mNone\u001b[0m\u001b[0;34m,\u001b[0m\u001b[0;34m\u001b[0m\n",
       "\u001b[0;34m\u001b[0m    \u001b[0mnonstationary_stats\u001b[0m\u001b[0;34m:\u001b[0m \u001b[0mbool\u001b[0m \u001b[0;34m=\u001b[0m \u001b[0;32mTrue\u001b[0m\u001b[0;34m,\u001b[0m\u001b[0;34m\u001b[0m\n",
       "\u001b[0;34m\u001b[0m    \u001b[0mstationary_stats\u001b[0m\u001b[0;34m:\u001b[0m \u001b[0mbool\u001b[0m \u001b[0;34m=\u001b[0m \u001b[0;32mTrue\u001b[0m\u001b[0;34m,\u001b[0m\u001b[0;34m\u001b[0m\n",
       "\u001b[0;34m\u001b[0m    \u001b[0mexport_bydatetime_csv\u001b[0m\u001b[0;34m:\u001b[0m \u001b[0mbool\u001b[0m \u001b[0;34m=\u001b[0m \u001b[0;32mTrue\u001b[0m\u001b[0;34m,\u001b[0m\u001b[0;34m\u001b[0m\n",
       "\u001b[0;34m\u001b[0m    \u001b[0mexport_summaries_csv\u001b[0m\u001b[0;34m:\u001b[0m \u001b[0mbool\u001b[0m \u001b[0;34m=\u001b[0m \u001b[0;32mTrue\u001b[0m\u001b[0;34m,\u001b[0m\u001b[0;34m\u001b[0m\n",
       "\u001b[0;34m\u001b[0m    \u001b[0mmake_all_dow_plots\u001b[0m\u001b[0;34m:\u001b[0m \u001b[0mbool\u001b[0m \u001b[0;34m=\u001b[0m \u001b[0;32mTrue\u001b[0m\u001b[0;34m,\u001b[0m\u001b[0;34m\u001b[0m\n",
       "\u001b[0;34m\u001b[0m    \u001b[0mmake_all_week_plots\u001b[0m\u001b[0;34m:\u001b[0m \u001b[0mbool\u001b[0m \u001b[0;34m=\u001b[0m \u001b[0;32mTrue\u001b[0m\u001b[0;34m,\u001b[0m\u001b[0;34m\u001b[0m\n",
       "\u001b[0;34m\u001b[0m    \u001b[0mexport_dow_plot\u001b[0m\u001b[0;34m:\u001b[0m \u001b[0mbool\u001b[0m \u001b[0;34m=\u001b[0m \u001b[0;32mTrue\u001b[0m\u001b[0;34m,\u001b[0m\u001b[0;34m\u001b[0m\n",
       "\u001b[0;34m\u001b[0m    \u001b[0mexport_week_plot\u001b[0m\u001b[0;34m:\u001b[0m \u001b[0mbool\u001b[0m \u001b[0;34m=\u001b[0m \u001b[0;32mTrue\u001b[0m\u001b[0;34m,\u001b[0m\u001b[0;34m\u001b[0m\n",
       "\u001b[0;34m\u001b[0m    \u001b[0mxlabel\u001b[0m\u001b[0;34m:\u001b[0m \u001b[0mstr\u001b[0m \u001b[0;34m|\u001b[0m \u001b[0;32mNone\u001b[0m \u001b[0;34m=\u001b[0m \u001b[0;32mNone\u001b[0m\u001b[0;34m,\u001b[0m\u001b[0;34m\u001b[0m\n",
       "\u001b[0;34m\u001b[0m    \u001b[0mylabel\u001b[0m\u001b[0;34m:\u001b[0m \u001b[0mstr\u001b[0m \u001b[0;34m|\u001b[0m \u001b[0;32mNone\u001b[0m \u001b[0;34m=\u001b[0m \u001b[0;32mNone\u001b[0m\u001b[0;34m,\u001b[0m\u001b[0;34m\u001b[0m\n",
       "\u001b[0;34m\u001b[0m    \u001b[0moutput_path\u001b[0m\u001b[0;34m:\u001b[0m \u001b[0mstr\u001b[0m \u001b[0;34m|\u001b[0m \u001b[0mpathlib\u001b[0m\u001b[0;34m.\u001b[0m\u001b[0mPath\u001b[0m \u001b[0;34m=\u001b[0m \u001b[0mPosixPath\u001b[0m\u001b[0;34m(\u001b[0m\u001b[0;34m'.'\u001b[0m\u001b[0;34m)\u001b[0m\u001b[0;34m,\u001b[0m\u001b[0;34m\u001b[0m\n",
       "\u001b[0;34m\u001b[0m    \u001b[0mverbosity\u001b[0m\u001b[0;34m:\u001b[0m \u001b[0mint\u001b[0m \u001b[0;34m=\u001b[0m \u001b[0;34m<\u001b[0m\u001b[0mVerbosityEnum\u001b[0m\u001b[0;34m.\u001b[0m\u001b[0mWARNING\u001b[0m\u001b[0;34m:\u001b[0m \u001b[0;36m0\u001b[0m\u001b[0;34m>\u001b[0m\u001b[0;34m,\u001b[0m\u001b[0;34m\u001b[0m\n",
       "\u001b[0;34m\u001b[0m    \u001b[0mlos_units\u001b[0m\u001b[0;34m:\u001b[0m \u001b[0mstr\u001b[0m \u001b[0;34m=\u001b[0m \u001b[0;34m'hours'\u001b[0m\u001b[0;34m,\u001b[0m\u001b[0;34m\u001b[0m\n",
       "\u001b[0;34m\u001b[0m\u001b[0;34m)\u001b[0m \u001b[0;34m->\u001b[0m \u001b[0mDict\u001b[0m\u001b[0;34m\u001b[0m\u001b[0;34m\u001b[0m\u001b[0m\n",
       "\u001b[0;31mDocstring:\u001b[0m\n",
       "Compute occupancy, arrival, and departure statistics by category, time bin of day and day of week.\n",
       "\n",
       "Main function that first calls `bydatetime.make_bydatetime` to calculate occupancy, arrival\n",
       "and departure values by date by time bin and then calls `summarize.summarize`\n",
       "to compute the summary statistics.\n",
       "\n",
       "Parameters\n",
       "----------\n",
       "\n",
       "scenario_name : str\n",
       "    Used in output filenames\n",
       "stops_df : DataFrame\n",
       "    Base data containing one row per visit\n",
       "in_field : str\n",
       "    Column name corresponding to the arrival times\n",
       "out_field : str\n",
       "    Column name corresponding to the departure times\n",
       "start_analysis_dt : datetime-like, str\n",
       "    Starting datetime for the analysis (must be convertible to pandas Timestamp)\n",
       "end_analysis_dt : datetime-like, str\n",
       "    Ending datetime for the analysis (must be convertible to pandas Timestamp)\n",
       "cat_field : str, optional\n",
       "    Column name corresponding to the categories. If none is specified, then only overall occupancy is summarized.\n",
       "    Default is None\n",
       "bin_size_minutes : int, optional\n",
       "    Number of minutes in each time bin of the day, default is 60. Use a value that\n",
       "    divides into 1440 with no remainder\n",
       "highres_bin_size_minutes : int, optional\n",
       "    Number of minutes in each time bin of the day used for initial computation of the number of arrivals,\n",
       "    departures, and the occupancy level. This value should be <= `bin_size_minutes`. The shorter the duration of\n",
       "    stays, the smaller the resolution should be. The current default is 5 minutes.\n",
       "keep_highres_bydatetime : bool, optional\n",
       "    Save the high resolution bydatetime dataframe in hills attribute. Default is False.\n",
       "percentiles : list or tuple of floats (e.g. [0.5, 0.75, 0.95]), optional\n",
       "    Which percentiles to compute. Default is (0.25, 0.5, 0.75, 0.95, 0.99)\n",
       "cats_to_exclude : list, optional\n",
       "    Category values to ignore, default is None\n",
       "occ_weight_field : str, optional\n",
       "    Column name corresponding to the weights to use for occupancy incrementing, default is None\n",
       "    which corresponds to a weight of 1.0.\n",
       "cap : int, optional\n",
       "    Capacity of area being analyzed, default is None\n",
       "nonstationary_stats : bool, optional\n",
       "   If True, datetime bin stats are computed. Else, they aren't computed. Default is True\n",
       "stationary_stats : bool, optional\n",
       "   If True, overall, non-time bin dependent, stats are computed. Else, they aren't computed. Default is True\n",
       "export_bydatetime_csv : bool, optional\n",
       "   If True, bydatetime DataFrames are exported to csv files. Default is True.\n",
       "export_summaries_csv : bool, optional\n",
       "   If True, summary DataFrames are exported to csv files. Default is True.\n",
       "make_all_dow_plots : bool, optional\n",
       "   If True, day of week plots are created for occupancy, arrival, and departure. Default is True.\n",
       "make_all_week_plots : bool, optional\n",
       "   If True, full week plots are created for occupancy, arrival, and departure. Default is True.\n",
       "export_dow_plot : bool, optional\n",
       "   If True, day of week plots are exported for occupancy, arrival, and departure. Default is True.\n",
       "export_week_plot : bool, optional\n",
       "   If True, full week plots are exported for occupancy, arrival, and departure. Default is True.\n",
       "xlabel : str\n",
       "    x-axis label, default='Hour'\n",
       "ylabel : str\n",
       "    y-axis label, default='Patients'\n",
       "output_path : str or Path, optional\n",
       "    Destination path for exported csv and png files, default is current directory\n",
       "verbosity : int, optional\n",
       "    Used to set level in loggers. 0=logging.WARNING (default=0), 1=logging.INFO, 2=logging.DEBUG\n",
       "los_units : str, optional\n",
       "    The time units to length of stay analysis.\n",
       "    See https://pandas.pydata.org/docs/reference/api/pandas.Timedelta.html for allowable values (smallest\n",
       "    value allowed is 'seconds', largest is 'days'). The default is 'hours'.\n",
       "\n",
       "\n",
       "Returns\n",
       "-------\n",
       "dict of DataFrames and plots\n",
       "   The bydatetime DataFrames, all summary DataFrames and any plots created.\n",
       "\u001b[0;31mFile:\u001b[0m      ~/Documents/projects/hillmaker/src/hillmaker/legacy.py\n",
       "\u001b[0;31mType:\u001b[0m      function"
      ]
     },
     "metadata": {},
     "output_type": "display_data"
    }
   ],
   "source": [
    "hm.make_hills?"
   ]
  },
  {
   "cell_type": "markdown",
   "id": "3922e377-4267-4c94-ab0c-78fa798885a8",
   "metadata": {},
   "source": [
    "## Required input arguments"
   ]
  },
  {
   "cell_type": "markdown",
   "id": "6736fcca-9582-462b-8d22-206f216af5c9",
   "metadata": {},
   "source": [
    "### `scenario_name` (*str*)\n",
    "\n",
    "This is a string that gets used in a few places:\n",
    "\n",
    "- part of filenames of exported CSV files,\n",
    "- part of filenames of exported plots,\n",
    "- plot subtitle default\n",
    "\n",
    "Since it gets used in filenames, best to avoid spaces and special characters (other than underscore). Any non-alphanumeric characters other than the underscore will get transformed to underscores."
   ]
  },
  {
   "cell_type": "markdown",
   "id": "b7ed891d-fd41-4c28-8e64-2486f63994b8",
   "metadata": {},
   "source": [
    "### `stops_df` (DataFrame)\n",
    "\n",
    "The `Dataframe` with each row representing one visit, or stop, by an entity. For example, in the SSU example, each row is a a patient who visits the short stay unit. In cycle share data, each row might be a rental of a bike for some period of time. Here are the first few records from `ssu_stops_df`. It is **NOT** necessary to have a field containing the duration of time that the entity spent in the system (e.g. `LOS_hours` below). You only need to have fields representing the arrival and departure times from the system - `InRoomTS` and `OutRoomTS` in this example."
   ]
  },
  {
   "cell_type": "code",
   "execution_count": 10,
   "id": "d6139b39-706a-4889-a764-ccc87053c82e",
   "metadata": {},
   "outputs": [
    {
     "data": {
      "text/html": [
       "<div>\n",
       "<style scoped>\n",
       "    .dataframe tbody tr th:only-of-type {\n",
       "        vertical-align: middle;\n",
       "    }\n",
       "\n",
       "    .dataframe tbody tr th {\n",
       "        vertical-align: top;\n",
       "    }\n",
       "\n",
       "    .dataframe thead th {\n",
       "        text-align: right;\n",
       "    }\n",
       "</style>\n",
       "<table border=\"1\" class=\"dataframe\">\n",
       "  <thead>\n",
       "    <tr style=\"text-align: right;\">\n",
       "      <th></th>\n",
       "      <th>PatID</th>\n",
       "      <th>InRoomTS</th>\n",
       "      <th>OutRoomTS</th>\n",
       "      <th>PatType</th>\n",
       "      <th>LOS_hours</th>\n",
       "    </tr>\n",
       "  </thead>\n",
       "  <tbody>\n",
       "    <tr>\n",
       "      <th>0</th>\n",
       "      <td>1</td>\n",
       "      <td>2024-01-01 07:44:00</td>\n",
       "      <td>2024-01-01 09:20:00</td>\n",
       "      <td>IVT</td>\n",
       "      <td>1.600000</td>\n",
       "    </tr>\n",
       "    <tr>\n",
       "      <th>1</th>\n",
       "      <td>2</td>\n",
       "      <td>2024-01-01 08:28:00</td>\n",
       "      <td>2024-01-01 11:13:00</td>\n",
       "      <td>IVT</td>\n",
       "      <td>2.750000</td>\n",
       "    </tr>\n",
       "    <tr>\n",
       "      <th>2</th>\n",
       "      <td>3</td>\n",
       "      <td>2024-01-01 11:44:00</td>\n",
       "      <td>2024-01-01 12:48:00</td>\n",
       "      <td>MYE</td>\n",
       "      <td>1.066667</td>\n",
       "    </tr>\n",
       "    <tr>\n",
       "      <th>3</th>\n",
       "      <td>4</td>\n",
       "      <td>2024-01-01 11:51:00</td>\n",
       "      <td>2024-01-01 21:10:00</td>\n",
       "      <td>CAT</td>\n",
       "      <td>9.316667</td>\n",
       "    </tr>\n",
       "    <tr>\n",
       "      <th>4</th>\n",
       "      <td>5</td>\n",
       "      <td>2024-01-01 12:10:00</td>\n",
       "      <td>2024-01-01 12:57:00</td>\n",
       "      <td>IVT</td>\n",
       "      <td>0.783333</td>\n",
       "    </tr>\n",
       "  </tbody>\n",
       "</table>\n",
       "</div>"
      ],
      "text/plain": [
       "   PatID            InRoomTS           OutRoomTS PatType  LOS_hours\n",
       "0      1 2024-01-01 07:44:00 2024-01-01 09:20:00     IVT   1.600000\n",
       "1      2 2024-01-01 08:28:00 2024-01-01 11:13:00     IVT   2.750000\n",
       "2      3 2024-01-01 11:44:00 2024-01-01 12:48:00     MYE   1.066667\n",
       "3      4 2024-01-01 11:51:00 2024-01-01 21:10:00     CAT   9.316667\n",
       "4      5 2024-01-01 12:10:00 2024-01-01 12:57:00     IVT   0.783333"
      ]
     },
     "execution_count": 10,
     "metadata": {},
     "output_type": "execute_result"
    }
   ],
   "source": [
    "ssu_stops_df.head()"
   ]
  },
  {
   "cell_type": "markdown",
   "id": "8f7ca87b-2e62-4c8a-95d4-e0100062345f",
   "metadata": {
    "jp-MarkdownHeadingCollapsed": true,
    "tags": []
   },
   "source": [
    "### `in_field` (*str*)\n",
    "\n",
    "The fieldname in `stops_df` containing the arrival times. The datatype for the field itself must be a pandas `Timestamp` (or `datetime64`). "
   ]
  },
  {
   "cell_type": "markdown",
   "id": "ba6b961c-5f60-4f82-992e-9612de9287df",
   "metadata": {},
   "source": [
    "### `out_field` (*str*)\n",
    "\n",
    "The fieldname in `stops_df` containing the departure times. The datatype for the field itself must be a pandas `Timestamp` (or `datetime64`). "
   ]
  },
  {
   "cell_type": "code",
   "execution_count": 11,
   "id": "99dcf1fe-d3d5-4119-88e0-54f40aa8a789",
   "metadata": {},
   "outputs": [
    {
     "name": "stdout",
     "output_type": "stream",
     "text": [
      "<class 'pandas.core.frame.DataFrame'>\n",
      "RangeIndex: 59877 entries, 0 to 59876\n",
      "Data columns (total 5 columns):\n",
      " #   Column     Non-Null Count  Dtype         \n",
      "---  ------     --------------  -----         \n",
      " 0   PatID      59877 non-null  int64         \n",
      " 1   InRoomTS   59877 non-null  datetime64[ns]\n",
      " 2   OutRoomTS  59877 non-null  datetime64[ns]\n",
      " 3   PatType    59877 non-null  object        \n",
      " 4   LOS_hours  59877 non-null  float64       \n",
      "dtypes: datetime64[ns](2), float64(1), int64(1), object(1)\n",
      "memory usage: 2.3+ MB\n"
     ]
    }
   ],
   "source": [
    "ssu_stops_df.info()"
   ]
  },
  {
   "cell_type": "markdown",
   "id": "8515eb4e-f916-428d-8d3b-325391b5c5e3",
   "metadata": {},
   "source": [
    "### `start_analysis_dt` and `end_analysis_dt` (*something convertible to a pandas `Timestamp`*)"
   ]
  },
  {
   "cell_type": "markdown",
   "id": "35e760f0-1207-4c30-8485-17c49bbde30a",
   "metadata": {},
   "source": [
    "These two dates define what we call the *analysis date range*. All records in `stops_df` whose `in_field` and `out_field` values overlap this range in any way, are included in the hillmaker computations.\n",
    "\n",
    "Care must be taken in selecting the analysis date range. In an example like the SSU, where most patients are staying less than 24 hours, we are probably fine with picking a `start_analysis_dt` very close or even equal to the earliest arrival date in our stop data. However, for a system in which the length of stay may be on the order of several days, we need to be congnizant of *warm up* effects. In such a case, if we used the earliest arrival date for the start of the analysis, we are essentially assuming that the system starts out empty on that date. This is certainly not likely to be true in a busy system where entities are staying multiple days. Similarly, the end date should not be after the date of the latest arrival or the system will appear to be emptying out - again, not realistic.\n",
    "\n",
    "See {doc}`basic_occupancy_analysis` for more on this issue."
   ]
  },
  {
   "cell_type": "markdown",
   "id": "450f6af4-984f-4c50-9e6f-7b3442462eba",
   "metadata": {},
   "source": [
    "## Optional input arguments"
   ]
  },
  {
   "cell_type": "markdown",
   "id": "22286b12-75c3-4eb8-8c4e-23fbeacda3c1",
   "metadata": {
    "jp-MarkdownHeadingCollapsed": true,
    "tags": []
   },
   "source": [
    "### `cat_field` (*str*)\n",
    "\n",
    "The fieldname in `stops_df` containing some sort of categorical information for which you would like to get hillmaker statistics. In the SSU example, this would be the `PatType` field. If a `cat_field` is specified, then arrival, departure and occupancy statistics are computed by category as well as overall. A common use of the category field is to specify a location. In this way, one hillmaker run can compute occupancy statitics for multiple locations. An example could be the name of the nursing unit visited as inpatients flow through a hospital. In the cycle share data example, a field specifying whether the renter was a subscription holder or a casual renter, lets us see the very different bike rental patterns by these two distinct populations."
   ]
  },
  {
   "cell_type": "markdown",
   "id": "e902a84e-a657-49fc-b38e-cf01df93c540",
   "metadata": {
    "jp-MarkdownHeadingCollapsed": true,
    "tags": []
   },
   "source": [
    "### `bin_size_minutes` (*int*)\n",
    "\n",
    "Central to hillmaker is the notion of dividing each day into equally sized time bins such as hours (`bin_size_minutes=60`) or half-hours. All of the summary tables and plots will use `bin_size_minutes`. Pick a value that makes sense for your study and for the level of time of day fluctuations present. Try different values and compare the plots. Large values might obscure important short-term fluctions in arrivals or occupancy.  "
   ]
  },
  {
   "cell_type": "markdown",
   "id": "8665087e-dead-4770-bc08-228cc1e95f55",
   "metadata": {
    "jp-MarkdownHeadingCollapsed": true,
    "tags": []
   },
   "source": [
    "### `highres_bin_size_minutes` (*int*)\n",
    "\n",
    "Number of minutes in each time bin of the day used for initial computation of the number of arrivals,\n",
    "departures, and the occupancy level - i.e. in the creation of the bydatetime table. By default, this is set equal to the value of `bin_size_minutes` since it doesn't affect aggregate arrival, occupancy or departure statistics. So, why would you ever use this parameter?\n",
    "    \n",
    "    \n",
    "    This value should be <= `bin_size_minutes`. The shorter the duration of\n",
    "    stays, the smaller the resolution should be. The current default is 5 minutes."
   ]
  },
  {
   "cell_type": "markdown",
   "id": "0661b6fd-9be7-415f-bc6e-28b5024c45b7",
   "metadata": {
    "jp-MarkdownHeadingCollapsed": true,
    "tags": []
   },
   "source": [
    "### `in_field` (*str*)\n",
    "\n",
    "The fieldname in `stops_df` containing the arrival times. The datatype for the field itself must be a pandas `Timestamp` (or `datetime64`). "
   ]
  },
  {
   "cell_type": "code",
   "execution_count": null,
   "id": "3f682ccc-07d2-4dc3-a050-91a10f4b392a",
   "metadata": {},
   "outputs": [],
   "source": []
  },
  {
   "cell_type": "markdown",
   "id": "b1290665-146f-4a06-bdbc-7b2ba5b51237",
   "metadata": {},
   "source": [
    "## Calling `make_hills()`"
   ]
  },
  {
   "cell_type": "markdown",
   "id": "599c8c0f-e1b2-47cb-bc9f-431d17898170",
   "metadata": {},
   "source": [
    "## Output dictionary"
   ]
  }
 ],
 "metadata": {
  "kernelspec": {
   "display_name": "Python [conda env:hm_oo]",
   "language": "python",
   "name": "conda-env-hm_oo-py"
  },
  "language_info": {
   "codemirror_mode": {
    "name": "ipython",
    "version": 3
   },
   "file_extension": ".py",
   "mimetype": "text/x-python",
   "name": "python",
   "nbconvert_exporter": "python",
   "pygments_lexer": "ipython3",
   "version": "3.10.12"
  }
 },
 "nbformat": 4,
 "nbformat_minor": 5
}
