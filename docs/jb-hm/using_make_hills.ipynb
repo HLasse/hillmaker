{
 "cells": [
  {
   "cell_type": "markdown",
   "id": "f38a6194-1948-40df-a2eb-12a1ffb1a37a",
   "metadata": {},
   "source": [
    "# Using the `make_hills()` function\n",
    "\n",
    "The `hillmaker.hills.make_hills` function is the gateway to hillmaker and is used by the CLI, the object oriented API, or on its own to launch the hillmaking process. It has numerous input arguments for customizing how hillmaker works. In this tutorial we will describe all of the input arguments and discuss their use. This same information applies to the CLI and the object oriented API's `Scenario.make_hills` method."
   ]
  },
  {
   "cell_type": "code",
   "execution_count": 2,
   "id": "c4292d32-2c2b-4699-82ae-0b110adee165",
   "metadata": {},
   "outputs": [],
   "source": [
    "%load_ext autoreload\n",
    "%autoreload 2"
   ]
  },
  {
   "cell_type": "code",
   "execution_count": 3,
   "id": "d30936c3-f09b-4f33-aab3-2a7ad13fca05",
   "metadata": {},
   "outputs": [],
   "source": [
    "import pandas as pd\n",
    "import hillmaker as hm"
   ]
  },
  {
   "cell_type": "code",
   "execution_count": 4,
   "id": "286cdb07-8e04-4835-9d83-60eb41362a61",
   "metadata": {},
   "outputs": [
    {
     "data": {
      "text/plain": [
       "\u001b[0;31mSignature:\u001b[0m\n",
       "\u001b[0mhm\u001b[0m\u001b[0;34m.\u001b[0m\u001b[0mmake_hills\u001b[0m\u001b[0;34m(\u001b[0m\u001b[0;34m\u001b[0m\n",
       "\u001b[0;34m\u001b[0m    \u001b[0mscenario_name\u001b[0m\u001b[0;34m:\u001b[0m \u001b[0mstr\u001b[0m\u001b[0;34m,\u001b[0m\u001b[0;34m\u001b[0m\n",
       "\u001b[0;34m\u001b[0m    \u001b[0mstops_df\u001b[0m\u001b[0;34m:\u001b[0m \u001b[0mpandas\u001b[0m\u001b[0;34m.\u001b[0m\u001b[0mcore\u001b[0m\u001b[0;34m.\u001b[0m\u001b[0mframe\u001b[0m\u001b[0;34m.\u001b[0m\u001b[0mDataFrame\u001b[0m\u001b[0;34m,\u001b[0m\u001b[0;34m\u001b[0m\n",
       "\u001b[0;34m\u001b[0m    \u001b[0min_field\u001b[0m\u001b[0;34m:\u001b[0m \u001b[0mstr\u001b[0m\u001b[0;34m,\u001b[0m\u001b[0;34m\u001b[0m\n",
       "\u001b[0;34m\u001b[0m    \u001b[0mout_field\u001b[0m\u001b[0;34m:\u001b[0m \u001b[0mstr\u001b[0m\u001b[0;34m,\u001b[0m\u001b[0;34m\u001b[0m\n",
       "\u001b[0;34m\u001b[0m    \u001b[0mstart_analysis_dt\u001b[0m\u001b[0;34m:\u001b[0m \u001b[0mstr\u001b[0m \u001b[0;34m|\u001b[0m \u001b[0mdatetime\u001b[0m\u001b[0;34m.\u001b[0m\u001b[0mdate\u001b[0m \u001b[0;34m|\u001b[0m \u001b[0mdatetime\u001b[0m\u001b[0;34m.\u001b[0m\u001b[0mdatetime\u001b[0m \u001b[0;34m|\u001b[0m \u001b[0mpandas\u001b[0m\u001b[0;34m.\u001b[0m\u001b[0m_libs\u001b[0m\u001b[0;34m.\u001b[0m\u001b[0mtslibs\u001b[0m\u001b[0;34m.\u001b[0m\u001b[0mtimestamps\u001b[0m\u001b[0;34m.\u001b[0m\u001b[0mTimestamp\u001b[0m \u001b[0;34m|\u001b[0m \u001b[0mnumpy\u001b[0m\u001b[0;34m.\u001b[0m\u001b[0mdatetime64\u001b[0m\u001b[0;34m,\u001b[0m\u001b[0;34m\u001b[0m\n",
       "\u001b[0;34m\u001b[0m    \u001b[0mend_analysis_dt\u001b[0m\u001b[0;34m:\u001b[0m \u001b[0mstr\u001b[0m \u001b[0;34m|\u001b[0m \u001b[0mdatetime\u001b[0m\u001b[0;34m.\u001b[0m\u001b[0mdate\u001b[0m \u001b[0;34m|\u001b[0m \u001b[0mdatetime\u001b[0m\u001b[0;34m.\u001b[0m\u001b[0mdatetime\u001b[0m \u001b[0;34m|\u001b[0m \u001b[0mpandas\u001b[0m\u001b[0;34m.\u001b[0m\u001b[0m_libs\u001b[0m\u001b[0;34m.\u001b[0m\u001b[0mtslibs\u001b[0m\u001b[0;34m.\u001b[0m\u001b[0mtimestamps\u001b[0m\u001b[0;34m.\u001b[0m\u001b[0mTimestamp\u001b[0m \u001b[0;34m|\u001b[0m \u001b[0mnumpy\u001b[0m\u001b[0;34m.\u001b[0m\u001b[0mdatetime64\u001b[0m\u001b[0;34m,\u001b[0m\u001b[0;34m\u001b[0m\n",
       "\u001b[0;34m\u001b[0m    \u001b[0mcat_field\u001b[0m\u001b[0;34m:\u001b[0m \u001b[0mstr\u001b[0m \u001b[0;34m=\u001b[0m \u001b[0;32mNone\u001b[0m\u001b[0;34m,\u001b[0m\u001b[0;34m\u001b[0m\n",
       "\u001b[0;34m\u001b[0m    \u001b[0mbin_size_minutes\u001b[0m\u001b[0;34m:\u001b[0m \u001b[0mint\u001b[0m \u001b[0;34m=\u001b[0m \u001b[0;36m60\u001b[0m\u001b[0;34m,\u001b[0m\u001b[0;34m\u001b[0m\n",
       "\u001b[0;34m\u001b[0m    \u001b[0mhighres_bin_size_minutes\u001b[0m\u001b[0;34m:\u001b[0m \u001b[0mint\u001b[0m \u001b[0;34m=\u001b[0m \u001b[0;36m5\u001b[0m\u001b[0;34m,\u001b[0m\u001b[0;34m\u001b[0m\n",
       "\u001b[0;34m\u001b[0m    \u001b[0mkeep_highres_bydatetime\u001b[0m\u001b[0;34m:\u001b[0m \u001b[0mbool\u001b[0m \u001b[0;34m=\u001b[0m \u001b[0;32mFalse\u001b[0m\u001b[0;34m,\u001b[0m\u001b[0;34m\u001b[0m\n",
       "\u001b[0;34m\u001b[0m    \u001b[0mpercentiles\u001b[0m\u001b[0;34m:\u001b[0m \u001b[0mUnion\u001b[0m\u001b[0;34m[\u001b[0m\u001b[0mTuple\u001b[0m\u001b[0;34m,\u001b[0m \u001b[0mList\u001b[0m\u001b[0;34m]\u001b[0m \u001b[0;34m=\u001b[0m \u001b[0;34m(\u001b[0m\u001b[0;36m0.25\u001b[0m\u001b[0;34m,\u001b[0m \u001b[0;36m0.5\u001b[0m\u001b[0;34m,\u001b[0m \u001b[0;36m0.75\u001b[0m\u001b[0;34m,\u001b[0m \u001b[0;36m0.95\u001b[0m\u001b[0;34m,\u001b[0m \u001b[0;36m0.99\u001b[0m\u001b[0;34m)\u001b[0m\u001b[0;34m,\u001b[0m\u001b[0;34m\u001b[0m\n",
       "\u001b[0;34m\u001b[0m    \u001b[0mcats_to_exclude\u001b[0m\u001b[0;34m:\u001b[0m \u001b[0mstr\u001b[0m \u001b[0;34m|\u001b[0m \u001b[0;32mNone\u001b[0m \u001b[0;34m=\u001b[0m \u001b[0;32mNone\u001b[0m\u001b[0;34m,\u001b[0m\u001b[0;34m\u001b[0m\n",
       "\u001b[0;34m\u001b[0m    \u001b[0mocc_weight_field\u001b[0m\u001b[0;34m:\u001b[0m \u001b[0mstr\u001b[0m \u001b[0;34m|\u001b[0m \u001b[0;32mNone\u001b[0m \u001b[0;34m=\u001b[0m \u001b[0;32mNone\u001b[0m\u001b[0;34m,\u001b[0m\u001b[0;34m\u001b[0m\n",
       "\u001b[0;34m\u001b[0m    \u001b[0mcap\u001b[0m\u001b[0;34m:\u001b[0m \u001b[0mint\u001b[0m \u001b[0;34m|\u001b[0m \u001b[0;32mNone\u001b[0m \u001b[0;34m=\u001b[0m \u001b[0;32mNone\u001b[0m\u001b[0;34m,\u001b[0m\u001b[0;34m\u001b[0m\n",
       "\u001b[0;34m\u001b[0m    \u001b[0mnonstationary_stats\u001b[0m\u001b[0;34m:\u001b[0m \u001b[0mbool\u001b[0m \u001b[0;34m=\u001b[0m \u001b[0;32mTrue\u001b[0m\u001b[0;34m,\u001b[0m\u001b[0;34m\u001b[0m\n",
       "\u001b[0;34m\u001b[0m    \u001b[0mstationary_stats\u001b[0m\u001b[0;34m:\u001b[0m \u001b[0mbool\u001b[0m \u001b[0;34m=\u001b[0m \u001b[0;32mTrue\u001b[0m\u001b[0;34m,\u001b[0m\u001b[0;34m\u001b[0m\n",
       "\u001b[0;34m\u001b[0m    \u001b[0mexport_bydatetime_csv\u001b[0m\u001b[0;34m:\u001b[0m \u001b[0mbool\u001b[0m \u001b[0;34m=\u001b[0m \u001b[0;32mTrue\u001b[0m\u001b[0;34m,\u001b[0m\u001b[0;34m\u001b[0m\n",
       "\u001b[0;34m\u001b[0m    \u001b[0mexport_summaries_csv\u001b[0m\u001b[0;34m:\u001b[0m \u001b[0mbool\u001b[0m \u001b[0;34m=\u001b[0m \u001b[0;32mTrue\u001b[0m\u001b[0;34m,\u001b[0m\u001b[0;34m\u001b[0m\n",
       "\u001b[0;34m\u001b[0m    \u001b[0mmake_all_dow_plots\u001b[0m\u001b[0;34m:\u001b[0m \u001b[0mbool\u001b[0m \u001b[0;34m=\u001b[0m \u001b[0;32mTrue\u001b[0m\u001b[0;34m,\u001b[0m\u001b[0;34m\u001b[0m\n",
       "\u001b[0;34m\u001b[0m    \u001b[0mmake_all_week_plots\u001b[0m\u001b[0;34m:\u001b[0m \u001b[0mbool\u001b[0m \u001b[0;34m=\u001b[0m \u001b[0;32mTrue\u001b[0m\u001b[0;34m,\u001b[0m\u001b[0;34m\u001b[0m\n",
       "\u001b[0;34m\u001b[0m    \u001b[0mexport_dow_plot\u001b[0m\u001b[0;34m:\u001b[0m \u001b[0mbool\u001b[0m \u001b[0;34m=\u001b[0m \u001b[0;32mTrue\u001b[0m\u001b[0;34m,\u001b[0m\u001b[0;34m\u001b[0m\n",
       "\u001b[0;34m\u001b[0m    \u001b[0mexport_week_plot\u001b[0m\u001b[0;34m:\u001b[0m \u001b[0mbool\u001b[0m \u001b[0;34m=\u001b[0m \u001b[0;32mTrue\u001b[0m\u001b[0;34m,\u001b[0m\u001b[0;34m\u001b[0m\n",
       "\u001b[0;34m\u001b[0m    \u001b[0mxlabel\u001b[0m\u001b[0;34m:\u001b[0m \u001b[0mstr\u001b[0m \u001b[0;34m|\u001b[0m \u001b[0;32mNone\u001b[0m \u001b[0;34m=\u001b[0m \u001b[0;32mNone\u001b[0m\u001b[0;34m,\u001b[0m\u001b[0;34m\u001b[0m\n",
       "\u001b[0;34m\u001b[0m    \u001b[0mylabel\u001b[0m\u001b[0;34m:\u001b[0m \u001b[0mstr\u001b[0m \u001b[0;34m|\u001b[0m \u001b[0;32mNone\u001b[0m \u001b[0;34m=\u001b[0m \u001b[0;32mNone\u001b[0m\u001b[0;34m,\u001b[0m\u001b[0;34m\u001b[0m\n",
       "\u001b[0;34m\u001b[0m    \u001b[0moutput_path\u001b[0m\u001b[0;34m:\u001b[0m \u001b[0mstr\u001b[0m \u001b[0;34m|\u001b[0m \u001b[0mpathlib\u001b[0m\u001b[0;34m.\u001b[0m\u001b[0mPath\u001b[0m \u001b[0;34m=\u001b[0m \u001b[0mPosixPath\u001b[0m\u001b[0;34m(\u001b[0m\u001b[0;34m'.'\u001b[0m\u001b[0;34m)\u001b[0m\u001b[0;34m,\u001b[0m\u001b[0;34m\u001b[0m\n",
       "\u001b[0;34m\u001b[0m    \u001b[0medge_bins\u001b[0m\u001b[0;34m:\u001b[0m \u001b[0mint\u001b[0m \u001b[0;34m=\u001b[0m \u001b[0;36m1\u001b[0m\u001b[0;34m,\u001b[0m\u001b[0;34m\u001b[0m\n",
       "\u001b[0;34m\u001b[0m    \u001b[0mverbosity\u001b[0m\u001b[0;34m:\u001b[0m \u001b[0mint\u001b[0m \u001b[0;34m=\u001b[0m \u001b[0;34m<\u001b[0m\u001b[0mVerbosityEnum\u001b[0m\u001b[0;34m.\u001b[0m\u001b[0mWARNING\u001b[0m\u001b[0;34m:\u001b[0m \u001b[0;36m0\u001b[0m\u001b[0;34m>\u001b[0m\u001b[0;34m,\u001b[0m\u001b[0;34m\u001b[0m\n",
       "\u001b[0;34m\u001b[0m    \u001b[0mlos_units\u001b[0m\u001b[0;34m:\u001b[0m \u001b[0mstr\u001b[0m \u001b[0;34m=\u001b[0m \u001b[0;34m'hours'\u001b[0m\u001b[0;34m,\u001b[0m\u001b[0;34m\u001b[0m\n",
       "\u001b[0;34m\u001b[0m\u001b[0;34m)\u001b[0m \u001b[0;34m->\u001b[0m \u001b[0mDict\u001b[0m\u001b[0;34m\u001b[0m\u001b[0;34m\u001b[0m\u001b[0m\n",
       "\u001b[0;31mDocstring:\u001b[0m\n",
       "Compute occupancy, arrival, and departure statistics by category, time bin of day and day of week.\n",
       "\n",
       "Main function that first calls `bydatetime.make_bydatetime` to calculate occupancy, arrival\n",
       "and departure values by date by time bin and then calls `summarize.summarize`\n",
       "to compute the summary statistics.\n",
       "\n",
       "Parameters\n",
       "----------\n",
       "\n",
       "scenario_name : str\n",
       "    Used in output filenames\n",
       "stops_df : DataFrame\n",
       "    Base data containing one row per visit\n",
       "in_field : str\n",
       "    Column name corresponding to the arrival times\n",
       "out_field : str\n",
       "    Column name corresponding to the departure times\n",
       "start_analysis_dt : datetime-like, str\n",
       "    Starting datetime for the analysis (must be convertible to pandas Timestamp)\n",
       "end_analysis_dt : datetime-like, str\n",
       "    Ending datetime for the analysis (must be convertible to pandas Timestamp)\n",
       "cat_field : str, optional\n",
       "    Column name corresponding to the categories. If none is specified, then only overall occupancy is summarized.\n",
       "    Default is None\n",
       "bin_size_minutes : int, optional\n",
       "    Number of minutes in each time bin of the day, default is 60. Use a value that\n",
       "    divides into 1440 with no remainder\n",
       "highres_bin_size_minutes : int, optional\n",
       "    Number of minutes in each time bin of the day used for initial computation of the number of arrivals,\n",
       "    departures, and the occupancy level. This value should be <= `bin_size_minutes`. The shorter the duration of\n",
       "    stays, the smaller the resolution should be. The current default is 5 minutes.\n",
       "keep_highres_bydatetime : bool, optional\n",
       "    Save the high resolution bydatetime dataframe in hills attribute. Default is False.\n",
       "percentiles : list or tuple of floats (e.g. [0.5, 0.75, 0.95]), optional\n",
       "    Which percentiles to compute. Default is (0.25, 0.5, 0.75, 0.95, 0.99)\n",
       "cats_to_exclude : list, optional\n",
       "    Category values to ignore, default is None\n",
       "occ_weight_field : str, optional\n",
       "    Column name corresponding to the weights to use for occupancy incrementing, default is None\n",
       "    which corresponds to a weight of 1.0.\n",
       "edge_bins: int, default 1\n",
       "    Occupancy contribution method for arrival and departure bins. 1=fractional, 2=whole bin\n",
       "cap : int, optional\n",
       "    Capacity of area being analyzed, default is None\n",
       "nonstationary_stats : bool, optional\n",
       "   If True, datetime bin stats are computed. Else, they aren't computed. Default is True\n",
       "stationary_stats : bool, optional\n",
       "   If True, overall, non-time bin dependent, stats are computed. Else, they aren't computed. Default is True\n",
       "export_bydatetime_csv : bool, optional\n",
       "   If True, bydatetime DataFrames are exported to csv files. Default is True.\n",
       "export_summaries_csv : bool, optional\n",
       "   If True, summary DataFrames are exported to csv files. Default is True.\n",
       "make_all_dow_plots : bool, optional\n",
       "   If True, day of week plots are created for occupancy, arrival, and departure. Default is True.\n",
       "make_all_week_plots : bool, optional\n",
       "   If True, full week plots are created for occupancy, arrival, and departure. Default is True.\n",
       "export_dow_plot : bool, optional\n",
       "   If True, day of week plots are exported for occupancy, arrival, and departure. Default is True.\n",
       "export_week_plot : bool, optional\n",
       "   If True, full week plots are exported for occupancy, arrival, and departure. Default is True.\n",
       "xlabel : str\n",
       "    x-axis label, default='Hour'\n",
       "ylabel : str\n",
       "    y-axis label, default='Patients'\n",
       "output_path : str or Path, optional\n",
       "    Destination path for exported csv and png files, default is current directory\n",
       "verbosity : int, optional\n",
       "    Used to set level in loggers. 0=logging.WARNING (default=0), 1=logging.INFO, 2=logging.DEBUG\n",
       "los_units : str, optional\n",
       "    The time units to length of stay analysis.\n",
       "    See https://pandas.pydata.org/docs/reference/api/pandas.Timedelta.html for allowable values (smallest\n",
       "    value allowed is 'seconds', largest is 'days'. The default is 'hours'.\n",
       "\n",
       "\n",
       "Returns\n",
       "-------\n",
       "dict of DataFrames and plots\n",
       "   The bydatetime DataFrames, all summary DataFrames and any plots created.\n",
       "\u001b[0;31mFile:\u001b[0m      ~/Documents/projects/hillmaker/src/hillmaker/legacy.py\n",
       "\u001b[0;31mType:\u001b[0m      function"
      ]
     },
     "metadata": {},
     "output_type": "display_data"
    }
   ],
   "source": [
    "hm.make_hills?"
   ]
  }
 ],
 "metadata": {
  "kernelspec": {
   "display_name": "Python [conda env:hm_oo]",
   "language": "python",
   "name": "conda-env-hm_oo-py"
  },
  "language_info": {
   "codemirror_mode": {
    "name": "ipython",
    "version": 3
   },
   "file_extension": ".py",
   "mimetype": "text/x-python",
   "name": "python",
   "nbconvert_exporter": "python",
   "pygments_lexer": "ipython3",
   "version": "3.10.12"
  }
 },
 "nbformat": 4,
 "nbformat_minor": 5
}
