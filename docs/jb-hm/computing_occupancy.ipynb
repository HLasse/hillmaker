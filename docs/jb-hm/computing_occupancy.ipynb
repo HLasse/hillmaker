{
 "cells": [
  {
   "cell_type": "markdown",
   "id": "86f0c5c7-a0d5-46c1-94db-fe511aae8370",
   "metadata": {},
   "source": [
    "# How is occupancy computed?\n",
    "\n",
    "In order to compute aggregate summary statistics for occupancy by time of day and day of week, we first need to determine how many patients (entities, in general) are present during each time bin of each date over the analysis range. In our Short Stay Unit (SSU) example, we have been using an *analysis date range* of 2024-01-02 through 2024-09-30. Let's use hourly time bins. This leads to 6552 hourly datetime bins as shown below. Note that we are using a [24-hour clock](https://simple.wikipedia.org/wiki/24-hour_clock).\n",
    "\n"
   ]
  },
  {
   "cell_type": "code",
   "execution_count": 2,
   "id": "bed423b0-80f1-4f07-8471-2a70b643f042",
   "metadata": {},
   "outputs": [],
   "source": [
    "import pandas as pd"
   ]
  },
  {
   "cell_type": "code",
   "execution_count": 4,
   "id": "c880ea7a-c42e-44d5-9dbf-744921e700b4",
   "metadata": {},
   "outputs": [
    {
     "data": {
      "text/plain": [
       "0       2024-01-02 00:00:00\n",
       "1       2024-01-02 01:00:00\n",
       "2       2024-01-02 02:00:00\n",
       "3       2024-01-02 03:00:00\n",
       "4       2024-01-02 04:00:00\n",
       "               ...         \n",
       "6547    2024-09-30 19:00:00\n",
       "6548    2024-09-30 20:00:00\n",
       "6549    2024-09-30 21:00:00\n",
       "6550    2024-09-30 22:00:00\n",
       "6551    2024-09-30 23:00:00\n",
       "Name: datetime, Length: 6552, dtype: object"
      ]
     },
     "execution_count": 4,
     "metadata": {},
     "output_type": "execute_result"
    }
   ],
   "source": [
    "bydatetime_df = pd.read_csv('output/cli_demo_ssu_60_bydatetime_datetime.csv')\n",
    "bydatetime_df['datetime']"
   ]
  },
  {
   "cell_type": "markdown",
   "id": "e671a4eb-9eeb-44cf-ac77-c79c9a1bc730",
   "metadata": {},
   "source": [
    "Assume the very first patient arrives at 06:15 on 2024-01-02 and departs at 09:36 the same day. For the time bins starting at 07:00 and 08:00, the patient is in the unit for the entire time bin. However, for the *arrival bin*, 06:00, the patient is only present for 45 minutes. Similarly, for the *departure bin*, the patient is in the unit for 36 minutes. "
   ]
  },
  {
   "cell_type": "raw",
   "id": "3bfe9019-14f6-4cdf-9886-f208f45795d1",
   "metadata": {},
   "source": [
    "```{table} Occupancy contribution for first patient\n",
    ":name: occ_contribution-table-ref\n",
    "| Time bin      | Minutes occupied | Occupancy contribution |\n",
    "| ----------- | :---------: | :----:|\n",
    "| 2024-01-02 06:00      | 45       | $45/60=0.75$ |\n",
    "| 2024-01-02 07:00   | 60        | $60/60=1.00$ |\n",
    "| 2024-01-02 08:00   | 60        | $60/60=1.00$ |\n",
    "| 2024-01-02 09:00   | 36        | $36/60=0.60$ |\n",
    "```"
   ]
  },
  {
   "cell_type": "markdown",
   "id": "b32161e7-92e9-49ae-b2da-1b3c71e1696e",
   "metadata": {},
   "source": [
    "During the hillmaking process, occupancy contributions by datetime bin for each patient are computed and are accumulated in NumPy arrays. Eventually these arrays are converted to a pandas `DataFrame` that we refer to as the *bydatetime* table or dataframe.\n"
   ]
  },
  {
   "cell_type": "markdown",
   "id": "81a9bec9-b37f-4442-ba52-fa2bc0e3a097",
   "metadata": {},
   "source": [
    "## What about the boundaries of the analysis date range?\n",
    "\n",
    "As long as the records are in the stops dataframe, hillmaker will account for patients who might have arrived before but discharged after the start date. In our SSU example, the start date was 2024-01-02 because we wanted to ignore the impact of the January 1 holiday. However, records from 2024-01-01 are in the stops dataframe. "
   ]
  },
  {
   "cell_type": "code",
   "execution_count": 9,
   "id": "f474de2b-5fef-4f2f-9f05-154737908da3",
   "metadata": {},
   "outputs": [
    {
     "data": {
      "text/html": [
       "<div>\n",
       "<style scoped>\n",
       "    .dataframe tbody tr th:only-of-type {\n",
       "        vertical-align: middle;\n",
       "    }\n",
       "\n",
       "    .dataframe tbody tr th {\n",
       "        vertical-align: top;\n",
       "    }\n",
       "\n",
       "    .dataframe thead th {\n",
       "        text-align: right;\n",
       "    }\n",
       "</style>\n",
       "<table border=\"1\" class=\"dataframe\">\n",
       "  <thead>\n",
       "    <tr style=\"text-align: right;\">\n",
       "      <th></th>\n",
       "      <th>PatID</th>\n",
       "      <th>InRoomTS</th>\n",
       "      <th>OutRoomTS</th>\n",
       "      <th>PatType</th>\n",
       "      <th>LOS_hours</th>\n",
       "    </tr>\n",
       "  </thead>\n",
       "  <tbody>\n",
       "    <tr>\n",
       "      <th>0</th>\n",
       "      <td>1</td>\n",
       "      <td>2024-01-01 07:44:00</td>\n",
       "      <td>2024-01-01 09:20:00</td>\n",
       "      <td>IVT</td>\n",
       "      <td>1.600000</td>\n",
       "    </tr>\n",
       "    <tr>\n",
       "      <th>1</th>\n",
       "      <td>2</td>\n",
       "      <td>2024-01-01 08:28:00</td>\n",
       "      <td>2024-01-01 11:13:00</td>\n",
       "      <td>IVT</td>\n",
       "      <td>2.750000</td>\n",
       "    </tr>\n",
       "    <tr>\n",
       "      <th>2</th>\n",
       "      <td>3</td>\n",
       "      <td>2024-01-01 11:44:00</td>\n",
       "      <td>2024-01-01 12:48:00</td>\n",
       "      <td>MYE</td>\n",
       "      <td>1.066667</td>\n",
       "    </tr>\n",
       "    <tr>\n",
       "      <th>3</th>\n",
       "      <td>4</td>\n",
       "      <td>2024-01-01 11:51:00</td>\n",
       "      <td>2024-01-01 21:10:00</td>\n",
       "      <td>CAT</td>\n",
       "      <td>9.316667</td>\n",
       "    </tr>\n",
       "    <tr>\n",
       "      <th>4</th>\n",
       "      <td>5</td>\n",
       "      <td>2024-01-01 12:10:00</td>\n",
       "      <td>2024-01-01 12:57:00</td>\n",
       "      <td>IVT</td>\n",
       "      <td>0.783333</td>\n",
       "    </tr>\n",
       "    <tr>\n",
       "      <th>5</th>\n",
       "      <td>6</td>\n",
       "      <td>2024-01-01 14:16:00</td>\n",
       "      <td>2024-01-01 17:35:00</td>\n",
       "      <td>IVT</td>\n",
       "      <td>3.316667</td>\n",
       "    </tr>\n",
       "    <tr>\n",
       "      <th>6</th>\n",
       "      <td>7</td>\n",
       "      <td>2024-01-01 14:40:00</td>\n",
       "      <td>2024-01-01 17:24:00</td>\n",
       "      <td>IVT</td>\n",
       "      <td>2.733333</td>\n",
       "    </tr>\n",
       "    <tr>\n",
       "      <th>7</th>\n",
       "      <td>8</td>\n",
       "      <td>2024-01-01 17:25:00</td>\n",
       "      <td>2024-01-02 01:53:00</td>\n",
       "      <td>CAT</td>\n",
       "      <td>8.466667</td>\n",
       "    </tr>\n",
       "  </tbody>\n",
       "</table>\n",
       "</div>"
      ],
      "text/plain": [
       "   PatID            InRoomTS           OutRoomTS PatType  LOS_hours\n",
       "0      1 2024-01-01 07:44:00 2024-01-01 09:20:00     IVT   1.600000\n",
       "1      2 2024-01-01 08:28:00 2024-01-01 11:13:00     IVT   2.750000\n",
       "2      3 2024-01-01 11:44:00 2024-01-01 12:48:00     MYE   1.066667\n",
       "3      4 2024-01-01 11:51:00 2024-01-01 21:10:00     CAT   9.316667\n",
       "4      5 2024-01-01 12:10:00 2024-01-01 12:57:00     IVT   0.783333\n",
       "5      6 2024-01-01 14:16:00 2024-01-01 17:35:00     IVT   3.316667\n",
       "6      7 2024-01-01 14:40:00 2024-01-01 17:24:00     IVT   2.733333\n",
       "7      8 2024-01-01 17:25:00 2024-01-02 01:53:00     CAT   8.466667"
      ]
     },
     "execution_count": 9,
     "metadata": {},
     "output_type": "execute_result"
    }
   ],
   "source": [
    "ssu_stopdata = './data/ssu_2024.csv'\n",
    "stops_df = pd.read_csv(ssu_stopdata, parse_dates=['InRoomTS','OutRoomTS'])\n",
    "stops_df[stops_df['InRoomTS'] < pd.Timestamp('2024-01-02')]"
   ]
  },
  {
   "cell_type": "markdown",
   "id": "6a73c558-5a72-4924-92d6-1ee47fb17d15",
   "metadata": {},
   "source": [
    "Notice that the last patient who arrived on 2024-01-01 wasn't discharged until 2024-01-02 01:53. If we look at the bydatetime table, we can see the occupanc contributions of this patient."
   ]
  },
  {
   "cell_type": "code",
   "execution_count": 11,
   "id": "c20037b5-04a0-4bbc-a494-49b76b012ee8",
   "metadata": {},
   "outputs": [
    {
     "data": {
      "text/html": [
       "<div>\n",
       "<style scoped>\n",
       "    .dataframe tbody tr th:only-of-type {\n",
       "        vertical-align: middle;\n",
       "    }\n",
       "\n",
       "    .dataframe tbody tr th {\n",
       "        vertical-align: top;\n",
       "    }\n",
       "\n",
       "    .dataframe thead th {\n",
       "        text-align: right;\n",
       "    }\n",
       "</style>\n",
       "<table border=\"1\" class=\"dataframe\">\n",
       "  <thead>\n",
       "    <tr style=\"text-align: right;\">\n",
       "      <th></th>\n",
       "      <th>datetime</th>\n",
       "      <th>arrivals</th>\n",
       "      <th>departures</th>\n",
       "      <th>occupancy</th>\n",
       "      <th>dow_name</th>\n",
       "      <th>bin_of_day_str</th>\n",
       "      <th>day_of_week</th>\n",
       "      <th>bin_of_day</th>\n",
       "      <th>bin_of_week</th>\n",
       "    </tr>\n",
       "  </thead>\n",
       "  <tbody>\n",
       "    <tr>\n",
       "      <th>0</th>\n",
       "      <td>2024-01-02 00:00:00</td>\n",
       "      <td>0.0</td>\n",
       "      <td>0.0</td>\n",
       "      <td>1.000000</td>\n",
       "      <td>Tue</td>\n",
       "      <td>00:00</td>\n",
       "      <td>1</td>\n",
       "      <td>0</td>\n",
       "      <td>24</td>\n",
       "    </tr>\n",
       "    <tr>\n",
       "      <th>1</th>\n",
       "      <td>2024-01-02 01:00:00</td>\n",
       "      <td>0.0</td>\n",
       "      <td>1.0</td>\n",
       "      <td>0.883333</td>\n",
       "      <td>Tue</td>\n",
       "      <td>01:00</td>\n",
       "      <td>1</td>\n",
       "      <td>1</td>\n",
       "      <td>25</td>\n",
       "    </tr>\n",
       "    <tr>\n",
       "      <th>2</th>\n",
       "      <td>2024-01-02 02:00:00</td>\n",
       "      <td>0.0</td>\n",
       "      <td>0.0</td>\n",
       "      <td>0.000000</td>\n",
       "      <td>Tue</td>\n",
       "      <td>02:00</td>\n",
       "      <td>1</td>\n",
       "      <td>2</td>\n",
       "      <td>26</td>\n",
       "    </tr>\n",
       "  </tbody>\n",
       "</table>\n",
       "</div>"
      ],
      "text/plain": [
       "              datetime  arrivals  departures  occupancy dow_name  \\\n",
       "0  2024-01-02 00:00:00       0.0         0.0   1.000000      Tue   \n",
       "1  2024-01-02 01:00:00       0.0         1.0   0.883333      Tue   \n",
       "2  2024-01-02 02:00:00       0.0         0.0   0.000000      Tue   \n",
       "\n",
       "  bin_of_day_str  day_of_week  bin_of_day  bin_of_week  \n",
       "0          00:00            1           0           24  \n",
       "1          01:00            1           1           25  \n",
       "2          02:00            1           2           26  "
      ]
     },
     "execution_count": 11,
     "metadata": {},
     "output_type": "execute_result"
    }
   ],
   "source": [
    "bydatetime_df.head(3)"
   ]
  },
  {
   "cell_type": "markdown",
   "id": "5f94fe78-6a86-4a33-aa2e-69a087ecf38d",
   "metadata": {},
   "source": [
    "We see that:\n",
    "\n",
    "- there is one patient in the system from 12a-1a. This patient arrived on 2024-01-01 and had not yet been discharged as of midnight on 2024-01-02. \n",
    "- between 1a-2a (at 01:53), this patient was discharged. The occupancy value of 0.883333 for the 1a-2a time bin means that the patient was discharged after spending approximately $88\\%$ ($53/60$ minutes) of the 1a-2a period in the SSU. "
   ]
  },
  {
   "cell_type": "markdown",
   "id": "978fce27-24ab-45c7-b000-799afa001937",
   "metadata": {},
   "source": [
    "Similarly, those patients who arrive during the analysis date range but are discharged after the end date, are included by hillmaker for the time spent in the system duing the analysis date range."
   ]
  },
  {
   "cell_type": "markdown",
   "id": "68656801-f35f-4754-b0c9-62e70812f307",
   "metadata": {},
   "source": [
    "# Other options for computing occupancy \n",
    "\n",
    "This way of computing occupancy is the default way that hillmaker computes it. However, if you decide you want to use an occupancy contribution of 1.0 even for time bins in which the patient was only present for a fraction of that time, you can use do this through the `edge_bins` parameter. From the help for the `make_hills()` function:\n",
    "\n",
    "```\n",
    "edge_bins: int, default 1\n",
    "    Occupancy contribution method for arrival and departure bins. 1=fractional, 2=whole bin\n",
    "```\n"
   ]
  },
  {
   "cell_type": "markdown",
   "id": "e3b39879-e1e7-4519-b7cb-f584131edfa4",
   "metadata": {},
   "source": [
    "```{warning}\n",
    "You can grossly overestimate occupancy if you use ... TODO: SHOULD WE EVEN HAVE THIS OPTION ANYMORE? NOW THAT WE ADDED THE ABILITY TO COMPUTE THE BYDATETIME TABLE AT HIGHER RESOLUTIONS THAN bin_size_minutes, I'M NOT SURE THIS MAKES SENSE ANYMORE\n",
    "```"
   ]
  }
 ],
 "metadata": {
  "kernelspec": {
   "display_name": "Python [conda env:hm_oo]",
   "language": "python",
   "name": "conda-env-hm_oo-py"
  },
  "language_info": {
   "codemirror_mode": {
    "name": "ipython",
    "version": 3
   },
   "file_extension": ".py",
   "mimetype": "text/x-python",
   "name": "python",
   "nbconvert_exporter": "python",
   "pygments_lexer": "ipython3",
   "version": "3.10.12"
  }
 },
 "nbformat": 4,
 "nbformat_minor": 5
}
