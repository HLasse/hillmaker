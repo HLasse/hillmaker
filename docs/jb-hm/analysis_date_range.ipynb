{
 "cells": [
  {
   "cell_type": "markdown",
   "id": "9042bc66-cc39-456b-b82d-dc8e4a8512aa",
   "metadata": {},
   "source": [
    "# Choosing the date range for analysis"
   ]
  },
  {
   "cell_type": "markdown",
   "id": "8007d7c8-5255-4c50-8f4f-1cd88ed7b677",
   "metadata": {
    "tags": []
   },
   "source": [
    "### **WARNING** - Horizon and warmup effects\n",
    "\n",
    "You need to be careful when specifying the start and end dates for your analysis (we call this the *analysis range*). You need to consider *horizon and warmup effects*. In the SSU example, each stop is just a few hours and there aren't any patients who arrive before 2024-01-01 and are still in the SSU on 2024-01-01. However, if we were working with data in which the stops are a few days in length (such as on an inpatient nursing unit), we need to think about what start date we should use and exactly how the original dataset was extracted. hillmaker is completely capable of properly accounting for patients who arrive before the specified start date for the analysis as well as those who are discharged after the end date. However, it can only work with the stop data provided. "
   ]
  },
  {
   "cell_type": "markdown",
   "id": "308e25bb-1556-49cb-a9c5-27449aed26f3",
   "metadata": {},
   "source": [
    "## Example 1 - short length of stay and horizon effects\n",
    "\n",
    "If you have relatively short lengths of stay (up to several hours) such as in the SSU example, you just need to make sure that your specify an analysis range that is fully contained within the date range for the stop data records you are using. If our data contains all patients **discharged** between 2024-01-01 and 2024-09-30, we can safely use an analysis date range of `start_analysis_dt = 2024-01-01` and `end_analysis_dt = 2024-09-29`. We might be even able to use and end date of 2024-09-30 if we are not concerned about patients who arrived on or before 2024-09-30 but were discharged after this date. Even better, if when pulling the original data we made sure to grab all patient records for those patients who were discharged on or after 2024-01-01 and who arrived on or before 2024-09-30, then we could use `start_analysis_dt = 2024-01-01` and `end_analysis_dt = 2024-09-30`. \n",
    "\n",
    "Obviously, with a large number or records and multi-month timeframes, these types of horizon effects are neglible when the length of stay is relatively short."
   ]
  },
  {
   "cell_type": "code",
   "execution_count": 1,
   "id": "1cb60e65-6c53-4b31-a75f-e85724ac6224",
   "metadata": {
    "tags": [
     "remove-cell"
    ]
   },
   "outputs": [],
   "source": [
    "%load_ext autoreload\n",
    "%autoreload 2"
   ]
  },
  {
   "cell_type": "code",
   "execution_count": 2,
   "id": "2e5ad945-3c78-40d7-ac0f-dc488bb4a3eb",
   "metadata": {},
   "outputs": [],
   "source": [
    "import pandas as pd\n",
    "import hillmaker as hm"
   ]
  },
  {
   "cell_type": "code",
   "execution_count": null,
   "id": "a418c057-f62a-4267-aa80-f80b649e6153",
   "metadata": {},
   "outputs": [],
   "source": []
  },
  {
   "cell_type": "code",
   "execution_count": 4,
   "id": "bc71675b-1196-4bf5-a826-576e26ba7848",
   "metadata": {},
   "outputs": [
    {
     "name": "stdout",
     "output_type": "stream",
     "text": [
      "Traceback (most recent call last):\n",
      "  File \"/home/mark/anaconda3/envs/hm_oo/bin/hillmaker\", line 33, in <module>\n",
      "    sys.exit(load_entry_point('hillmaker', 'console_scripts', 'hillmaker')())\n",
      "  File \"/home/mark/Documents/projects/hillmaker/src/hillmaker/console.py\", line 347, in main\n",
      "    scenario = create_scenario(params_dict=args_dict)\n",
      "  File \"/home/mark/Documents/projects/hillmaker/src/hillmaker/scenario.py\", line 706, in create_scenario\n",
      "    scenario = Scenario(**params)\n",
      "  File \"/home/mark/anaconda3/envs/hm_oo/lib/python3.10/site-packages/pydantic/main.py\", line 159, in __init__\n",
      "    __pydantic_self__.__pydantic_validator__.validate_python(data, self_instance=__pydantic_self__)\n",
      "pydantic_core._pydantic_core.ValidationError: 1 validation error for Scenario\n",
      "  Value error, start analysis date of 2024-09-30T23:59:59.000000000 is > 48 hours before earliest arrival of 2024-01-01 07:44:00 [type=value_error, input_value={'scenario_name': 'exampl...rt_summaries_csv': True}, input_type=dict]\n",
      "    For further information visit https://errors.pydantic.dev/2.1/v/value_error\n"
     ]
    }
   ],
   "source": [
    "!hillmaker --scenario example1 --data ./data/ssu_2024.csv \\\n",
    "--in_field InRoomTS --out_field OutRoomTS --cat_field PatType --bin_size_minutes 60 \\\n",
    "--start_analysis_dt 2023-01-02 --end_analysis_dt 2024-09-30 --csv_export_path output --plot_export_path output --ylabel Patients "
   ]
  },
  {
   "cell_type": "code",
   "execution_count": null,
   "id": "ef6399b1-bb54-4a29-948b-f1027d0ed6b0",
   "metadata": {},
   "outputs": [],
   "source": []
  },
  {
   "cell_type": "markdown",
   "id": "1936dd2f-5221-42bf-89d0-250358b7d73f",
   "metadata": {},
   "source": [
    "considering warmup effects - a transient phase as occupancy builds to some stochastic steady state. Assume you know that you have stop data that was extracted, say, to include all patients discharged between 1/1/2021 and 12/30/2021 and that each stop might last for several days. You wouldn't want to set your hillmaker start date to 1/1/2021 as the system will appear to start out empty and occupancy will have a transient phase until the system fills to some sort of steady state. The longer the length of stay, the longer this warmup phase will take. You might want to experiment with start dates ranging from a few weeks to a few months **after** your earliest arrival time in your hillmaker stop data to see how long the system takes to reach a steady state. Similarly, if your criteria for selectng the stop data was discharges in 1/1/2021-12/30/2021, your data will **not** contain records for those patients admitted before 12/30/2021 but discharged after 12/30/2021. So, you might want to set your end date for hillmaker to be a few weeks before 12/20/2021.\n",
    "\n",
    "For our SSU data, we don't need to worry about this as patients only stay a few hours and the SSU typically only houses patients between ~6am-10pm."
   ]
  },
  {
   "cell_type": "code",
   "execution_count": null,
   "id": "e8850f64-40e1-4aa4-a106-bdfa6453e363",
   "metadata": {},
   "outputs": [],
   "source": [
    "import numpy as np\n",
    "from matplotlib import pyplot as plt"
   ]
  },
  {
   "cell_type": "code",
   "execution_count": null,
   "id": "99c8f6bc-308e-497b-be30-7eb2c3d98f7e",
   "metadata": {},
   "outputs": [],
   "source": [
    "alpha = 0.001\n",
    "b = np.linspace(start = 0.1, stop = 10.0)\n",
    "\n",
    "t_star = -np.log(alpha) * b \n",
    "plt.plot(b, t_star)\n"
   ]
  }
 ],
 "metadata": {
  "kernelspec": {
   "display_name": "Python [conda env:hm_oo]",
   "language": "python",
   "name": "conda-env-hm_oo-py"
  },
  "language_info": {
   "codemirror_mode": {
    "name": "ipython",
    "version": 3
   },
   "file_extension": ".py",
   "mimetype": "text/x-python",
   "name": "python",
   "nbconvert_exporter": "python",
   "pygments_lexer": "ipython3",
   "version": "3.10.12"
  }
 },
 "nbformat": 4,
 "nbformat_minor": 5
}
