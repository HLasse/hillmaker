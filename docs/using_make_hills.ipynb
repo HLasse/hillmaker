{
 "cells": [
  {
   "cell_type": "markdown",
   "id": "f38a6194-1948-40df-a2eb-12a1ffb1a37a",
   "metadata": {},
   "source": [
    "# Using the `make_hills()` function\n",
    "\n",
    "The `hillmaker.hills.make_hills` function is the gateway to hillmaker and is used by the CLI, the object oriented API, or on its own to launch the hillmaking process. It has numerous input arguments for customizing how hillmaker works. In this tutorial we will describe all of the input arguments and discuss their use. This same information applies to CLI as well as the object oriented API's `Scenario.make_hills` method. "
   ]
  },
  {
   "cell_type": "code",
   "execution_count": 1,
   "id": "8f082295-0ed4-4f5d-b649-ace295ce5cf1",
   "metadata": {
    "tags": [
     "remove-cell"
    ]
   },
   "outputs": [],
   "source": [
    "%load_ext autoreload\n",
    "%autoreload 2"
   ]
  },
  {
   "cell_type": "code",
   "execution_count": 2,
   "id": "d30936c3-f09b-4f33-aab3-2a7ad13fca05",
   "metadata": {},
   "outputs": [
    {
     "ename": "ModuleNotFoundError",
     "evalue": "No module named 'hillmaker'",
     "output_type": "error",
     "traceback": [
      "\u001b[0;31m---------------------------------------------------------------------------\u001b[0m",
      "\u001b[0;31mModuleNotFoundError\u001b[0m                       Traceback (most recent call last)",
      "Cell \u001b[0;32mIn[2], line 2\u001b[0m\n\u001b[1;32m      1\u001b[0m \u001b[38;5;28;01mimport\u001b[39;00m \u001b[38;5;21;01mpandas\u001b[39;00m \u001b[38;5;28;01mas\u001b[39;00m \u001b[38;5;21;01mpd\u001b[39;00m\n\u001b[0;32m----> 2\u001b[0m \u001b[38;5;28;01mimport\u001b[39;00m \u001b[38;5;21;01mhillmaker\u001b[39;00m \u001b[38;5;28;01mas\u001b[39;00m \u001b[38;5;21;01mhm\u001b[39;00m\n",
      "\u001b[0;31mModuleNotFoundError\u001b[0m: No module named 'hillmaker'"
     ]
    }
   ],
   "source": [
    "import pandas as pd\n",
    "import hillmaker as hm"
   ]
  },
  {
   "cell_type": "code",
   "execution_count": null,
   "id": "ab275aa1-7398-472f-b6c3-d9d606d52212",
   "metadata": {},
   "outputs": [],
   "source": [
    "ssu_stopdata = './data/ssu_2024.csv'\n",
    "ssu_stops_df = pd.read_csv(ssu_stopdata, parse_dates=['InRoomTS','OutRoomTS'])\n",
    "ssu_stops_df.info() # Check out the structure of the resulting DataFrame"
   ]
  },
  {
   "cell_type": "code",
   "execution_count": null,
   "id": "286cdb07-8e04-4835-9d83-60eb41362a61",
   "metadata": {},
   "outputs": [],
   "source": [
    "help(hm.make_hills)"
   ]
  },
  {
   "cell_type": "markdown",
   "id": "3922e377-4267-4c94-ab0c-78fa798885a8",
   "metadata": {},
   "source": [
    "## Required input arguments"
   ]
  },
  {
   "cell_type": "markdown",
   "id": "6736fcca-9582-462b-8d22-206f216af5c9",
   "metadata": {},
   "source": [
    "### `scenario_name` (*str*)\n",
    "\n",
    "This is a string that gets used in a few places:\n",
    "\n",
    "- part of filenames of exported CSV files,\n",
    "- part of filenames of exported plots,\n",
    "- plot subtitle default\n",
    "\n",
    "Since it gets used in filenames, best to avoid spaces and special characters (other than underscore). Any non-alphanumeric characters other than the underscore will get transformed to underscores."
   ]
  },
  {
   "cell_type": "markdown",
   "id": "b7ed891d-fd41-4c28-8e64-2486f63994b8",
   "metadata": {},
   "source": [
    "### `data` (str | Path | DataFrame)\n",
    "\n",
    "The data table with each row representing one visit, or *stop*, by an entity. You can pass a string or a `Path` object to a CSV file, which will then get read into a pandas `DataFrame`. Or, you can directly pass in a `DataFrame`.\n",
    "\n",
    "For example, in the SSU example, each row is a a patient who visits the short stay unit. In cycle share data, each row might be a rental of a bike for some period of time. Here are the first few records from `ssu_stops_df`. It is **NOT** necessary to have a field containing the duration of time that the entity spent in the system (e.g. `LOS_hours` below). You only need to have fields representing the arrival and departure times from the system - `InRoomTS` and `OutRoomTS` in this example.\n",
    "\n"
   ]
  },
  {
   "cell_type": "code",
   "execution_count": null,
   "id": "d6139b39-706a-4889-a764-ccc87053c82e",
   "metadata": {},
   "outputs": [],
   "source": [
    "ssu_stops_df.head()"
   ]
  },
  {
   "cell_type": "markdown",
   "id": "8f7ca87b-2e62-4c8a-95d4-e0100062345f",
   "metadata": {
    "jp-MarkdownHeadingCollapsed": true,
    "tags": []
   },
   "source": [
    "### `in_field` (*str*)\n",
    "\n",
    "The fieldname in `data` containing the arrival times. The datatype for the field itself must be a pandas `Timestamp` (or `datetime64`). "
   ]
  },
  {
   "cell_type": "markdown",
   "id": "ba6b961c-5f60-4f82-992e-9612de9287df",
   "metadata": {},
   "source": [
    "### `out_field` (*str*)\n",
    "\n",
    "The fieldname in `data` containing the departure times. The datatype for the field itself must be a pandas `Timestamp` (or `datetime64`). "
   ]
  },
  {
   "cell_type": "code",
   "execution_count": null,
   "id": "99dcf1fe-d3d5-4119-88e0-54f40aa8a789",
   "metadata": {},
   "outputs": [],
   "source": [
    "ssu_stops_df.info()"
   ]
  },
  {
   "cell_type": "markdown",
   "id": "8515eb4e-f916-428d-8d3b-325391b5c5e3",
   "metadata": {},
   "source": [
    "### `start_analysis_dt` and `end_analysis_dt` (*something convertible to a pandas `Timestamp`*)"
   ]
  },
  {
   "cell_type": "markdown",
   "id": "35e760f0-1207-4c30-8485-17c49bbde30a",
   "metadata": {},
   "source": [
    "These two dates define what we call the *analysis date range*. All records in `stops_df` whose `in_field` and `out_field` values overlap this range in any way, are included in the hillmaker computations.\n",
    "\n",
    "Care must be taken in selecting the analysis date range. In an example like the SSU, where most patients are staying less than 24 hours, we are probably fine with picking a `start_analysis_dt` very close or even equal to the earliest arrival date in our stop data. However, for a system in which the length of stay may be on the order of several days, we need to be cognizant of *warm up* effects. In such a case, if we used the earliest arrival date for the start of the analysis, we are essentially assuming that the system starts out empty on that date. This is certainly not likely to be true in a busy system where entities are staying multiple days. Similarly, the end date should not be after the date of the latest arrival or the system will appear to be emptying out - again, not realistic.\n",
    "\n",
    "See {doc}`example_occupancy_analysis` for more on this issue."
   ]
  },
  {
   "cell_type": "markdown",
   "id": "450f6af4-984f-4c50-9e6f-7b3442462eba",
   "metadata": {},
   "source": [
    "## Optional, but frequently used, input arguments"
   ]
  },
  {
   "cell_type": "markdown",
   "id": "22286b12-75c3-4eb8-8c4e-23fbeacda3c1",
   "metadata": {
    "jp-MarkdownHeadingCollapsed": true,
    "tags": []
   },
   "source": [
    "### `cat_field` (*str*, default=None)\n",
    "\n",
    "The fieldname in `stops_df` containing some sort of categorical information for which you would like to get hillmaker statistics. In the SSU example, this would be the `PatType` field. If a `cat_field` is specified, then arrival, departure and occupancy statistics are computed by category as well as overall. A common use of the category field is to specify a location. In this way, one hillmaker run can compute occupancy statitics for multiple locations. An example could be the name of the nursing unit visited as inpatients flow through a hospital. In the cycle share data example, a field specifying whether the renter was a subscription holder or a casual renter, lets us see the very different bike rental patterns by these two distinct populations."
   ]
  },
  {
   "cell_type": "markdown",
   "id": "e902a84e-a657-49fc-b38e-cf01df93c540",
   "metadata": {
    "tags": []
   },
   "source": [
    "### `bin_size_minutes` (*int*, default=60)\n",
    "\n",
    "Central to hillmaker is the notion of dividing each day into equally sized time bins such as hours (`bin_size_minutes=60`) or half-hours. All of the summary tables and plots will use `bin_size_minutes`. Pick a value that makes sense for your study and for the level of time of day fluctuations present. Try different values and compare the plots. Large values might obscure important short-term fluctions in arrivals or occupancy.  \n",
    "\n",
    "The value used must be a factor of 1440 (minutes in a day)."
   ]
  },
  {
   "cell_type": "markdown",
   "id": "8a50437b-2f94-45d8-8b56-501cf3e605d5",
   "metadata": {},
   "source": [
    "## More optional input arguments"
   ]
  },
  {
   "cell_type": "markdown",
   "id": "db03a6db-b184-4006-be2a-f6c8e0e09f70",
   "metadata": {
    "tags": []
   },
   "source": [
    "### `cats_to_exclude` (*list*, default=None)\n",
    "\n",
    "If you specify a category field via `cat_field`, you can optionally provide a list of specific category values for which you do **not** want to consider in the analysis. A similar effect could be obtained by pre-filtering out these records from `data`."
   ]
  },
  {
   "cell_type": "markdown",
   "id": "ef1b3181-6cfb-489c-989b-78b1848e7bc2",
   "metadata": {
    "tags": []
   },
   "source": [
    "### `occ_weight_field` (*str*, default=None)\n",
    "\n",
    "While hillmaker is usually used to compute occupancy summaries, it can also be used to compute associated measures that are directly related to occupancy. A common example is using hillmaker to estimate staffing requirements based on staff to patient ratios (by category). This can be done by specifying a column in the stops `Dataframe` which contains the weights to use for occupancy incrementing. The default of None\n",
    "corresponds to a weight of 1.0. For example, in the SSU dataset, let's assume that a 4:1 patient to staff ratio was appropriate for all patient types except CAT, for which 2:1 was needed. We could create a column of occupancy weights of 0.50 for the CAT patients and 0.25 for all other patient types.\n",
    "\n"
   ]
  },
  {
   "cell_type": "markdown",
   "id": "0661b6fd-9be7-415f-bc6e-28b5024c45b7",
   "metadata": {
    "tags": []
   },
   "source": [
    "### `percentiles` (*tuple or list*, default=(0.25, 0.5, 0.75, 0.95, 0.99))\n",
    "\n",
    "Use this parameter to control which percentiles of occupancy (and number of arrivals and departures) are computed."
   ]
  },
  {
   "cell_type": "markdown",
   "id": "e2135301-9bf2-4a3e-ad97-d71b974b2ed2",
   "metadata": {},
   "source": [
    "### `los_units` (*str*, default='hours')\n",
    "\n",
    "A statistical summary of length of stay (difference between departure and arrival times) is done. This parameter controls the time units to use for reporting the results.\n",
    "    \n",
    "See https://pandas.pydata.org/docs/reference/api/pandas.Timedelta.html for allowable values (smallest\n",
    "value allowed is 'seconds', largest is 'days'. The default is 'hours'."
   ]
  },
  {
   "cell_type": "markdown",
   "id": "d6d34366-9c6f-472b-a217-82c06fc353e5",
   "metadata": {},
   "source": [
    "### `export_bydatetime_csv` and `export_summaries_csv` (*bool*, default=True)\n",
    "\n",
    "These two parameters control the exporting to CSV of the bydatetime and summary `Dataframe` objects. They are exported to the location specified by the `csv_export_path` parameter."
   ]
  },
  {
   "cell_type": "markdown",
   "id": "7058b7c0-6747-43d6-b7c4-91fd3ba33b83",
   "metadata": {
    "tags": []
   },
   "source": [
    "### `csv_export_path` (*str or Path*, default=current directory)\n",
    "\n",
    "Destination path for exported csv files - default is current directory."
   ]
  },
  {
   "cell_type": "markdown",
   "id": "f66c54b5-2b69-471e-9110-af31981c55fd",
   "metadata": {},
   "source": [
    "### `make_all_dow_plots` and `make_all_week_plots` (*bool*, default=True)\n",
    "\n",
    "If `make_all_dow_plots=True`, day of week plots are created for occupancy, arrival, and departure (resulting in 21 plots).\n",
    "If `make_all_week_plots=True`, full week plots are created for occupancy, arrival, and departure (3 plots).\n",
    "\n",
    "For the CLI and the `make_hills` legacy interface, these parameters default to True and all plots are created by default. In the object oriented API, these default to False and the user has full control over plot creation and exporting.\n",
    "   "
   ]
  },
  {
   "cell_type": "markdown",
   "id": "64ffd553-5a04-4a2e-9e8d-54b720ebac12",
   "metadata": {
    "tags": []
   },
   "source": [
    "### `plot_export_path` (*str or Path*, default=current directory)\n",
    "\n",
    "Destination path for exported plots (png) files - default is current directory."
   ]
  },
  {
   "cell_type": "markdown",
   "id": "260e53a2-4c00-4328-9399-8ab0c13a3de5",
   "metadata": {},
   "source": [
    "## Optional plot related input arguments"
   ]
  },
  {
   "cell_type": "markdown",
   "id": "10f778ad-b922-44fe-9c1f-e553b91fe741",
   "metadata": {},
   "source": [
    "### `plot_style` (*str*, default='ggplot')\n",
    "\n",
    "You can use any Matplotlib plot style sheet. See https://matplotlib.org/stable/gallery/style_sheets/style_sheets_reference.html."
   ]
  },
  {
   "cell_type": "markdown",
   "id": "8a7921c8-3789-4404-8a51-d3ebc50a21e2",
   "metadata": {},
   "source": [
    "### `figsize` (*tuple*, default=(15, 10))\n",
    "\n",
    "See https://matplotlib.org/stable/gallery/subplots_axes_and_figures/figure_size_units.html."
   ]
  },
  {
   "cell_type": "markdown",
   "id": "b883cf29-c48d-4757-8737-75badcaed51d",
   "metadata": {
    "jp-MarkdownHeadingCollapsed": true,
    "tags": []
   },
   "source": [
    "### `bar_color_mean` (*str*, default='steelblue')\n",
    "\n",
    "Matplotlib color specification for the bars representing mean values. See https://matplotlib.org/stable/users/explain/colors/colors.html#sphx-glr-users-explain-colors-colors-py."
   ]
  },
  {
   "cell_type": "markdown",
   "id": "277e0a04-f5b6-439c-a5dc-47988b601852",
   "metadata": {},
   "source": [
    "### `plot_percentiles` (*tuple* or *list* of *float*, default=(0.95, 0.75))\n",
    "\n",
    "Percentiles to plot. The order matters as subsequent parameters will allow you to style these series."
   ]
  },
  {
   "cell_type": "markdown",
   "id": "68e39fe5-2bc5-4a1c-95c7-ba284f4fdb6c",
   "metadata": {},
   "source": [
    "### `pctile_color` (*list* or *tuple* of color codes (e.g. ['blue', 'green'] or list('gb'))\n",
    "    \n",
    "Line color for each percentile series plotted. Order should match order of percentiles list.\n",
    "Default is ('black', 'grey').\n",
    "\n"
   ]
  },
  {
   "cell_type": "markdown",
   "id": "849947e3-2132-43c6-ae07-4984042fd3a0",
   "metadata": {},
   "source": [
    "### `pctile_linestyle` (*list* or *tuple* of line styles (e.g. ['-', '--']), default is ('-', '--')\n",
    "\n",
    "Line style for each percentile series plotted. "
   ]
  },
  {
   "cell_type": "markdown",
   "id": "b3c5c4d3-d83b-4a00-9edc-7e56d1d8dd41",
   "metadata": {
    "jp-MarkdownHeadingCollapsed": true,
    "tags": []
   },
   "source": [
    "### `pctile_linewidth` (*list* or *tuple* of line widths (e.g. [1.0, 0.75]), default is (0.75, 0.75)\n",
    "\n",
    "Line width for each percentile series plotted. "
   ]
  },
  {
   "cell_type": "markdown",
   "id": "a498f0d0-39f8-4ce8-b362-ca6bad5b6402",
   "metadata": {
    "jp-MarkdownHeadingCollapsed": true,
    "tags": []
   },
   "source": [
    "### `cap` (*int*, default=None)\n",
    "\n",
    "Use this to display a capacity line on the occupancy graphs."
   ]
  },
  {
   "cell_type": "markdown",
   "id": "38ad311a-80c1-453e-ae02-04854b815206",
   "metadata": {
    "jp-MarkdownHeadingCollapsed": true,
    "tags": []
   },
   "source": [
    "### `cap_color` (*str*, default='r')\n",
    "\n",
    "Color to use for the capacity line."
   ]
  },
  {
   "cell_type": "markdown",
   "id": "2e4e4efb-351c-47e1-a721-c9fcb788d480",
   "metadata": {},
   "source": [
    "### `xlabel` and `ylabel` (*str*, default='Hour' and 'Volume')\n",
    "\n",
    "Axes labels for the plots. For more detailed control over plotting, use the object oriented API."
   ]
  },
  {
   "cell_type": "markdown",
   "id": "82fb3635-26ea-4a50-8609-589c975c7460",
   "metadata": {},
   "source": [
    "### `main_title` (*str*, default='{Occupancy or Arrivals or Departures} by time of day and day of week')\n",
    "\n",
    "Main title for plot."
   ]
  },
  {
   "cell_type": "markdown",
   "id": "802d7684-3877-4934-a806-d9cf10281675",
   "metadata": {},
   "source": [
    "### `main_title_properties` (*Dict*} default={'loc': 'left', 'fontsize': 16})\n",
    "\n",
    "Dictionary of main title properties. See https://matplotlib.org/stable/api/_as_gen/matplotlib.pyplot.title.html"
   ]
  },
  {
   "cell_type": "markdown",
   "id": "2e945f6c-aec9-40af-a302-b49beb781e56",
   "metadata": {},
   "source": [
    "### `subtitle` (*str*, default='Scenario: {scenario_name}')\n",
    "\n",
    "Subtitle for plot."
   ]
  },
  {
   "cell_type": "markdown",
   "id": "da6c7da4-087b-497e-9bb0-c1b6758afd6f",
   "metadata": {},
   "source": [
    "### `subtitle_properties` (*Dict*} default={'loc': 'left', 'style': 'italic'})\n",
    "\n",
    "Dictionary of subtitle properties. See https://matplotlib.org/stable/api/_as_gen/matplotlib.pyplot.title.html.\n",
    "Both the title and subtitle are actually matplotlib `title` objects."
   ]
  },
  {
   "cell_type": "markdown",
   "id": "edff205b-f314-4f15-b29f-50d1b9e8cd04",
   "metadata": {},
   "source": [
    "### `legend_properties` (*Dict*} default={{'loc': 'best', 'frameon': True, 'facecolor': 'w'})\n",
    "\n",
    "Dictionary of legend properties. See https://matplotlib.org/stable/api/_as_gen/matplotlib.pyplot.legend.html."
   ]
  },
  {
   "cell_type": "markdown",
   "id": "e2fe551e-f17e-4f48-808b-70caad554659",
   "metadata": {
    "tags": []
   },
   "source": [
    "### `first_dow` (*str*, default='mon')\n",
    "\n",
    "Controls which day of week appears first in weekly plot. One of `['mon', 'tue', 'wed', 'thu', 'fri', 'sat, 'sun']`."
   ]
  },
  {
   "cell_type": "markdown",
   "id": "587c9756-9a8d-470e-afca-b36f0efc8990",
   "metadata": {},
   "source": [
    "## Advanced optional input arguments\n",
    "\n",
    "There are a few advanced options related to how occupancy is computed. Best not to use these unless you know what you're doing."
   ]
  },
  {
   "cell_type": "markdown",
   "id": "e0e7fc83-6fa4-402a-bbdc-3185a6269ae8",
   "metadata": {},
   "source": [
    "### `edge_bins` (*int*, default=1)\n",
    "\n",
    "Occupancy contribution method for arrival and departure bins. 1=fractional (the default), 2=entire bin. The default way that hillmaker computes occupancy is described in detail in {doc}`computing_occupancy`. For the datetime bins corresponding to an entity's arrival and departure, occupancy in that bin is the fraction of time for which the entity was present during that time bin. Alternatively, you could choose to give \"full credit\" for occupancy during the arrival and departure bins. However, this can lead to serious overestimates of occupancy, especially for bin sizes that are large relative to typical time spent in the system by each entity. If, for whatever reason, you choose to use `edge_bins=2`, you should use a small value of the next parameter, `highres_bin_size_minutes`,"
   ]
  },
  {
   "cell_type": "markdown",
   "id": "8665087e-dead-4770-bc08-228cc1e95f55",
   "metadata": {
    "tags": []
   },
   "source": [
    "### `highres_bin_size_minutes` (*int*, default=`bin_size_minutes`)\n",
    "\n",
    "Number of minutes in each time bin of the day used for initial computation of the number of arrivals,\n",
    "departures, and the occupancy level - i.e. in the creation of the bydatetime table. By default, this is set equal to the value of `bin_size_minutes` since it doesn't affect aggregate arrival, occupancy or departure statistics as long as the default of `edge_bins=1` is used. So, why would you ever use this parameter? \n",
    "\n",
    "1. If you use `edge_bins=2`, you should use a small value for `highres_bin_size_minutes` to avoid serious overestimates of occupancy.\n",
    "2. You may want to take a very detailed look at occupancy on specific dates for very short time bin sizes.\n",
    "\n",
    "### `keep_highres_bin_size_minutes` (*bool*, default=False)\n",
    "    \n",
    "If you want to save the high resolution version of the bydatetime `Dateframe` in the dictionary returned by `make_hills()`, then set this parameter to True.     \n"
   ]
  },
  {
   "cell_type": "markdown",
   "id": "70316fb6-cf29-4a68-af3e-b992717cce69",
   "metadata": {},
   "source": [
    "### `nonstationary_stats` (*bool*, default=True)\n",
    "\n",
    "If True, datetime bin stats are computed. Else, they aren't computed. Default is True\n",
    "\n",
    "### `stationary_stats` (*bool*, default=True)\n",
    "\n",
    "If True, overall, non-time bin dependent, stats are computed. Else, they aren't computed. Default is True"
   ]
  },
  {
   "cell_type": "markdown",
   "id": "7237d9af-5931-4852-99b7-3b795f51802b",
   "metadata": {},
   "source": [
    "### `verbosity` (*int*, default=1)\n",
    "\n",
    "Used to set level in loggers. 0=logging.WARNING, 1=logging.INFO (the default), 2=logging.DEBUG. The default level provides quite a bit of detail about the hillmaking process and is a good way to make sure that everything is okay with your data."
   ]
  },
  {
   "cell_type": "markdown",
   "id": "b1290665-146f-4a06-bdbc-7b2ba5b51237",
   "metadata": {},
   "source": [
    "## Calling `make_hills()`"
   ]
  },
  {
   "cell_type": "markdown",
   "id": "daeb76f5-3ec6-4ef1-aeb0-bca2d1593d4d",
   "metadata": {},
   "source": [
    "## Using the `make_hills` function\n",
    "\n",
    "Before the creation of the object-oriented API, hillmaker could be used by calling a single, module level, function called `make_hills`. This type of legacy use is still possible. The `make_hills` function returns the same `hills` dictionary returned by the OO API but can also create and export plots and dataframes via function arguments. \n",
    "\n",
    "We'll build on the example from the {doc}`getting_started` section. For this scenario, we want to:\n",
    "\n",
    "- use half-hourly time bins\n",
    "- analyze the summer period of 2024-06-01 - 2024-08-31\n",
    "- include a capacity line at 100 for the occupancy plot\n",
    "- plot the 85th and 95th percentile\n"
   ]
  },
  {
   "cell_type": "code",
   "execution_count": null,
   "id": "49a88b61-c188-430a-9354-3540e03ffd18",
   "metadata": {},
   "outputs": [],
   "source": [
    "# Required inputs\n",
    "scenario_name = 'ssu_summer24'\n",
    "in_field_name = 'InRoomTS'\n",
    "out_field_name = 'OutRoomTS'\n",
    "start_date = '2024-06-01'\n",
    "end_date = '2024-08-31'\n",
    "\n",
    "# Optional inputs\n",
    "cat_field_name = 'PatType'\n",
    "bin_size_minutes = 30\n",
    "csv_export_path = './output'\n",
    "\n",
    "# Optional plotting inputs\n",
    "plot_export_path = './output'\n",
    "plot_style = 'default'\n",
    "bar_color_mean = 'grey'\n",
    "percentiles = [0.85, 0.95]\n",
    "plot_percentiles = [0.95, 0.85]\n",
    "pctile_color = ['blue', 'green']\n",
    "pctile_linewidth = [0.8, 1.0]\n",
    "cap = 110\n",
    "cap_color = 'black'\n",
    "main_title = 'Occupancy summary'\n",
    "main_title_properties = {'loc': 'center', 'fontsize':20}\n",
    "subtitle = 'Summer 2024 analysis'\n",
    "subtitle_properties = {'loc': 'center'}\n",
    "xlabel = ''\n",
    "ylabel = 'Patients'\n",
    "\n",
    "# Optional plotting related inputs\n",
    "\n",
    "# Use legacy function interface\n",
    "hills = hm.make_hills(scenario_name=scenario_name, data=ssu_stops_df,\n",
    "                      in_field=in_field_name, out_field=out_field_name,\n",
    "                      start_analysis_dt=start_date, end_analysis_dt=end_date,\n",
    "                      cat_field=cat_field_name,\n",
    "                      bin_size_minutes=bin_size_minutes,\n",
    "                      csv_export_path=csv_export_path, \n",
    "                      plot_export_path=plot_export_path, plot_style = plot_style,\n",
    "                      percentiles=percentiles, plot_percentiles=plot_percentiles,\n",
    "                      pctile_color=pctile_color, pctile_linewidth=pctile_linewidth,\n",
    "                      cap=cap, cap_color=cap_color,\n",
    "                      main_title=main_title, main_title_properties=main_title_properties,\n",
    "                      subtitle=subtitle, subtitle_properties=subtitle_properties,\n",
    "                      xlabel=xlabel, ylabel=ylabel\n",
    "                     )"
   ]
  },
  {
   "cell_type": "markdown",
   "id": "ba03e738-b0cd-413c-a376-8f88c144cbad",
   "metadata": {},
   "source": [
    "Now we can use the `get_plot` function to retrieve the occupancy plot. All the plots and csv files were also exported."
   ]
  },
  {
   "cell_type": "code",
   "execution_count": null,
   "id": "3f4ef488-46d7-4b6b-ba4e-9c15d233f171",
   "metadata": {},
   "outputs": [],
   "source": [
    "# Get and display occupancy plot\n",
    "occ_plot = hm.get_plot(hills, 'occupancy')\n",
    "occ_plot"
   ]
  },
  {
   "cell_type": "markdown",
   "id": "599c8c0f-e1b2-47cb-bc9f-431d17898170",
   "metadata": {},
   "source": [
    "## Output dictionary\n",
    "\n",
    "The `make_hills` function returns a dictionary containing all of the outputs created. There are convenience functions such as `get_plot`, `get_bydatetime_df` and `get_summary_df` that can be used to pull out items of interest. Of course, you can also access the dictionary directly. Let's check it out."
   ]
  },
  {
   "cell_type": "code",
   "execution_count": null,
   "id": "8c8fec41-5670-41ab-af2c-8d8ee6c91ce2",
   "metadata": {},
   "outputs": [],
   "source": [
    "hills.keys()"
   ]
  },
  {
   "cell_type": "markdown",
   "id": "f75594f2-6062-40d2-9b4c-5f0a5e7a61b5",
   "metadata": {},
   "source": [
    "### `bydatetime` - Detailed bydatetime dataframes"
   ]
  },
  {
   "cell_type": "code",
   "execution_count": null,
   "id": "7b78aa6f-7f7e-4e52-b802-fff4f83ec3fa",
   "metadata": {},
   "outputs": [],
   "source": [
    "hills['bydatetime'].keys()"
   ]
  },
  {
   "cell_type": "code",
   "execution_count": null,
   "id": "c0483414-6470-42cf-a351-3c1c1e5205a8",
   "metadata": {},
   "outputs": [],
   "source": [
    "hills['bydatetime']['PatType_datetime']"
   ]
  },
  {
   "cell_type": "code",
   "execution_count": null,
   "id": "87332a47-3825-426d-88a7-1b0e8c7d3ca9",
   "metadata": {},
   "outputs": [],
   "source": [
    "hm.get_bydatetime_df(hills, by_category=False)"
   ]
  },
  {
   "cell_type": "markdown",
   "id": "e364e285-3437-45e1-a954-5c8cb8e0df9b",
   "metadata": {},
   "source": [
    "### `summaries` - Occupancy, arrival and departure summary dataframes"
   ]
  },
  {
   "cell_type": "code",
   "execution_count": null,
   "id": "3aff6337-3da1-4acd-9063-ed7f50ba5db5",
   "metadata": {},
   "outputs": [],
   "source": [
    "hills['summaries'].keys()"
   ]
  },
  {
   "cell_type": "code",
   "execution_count": null,
   "id": "347f8bb1-746a-45a8-b6e0-99afab75bf1f",
   "metadata": {},
   "outputs": [],
   "source": [
    "hills['summaries']['nonstationary'].keys()"
   ]
  },
  {
   "cell_type": "code",
   "execution_count": null,
   "id": "4c0ff10c-bd54-405f-8e6a-f6b79d0f7e81",
   "metadata": {},
   "outputs": [],
   "source": [
    "hills['summaries']['nonstationary']['PatType_dow_binofday'].keys()"
   ]
  },
  {
   "cell_type": "code",
   "execution_count": null,
   "id": "e57154e1-af2c-47e2-9def-8c2301dce1f5",
   "metadata": {},
   "outputs": [],
   "source": [
    "hills['summaries']['nonstationary']['PatType_dow_binofday']['occupancy']"
   ]
  },
  {
   "cell_type": "code",
   "execution_count": null,
   "id": "3a2a76fa-d416-44c2-ada0-f21077925659",
   "metadata": {},
   "outputs": [],
   "source": [
    "help(hm.get_summary_df)"
   ]
  },
  {
   "cell_type": "code",
   "execution_count": null,
   "id": "b6f6dc41-4ef0-4a89-a13b-560d378281ef",
   "metadata": {},
   "outputs": [],
   "source": [
    "hm.get_summary_df(hills, flow_metric='arrivals', by_category=False)"
   ]
  },
  {
   "cell_type": "markdown",
   "id": "df74a70b-6872-43d0-bd9b-eec8cb13283c",
   "metadata": {},
   "source": [
    "### `los_summary` - Length of stay summary"
   ]
  },
  {
   "cell_type": "code",
   "execution_count": null,
   "id": "63805778-ec72-424e-8d1e-4ca3aaebc628",
   "metadata": {},
   "outputs": [],
   "source": [
    "hills['los_summary']"
   ]
  },
  {
   "cell_type": "code",
   "execution_count": null,
   "id": "49dd2e41-6fd1-439e-b34b-60aa6314dd67",
   "metadata": {},
   "outputs": [],
   "source": [
    "hills['los_summary']['los_stats_bycat']"
   ]
  },
  {
   "cell_type": "code",
   "execution_count": null,
   "id": "deacfea3-09c6-4d46-98c5-b42c8a5889c3",
   "metadata": {},
   "outputs": [],
   "source": [
    "hills['los_summary']['los_histo_bycat']"
   ]
  },
  {
   "cell_type": "code",
   "execution_count": null,
   "id": "2db62916-47b3-40a9-80fe-f67d39f93337",
   "metadata": {},
   "outputs": [],
   "source": [
    "help(hm.get_los_plot)"
   ]
  },
  {
   "cell_type": "code",
   "execution_count": null,
   "id": "518906c7-b711-4070-a4cc-b2916176197c",
   "metadata": {},
   "outputs": [],
   "source": [
    "hm.get_los_plot(hills, by_category=False)"
   ]
  },
  {
   "cell_type": "code",
   "execution_count": null,
   "id": "f526ae18-320c-4234-8eb5-7cbe6efd1296",
   "metadata": {},
   "outputs": [],
   "source": [
    "hm.get_los_stats(hills, by_category=False)"
   ]
  },
  {
   "cell_type": "markdown",
   "id": "810af449-a720-4397-b85c-cf2d47426d13",
   "metadata": {},
   "source": [
    "### `plots` - Daily and weekly summary plots"
   ]
  },
  {
   "cell_type": "code",
   "execution_count": null,
   "id": "915b1192-6b5a-49de-a003-092010bd92c1",
   "metadata": {},
   "outputs": [],
   "source": [
    "hills['plots'].keys()"
   ]
  },
  {
   "cell_type": "code",
   "execution_count": null,
   "id": "1d4a8e3d-c560-46d0-aaf1-9ba1210cf611",
   "metadata": {},
   "outputs": [],
   "source": [
    "hm.get_plot?"
   ]
  },
  {
   "cell_type": "code",
   "execution_count": null,
   "id": "de37202b-333b-438b-80a4-49e83dfe1492",
   "metadata": {},
   "outputs": [],
   "source": [
    "hm.get_plot(hills, 'o', day_of_week='Mon')"
   ]
  },
  {
   "cell_type": "code",
   "execution_count": null,
   "id": "8b2901db-5f55-45f0-ae59-ba6074411efa",
   "metadata": {},
   "outputs": [],
   "source": [
    "hm.get_plot(hills, 'o', 'week')"
   ]
  },
  {
   "cell_type": "markdown",
   "id": "dd061264-373b-4f80-b8a2-daa1478976f9",
   "metadata": {},
   "source": [
    "### `settings` - Scenario settings"
   ]
  },
  {
   "cell_type": "code",
   "execution_count": null,
   "id": "8ec583c9-5f9c-43ff-adec-36fa8a00e831",
   "metadata": {
    "tags": []
   },
   "outputs": [],
   "source": [
    "hills['settings']"
   ]
  },
  {
   "cell_type": "markdown",
   "id": "752a282c-d9f5-45c5-8e87-c0e5198822f3",
   "metadata": {},
   "source": [
    "### `runtime` - Total runtime in seconds"
   ]
  },
  {
   "cell_type": "code",
   "execution_count": null,
   "id": "1b9dfa4e-5d2b-4b28-856e-dc44f1424729",
   "metadata": {
    "tags": []
   },
   "outputs": [],
   "source": [
    "hills['runtime']"
   ]
  },
  {
   "cell_type": "markdown",
   "id": "df1f371a-2cb5-45b3-b361-a4e20b92b045",
   "metadata": {},
   "source": [
    "## Using a config file\n",
    "\n",
    "Instead of passing a bunch of arguments to `make_hills`, you can use a [TOML formatted](https://realpython.com/python-toml/) config file. Here's what an example config file might look like:\n",
    "\n",
    "```\n",
    "[scenario_data]\n",
    "scenario_name = \"ss_example_1_config\"\n",
    "data = \"./data/ssu_2024.csv\"\n",
    "\n",
    "[fields]\n",
    "in_field = \"InRoomTS\"\n",
    "out_field = \"OutRoomTS\"\n",
    "# Just remove the following line if no category field\n",
    "cat_field = \"PatType\"\n",
    "\n",
    "[analysis_dates]\n",
    "start_analysis_dt = 2024-01-02\n",
    "end_analysis_dt = 2024-03-30\n",
    "\n",
    "[settings]\n",
    "bin_size_minutes = 60\n",
    "verbosity = 1\n",
    "csv_export_path = './output'\n",
    "plot_export_path = './output'\n",
    "\n",
    "# Add any additional arguments here\n",
    "# Strings should be surrounded in double quotes\n",
    "# Floats and ints are specified in the normal way as values\n",
    "# Dates are specified as shown above\n",
    "\n",
    "# For arguments that take lists, the entries look\n",
    "# just like Python lists and following the other rules above\n",
    "\n",
    "# cats_to_exclude = [\"IVT\", \"OTH\"]\n",
    "# percentiles = [0.5, 0.8, 0.9]\n",
    "\n",
    "# For arguments that take dictionaries, do this:\n",
    "# main_title_properties = {loc = 'left', fontsize = 16}\n",
    "# subtitle_properties = {loc = 'left', style = 'italic'}\n",
    "# legend_properties = {loc = 'best', frameon = true, facecolor = 'w'}\n",
    "```"
   ]
  },
  {
   "cell_type": "markdown",
   "id": "dac7a01a-0e64-40c7-8839-6d851f0e99f4",
   "metadata": {},
   "source": [
    "The sections headings, `[scenario_data]`, `[fields]`, and `[analysis_dates]` aren't actually necessary. You could actually put all input parameters within the `[settings]` section. Including the other headings is just an organizational aid."
   ]
  },
  {
   "cell_type": "markdown",
   "id": "83ab9259-6de2-4860-a900-73ca15248ef6",
   "metadata": {},
   "source": [
    "```{warning}\n",
    "You MUST include the `[settings]` section header.\n",
    "```"
   ]
  },
  {
   "cell_type": "code",
   "execution_count": null,
   "id": "eac4512d-7898-421f-990d-c2069d0ac294",
   "metadata": {},
   "outputs": [],
   "source": [
    "hills_config = hm.make_hills(config='./input/ssu_example_1_config.toml')"
   ]
  },
  {
   "cell_type": "code",
   "execution_count": null,
   "id": "b8a8bed6-e88a-4afc-af67-d71571f914e9",
   "metadata": {},
   "outputs": [],
   "source": [
    "hills_config['settings']"
   ]
  }
 ],
 "metadata": {
  "kernelspec": {
   "display_name": "Python 3 (ipykernel)",
   "language": "python",
   "name": "python3"
  },
  "language_info": {
   "codemirror_mode": {
    "name": "ipython",
    "version": 3
   },
   "file_extension": ".py",
   "mimetype": "text/x-python",
   "name": "python",
   "nbconvert_exporter": "python",
   "pygments_lexer": "ipython3",
   "version": "3.10.9"
  }
 },
 "nbformat": 4,
 "nbformat_minor": 5
}
