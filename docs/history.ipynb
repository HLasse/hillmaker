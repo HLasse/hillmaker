{
 "cells": [
  {
   "cell_type": "markdown",
   "id": "a0ba3b8f-39ed-4d93-8b23-5ae672244180",
   "metadata": {},
   "source": [
    "# The history of hillmaker"
   ]
  },
  {
   "cell_type": "markdown",
   "id": "5a29c983-8e82-45a0-a2f3-b2c78ac9585f",
   "metadata": {},
   "source": [
    "The very first version of hillmaker was written for analyzing a hospital based Short-Stay Unit (SSU) when the author was an undergraduate interning at a large health care system. That very first version was written in BASIC on a [DECwriter](https://en.wikipedia.org/wiki/DECwriter)."
   ]
  },
  {
   "cell_type": "markdown",
   "id": "ab00bf5f-3a2c-4500-aad1-a12312090c3f",
   "metadata": {},
   "source": [
    "<a title=\"Wolfgang Stief from Tittmoning, Germany, CC0, via Wikimedia Commons\" href=\"https://commons.wikimedia.org/wiki/File:DECwriter,_Tektronix,_PDP-11_(192826605).jpg\"><img width=\"512\" alt=\"DECwriter, Tektronix, PDP-11 (192826605)\" src=\"https://upload.wikimedia.org/wikipedia/commons/thumb/d/d3/DECwriter%2C_Tektronix%2C_PDP-11_%28192826605%29.jpg/512px-DECwriter%2C_Tektronix%2C_PDP-11_%28192826605%29.jpg\"></a>"
   ]
  },
  {
   "cell_type": "markdown",
   "id": "12f0b96c-0bd9-45a7-8f2b-81c2c902eb03",
   "metadata": {},
   "source": [
    "Over the years, hillmaker was migrated to [FoxPro](https://en.wikipedia.org/wiki/FoxPro), and then to MS Access where it [lived for many years on SourceForge](http://hillmaker.sourceforge.net/). The MS Access version got a lot of use in numerous healthcare capacity planning related projects. \n",
    "\n",
    "In 1999, I left industry and joined Oakland University as a faculty member in the School of Business Administration. This prompted me to write [a journal article about hillmaker](https://www.researchgate.net/publication/220385298_Modeling_and_Analysis_of_Occupancy_Data_A_Healthcare_Capacity_Planning_Application). \n",
    "\n",
    "> Isken, M. W. (2002). Modeling and analysis of occupancy data: A healthcare capacity planning application. > *International Journal of Information Technology & Decision Making*, 1(04), 707-729.\n",
    "\n",
    "This article gives several examples of how hillmaker can be used in actual hospital capacity planning projects and shows what the original MS Access based implementation looked like. Unfortunately, development on this version languished as it become increasingly difficult to support an MS Office based application due to changes in the how add-ons were managed in MS Access along with corporate IT security policies looking unfavorably up things like registry changes on Windows systems. So, hillmaker continued to get a lot of use but no improvements were made.\n",
    "\n",
    "In 2016, I [moved it to Python](https://bitsofanalytics.org/posts/hillmaker-python-released/hillmaker_python_released). The first Python version was pretty slow as I was (sadly) doing a bunch of pandas `DataFrame` updates due to my somewhat limited Python experience at the time.\n",
    "\n",
    "I did a few hillmaker related blog posts in 2019 showing how hillmaker could be used to [analyze cycle share data](https://bitsofanalytics.org/posts/basic-usage-cycleshare/basic_usage_cycleshare) and how it could be [called from R using the reticulate package](https://bitsofanalytics.org/posts/hillmaker-r-sfcs/hillmaker_r_sfcs). I also did a [few updates](https://bitsofanalytics.org/posts/hillmaker-020-released/hillmaker_020_released) motivated by some projects that were using the new Python version of hillmaker.\n",
    "\n",
    "In 2022, I was annoyed enough with the poor performance of hillmaker to totally overhaul the way the computations were done. Almost everything got moved into numpy arrays and that led to [dramatic performance improvements](https://bitsofanalytics.org/posts/hillmaker-speedup/). \n",
    "\n",
    "A former student of mine, Jake Norman, had taken a job at a large healthcare system and was using hillmaker for a few projects. Another longtime colleague was also using hillmaker as part of several projects at another large healthcare system in Michigan. These two things motivated me to make a serious push to do a bunch of hillmaker improvements. Jake had already made some improvements and he joined the hillmaker project as a collaborator. Over the last year or so we've made a number of improvements and enhancements. These include:\n",
    "\n",
    "- customizable plots,\n",
    "- added numerous input parameters for better control of hillmaker,\n",
    "- added an object oriented API to go along with the legacy function based API,\n",
    "- added a CLI that had all the same functionality as the other APIs,\n",
    "- added ability to specify inputs via a TOML formatted configuration file,\n",
    "- implemented a [Pydantic model](https://docs.pydantic.dev/latest/) to centralize input validation,\n",
    "- added various **conservation checks** to try to avoid erroneous results,\n",
    "- finally wrote documentation,\n",
    "- finally implemented formal unit tests."
   ]
  },
  {
   "cell_type": "markdown",
   "id": "fc778f41-9144-4765-b22e-a73f83a0cb1e",
   "metadata": {},
   "source": [
    "## Future plans\n",
    "\n",
    "### A GUI for hillmaker\n",
    "This is uncharted territory for me. Python has [a number of frameworks/toolkits for creating GUI apps](https://wiki.python.org/moin/GuiProgramming). A GUI would definitely help non-technical users to use hillmaker. Certainly the MS Access version benefited greatly from the simple form based interface - make some choices, push a button, get some hills.\n",
    "\n",
    "### Support for more data source types\n",
    "\n",
    "Currently hillmaker just supports CSV files and pandas `DataFrame` objects. It would be nice to add others such as directly from databases via SQL, [polars DataFrames](https://pola-rs.github.io/polars/py-polars/html/reference/dataframe/index.html), [Apache Arrow](https://arrow.apache.org/docs/python/index.html), [Dask DataFrames](https://docs.dask.org/en/stable/dataframe.html), and who knows what else is out there.\n",
    "\n",
    "### Features\n",
    "\n",
    "- ability to omit holidays from the analysis,\n",
    "- better support for accumulating workload in addition to occupancy to support staffing analyses,\n",
    "- scenario management tools including serialization,\n",
    "- new analytical features.\n",
    "\n"
   ]
  }
 ],
 "metadata": {
  "kernelspec": {
   "display_name": "Python 3 (ipykernel)",
   "language": "python",
   "name": "python3"
  },
  "language_info": {
   "codemirror_mode": {
    "name": "ipython",
    "version": 3
   },
   "file_extension": ".py",
   "mimetype": "text/x-python",
   "name": "python",
   "nbconvert_exporter": "python",
   "pygments_lexer": "ipython3",
   "version": "3.10.9"
  }
 },
 "nbformat": 4,
 "nbformat_minor": 5
}
