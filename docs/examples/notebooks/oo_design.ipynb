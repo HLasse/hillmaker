{
 "cells": [
  {
   "cell_type": "markdown",
   "metadata": {},
   "source": [
    "# hillmaker - OO design ideas"
   ]
  },
  {
   "cell_type": "markdown",
   "metadata": {},
   "source": [
    "Overall application design goals and objectives\n",
    "\n",
    "- should be easy to run a scenario and get all the standard outputs\n",
    "- scenario specific settings should be persistable as something like a json file\n",
    "- should be possible to generate only outputs wanted\n",
    "- should have a CLI\n",
    "- should be importable so that it can be used from notebook or other custom Python scripts\n",
    "- be nice to have a GUI for non-technie users\n",
    "- should be easy to explore multiple scenarios\n",
    "- global and scenario specific settings can be managed through settings files, command line args or function args\n",
    "- current occupancy, arrival and departure stats all still desirable\n",
    "- los summary would be nice\n",
    "- outputs should be in formats that lend themselves to further analysis and reporting such as csvs for the occ stats (bydatetime and summary), standard graphic file formats, perhaps JSON for los summary and occ stats\n",
    "- dataset profiling should be done to identify potential issues with horizon effects, warmup effects, missing data periods, or other anomolies.\n",
    "\n",
    "\n",
    "Should hillmaker be redesigned as an OO based application?\n",
    "\n",
    "- does OO design make for a better analyst experience? For example, does OO make it easier to create and manage a bunch of scenarios in which each is a separate hillmaker run? OO would make it easier to document scenarios through their settings (e.g. as json file).\n",
    "- does OO lead to potential performance gains by making it easier to only run the parts we want to run. For example, maybe we don't want individual day of week plots.\n",
    "- right now hillmaker is an (almost) all or nothing experience with each run standing alone. \n",
    "- OO would likely be better for those using hillmaker programmatically. \n",
    "- no matter what the design, there will always be a CLI.\n",
    "- not sure how OO or not affects GUI dev\n",
    "\n",
    "How should hillmaker be redesigned as an OO based application?"
   ]
  },
  {
   "cell_type": "markdown",
   "metadata": {},
   "source": [
    "## Other similar projects\n",
    "\n",
    "The [pandas-profiling](https://pandas-profiling.ydata.ai/docs/master/index.html) project has some similarities and has high quality code (certainly better than what I write).\n",
    "\n",
    "- Similar flow of doing analysis on a dataframe and producing various visualizations, reports, and other outputs\n",
    "- Produces plots, html reports, jupyter based report as well as providing results in json format\n",
    "- Uses pydantic to help with config settings management and input validation\n",
    "- Very focused use case - analyze dataframes\n",
    "- Very thorough documentation\n",
    "- The docs on [Changing Settings](https://pandas-profiling.ydata.ai/docs/master/pages/advanced_usage/changing_settings.html) is pretty much what we want to do (except don't need env vars option)\n",
    "- the CLI code is in console.py and it's the `Settings` class that sublclasses Pydantic's `BaseModel` class\n",
    "\n",
    "\n",
    "The [pyfolio](https://github.com/quantopian/pyfolio) project is also good for ideas.\n",
    "\n",
    "- financial analysis of a range of dates for a single stock - see tutorial at https://quantopian.github.io/pyfolio/notebooks/single_stock_example/\n",
    "- other more elaborate analyses\n",
    "- uses a `plotting.context` decorator function to allow plot customization. Matplotlib and seaborn support context managers for temporary changes to plot settings. The matplotlib context handles all the plot details whereas the Seaborn context manager is for higher level changes like plot scaling for different output targets such as notebook, paper or poster.\n",
    "\n",
    "An apache sniffer tool called [thrift](https://github.com/pinterest/thrift-tools)\n",
    "\n",
    "- simple, clean interface\n",
    "- CLI or library"
   ]
  },
  {
   "cell_type": "markdown",
   "metadata": {},
   "source": [
    "## Use case 1 - overall and by patient type summaries\n",
    "\n",
    "Patients flow through a short stay unit for a variety of procedures, tests or therapies. Let's assume patients can be classified into one of five categories of patient types: ART (arterialgram), CAT (post cardiac-cath), MYE (myelogram), IVT (IV therapy), and OTH (other). From one of our hospital information systems we were able to get raw data about the entry and exit times of each patient and exported the data to a csv file. We call each row of such data a *stop* (as in, the patient stopped here for a while). \n",
    "\n",
    "- We want to generate summaries of occupancy as well as arrivals and discharges to go into a summary report for hospital administration. \n",
    "- We want these overall and by patient type. \n",
    "- We also want LOS summaries by patient type. \n",
    "- Volume and occupancy trends over time"
   ]
  },
  {
   "cell_type": "code",
   "execution_count": 1,
   "metadata": {},
   "outputs": [],
   "source": [
    "%load_ext autoreload\n",
    "%autoreload 2"
   ]
  },
  {
   "cell_type": "code",
   "execution_count": 2,
   "metadata": {},
   "outputs": [],
   "source": [
    "import pandas as pd\n",
    "import matplotlib.pyplot as plt\n",
    "from matplotlib.dates import DateFormatter\n",
    "from IPython.display import Image"
   ]
  },
  {
   "cell_type": "code",
   "execution_count": 3,
   "metadata": {},
   "outputs": [
    {
     "name": "stdout",
     "output_type": "stream",
     "text": [
      "<class 'pandas.core.frame.DataFrame'>\n",
      "RangeIndex: 59877 entries, 0 to 59876\n",
      "Data columns (total 4 columns):\n",
      " #   Column     Non-Null Count  Dtype         \n",
      "---  ------     --------------  -----         \n",
      " 0   PatID      59877 non-null  int64         \n",
      " 1   InRoomTS   59877 non-null  datetime64[ns]\n",
      " 2   OutRoomTS  59877 non-null  datetime64[ns]\n",
      " 3   PatType    59877 non-null  object        \n",
      "dtypes: datetime64[ns](2), int64(1), object(1)\n",
      "memory usage: 1.8+ MB\n"
     ]
    }
   ],
   "source": [
    "ssu_stopdata = '../data/ShortStay.csv'\n",
    "stops_df = pd.read_csv(ssu_stopdata, parse_dates=['InRoomTS','OutRoomTS'])\n",
    "stops_df.info() # Check out the structure of the resulting DataFrame"
   ]
  },
  {
   "cell_type": "code",
   "execution_count": 4,
   "metadata": {},
   "outputs": [
    {
     "data": {
      "text/html": [
       "<div>\n",
       "<style scoped>\n",
       "    .dataframe tbody tr th:only-of-type {\n",
       "        vertical-align: middle;\n",
       "    }\n",
       "\n",
       "    .dataframe tbody tr th {\n",
       "        vertical-align: top;\n",
       "    }\n",
       "\n",
       "    .dataframe thead th {\n",
       "        text-align: right;\n",
       "    }\n",
       "</style>\n",
       "<table border=\"1\" class=\"dataframe\">\n",
       "  <thead>\n",
       "    <tr style=\"text-align: right;\">\n",
       "      <th></th>\n",
       "      <th>PatID</th>\n",
       "      <th>InRoomTS</th>\n",
       "      <th>OutRoomTS</th>\n",
       "      <th>PatType</th>\n",
       "    </tr>\n",
       "  </thead>\n",
       "  <tbody>\n",
       "    <tr>\n",
       "      <th>0</th>\n",
       "      <td>1</td>\n",
       "      <td>1996-01-01 07:44:00</td>\n",
       "      <td>1996-01-01 08:50:00</td>\n",
       "      <td>IVT</td>\n",
       "    </tr>\n",
       "    <tr>\n",
       "      <th>1</th>\n",
       "      <td>2</td>\n",
       "      <td>1996-01-01 08:28:00</td>\n",
       "      <td>1996-01-01 09:20:00</td>\n",
       "      <td>IVT</td>\n",
       "    </tr>\n",
       "    <tr>\n",
       "      <th>2</th>\n",
       "      <td>3</td>\n",
       "      <td>1996-01-01 11:44:00</td>\n",
       "      <td>1996-01-01 13:30:00</td>\n",
       "      <td>MYE</td>\n",
       "    </tr>\n",
       "    <tr>\n",
       "      <th>3</th>\n",
       "      <td>4</td>\n",
       "      <td>1996-01-01 11:51:00</td>\n",
       "      <td>1996-01-01 12:55:00</td>\n",
       "      <td>CAT</td>\n",
       "    </tr>\n",
       "    <tr>\n",
       "      <th>4</th>\n",
       "      <td>5</td>\n",
       "      <td>1996-01-01 12:10:00</td>\n",
       "      <td>1996-01-01 13:00:00</td>\n",
       "      <td>IVT</td>\n",
       "    </tr>\n",
       "  </tbody>\n",
       "</table>\n",
       "</div>"
      ],
      "text/plain": [
       "   PatID            InRoomTS           OutRoomTS PatType\n",
       "0      1 1996-01-01 07:44:00 1996-01-01 08:50:00     IVT\n",
       "1      2 1996-01-01 08:28:00 1996-01-01 09:20:00     IVT\n",
       "2      3 1996-01-01 11:44:00 1996-01-01 13:30:00     MYE\n",
       "3      4 1996-01-01 11:51:00 1996-01-01 12:55:00     CAT\n",
       "4      5 1996-01-01 12:10:00 1996-01-01 13:00:00     IVT"
      ]
     },
     "execution_count": 4,
     "metadata": {},
     "output_type": "execute_result"
    }
   ],
   "source": [
    "stops_df.head()"
   ]
  },
  {
   "cell_type": "markdown",
   "metadata": {},
   "source": [
    "Create a new hills scenario"
   ]
  },
  {
   "cell_type": "code",
   "execution_count": 5,
   "metadata": {},
   "outputs": [],
   "source": [
    "import hillmaker as hm"
   ]
  },
  {
   "cell_type": "code",
   "execution_count": 6,
   "metadata": {},
   "outputs": [],
   "source": [
    "# Required inputs\n",
    "\n",
    "in_field_name = 'InRoomTS'\n",
    "out_field_name = 'OutRoomTS'\n",
    "start_date = '1996-01-01'\n",
    "end_date = pd.Timestamp('9/30/1996')\n",
    "\n",
    "# Optional inputs\n",
    "scenario_name = 'ss_example_1'\n",
    "cat_field_name = 'PatType'\n",
    "verbosity = 1 # INFO level logging\n",
    "output_path = './output'\n",
    "bin_size_minutes = 60"
   ]
  },
  {
   "cell_type": "code",
   "execution_count": 7,
   "metadata": {},
   "outputs": [],
   "source": [
    "scenario_1 = hm.HillsScenario(stops_df = stops_df, \n",
    "                              in_field = in_field_name, out_field = out_field_name,\n",
    "                              start_analysis_dt = start_date, end_analysis_dt = end_date,\n",
    "                              cat_field = cat_field_name)\n",
    "                              "
   ]
  },
  {
   "cell_type": "code",
   "execution_count": 8,
   "metadata": {
    "tags": []
   },
   "outputs": [
    {
     "name": "stdout",
     "output_type": "stream",
     "text": [
      "{'stops_df':        PatID            InRoomTS           OutRoomTS PatType\n",
      "0          1 1996-01-01 07:44:00 1996-01-01 08:50:00     IVT\n",
      "1          2 1996-01-01 08:28:00 1996-01-01 09:20:00     IVT\n",
      "2          3 1996-01-01 11:44:00 1996-01-01 13:30:00     MYE\n",
      "3          4 1996-01-01 11:51:00 1996-01-01 12:55:00     CAT\n",
      "4          5 1996-01-01 12:10:00 1996-01-01 13:00:00     IVT\n",
      "...      ...                 ...                 ...     ...\n",
      "59872  59873 1996-09-30 19:31:00 1996-09-30 20:15:00     IVT\n",
      "59873  59874 1996-09-30 20:23:00 1996-09-30 21:30:00     IVT\n",
      "59874  59875 1996-09-30 21:00:00 1996-09-30 22:45:00     CAT\n",
      "59875  59876 1996-09-30 21:57:00 1996-09-30 22:40:00     IVT\n",
      "59876  59877 1996-09-30 22:45:00 1996-09-30 23:35:00     CAT\n",
      "\n",
      "[59877 rows x 4 columns], 'in_field': 'InRoomTS', 'out_field': 'OutRoomTS', 'start_analysis_dt': datetime.date(1996, 1, 1), 'end_analysis_dt': datetime.date(1996, 9, 30), 'scenario_name': 's202209081102', 'cat_field': 'PatType', 'bin_size_minutes': 60, 'cats_to_exclude': None, 'percentiles': (0.25, 0.5, 0.75, 0.95, 0.99), 'occ_weight_field': None, 'totals': True, 'nonstationary_stats': True, 'stationary_stats': True, 'no_censored_departures': False, 'edge_bins': <EdgeBinsEnum.FRACTIONAL: 1>, 'output_path': PosixPath('.'), 'export_bydatetime_csv': True, 'export_summaries_csv': True, 'make_dow_plot': True, 'make_week_plot': True, 'export_dow_png': False, 'export_week_png': False, 'cap': None, 'xlabel': None, 'ylabel': None, 'verbosity': <VerbosityEnum.WARNING: 0>}\n"
     ]
    }
   ],
   "source": [
    "print(scenario_1.scenario_params.dict())"
   ]
  },
  {
   "cell_type": "code",
   "execution_count": 9,
   "metadata": {},
   "outputs": [
    {
     "data": {
      "text/plain": [
       "True"
      ]
     },
     "execution_count": 9,
     "metadata": {},
     "output_type": "execute_result"
    }
   ],
   "source": [
    "scenario_1.scenario_params.totals"
   ]
  },
  {
   "cell_type": "code",
   "execution_count": 23,
   "metadata": {},
   "outputs": [],
   "source": [
    "scenario_1.make_hills()"
   ]
  },
  {
   "cell_type": "code",
   "execution_count": 24,
   "metadata": {},
   "outputs": [
    {
     "data": {
      "text/plain": [
       "dict_keys(['bydatetime', 'summaries', 'plots'])"
      ]
     },
     "execution_count": 24,
     "metadata": {},
     "output_type": "execute_result"
    }
   ],
   "source": [
    "scenario_1.hills.keys()"
   ]
  },
  {
   "cell_type": "code",
   "execution_count": 25,
   "metadata": {},
   "outputs": [
    {
     "data": {
      "text/plain": [
       "dict_keys(['s202209081102_occupancy_plot_week', 's202209081102_arrivals_plot_week', 's202209081102_departures_plot_week', 's202209081102_occupancy_plot_Mon', 's202209081102_occupancy_plot_Tue', 's202209081102_occupancy_plot_Wed', 's202209081102_occupancy_plot_Thu', 's202209081102_occupancy_plot_Fri', 's202209081102_occupancy_plot_Sat', 's202209081102_occupancy_plot_Sun', 's202209081102_arrivals_plot_Mon', 's202209081102_arrivals_plot_Tue', 's202209081102_arrivals_plot_Wed', 's202209081102_arrivals_plot_Thu', 's202209081102_arrivals_plot_Fri', 's202209081102_arrivals_plot_Sat', 's202209081102_arrivals_plot_Sun', 's202209081102_departures_plot_Mon', 's202209081102_departures_plot_Tue', 's202209081102_departures_plot_Wed', 's202209081102_departures_plot_Thu', 's202209081102_departures_plot_Fri', 's202209081102_departures_plot_Sat', 's202209081102_departures_plot_Sun'])"
      ]
     },
     "execution_count": 25,
     "metadata": {},
     "output_type": "execute_result"
    }
   ],
   "source": [
    "scenario_1.hills['plots'].keys()"
   ]
  },
  {
   "cell_type": "code",
   "execution_count": 26,
   "metadata": {},
   "outputs": [
    {
     "data": {
      "image/png": "[encoded data removed]",
      "text/plain": [
       "<Figure size 1080x720 with 1 Axes>"
      ]
     },
     "execution_count": 26,
     "metadata": {},
     "output_type": "execute_result"
    }
   ],
   "source": [
    "scenario_1.hills['plots']['s202209081102_occupancy_plot_week']"
   ]
  },
  {
   "cell_type": "code",
   "execution_count": 27,
   "metadata": {},
   "outputs": [
    {
     "data": {
      "text/plain": [
       "dict_keys(['nonstationary', 'stationary'])"
      ]
     },
     "execution_count": 27,
     "metadata": {},
     "output_type": "execute_result"
    }
   ],
   "source": [
    "scenario_1.hills['summaries'].keys()"
   ]
  },
  {
   "cell_type": "code",
   "execution_count": 28,
   "metadata": {},
   "outputs": [
    {
     "data": {
      "text/plain": [
       "dict_keys(['PatType_dow_binofday', 'dow_binofday'])"
      ]
     },
     "execution_count": 28,
     "metadata": {},
     "output_type": "execute_result"
    }
   ],
   "source": [
    "scenario_1.hills['summaries']['nonstationary'].keys()"
   ]
  },
  {
   "cell_type": "code",
   "execution_count": 29,
   "metadata": {},
   "outputs": [
    {
     "data": {
      "text/plain": [
       "dict_keys(['occupancy', 'arrivals', 'departures'])"
      ]
     },
     "execution_count": 29,
     "metadata": {},
     "output_type": "execute_result"
    }
   ],
   "source": [
    "scenario_1.hills['summaries']['nonstationary']['dow_binofday'].keys()"
   ]
  },
  {
   "cell_type": "code",
   "execution_count": 30,
   "metadata": {},
   "outputs": [
    {
     "data": {
      "text/html": [
       "<div>\n",
       "<style scoped>\n",
       "    .dataframe tbody tr th:only-of-type {\n",
       "        vertical-align: middle;\n",
       "    }\n",
       "\n",
       "    .dataframe tbody tr th {\n",
       "        vertical-align: top;\n",
       "    }\n",
       "\n",
       "    .dataframe thead th {\n",
       "        text-align: right;\n",
       "    }\n",
       "</style>\n",
       "<table border=\"1\" class=\"dataframe\">\n",
       "  <thead>\n",
       "    <tr style=\"text-align: right;\">\n",
       "      <th></th>\n",
       "      <th></th>\n",
       "      <th></th>\n",
       "      <th></th>\n",
       "      <th>count</th>\n",
       "      <th>mean</th>\n",
       "      <th>min</th>\n",
       "      <th>max</th>\n",
       "      <th>stdev</th>\n",
       "      <th>sem</th>\n",
       "      <th>var</th>\n",
       "      <th>cv</th>\n",
       "      <th>skew</th>\n",
       "      <th>kurt</th>\n",
       "      <th>p25</th>\n",
       "      <th>p50</th>\n",
       "      <th>p75</th>\n",
       "      <th>p95</th>\n",
       "      <th>p99</th>\n",
       "    </tr>\n",
       "    <tr>\n",
       "      <th>day_of_week</th>\n",
       "      <th>dow_name</th>\n",
       "      <th>bin_of_day</th>\n",
       "      <th>bin_of_day_str</th>\n",
       "      <th></th>\n",
       "      <th></th>\n",
       "      <th></th>\n",
       "      <th></th>\n",
       "      <th></th>\n",
       "      <th></th>\n",
       "      <th></th>\n",
       "      <th></th>\n",
       "      <th></th>\n",
       "      <th></th>\n",
       "      <th></th>\n",
       "      <th></th>\n",
       "      <th></th>\n",
       "      <th></th>\n",
       "      <th></th>\n",
       "    </tr>\n",
       "  </thead>\n",
       "  <tbody>\n",
       "    <tr>\n",
       "      <th rowspan=\"5\" valign=\"top\">0</th>\n",
       "      <th rowspan=\"5\" valign=\"top\">Mon</th>\n",
       "      <th>0</th>\n",
       "      <th>00:00</th>\n",
       "      <td>40.0</td>\n",
       "      <td>0.255000</td>\n",
       "      <td>0.0</td>\n",
       "      <td>1.833333</td>\n",
       "      <td>0.418453</td>\n",
       "      <td>0.066163</td>\n",
       "      <td>0.175103</td>\n",
       "      <td>1.640991</td>\n",
       "      <td>2.024153</td>\n",
       "      <td>4.603107</td>\n",
       "      <td>0.0</td>\n",
       "      <td>0.000000</td>\n",
       "      <td>0.495833</td>\n",
       "      <td>0.795833</td>\n",
       "      <td>1.644833</td>\n",
       "    </tr>\n",
       "    <tr>\n",
       "      <th>1</th>\n",
       "      <th>01:00</th>\n",
       "      <td>40.0</td>\n",
       "      <td>0.206667</td>\n",
       "      <td>0.0</td>\n",
       "      <td>1.600000</td>\n",
       "      <td>0.380785</td>\n",
       "      <td>0.060207</td>\n",
       "      <td>0.144997</td>\n",
       "      <td>1.842508</td>\n",
       "      <td>2.045914</td>\n",
       "      <td>3.916359</td>\n",
       "      <td>0.0</td>\n",
       "      <td>0.000000</td>\n",
       "      <td>0.187500</td>\n",
       "      <td>0.984167</td>\n",
       "      <td>1.366000</td>\n",
       "    </tr>\n",
       "    <tr>\n",
       "      <th>2</th>\n",
       "      <th>02:00</th>\n",
       "      <td>40.0</td>\n",
       "      <td>0.204167</td>\n",
       "      <td>0.0</td>\n",
       "      <td>0.916667</td>\n",
       "      <td>0.332665</td>\n",
       "      <td>0.052599</td>\n",
       "      <td>0.110666</td>\n",
       "      <td>1.629379</td>\n",
       "      <td>1.203569</td>\n",
       "      <td>-0.249311</td>\n",
       "      <td>0.0</td>\n",
       "      <td>0.000000</td>\n",
       "      <td>0.500000</td>\n",
       "      <td>0.900000</td>\n",
       "      <td>0.910167</td>\n",
       "    </tr>\n",
       "    <tr>\n",
       "      <th>3</th>\n",
       "      <th>03:00</th>\n",
       "      <td>40.0</td>\n",
       "      <td>0.190000</td>\n",
       "      <td>0.0</td>\n",
       "      <td>1.133333</td>\n",
       "      <td>0.331142</td>\n",
       "      <td>0.052358</td>\n",
       "      <td>0.109655</td>\n",
       "      <td>1.742855</td>\n",
       "      <td>1.583843</td>\n",
       "      <td>1.181465</td>\n",
       "      <td>0.0</td>\n",
       "      <td>0.000000</td>\n",
       "      <td>0.270833</td>\n",
       "      <td>0.902500</td>\n",
       "      <td>1.061833</td>\n",
       "    </tr>\n",
       "    <tr>\n",
       "      <th>4</th>\n",
       "      <th>04:00</th>\n",
       "      <td>40.0</td>\n",
       "      <td>0.111250</td>\n",
       "      <td>0.0</td>\n",
       "      <td>1.000000</td>\n",
       "      <td>0.255910</td>\n",
       "      <td>0.040463</td>\n",
       "      <td>0.065490</td>\n",
       "      <td>2.300313</td>\n",
       "      <td>2.349720</td>\n",
       "      <td>4.703609</td>\n",
       "      <td>0.0</td>\n",
       "      <td>0.000000</td>\n",
       "      <td>0.000000</td>\n",
       "      <td>0.630000</td>\n",
       "      <td>0.954500</td>\n",
       "    </tr>\n",
       "    <tr>\n",
       "      <th>...</th>\n",
       "      <th>...</th>\n",
       "      <th>...</th>\n",
       "      <th>...</th>\n",
       "      <td>...</td>\n",
       "      <td>...</td>\n",
       "      <td>...</td>\n",
       "      <td>...</td>\n",
       "      <td>...</td>\n",
       "      <td>...</td>\n",
       "      <td>...</td>\n",
       "      <td>...</td>\n",
       "      <td>...</td>\n",
       "      <td>...</td>\n",
       "      <td>...</td>\n",
       "      <td>...</td>\n",
       "      <td>...</td>\n",
       "      <td>...</td>\n",
       "      <td>...</td>\n",
       "    </tr>\n",
       "    <tr>\n",
       "      <th rowspan=\"5\" valign=\"top\">6</th>\n",
       "      <th rowspan=\"5\" valign=\"top\">Sun</th>\n",
       "      <th>19</th>\n",
       "      <th>19:00</th>\n",
       "      <td>39.0</td>\n",
       "      <td>0.535470</td>\n",
       "      <td>0.0</td>\n",
       "      <td>3.266667</td>\n",
       "      <td>0.747004</td>\n",
       "      <td>0.119616</td>\n",
       "      <td>0.558014</td>\n",
       "      <td>1.395043</td>\n",
       "      <td>1.813045</td>\n",
       "      <td>3.776304</td>\n",
       "      <td>0.0</td>\n",
       "      <td>0.150000</td>\n",
       "      <td>0.816667</td>\n",
       "      <td>1.716667</td>\n",
       "      <td>2.905667</td>\n",
       "    </tr>\n",
       "    <tr>\n",
       "      <th>20</th>\n",
       "      <th>20:00</th>\n",
       "      <td>39.0</td>\n",
       "      <td>0.489316</td>\n",
       "      <td>0.0</td>\n",
       "      <td>2.000000</td>\n",
       "      <td>0.596168</td>\n",
       "      <td>0.095463</td>\n",
       "      <td>0.355416</td>\n",
       "      <td>1.218370</td>\n",
       "      <td>1.119442</td>\n",
       "      <td>0.457068</td>\n",
       "      <td>0.0</td>\n",
       "      <td>0.250000</td>\n",
       "      <td>0.791667</td>\n",
       "      <td>1.760000</td>\n",
       "      <td>2.000000</td>\n",
       "    </tr>\n",
       "    <tr>\n",
       "      <th>21</th>\n",
       "      <th>21:00</th>\n",
       "      <td>39.0</td>\n",
       "      <td>0.433761</td>\n",
       "      <td>0.0</td>\n",
       "      <td>1.966667</td>\n",
       "      <td>0.463310</td>\n",
       "      <td>0.074189</td>\n",
       "      <td>0.214656</td>\n",
       "      <td>1.068124</td>\n",
       "      <td>1.194987</td>\n",
       "      <td>1.781882</td>\n",
       "      <td>0.0</td>\n",
       "      <td>0.333333</td>\n",
       "      <td>0.741667</td>\n",
       "      <td>1.191667</td>\n",
       "      <td>1.757667</td>\n",
       "    </tr>\n",
       "    <tr>\n",
       "      <th>22</th>\n",
       "      <th>22:00</th>\n",
       "      <td>39.0</td>\n",
       "      <td>0.368376</td>\n",
       "      <td>0.0</td>\n",
       "      <td>2.066667</td>\n",
       "      <td>0.510315</td>\n",
       "      <td>0.081716</td>\n",
       "      <td>0.260421</td>\n",
       "      <td>1.385309</td>\n",
       "      <td>1.608689</td>\n",
       "      <td>2.409985</td>\n",
       "      <td>0.0</td>\n",
       "      <td>0.083333</td>\n",
       "      <td>0.650000</td>\n",
       "      <td>1.358333</td>\n",
       "      <td>1.883000</td>\n",
       "    </tr>\n",
       "    <tr>\n",
       "      <th>23</th>\n",
       "      <th>23:00</th>\n",
       "      <td>39.0</td>\n",
       "      <td>0.355983</td>\n",
       "      <td>0.0</td>\n",
       "      <td>2.083333</td>\n",
       "      <td>0.493207</td>\n",
       "      <td>0.078976</td>\n",
       "      <td>0.243253</td>\n",
       "      <td>1.385478</td>\n",
       "      <td>1.578062</td>\n",
       "      <td>2.748971</td>\n",
       "      <td>0.0</td>\n",
       "      <td>0.000000</td>\n",
       "      <td>0.616667</td>\n",
       "      <td>1.280000</td>\n",
       "      <td>1.823667</td>\n",
       "    </tr>\n",
       "  </tbody>\n",
       "</table>\n",
       "<p>168 rows × 15 columns</p>\n",
       "</div>"
      ],
      "text/plain": [
       "                                                count      mean  min  \\\n",
       "day_of_week dow_name bin_of_day bin_of_day_str                         \n",
       "0           Mon      0          00:00            40.0  0.255000  0.0   \n",
       "                     1          01:00            40.0  0.206667  0.0   \n",
       "                     2          02:00            40.0  0.204167  0.0   \n",
       "                     3          03:00            40.0  0.190000  0.0   \n",
       "                     4          04:00            40.0  0.111250  0.0   \n",
       "...                                               ...       ...  ...   \n",
       "6           Sun      19         19:00            39.0  0.535470  0.0   \n",
       "                     20         20:00            39.0  0.489316  0.0   \n",
       "                     21         21:00            39.0  0.433761  0.0   \n",
       "                     22         22:00            39.0  0.368376  0.0   \n",
       "                     23         23:00            39.0  0.355983  0.0   \n",
       "\n",
       "                                                     max     stdev       sem  \\\n",
       "day_of_week dow_name bin_of_day bin_of_day_str                                 \n",
       "0           Mon      0          00:00           1.833333  0.418453  0.066163   \n",
       "                     1          01:00           1.600000  0.380785  0.060207   \n",
       "                     2          02:00           0.916667  0.332665  0.052599   \n",
       "                     3          03:00           1.133333  0.331142  0.052358   \n",
       "                     4          04:00           1.000000  0.255910  0.040463   \n",
       "...                                                  ...       ...       ...   \n",
       "6           Sun      19         19:00           3.266667  0.747004  0.119616   \n",
       "                     20         20:00           2.000000  0.596168  0.095463   \n",
       "                     21         21:00           1.966667  0.463310  0.074189   \n",
       "                     22         22:00           2.066667  0.510315  0.081716   \n",
       "                     23         23:00           2.083333  0.493207  0.078976   \n",
       "\n",
       "                                                     var        cv      skew  \\\n",
       "day_of_week dow_name bin_of_day bin_of_day_str                                 \n",
       "0           Mon      0          00:00           0.175103  1.640991  2.024153   \n",
       "                     1          01:00           0.144997  1.842508  2.045914   \n",
       "                     2          02:00           0.110666  1.629379  1.203569   \n",
       "                     3          03:00           0.109655  1.742855  1.583843   \n",
       "                     4          04:00           0.065490  2.300313  2.349720   \n",
       "...                                                  ...       ...       ...   \n",
       "6           Sun      19         19:00           0.558014  1.395043  1.813045   \n",
       "                     20         20:00           0.355416  1.218370  1.119442   \n",
       "                     21         21:00           0.214656  1.068124  1.194987   \n",
       "                     22         22:00           0.260421  1.385309  1.608689   \n",
       "                     23         23:00           0.243253  1.385478  1.578062   \n",
       "\n",
       "                                                    kurt  p25       p50  \\\n",
       "day_of_week dow_name bin_of_day bin_of_day_str                            \n",
       "0           Mon      0          00:00           4.603107  0.0  0.000000   \n",
       "                     1          01:00           3.916359  0.0  0.000000   \n",
       "                     2          02:00          -0.249311  0.0  0.000000   \n",
       "                     3          03:00           1.181465  0.0  0.000000   \n",
       "                     4          04:00           4.703609  0.0  0.000000   \n",
       "...                                                  ...  ...       ...   \n",
       "6           Sun      19         19:00           3.776304  0.0  0.150000   \n",
       "                     20         20:00           0.457068  0.0  0.250000   \n",
       "                     21         21:00           1.781882  0.0  0.333333   \n",
       "                     22         22:00           2.409985  0.0  0.083333   \n",
       "                     23         23:00           2.748971  0.0  0.000000   \n",
       "\n",
       "                                                     p75       p95       p99  \n",
       "day_of_week dow_name bin_of_day bin_of_day_str                                \n",
       "0           Mon      0          00:00           0.495833  0.795833  1.644833  \n",
       "                     1          01:00           0.187500  0.984167  1.366000  \n",
       "                     2          02:00           0.500000  0.900000  0.910167  \n",
       "                     3          03:00           0.270833  0.902500  1.061833  \n",
       "                     4          04:00           0.000000  0.630000  0.954500  \n",
       "...                                                  ...       ...       ...  \n",
       "6           Sun      19         19:00           0.816667  1.716667  2.905667  \n",
       "                     20         20:00           0.791667  1.760000  2.000000  \n",
       "                     21         21:00           0.741667  1.191667  1.757667  \n",
       "                     22         22:00           0.650000  1.358333  1.883000  \n",
       "                     23         23:00           0.616667  1.280000  1.823667  \n",
       "\n",
       "[168 rows x 15 columns]"
      ]
     },
     "execution_count": 30,
     "metadata": {},
     "output_type": "execute_result"
    }
   ],
   "source": [
    "scenario_1.hills['summaries']['nonstationary']['dow_binofday']['occupancy']"
   ]
  },
  {
   "cell_type": "code",
   "execution_count": null,
   "metadata": {},
   "outputs": [],
   "source": []
  },
  {
   "cell_type": "markdown",
   "metadata": {},
   "source": [
    "Using the current hillmaker, here's what we would do."
   ]
  },
  {
   "cell_type": "code",
   "execution_count": null,
   "metadata": {},
   "outputs": [],
   "source": []
  },
  {
   "cell_type": "code",
   "execution_count": null,
   "metadata": {},
   "outputs": [],
   "source": []
  },
  {
   "cell_type": "markdown",
   "metadata": {},
   "source": [
    "## Use case 2 - partition patient types into two holding areas\n",
    "The hospital is considering sending some patient types to a new dedicated holding area. We want to be able to generate hillmaker outputs for various subsets of patients going to each of the two units."
   ]
  },
  {
   "cell_type": "code",
   "execution_count": null,
   "metadata": {},
   "outputs": [],
   "source": []
  },
  {
   "cell_type": "code",
   "execution_count": null,
   "metadata": {},
   "outputs": [],
   "source": []
  },
  {
   "cell_type": "code",
   "execution_count": null,
   "metadata": {},
   "outputs": [],
   "source": []
  },
  {
   "cell_type": "code",
   "execution_count": null,
   "metadata": {},
   "outputs": [],
   "source": []
  },
  {
   "cell_type": "code",
   "execution_count": null,
   "metadata": {},
   "outputs": [],
   "source": [
    "stops_df['los'] = stops_df['OutRoomTS'] - stops_df['InRoomTS']"
   ]
  },
  {
   "cell_type": "code",
   "execution_count": null,
   "metadata": {},
   "outputs": [],
   "source": []
  },
  {
   "cell_type": "code",
   "execution_count": null,
   "metadata": {},
   "outputs": [],
   "source": []
  },
  {
   "cell_type": "code",
   "execution_count": null,
   "metadata": {},
   "outputs": [],
   "source": []
  },
  {
   "cell_type": "code",
   "execution_count": null,
   "metadata": {},
   "outputs": [],
   "source": []
  },
  {
   "cell_type": "markdown",
   "metadata": {},
   "source": [
    "As part of an operational analysis we would like to compute a number of relevant statistics, such as:\n",
    "\n",
    "- mean and 95th percentile of overall SSU occupancy by hour of day and day of week,\n",
    "- similar hourly statistics for patient arrivals and departures,\n",
    "- all of the above but by patient type as well.\n",
    "\n",
    "In addition to tabular summaries, plots are needed. Like this:"
   ]
  },
  {
   "cell_type": "code",
   "execution_count": null,
   "metadata": {},
   "outputs": [],
   "source": [
    "Image(filename=\"images/ssu-occ.png\")"
   ]
  },
  {
   "cell_type": "markdown",
   "metadata": {},
   "source": [
    "Hillmaker was designed for precisely this type of problem. In fact, the very first version of hillmaker was written for analyzing an SSU when the author was an undergraduate interning at a large health care system. That very first version was written in BASIC on a [DECwriter](https://en.wikipedia.org/wiki/DECwriter)!"
   ]
  },
  {
   "cell_type": "code",
   "execution_count": null,
   "metadata": {},
   "outputs": [],
   "source": [
    "Image(filename=\"images/DECwriter,_Tektronix,_PDP-11_(192826605).jpg\")"
   ]
  },
  {
   "cell_type": "markdown",
   "metadata": {},
   "source": [
    "<p align = \"center\">\n",
    "<font size=\"-2\">Source: By Wolfgang Stief from Tittmoning, Germany - DECwriter, Tektronix, PDP-11, CC0, https://commons.wikimedia.org/w/index.php?curid=105322423</font>\n",
    "</p>\n",
    "\n",
    "Over the years, hillmaker was migrated to [FoxPro](https://en.wikipedia.org/wiki/FoxPro), and then to MS Access where it [lived for many years](http://hillmaker.sourceforge.net/). In 2016, I [moved it to Python](https://misken.github.io/blog/hillmaker-python-released/)."
   ]
  },
  {
   "cell_type": "code",
   "execution_count": null,
   "metadata": {},
   "outputs": [],
   "source": []
  }
 ],
 "metadata": {
  "kernelspec": {
   "display_name": "Python [conda env:hmoo]",
   "language": "python",
   "name": "conda-env-hmoo-py"
  },
  "language_info": {
   "codemirror_mode": {
    "name": "ipython",
    "version": 3
   },
   "file_extension": ".py",
   "mimetype": "text/x-python",
   "name": "python",
   "nbconvert_exporter": "python",
   "pygments_lexer": "ipython3",
   "version": "3.9.12"
  }
 },
 "nbformat": 4,
 "nbformat_minor": 4
}
