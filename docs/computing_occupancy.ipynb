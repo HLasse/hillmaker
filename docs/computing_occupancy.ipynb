{
 "cells": [
  {
   "cell_type": "markdown",
   "id": "86f0c5c7-a0d5-46c1-94db-fe511aae8370",
   "metadata": {},
   "source": [
    "# How is occupancy computed?\n",
    "\n",
    "In order to compute aggregate summary statistics for occupancy by time of day and day of week, we first need to determine how many patients (entities, in general) are present during each time bin of each date over the analysis range. In our Short Stay Unit (SSU) example, we have been using an *analysis date range* of 2024-01-02 through 2024-09-30. Let's use hourly time bins. This leads to 6552 hourly datetime bins as shown below. Note that we are using a [24-hour clock](https://simple.wikipedia.org/wiki/24-hour_clock).\n",
    "\n"
   ]
  },
  {
   "cell_type": "code",
   "execution_count": 1,
   "id": "bed423b0-80f1-4f07-8471-2a70b643f042",
   "metadata": {},
   "outputs": [],
   "source": [
    "import pandas as pd"
   ]
  },
  {
   "cell_type": "code",
   "execution_count": 2,
   "id": "c880ea7a-c42e-44d5-9dbf-744921e700b4",
   "metadata": {},
   "outputs": [
    {
     "data": {
      "text/plain": [
       "0       2024-01-02 00:00:00\n",
       "1       2024-01-02 01:00:00\n",
       "2       2024-01-02 02:00:00\n",
       "3       2024-01-02 03:00:00\n",
       "4       2024-01-02 04:00:00\n",
       "               ...         \n",
       "6547    2024-09-30 19:00:00\n",
       "6548    2024-09-30 20:00:00\n",
       "6549    2024-09-30 21:00:00\n",
       "6550    2024-09-30 22:00:00\n",
       "6551    2024-09-30 23:00:00\n",
       "Name: datetime, Length: 6552, dtype: object"
      ]
     },
     "execution_count": 2,
     "metadata": {},
     "output_type": "execute_result"
    }
   ],
   "source": [
    "bydatetime_df = pd.read_csv('output/cli_demo_ssu_60_bydatetime_datetime.csv')\n",
    "bydatetime_df['datetime']"
   ]
  },
  {
   "cell_type": "markdown",
   "id": "e671a4eb-9eeb-44cf-ac77-c79c9a1bc730",
   "metadata": {},
   "source": [
    "Assume the very first patient arrives at 06:15 on 2024-01-02 and departs at 09:36 the same day. For the time bins starting at 07:00 and 08:00, the patient is in the unit for the entire time bin. However, for the *arrival bin*, 06:00, the patient is only present for 45 minutes. Similarly, for the *departure bin*, the patient is in the unit for 36 minutes. "
   ]
  },
  {
   "cell_type": "raw",
   "id": "3bfe9019-14f6-4cdf-9886-f208f45795d1",
   "metadata": {
    "jupyter": {
     "source_hidden": true
    },
    "tags": []
   },
   "source": [
    "```{table} Occupancy contribution for first patient\n",
    ":name: occ_contribution-table-ref\n",
    "| Time bin      | Minutes occupied | Occupancy contribution |\n",
    "| ----------- | :---------: | :----:|\n",
    "| 2024-01-02 06:00      | 45       | $45/60=0.75$ |\n",
    "| 2024-01-02 07:00   | 60        | $60/60=1.00$ |\n",
    "| 2024-01-02 08:00   | 60        | $60/60=1.00$ |\n",
    "| 2024-01-02 09:00   | 36        | $36/60=0.60$ |\n",
    "```"
   ]
  },
  {
   "cell_type": "markdown",
   "id": "b32161e7-92e9-49ae-b2da-1b3c71e1696e",
   "metadata": {},
   "source": [
    "During the hillmaking process, occupancy contributions by datetime bin for each patient are computed and are accumulated in NumPy arrays. Eventually these arrays are converted to a pandas `DataFrame` that we refer to as the *bydatetime* table.\n"
   ]
  },
  {
   "cell_type": "markdown",
   "id": "81a9bec9-b37f-4442-ba52-fa2bc0e3a097",
   "metadata": {},
   "source": [
    "## What about the boundaries of the analysis date range?\n",
    "\n",
    "As long as the records are in the stops dataframe, hillmaker will account for patients who might have arrived before but discharged after the start date. In our SSU example, the start date was 2024-01-02 because we wanted to ignore the impact of the January 1 holiday. However, records from 2024-01-01 are in the stops dataframe. "
   ]
  },
  {
   "cell_type": "code",
   "execution_count": 3,
   "id": "f474de2b-5fef-4f2f-9f05-154737908da3",
   "metadata": {},
   "outputs": [
    {
     "data": {
      "text/html": [
       "<div>\n",
       "<style scoped>\n",
       "    .dataframe tbody tr th:only-of-type {\n",
       "        vertical-align: middle;\n",
       "    }\n",
       "\n",
       "    .dataframe tbody tr th {\n",
       "        vertical-align: top;\n",
       "    }\n",
       "\n",
       "    .dataframe thead th {\n",
       "        text-align: right;\n",
       "    }\n",
       "</style>\n",
       "<table border=\"1\" class=\"dataframe\">\n",
       "  <thead>\n",
       "    <tr style=\"text-align: right;\">\n",
       "      <th></th>\n",
       "      <th>PatID</th>\n",
       "      <th>InRoomTS</th>\n",
       "      <th>OutRoomTS</th>\n",
       "      <th>PatType</th>\n",
       "      <th>LOS_hours</th>\n",
       "    </tr>\n",
       "  </thead>\n",
       "  <tbody>\n",
       "    <tr>\n",
       "      <th>0</th>\n",
       "      <td>1</td>\n",
       "      <td>2024-01-01 07:44:00</td>\n",
       "      <td>2024-01-01 09:20:00</td>\n",
       "      <td>IVT</td>\n",
       "      <td>1.600000</td>\n",
       "    </tr>\n",
       "    <tr>\n",
       "      <th>1</th>\n",
       "      <td>2</td>\n",
       "      <td>2024-01-01 08:28:00</td>\n",
       "      <td>2024-01-01 11:13:00</td>\n",
       "      <td>IVT</td>\n",
       "      <td>2.750000</td>\n",
       "    </tr>\n",
       "    <tr>\n",
       "      <th>2</th>\n",
       "      <td>3</td>\n",
       "      <td>2024-01-01 11:44:00</td>\n",
       "      <td>2024-01-01 12:48:00</td>\n",
       "      <td>MYE</td>\n",
       "      <td>1.066667</td>\n",
       "    </tr>\n",
       "    <tr>\n",
       "      <th>3</th>\n",
       "      <td>4</td>\n",
       "      <td>2024-01-01 11:51:00</td>\n",
       "      <td>2024-01-01 21:10:00</td>\n",
       "      <td>CAT</td>\n",
       "      <td>9.316667</td>\n",
       "    </tr>\n",
       "    <tr>\n",
       "      <th>4</th>\n",
       "      <td>5</td>\n",
       "      <td>2024-01-01 12:10:00</td>\n",
       "      <td>2024-01-01 12:57:00</td>\n",
       "      <td>IVT</td>\n",
       "      <td>0.783333</td>\n",
       "    </tr>\n",
       "    <tr>\n",
       "      <th>5</th>\n",
       "      <td>6</td>\n",
       "      <td>2024-01-01 14:16:00</td>\n",
       "      <td>2024-01-01 17:35:00</td>\n",
       "      <td>IVT</td>\n",
       "      <td>3.316667</td>\n",
       "    </tr>\n",
       "    <tr>\n",
       "      <th>6</th>\n",
       "      <td>7</td>\n",
       "      <td>2024-01-01 14:40:00</td>\n",
       "      <td>2024-01-01 17:24:00</td>\n",
       "      <td>IVT</td>\n",
       "      <td>2.733333</td>\n",
       "    </tr>\n",
       "    <tr>\n",
       "      <th>7</th>\n",
       "      <td>8</td>\n",
       "      <td>2024-01-01 17:25:00</td>\n",
       "      <td>2024-01-02 01:53:00</td>\n",
       "      <td>CAT</td>\n",
       "      <td>8.466667</td>\n",
       "    </tr>\n",
       "  </tbody>\n",
       "</table>\n",
       "</div>"
      ],
      "text/plain": [
       "   PatID            InRoomTS           OutRoomTS PatType  LOS_hours\n",
       "0      1 2024-01-01 07:44:00 2024-01-01 09:20:00     IVT   1.600000\n",
       "1      2 2024-01-01 08:28:00 2024-01-01 11:13:00     IVT   2.750000\n",
       "2      3 2024-01-01 11:44:00 2024-01-01 12:48:00     MYE   1.066667\n",
       "3      4 2024-01-01 11:51:00 2024-01-01 21:10:00     CAT   9.316667\n",
       "4      5 2024-01-01 12:10:00 2024-01-01 12:57:00     IVT   0.783333\n",
       "5      6 2024-01-01 14:16:00 2024-01-01 17:35:00     IVT   3.316667\n",
       "6      7 2024-01-01 14:40:00 2024-01-01 17:24:00     IVT   2.733333\n",
       "7      8 2024-01-01 17:25:00 2024-01-02 01:53:00     CAT   8.466667"
      ]
     },
     "execution_count": 3,
     "metadata": {},
     "output_type": "execute_result"
    }
   ],
   "source": [
    "ssu_stopdata = 'https://raw.githubusercontent.com/misken/hillmaker-examples/main/data/ssu_2024.csv'\n",
    "# ssu_stopdata = './data/ssu_2024.csv'\n",
    "stops_df = pd.read_csv(ssu_stopdata, parse_dates=['InRoomTS','OutRoomTS'])\n",
    "stops_df[stops_df['InRoomTS'] < pd.Timestamp('2024-01-02')]"
   ]
  },
  {
   "cell_type": "markdown",
   "id": "6a73c558-5a72-4924-92d6-1ee47fb17d15",
   "metadata": {},
   "source": [
    "Notice that the last patient who arrived on 2024-01-01 wasn't discharged until 2024-01-02 01:53. If we look at the bydatetime table, we can see the occupancy contributions of this patient."
   ]
  },
  {
   "cell_type": "code",
   "execution_count": 4,
   "id": "c20037b5-04a0-4bbc-a494-49b76b012ee8",
   "metadata": {},
   "outputs": [
    {
     "data": {
      "text/html": [
       "<div>\n",
       "<style scoped>\n",
       "    .dataframe tbody tr th:only-of-type {\n",
       "        vertical-align: middle;\n",
       "    }\n",
       "\n",
       "    .dataframe tbody tr th {\n",
       "        vertical-align: top;\n",
       "    }\n",
       "\n",
       "    .dataframe thead th {\n",
       "        text-align: right;\n",
       "    }\n",
       "</style>\n",
       "<table border=\"1\" class=\"dataframe\">\n",
       "  <thead>\n",
       "    <tr style=\"text-align: right;\">\n",
       "      <th></th>\n",
       "      <th>datetime</th>\n",
       "      <th>arrivals</th>\n",
       "      <th>departures</th>\n",
       "      <th>occupancy</th>\n",
       "      <th>dow_name</th>\n",
       "      <th>bin_of_day_str</th>\n",
       "      <th>day_of_week</th>\n",
       "      <th>bin_of_day</th>\n",
       "      <th>bin_of_week</th>\n",
       "    </tr>\n",
       "  </thead>\n",
       "  <tbody>\n",
       "    <tr>\n",
       "      <th>0</th>\n",
       "      <td>2024-01-02 00:00:00</td>\n",
       "      <td>0.0</td>\n",
       "      <td>0.0</td>\n",
       "      <td>1.000000</td>\n",
       "      <td>Tue</td>\n",
       "      <td>00:00</td>\n",
       "      <td>1</td>\n",
       "      <td>0</td>\n",
       "      <td>24</td>\n",
       "    </tr>\n",
       "    <tr>\n",
       "      <th>1</th>\n",
       "      <td>2024-01-02 01:00:00</td>\n",
       "      <td>0.0</td>\n",
       "      <td>1.0</td>\n",
       "      <td>0.883333</td>\n",
       "      <td>Tue</td>\n",
       "      <td>01:00</td>\n",
       "      <td>1</td>\n",
       "      <td>1</td>\n",
       "      <td>25</td>\n",
       "    </tr>\n",
       "    <tr>\n",
       "      <th>2</th>\n",
       "      <td>2024-01-02 02:00:00</td>\n",
       "      <td>0.0</td>\n",
       "      <td>0.0</td>\n",
       "      <td>0.000000</td>\n",
       "      <td>Tue</td>\n",
       "      <td>02:00</td>\n",
       "      <td>1</td>\n",
       "      <td>2</td>\n",
       "      <td>26</td>\n",
       "    </tr>\n",
       "  </tbody>\n",
       "</table>\n",
       "</div>"
      ],
      "text/plain": [
       "              datetime  arrivals  departures  occupancy dow_name  \\\n",
       "0  2024-01-02 00:00:00       0.0         0.0   1.000000      Tue   \n",
       "1  2024-01-02 01:00:00       0.0         1.0   0.883333      Tue   \n",
       "2  2024-01-02 02:00:00       0.0         0.0   0.000000      Tue   \n",
       "\n",
       "  bin_of_day_str  day_of_week  bin_of_day  bin_of_week  \n",
       "0          00:00            1           0           24  \n",
       "1          01:00            1           1           25  \n",
       "2          02:00            1           2           26  "
      ]
     },
     "execution_count": 4,
     "metadata": {},
     "output_type": "execute_result"
    }
   ],
   "source": [
    "bydatetime_df.head(3)"
   ]
  },
  {
   "cell_type": "markdown",
   "id": "5f94fe78-6a86-4a33-aa2e-69a087ecf38d",
   "metadata": {},
   "source": [
    "We see that:\n",
    "\n",
    "- there is one patient in the system from 12a-1a. This patient arrived on 2024-01-01 and had not yet been discharged as of midnight on 2024-01-02. \n",
    "- between 1a-2a (at 01:53), this patient was discharged. The occupancy value of 0.883333 for the 1a-2a time bin means that the patient was discharged after spending approximately $88\\%$ ($53/60$ minutes) of the 1a-2a period in the SSU. "
   ]
  },
  {
   "cell_type": "markdown",
   "id": "978fce27-24ab-45c7-b000-799afa001937",
   "metadata": {},
   "source": [
    "Similarly, those patients who arrive during the analysis date range but are discharged after the end date, are included by hillmaker for the time spent in the system duing the analysis date range."
   ]
  },
  {
   "cell_type": "markdown",
   "id": "43bd7854-2ca8-4e1f-a4df-0d55ed115e08",
   "metadata": {
    "tags": []
   },
   "source": [
    "## Using different bin sizes for bydatetime and summary dataframes\n",
    "\n",
    "By default, whatever you specify for the `bin_size_minutes` parameter (default is 60 minutes) is the resolution at which the `bydatetime` table is created. However, if for some reason you want to create (and save) a version of the `bydatetime` table with smaller time bin sizes, you can do it. \n",
    "\n",
    "There is a `highres_bin_size_minutes` parameter that you can set to a smaller value than `bin_size_minutes` if you would like to compute occupancy in the bydatetime table at a finer resolution but still want to report aggregate statistics using `bin_size_minutes`. For example, you could set `highres_bin_size_minutes=10` but keep `bin_size_minutes=60`. Using the default settings in hillmaker (see next section), this will **NOT** affect the aggregate statistics. However, it allows you to create a separate version of the bydatetime table at this higher resolution for further analysis. In order to save the high resolution version, set `keep_highres_bydatetime=True`.\n",
    "\n"
   ]
  },
  {
   "cell_type": "markdown",
   "id": "cc2b75e7-e5af-4e4d-b461-66496fa61ffe",
   "metadata": {},
   "source": [
    "## The `edge_bins` parameter and its impact on occupancy calculations\n",
    "\n",
    "Since hillmaker's earliest days, it has always been possible to treat the arrival and departure bins in two different ways. The default behavior, `edge_bins=1`, uses the method described in this notebook in which a fractional occupancy contribution is computed based on the fraction of time the entity was in the system during the arrival and departure bins. However, if you really want to give the \"full credit\" for occupancy during the arrival and departure bins (i.e. use a value of $1.0$ instead of the fraction of the bin occupied, you can set `edge_bins=2`.\n",
    "\n"
   ]
  },
  {
   "cell_type": "markdown",
   "id": "5ab91884-0c64-478e-bd2a-9489ed8944bd",
   "metadata": {},
   "source": [
    "```{warning}\n",
    "Using `edge_bins=2` with coarse time bins and short lengths of stay can lead to dramatic overestimates of occupancy. \n",
    "```"
   ]
  },
  {
   "cell_type": "markdown",
   "id": "98bd0040-d23e-45fd-a465-053e4a1f7e8b",
   "metadata": {},
   "source": [
    "If you do use `edge_bins=2` for some reason, you should consider setting the `highres_bin_size_minutes` to a small value to mitigate overestimating occupancy. Quite honestly, we've really only kept this option around for research purposes."
   ]
  },
  {
   "cell_type": "code",
   "execution_count": null,
   "id": "0f291b5c-4cfd-4987-afbb-cf1ffef4753d",
   "metadata": {},
   "outputs": [],
   "source": []
  }
 ],
 "metadata": {
  "kernelspec": {
   "display_name": "Python 3 (ipykernel)",
   "language": "python",
   "name": "python3"
  },
  "language_info": {
   "codemirror_mode": {
    "name": "ipython",
    "version": 3
   },
   "file_extension": ".py",
   "mimetype": "text/x-python",
   "name": "python",
   "nbconvert_exporter": "python",
   "pygments_lexer": "ipython3",
   "version": "3.10.9"
  }
 },
 "nbformat": 4,
 "nbformat_minor": 5
}
