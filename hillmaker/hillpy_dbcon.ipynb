{
 "metadata": {
  "name": "",
  "signature": "sha256:d2eae594fa296abb9c305cb9022d5e656ecc21669a5f2968e0e66a6da80aca4b"
 },
 "nbformat": 3,
 "nbformat_minor": 0,
 "worksheets": [
  {
   "cells": [
    {
     "cell_type": "markdown",
     "metadata": {},
     "source": [
      "Loading pandas dataframes from Access, Excel and SQL Server\n",
      "============================================================"
     ]
    },
    {
     "cell_type": "markdown",
     "metadata": {},
     "source": [
      "Exploration of connecting to various databases to get a source of stop data for a hillmaker run."
     ]
    },
    {
     "cell_type": "code",
     "collapsed": false,
     "input": [
      "import pandas as pd\n",
      "import pandas.io.sql as sql"
     ],
     "language": "python",
     "metadata": {},
     "outputs": [],
     "prompt_number": 8
    },
    {
     "cell_type": "markdown",
     "metadata": {},
     "source": [
      "To interact with Microsoft datasources via ADO, we can use the [adodbapi package](http://adodbapi.sourceforge.net/). It's included as part of the pywin32 package. Or we can use the pyodbc package."
     ]
    },
    {
     "cell_type": "code",
     "collapsed": false,
     "input": [
      "import pyodbc # Big F'n nightmare due to 32bit Python and 64bit Windows (with Office 32 bit)"
     ],
     "language": "python",
     "metadata": {},
     "outputs": [],
     "prompt_number": 2
    },
    {
     "cell_type": "markdown",
     "metadata": {},
     "source": [
      "The error above is evil and is due to fact I've got 32bit Python running on 64bit Windows machine. Even though, as shown below, the Excel and Access drivers appear to be present, they don't work for a 32bit Python app. See [http://robertoschiabel.wordpress.com/2008/02/28/windows-x64-32bit-odbc-vs-64bit-odbc/](http://robertoschiabel.wordpress.com/2008/02/28/windows-x64-32bit-odbc-vs-64bit-odbc/).\n",
      "\n",
      "Seems like a royal pain to deal with this for a package I want to be easily usable by others. Let's try pywin32 and the adodbapi package."
     ]
    },
    {
     "cell_type": "code",
     "collapsed": false,
     "input": [
      "sources = pyodbc.dataSources()\n",
      "dsns = sources.keys()\n",
      "#dsns.sort()\n",
      "sl = []\n",
      "for dsn in dsns:\n",
      "    sl.append('%s [%s]' % (dsn, sources[dsn]))\n",
      "print('\\n'.join(sl))"
     ],
     "language": "python",
     "metadata": {},
     "outputs": [
      {
       "output_type": "stream",
       "stream": "stdout",
       "text": [
        "Excel Files [Microsoft Excel Driver (*.xls, *.xlsx, *.xlsm, *.xlsb)]\n",
        "MS Access Database [Microsoft Access Driver (*.mdb, *.accdb)]\n"
       ]
      }
     ],
     "prompt_number": 28
    },
    {
     "cell_type": "markdown",
     "metadata": {},
     "source": [
      "Installing pywin32 and adodbapi\n",
      "-------------------------------\n",
      "\n",
      "I did a \n",
      "\n",
      "    conda install pywin32\n",
      "    \n",
      "to install pywin32 into my Anaconda environment. You get adodbapi for free. Well, kinda. When you try to import adodbapi you get an error complaining that adodbapi.apibase doesn't exists. That's because it doesn't. See [https://mail.python.org/pipermail/python-win32/2014-May/013196.html](https://mail.python.org/pipermail/python-win32/2014-May/013196.html). The fix for now is to upgrade adodbapi yourself. I'm sure the next pywin32 release will have the right adodbapi in it.\n",
      "\n",
      "    pip install adodbapi --upgrade\n",
      "    \n",
      "After that, all was good.\n",
      "\n"
     ]
    },
    {
     "cell_type": "code",
     "collapsed": false,
     "input": [
      "import adodbapi"
     ],
     "language": "python",
     "metadata": {},
     "outputs": [],
     "prompt_number": 4
    },
    {
     "cell_type": "markdown",
     "metadata": {},
     "source": [
      "Access MDB files\n",
      "----------------"
     ]
    },
    {
     "cell_type": "code",
     "collapsed": false,
     "input": [
      "file_stopdata_mdb = 'data\\\\ShortStay.mdb'\n",
      "stoptable_mdb = 'tblShortStay'\n",
      "infield_mdb = 'InTime'\n",
      "outfield_mdb = 'OutTime'\n",
      "catfield_mdb = 'PatType'\n",
      "conn_str_mdb = 'Provider=Microsoft.Jet.OLEDB.4.0;Data Source={}'.format(file_stopdata_mdb)"
     ],
     "language": "python",
     "metadata": {},
     "outputs": [],
     "prompt_number": 1
    },
    {
     "cell_type": "code",
     "collapsed": false,
     "input": [
      "conn_str_mdb"
     ],
     "language": "python",
     "metadata": {},
     "outputs": [
      {
       "metadata": {},
       "output_type": "pyout",
       "prompt_number": 12,
       "text": [
        "'Provider=Microsoft.Jet.OLEDB.4.0;Data Source=data\\\\SampleData.mdb'"
       ]
      }
     ],
     "prompt_number": 12
    },
    {
     "cell_type": "code",
     "collapsed": false,
     "input": [
      "#cn_mdb = pyodbc.connect(conn_str_mdb)\n",
      "cn_mdb = adodbapi.connect(conn_str_mdb)\n",
      "field_list_mdb = \",\".join([infield_mdb,outfield_mdb,catfield_mdb])\n",
      "sql_stmt_mdb = 'select {} from {}'.format(field_list_mdb,stoptable_mdb)\n",
      "df_mdb = sql.read_sql(sql_stmt_mdb, cn_mdb)"
     ],
     "language": "python",
     "metadata": {},
     "outputs": [],
     "prompt_number": 13
    },
    {
     "cell_type": "code",
     "collapsed": false,
     "input": [
      "df_mdb.head()"
     ],
     "language": "python",
     "metadata": {},
     "outputs": [
      {
       "html": [
        "<div style=\"max-height:1000px;max-width:1500px;overflow:auto;\">\n",
        "<table border=\"1\" class=\"dataframe\">\n",
        "  <thead>\n",
        "    <tr style=\"text-align: right;\">\n",
        "      <th></th>\n",
        "      <th>InTime</th>\n",
        "      <th>OutTime</th>\n",
        "      <th>PatType</th>\n",
        "    </tr>\n",
        "  </thead>\n",
        "  <tbody>\n",
        "    <tr>\n",
        "      <th>0</th>\n",
        "      <td>1996-07-02 12:15:00</td>\n",
        "      <td>1996-07-02 12:55:00</td>\n",
        "      <td> IVT</td>\n",
        "    </tr>\n",
        "    <tr>\n",
        "      <th>1</th>\n",
        "      <td>1996-07-02 09:37:45</td>\n",
        "      <td>1996-07-02 11:20:00</td>\n",
        "      <td> ART</td>\n",
        "    </tr>\n",
        "    <tr>\n",
        "      <th>2</th>\n",
        "      <td>1996-07-02 11:46:00</td>\n",
        "      <td>1996-07-02 12:23:00</td>\n",
        "      <td> IVT</td>\n",
        "    </tr>\n",
        "    <tr>\n",
        "      <th>3</th>\n",
        "      <td>1996-07-02 12:30:00</td>\n",
        "      <td>1996-07-02 13:20:00</td>\n",
        "      <td> IVT</td>\n",
        "    </tr>\n",
        "    <tr>\n",
        "      <th>4</th>\n",
        "      <td>1996-07-02 10:41:18</td>\n",
        "      <td>1996-07-02 12:25:00</td>\n",
        "      <td> ART</td>\n",
        "    </tr>\n",
        "  </tbody>\n",
        "</table>\n",
        "</div>"
       ],
       "metadata": {},
       "output_type": "pyout",
       "prompt_number": 14,
       "text": [
        "               InTime             OutTime PatType\n",
        "0 1996-07-02 12:15:00 1996-07-02 12:55:00     IVT\n",
        "1 1996-07-02 09:37:45 1996-07-02 11:20:00     ART\n",
        "2 1996-07-02 11:46:00 1996-07-02 12:23:00     IVT\n",
        "3 1996-07-02 12:30:00 1996-07-02 13:20:00     IVT\n",
        "4 1996-07-02 10:41:18 1996-07-02 12:25:00     ART"
       ]
      }
     ],
     "prompt_number": 14
    },
    {
     "cell_type": "markdown",
     "metadata": {},
     "source": [
      "Access ACCDB files\n",
      "------------------"
     ]
    },
    {
     "cell_type": "code",
     "collapsed": false,
     "input": [
      "file_stopdata_accdb = 'data\\\\ShortStay.accdb'\n",
      "stoptable_accdb = 'tblShortStay'\n",
      "infield_accdb = 'InTime'\n",
      "outfield_accdb = 'OutTime'\n",
      "catfield_accdb = 'PatType'\n",
      "conn_str_accdb = 'Provider=Microsoft.ACE.OLEDB.12.0;Data Source={}'.format(file_stopdata_accdb)\n"
     ],
     "language": "python",
     "metadata": {},
     "outputs": [],
     "prompt_number": 30
    },
    {
     "cell_type": "code",
     "collapsed": false,
     "input": [
      "cn_accdb = adodbapi.connect(conn_str_accdb)\n",
      "field_list_accdb = \",\".join([infield_accdb,outfield_accdb,catfield_accdb])\n",
      "sql_stmt_accdb = 'select {} from {}'.format(field_list_accdb,stoptable_accdb)\n",
      "df_accdb = sql.read_sql(sql_stmt_accdb, cn_accdb)"
     ],
     "language": "python",
     "metadata": {},
     "outputs": [],
     "prompt_number": 33
    },
    {
     "cell_type": "markdown",
     "metadata": {},
     "source": [
      "I had all kinds of trouble getting the above to work. Python adodbapi kept complaining that the Microsoft.ACE.OLEDB.12.0 could not be found. Googling led to:\n",
      "\n",
      "[https://www.connectionstrings.com/the-microsoft-ace-oledb-12-0-provider-is-not-registered-on-the-local-machine/](https://www.connectionstrings.com/the-microsoft-ace-oledb-12-0-provider-is-not-registered-on-the-local-machine/)\n",
      "\n",
      "which then led to this download from Microsoft:\n",
      "\n",
      "[http://www.microsoft.com/en-us/download/confirmation.aspx?id=23734](http://www.microsoft.com/en-us/download/confirmation.aspx?id=23734)\n",
      "\n",
      "After running the downloaded **AccessDatabaseEngine.exe** file, I was able to connect to an Office 2013 accdb file. "
     ]
    },
    {
     "cell_type": "code",
     "collapsed": false,
     "input": [
      "df_accdb.head()"
     ],
     "language": "python",
     "metadata": {},
     "outputs": [
      {
       "html": [
        "<div style=\"max-height:1000px;max-width:1500px;overflow:auto;\">\n",
        "<table border=\"1\" class=\"dataframe\">\n",
        "  <thead>\n",
        "    <tr style=\"text-align: right;\">\n",
        "      <th></th>\n",
        "      <th>ExamStart</th>\n",
        "      <th>CycleEnd</th>\n",
        "      <th>Imaging_Type</th>\n",
        "    </tr>\n",
        "  </thead>\n",
        "  <tbody>\n",
        "    <tr>\n",
        "      <th>0</th>\n",
        "      <td>2012-10-23 10:12:00</td>\n",
        "      <td>2012-10-23 10:19:00</td>\n",
        "      <td> RA</td>\n",
        "    </tr>\n",
        "    <tr>\n",
        "      <th>1</th>\n",
        "      <td>2012-10-09 09:04:00</td>\n",
        "      <td>2012-10-09 09:35:00</td>\n",
        "      <td> US</td>\n",
        "    </tr>\n",
        "    <tr>\n",
        "      <th>2</th>\n",
        "      <td>2012-11-07 13:56:00</td>\n",
        "      <td>2012-11-07 14:03:00</td>\n",
        "      <td> RA</td>\n",
        "    </tr>\n",
        "    <tr>\n",
        "      <th>3</th>\n",
        "      <td>2012-12-03 13:37:00</td>\n",
        "      <td>2012-12-03 14:08:00</td>\n",
        "      <td> US</td>\n",
        "    </tr>\n",
        "    <tr>\n",
        "      <th>4</th>\n",
        "      <td>2012-11-27 11:22:00</td>\n",
        "      <td>2012-11-27 11:29:00</td>\n",
        "      <td> RA</td>\n",
        "    </tr>\n",
        "  </tbody>\n",
        "</table>\n",
        "</div>"
       ],
       "metadata": {},
       "output_type": "pyout",
       "prompt_number": 32,
       "text": [
        "            ExamStart            CycleEnd Imaging_Type\n",
        "0 2012-10-23 10:12:00 2012-10-23 10:19:00           RA\n",
        "1 2012-10-09 09:04:00 2012-10-09 09:35:00           US\n",
        "2 2012-11-07 13:56:00 2012-11-07 14:03:00           RA\n",
        "3 2012-12-03 13:37:00 2012-12-03 14:08:00           US\n",
        "4 2012-11-27 11:22:00 2012-11-27 11:29:00           RA"
       ]
      }
     ],
     "prompt_number": 32
    },
    {
     "cell_type": "markdown",
     "metadata": {},
     "source": [
      "Excel XLSX files\n",
      "----------------"
     ]
    },
    {
     "cell_type": "code",
     "collapsed": false,
     "input": [
      "file_stopdata_xlsx = 'data/ShortStay.xlsx'\n",
      "stoptable_xlsx = 'ShortStay' # Sheet name\n",
      "infield_xlsx = 'InTimeTS'\n",
      "outfield_xlsx = 'OutTimeTS'\n",
      "catfield_xlsx = 'PatType'\n",
      "conn_str_xlsx = \"Provider=Microsoft.ACE.OLEDB.12.0;Data Source='data/SampleData.xlsx';Extended Properties='Excel 12.0 Xml;HDR=YES';\"\n"
     ],
     "language": "python",
     "metadata": {},
     "outputs": [],
     "prompt_number": 18
    },
    {
     "cell_type": "markdown",
     "metadata": {},
     "source": [
      "For Excel, we'll use the pandas `ExcelFile` class to load data from an Excel file into a `DataFrame`."
     ]
    },
    {
     "cell_type": "code",
     "collapsed": false,
     "input": [
      "xlsx = pd.ExcelFile(file_stopdata_xlsx)\n",
      "df_xlsx = xlsx.parse(stoptable_xlsx)"
     ],
     "language": "python",
     "metadata": {},
     "outputs": [],
     "prompt_number": 19
    },
    {
     "cell_type": "code",
     "collapsed": false,
     "input": [
      "df_xlsx.head()"
     ],
     "language": "python",
     "metadata": {},
     "outputs": [
      {
       "html": [
        "<div style=\"max-height:1000px;max-width:1500px;overflow:auto;\">\n",
        "<table border=\"1\" class=\"dataframe\">\n",
        "  <thead>\n",
        "    <tr style=\"text-align: right;\">\n",
        "      <th></th>\n",
        "      <th>PatID</th>\n",
        "      <th>InRoomTS</th>\n",
        "      <th>OutRoomTS</th>\n",
        "      <th>PatType</th>\n",
        "    </tr>\n",
        "  </thead>\n",
        "  <tbody>\n",
        "    <tr>\n",
        "      <th>0</th>\n",
        "      <td> 1</td>\n",
        "      <td>1996-01-01 07:44:00</td>\n",
        "      <td>1996-01-01 08:50:00</td>\n",
        "      <td> IVT</td>\n",
        "    </tr>\n",
        "    <tr>\n",
        "      <th>1</th>\n",
        "      <td> 2</td>\n",
        "      <td>1996-01-01 08:28:00</td>\n",
        "      <td>1996-01-01 09:20:00</td>\n",
        "      <td> IVT</td>\n",
        "    </tr>\n",
        "    <tr>\n",
        "      <th>2</th>\n",
        "      <td> 3</td>\n",
        "      <td>1996-01-01 11:44:00</td>\n",
        "      <td>1996-01-01 13:30:00</td>\n",
        "      <td> MYE</td>\n",
        "    </tr>\n",
        "    <tr>\n",
        "      <th>3</th>\n",
        "      <td> 4</td>\n",
        "      <td>1996-01-01 11:51:00</td>\n",
        "      <td>1996-01-01 12:55:00</td>\n",
        "      <td> CAT</td>\n",
        "    </tr>\n",
        "    <tr>\n",
        "      <th>4</th>\n",
        "      <td> 5</td>\n",
        "      <td>1996-01-01 12:10:00</td>\n",
        "      <td>1996-01-01 13:00:00</td>\n",
        "      <td> IVT</td>\n",
        "    </tr>\n",
        "  </tbody>\n",
        "</table>\n",
        "</div>"
       ],
       "metadata": {},
       "output_type": "pyout",
       "prompt_number": 20,
       "text": [
        "   PatID            InRoomTS           OutRoomTS PatType\n",
        "0      1 1996-01-01 07:44:00 1996-01-01 08:50:00     IVT\n",
        "1      2 1996-01-01 08:28:00 1996-01-01 09:20:00     IVT\n",
        "2      3 1996-01-01 11:44:00 1996-01-01 13:30:00     MYE\n",
        "3      4 1996-01-01 11:51:00 1996-01-01 12:55:00     CAT\n",
        "4      5 1996-01-01 12:10:00 1996-01-01 13:00:00     IVT"
       ]
      }
     ],
     "prompt_number": 20
    },
    {
     "cell_type": "markdown",
     "metadata": {},
     "source": [
      "SQL Server\n",
      "----------"
     ]
    },
    {
     "cell_type": "code",
     "collapsed": false,
     "input": [
      "server = 'sql-dev.improvementpath.com\\sqlserver_2008r2'\n",
      "database = 'Mark_Isken_Sandbox'\n",
      "stoptable_sqlserver = 'dbo.tblShortStay'\n",
      "infield_sqlserver = 'InTime'\n",
      "outfield_sqlserver = 'OutTime'\n",
      "catfield_sqlserver = 'PatType'\n",
      "conn_str_sqlserver = 'Provider=SQLOLEDB;Server={};Database={};Trusted_Connection=yes;'.format(server,database)\n",
      "conn_str_sqlserver"
     ],
     "language": "python",
     "metadata": {},
     "outputs": [
      {
       "metadata": {},
       "output_type": "pyout",
       "prompt_number": 11,
       "text": [
        "'Provider=SQLOLEDB;Server=sql-dev.improvementpath.com\\\\sqlserver_2008r2;Database=Mark_Isken_Sandbox;Trusted_Connection=yes;'"
       ]
      }
     ],
     "prompt_number": 11
    },
    {
     "cell_type": "code",
     "collapsed": false,
     "input": [
      "cn_sqlserver = adodbapi.connect(conn_str_sqlserver)\n",
      "field_list_sqlserver = \",\".join([infield_sqlserver,outfield_sqlserver,catfield_sqlserver])\n",
      "sql_stmt_sqlserver = 'select {} from {}'.format(field_list_sqlserver,stoptable_sqlserver)\n",
      "df_sqlserver = sql.read_sql(sql_stmt_sqlserver, cn_sqlserver)"
     ],
     "language": "python",
     "metadata": {},
     "outputs": [],
     "prompt_number": 9
    },
    {
     "cell_type": "code",
     "collapsed": false,
     "input": [
      "df_sqlserver.head()"
     ],
     "language": "python",
     "metadata": {},
     "outputs": [
      {
       "html": [
        "<div style=\"max-height:1000px;max-width:1500px;overflow:auto;\">\n",
        "<table border=\"1\" class=\"dataframe\">\n",
        "  <thead>\n",
        "    <tr style=\"text-align: right;\">\n",
        "      <th></th>\n",
        "      <th>InTime</th>\n",
        "      <th>OutTime</th>\n",
        "      <th>PatType</th>\n",
        "    </tr>\n",
        "  </thead>\n",
        "  <tbody>\n",
        "    <tr>\n",
        "      <th>0</th>\n",
        "      <td>1996-07-02 12:15:00</td>\n",
        "      <td>1996-07-02 12:55:00</td>\n",
        "      <td> IVT</td>\n",
        "    </tr>\n",
        "    <tr>\n",
        "      <th>1</th>\n",
        "      <td>1996-07-02 09:37:45</td>\n",
        "      <td>1996-07-02 11:20:00</td>\n",
        "      <td> ART</td>\n",
        "    </tr>\n",
        "    <tr>\n",
        "      <th>2</th>\n",
        "      <td>1996-07-02 11:46:00</td>\n",
        "      <td>1996-07-02 12:23:00</td>\n",
        "      <td> IVT</td>\n",
        "    </tr>\n",
        "    <tr>\n",
        "      <th>3</th>\n",
        "      <td>1996-07-02 12:30:00</td>\n",
        "      <td>1996-07-02 13:20:00</td>\n",
        "      <td> IVT</td>\n",
        "    </tr>\n",
        "    <tr>\n",
        "      <th>4</th>\n",
        "      <td>1996-07-02 10:41:18</td>\n",
        "      <td>1996-07-02 12:25:00</td>\n",
        "      <td> ART</td>\n",
        "    </tr>\n",
        "  </tbody>\n",
        "</table>\n",
        "</div>"
       ],
       "metadata": {},
       "output_type": "pyout",
       "prompt_number": 10,
       "text": [
        "               InTime             OutTime PatType\n",
        "0 1996-07-02 12:15:00 1996-07-02 12:55:00     IVT\n",
        "1 1996-07-02 09:37:45 1996-07-02 11:20:00     ART\n",
        "2 1996-07-02 11:46:00 1996-07-02 12:23:00     IVT\n",
        "3 1996-07-02 12:30:00 1996-07-02 13:20:00     IVT\n",
        "4 1996-07-02 10:41:18 1996-07-02 12:25:00     ART"
       ]
      }
     ],
     "prompt_number": 10
    },
    {
     "cell_type": "code",
     "collapsed": false,
     "input": [],
     "language": "python",
     "metadata": {},
     "outputs": []
    }
   ],
   "metadata": {}
  }
 ]
}