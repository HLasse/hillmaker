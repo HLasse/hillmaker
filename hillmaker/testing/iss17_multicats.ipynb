{
 "cells": [
  {
   "cell_type": "code",
   "execution_count": 1,
   "metadata": {
    "collapsed": true
   },
   "outputs": [],
   "source": [
    "import pandas as pd\n",
    "import hillmaker as hm\n",
    "from pandas import DataFrame\n",
    "from pandas import Timestamp\n",
    "from datetime import datetime\n",
    "from datetime import timedelta\n",
    "from pandas.tseries.offsets import Minute"
   ]
  },
  {
   "cell_type": "code",
   "execution_count": 2,
   "metadata": {
    "collapsed": true
   },
   "outputs": [],
   "source": [
    "import itertools"
   ]
  },
  {
   "cell_type": "code",
   "execution_count": 3,
   "metadata": {
    "collapsed": true
   },
   "outputs": [],
   "source": [
    "from hillmaker import bydatetime"
   ]
  },
  {
   "cell_type": "code",
   "execution_count": 4,
   "metadata": {
    "collapsed": true
   },
   "outputs": [
    {
     "name": "stdout",
     "output_type": "stream",
     "text": [
      "Help on function make_bydatetime in module hillmaker.bydatetime:\n",
      "\n",
      "make_bydatetime(stops_df, infield, outfield, start_analysis, end_analysis, catfield, total_str='Total', bin_size_minutes=60, cat_to_exclude=None, totals=True, verbose=0)\n",
      "    Create bydatetime table based on user inputs.\n",
      "    \n",
      "    This is the table from which summary statistics can be computed.\n",
      "    \n",
      "    Parameters\n",
      "    ----------\n",
      "    stops_df: DataFrame\n",
      "        Stop data\n",
      "    \n",
      "    infield: string\n",
      "        Name of column in stops_df to use as arrival datetime\n",
      "    \n",
      "    outfield: string\n",
      "        Name of column in stops_df to use as departure datetime\n",
      "    \n",
      "    start_analysis: datetime\n",
      "        Start date for the analysis\n",
      "    \n",
      "    end_analysis: datetime\n",
      "        End date for the analysis\n",
      "    \n",
      "    catfield : string or List of strings, optional\n",
      "        Column name(s) corresponding to the categories. If none is specified, then only overall occupancy is analyzed.\n",
      "    \n",
      "    total_str: string, default 'Total'\n",
      "        Value to use for the totals\n",
      "    \n",
      "    bin_size_minutes: int, default 60\n",
      "        Bin size in minutes. Should divide evenly into 1440.\n",
      "    \n",
      "    cat_to_exclude: list of str, default None\n",
      "        Categories to ignore\n",
      "    \n",
      "    totals: bool, default True\n",
      "        If true, overall totals are computed. Else, just category specific values computed.\n",
      "    \n",
      "    verbose : int, default 0\n",
      "        The verbosity level. The default, zero, means silent mode.\n",
      "    \n",
      "    Returns\n",
      "    -------\n",
      "    DataFrame\n",
      "       Occupancy, arrivals, departures by category by datetime bin\n",
      "    \n",
      "    Examples\n",
      "    --------\n",
      "    bydt_df = make_bydatetime(stops_df,'InTime','OutTime',\n",
      "    ...                        datetime(2014, 3, 1),datetime(2014, 6, 30),'PatientType','Total',60)\n",
      "    \n",
      "    \n",
      "    TODO\n",
      "    ----\n",
      "    \n",
      "    - add parameter and code to handle occ frac choice\n",
      "    - generalize to handle choice of arr, dep, occ or some combo of\n",
      "    \n",
      "     Notes\n",
      "    -----\n",
      "    \n",
      "    \n",
      "    References\n",
      "    ----------\n",
      "    \n",
      "    \n",
      "    See Also\n",
      "    --------\n",
      "\n"
     ]
    }
   ],
   "source": [
    "help(bydatetime.make_bydatetime)"
   ]
  },
  {
   "cell_type": "code",
   "execution_count": 4,
   "metadata": {
    "collapsed": true
   },
   "outputs": [],
   "source": [
    "file_stopdata = '../data/ShortStay2.csv'\n",
    "\n",
    "scenario = 'iss17_test1'\n",
    "in_fld_name = 'InRoomTS'\n",
    "out_fld_name = 'OutRoomTS'\n",
    "cat_fld_name = 'PatType'\n",
    "start_analysis_dt = '1/1/1996'\n",
    "end_analysis_dt = '3/30/1996 23:45'\n",
    "\n",
    "# Optional inputs\n",
    "tot_fld_name = 'SSU'\n",
    "bin_size_minutes = 60"
   ]
  },
  {
   "cell_type": "code",
   "execution_count": 5,
   "metadata": {
    "collapsed": false
   },
   "outputs": [],
   "source": [
    "stops_df = pd.read_csv(file_stopdata, parse_dates=[in_fld_name, out_fld_name])"
   ]
  },
  {
   "cell_type": "code",
   "execution_count": 6,
   "metadata": {
    "collapsed": false
   },
   "outputs": [
    {
     "data": {
      "text/html": [
       "<div>\n",
       "<table border=\"1\" class=\"dataframe\">\n",
       "  <thead>\n",
       "    <tr style=\"text-align: right;\">\n",
       "      <th></th>\n",
       "      <th>PatID</th>\n",
       "      <th>InRoomTS</th>\n",
       "      <th>OutRoomTS</th>\n",
       "      <th>PatType</th>\n",
       "      <th>Severity</th>\n",
       "    </tr>\n",
       "  </thead>\n",
       "  <tbody>\n",
       "    <tr>\n",
       "      <th>59873</th>\n",
       "      <td>59874</td>\n",
       "      <td>1996-09-30 20:23:00</td>\n",
       "      <td>1996-09-30 21:30:00</td>\n",
       "      <td>IVT</td>\n",
       "      <td>2</td>\n",
       "    </tr>\n",
       "    <tr>\n",
       "      <th>59874</th>\n",
       "      <td>59875</td>\n",
       "      <td>1996-09-30 21:00:00</td>\n",
       "      <td>1996-09-30 22:45:00</td>\n",
       "      <td>CAT</td>\n",
       "      <td>1</td>\n",
       "    </tr>\n",
       "    <tr>\n",
       "      <th>59875</th>\n",
       "      <td>59876</td>\n",
       "      <td>1996-09-30 21:57:00</td>\n",
       "      <td>1996-09-30 22:40:00</td>\n",
       "      <td>IVT</td>\n",
       "      <td>2</td>\n",
       "    </tr>\n",
       "    <tr>\n",
       "      <th>59876</th>\n",
       "      <td>59877</td>\n",
       "      <td>1996-09-30 22:45:00</td>\n",
       "      <td>1996-09-30 23:35:00</td>\n",
       "      <td>CAT</td>\n",
       "      <td>1</td>\n",
       "    </tr>\n",
       "  </tbody>\n",
       "</table>\n",
       "</div>"
      ],
      "text/plain": [
       "       PatID            InRoomTS           OutRoomTS PatType  Severity\n",
       "59873  59874 1996-09-30 20:23:00 1996-09-30 21:30:00     IVT         2\n",
       "59874  59875 1996-09-30 21:00:00 1996-09-30 22:45:00     CAT         1\n",
       "59875  59876 1996-09-30 21:57:00 1996-09-30 22:40:00     IVT         2\n",
       "59876  59877 1996-09-30 22:45:00 1996-09-30 23:35:00     CAT         1"
      ]
     },
     "execution_count": 6,
     "metadata": {},
     "output_type": "execute_result"
    }
   ],
   "source": [
    "stops_df.tail(4)"
   ]
  },
  {
   "cell_type": "code",
   "execution_count": 21,
   "metadata": {
    "collapsed": true
   },
   "outputs": [],
   "source": [
    "rng_bydt = pd.date_range(start_analysis_dt, end_analysis_dt, freq=Minute(bin_size_minutes))"
   ]
  },
  {
   "cell_type": "code",
   "execution_count": 22,
   "metadata": {
    "collapsed": false
   },
   "outputs": [
    {
     "data": {
      "text/plain": [
       "2160"
      ]
     },
     "execution_count": 22,
     "metadata": {},
     "output_type": "execute_result"
    }
   ],
   "source": [
    "len(rng_bydt)"
   ]
  },
  {
   "cell_type": "code",
   "execution_count": 26,
   "metadata": {
    "collapsed": false
   },
   "outputs": [
    {
     "data": {
      "text/plain": [
       "0   1996-01-01 00:00:00\n",
       "1   1996-01-01 01:00:00\n",
       "2   1996-01-01 02:00:00\n",
       "3   1996-01-01 03:00:00\n",
       "4   1996-01-01 04:00:00\n",
       "dtype: datetime64[ns]"
      ]
     },
     "execution_count": 26,
     "metadata": {},
     "output_type": "execute_result"
    }
   ],
   "source": [
    "pd.Series(rng_bydt).head()"
   ]
  },
  {
   "cell_type": "code",
   "execution_count": 9,
   "metadata": {
    "collapsed": true
   },
   "outputs": [],
   "source": [
    "catfield = ['PatType','Severity']"
   ]
  },
  {
   "cell_type": "code",
   "execution_count": 10,
   "metadata": {
    "collapsed": false
   },
   "outputs": [
    {
     "data": {
      "text/plain": [
       "'Severity'"
      ]
     },
     "execution_count": 10,
     "metadata": {},
     "output_type": "execute_result"
    }
   ],
   "source": [
    "catfield[1]"
   ]
  },
  {
   "cell_type": "code",
   "execution_count": 11,
   "metadata": {
    "collapsed": false
   },
   "outputs": [],
   "source": [
    "categories = []\n",
    "cat_to_exclude = [[],[]]\n",
    "if cat_to_exclude is not None:\n",
    "        for i in range(len(catfield)):\n",
    "            categories.append(tuple([c for c in stops_df[catfield[i]].unique() if c not in cat_to_exclude[i]]))\n",
    "else:\n",
    "        for i in range(len(catfield)):\n",
    "            categories.append(tuple([c for c in stops_df[catfield[i]].unique()]))\n"
   ]
  },
  {
   "cell_type": "code",
   "execution_count": 13,
   "metadata": {
    "collapsed": false
   },
   "outputs": [
    {
     "data": {
      "text/plain": [
       "[('IVT', 'MYE', 'CAT', 'ART', 'OTH'), (1, 2)]"
      ]
     },
     "execution_count": 13,
     "metadata": {},
     "output_type": "execute_result"
    }
   ],
   "source": [
    "categories"
   ]
  },
  {
   "cell_type": "code",
   "execution_count": 28,
   "metadata": {
    "collapsed": false
   },
   "outputs": [
    {
     "name": "stdout",
     "output_type": "stream",
     "text": [
      "10\n"
     ]
    }
   ],
   "source": [
    "numcombos = 1\n",
    "for c in categories:\n",
    "    numcombos = numcombos * len(c)\n",
    "print(numcombos)"
   ]
  },
  {
   "cell_type": "code",
   "execution_count": 14,
   "metadata": {
    "collapsed": true
   },
   "outputs": [],
   "source": [
    "# Only include stops records that have their categories included\n",
    "for i in range(len(catfield)):\n",
    "    stops_df = stops_df[stops_df[catfield[i]].isin(categories[i])]"
   ]
  },
  {
   "cell_type": "code",
   "execution_count": 18,
   "metadata": {
    "collapsed": true
   },
   "outputs": [],
   "source": [
    "# Create a list of column names for the by datetime table and then an empty data frame based on these columns.\n",
    "# The column names for the category fields are now the actual field names\n",
    "columns = []\n",
    "measures = ['datetime', 'arrivals', 'departures', 'occupancy']\n",
    "for field in catfield:\n",
    "    columns.append(field)\n",
    "\n",
    "columns.extend(measures)\n",
    "\n",
    "bydt_df = DataFrame(columns=columns)\n"
   ]
  },
  {
   "cell_type": "code",
   "execution_count": 19,
   "metadata": {
    "collapsed": false
   },
   "outputs": [
    {
     "name": "stdout",
     "output_type": "stream",
     "text": [
      "['PatType', 'Severity', 'datetime', 'arrivals', 'departures', 'occupancy']\n"
     ]
    }
   ],
   "source": [
    "print(columns)"
   ]
  },
  {
   "cell_type": "code",
   "execution_count": 20,
   "metadata": {
    "collapsed": false
   },
   "outputs": [
    {
     "name": "stdout",
     "output_type": "stream",
     "text": [
      "<class 'pandas.core.frame.DataFrame'>\n",
      "Index: 0 entries\n",
      "Data columns (total 6 columns):\n",
      "PatType       0 non-null object\n",
      "Severity      0 non-null object\n",
      "datetime      0 non-null object\n",
      "arrivals      0 non-null object\n",
      "departures    0 non-null object\n",
      "occupancy     0 non-null object\n",
      "dtypes: object(6)\n",
      "memory usage: 0.0+ bytes\n"
     ]
    }
   ],
   "source": [
    "bydt_df.info()"
   ]
  },
  {
   "cell_type": "code",
   "execution_count": 51,
   "metadata": {
    "collapsed": false
   },
   "outputs": [
    {
     "data": {
      "text/plain": [
       "<itertools.product at 0x7f3f8fff9d38>"
      ]
     },
     "execution_count": 51,
     "metadata": {},
     "output_type": "execute_result"
    }
   ],
   "source": [
    "itertools.product(('IVT', 'MYE', 'CAT', 'ART', 'OTH'),(1,2))"
   ]
  },
  {
   "cell_type": "code",
   "execution_count": 56,
   "metadata": {
    "collapsed": false
   },
   "outputs": [
    {
     "name": "stdout",
     "output_type": "stream",
     "text": [
      "('IVT', 1)\n",
      "('IVT', 2)\n",
      "('MYE', 1)\n",
      "('MYE', 2)\n",
      "('CAT', 1)\n",
      "('CAT', 2)\n",
      "('ART', 1)\n",
      "('ART', 2)\n",
      "('OTH', 1)\n",
      "('OTH', 2)\n"
     ]
    }
   ],
   "source": [
    "for p in itertools.product(['IVT', 'MYE', 'CAT', 'ART', 'OTH'],[1,2]):\n",
    "    print(p)"
   ]
  },
  {
   "cell_type": "code",
   "execution_count": 21,
   "metadata": {
    "collapsed": false
   },
   "outputs": [
    {
     "name": "stdout",
     "output_type": "stream",
     "text": [
      "('IVT', 1)\n",
      "IVT 1\n",
      "('IVT', 2)\n",
      "IVT 2\n",
      "('MYE', 1)\n",
      "MYE 1\n",
      "('MYE', 2)\n",
      "MYE 2\n",
      "('CAT', 1)\n",
      "CAT 1\n",
      "('CAT', 2)\n",
      "CAT 2\n",
      "('ART', 1)\n",
      "ART 1\n",
      "('ART', 2)\n",
      "ART 2\n",
      "('OTH', 1)\n",
      "OTH 1\n",
      "('OTH', 2)\n",
      "OTH 2\n"
     ]
    }
   ],
   "source": [
    "for p in itertools.product(*categories):\n",
    "    print(p)\n",
    "    print(*p)"
   ]
  },
  {
   "cell_type": "code",
   "execution_count": 23,
   "metadata": {
    "collapsed": false
   },
   "outputs": [
    {
     "name": "stdout",
     "output_type": "stream",
     "text": [
      "('IVT', 'MYE', 'CAT', 'ART', 'OTH') (1, 2)\n"
     ]
    }
   ],
   "source": [
    "print(*categories)"
   ]
  },
  {
   "cell_type": "code",
   "execution_count": 36,
   "metadata": {
    "collapsed": false
   },
   "outputs": [
    {
     "name": "stdout",
     "output_type": "stream",
     "text": [
      "['IVT', 1] IVT 1\n",
      "['IVT', 2] IVT 2\n",
      "['MYE', 1] MYE 1\n",
      "['MYE', 2] MYE 2\n",
      "['CAT', 1] CAT 1\n",
      "['CAT', 2] CAT 2\n",
      "['ART', 1] ART 1\n",
      "['ART', 2] ART 2\n",
      "['OTH', 1] OTH 1\n",
      "['OTH', 2] OTH 2\n"
     ]
    }
   ],
   "source": [
    "for p in itertools.product(('IVT', 'MYE', 'CAT', 'ART', 'OTH'),(1,2)):\n",
    "    print([*p],p[0],p[1])"
   ]
  },
  {
   "cell_type": "code",
   "execution_count": 27,
   "metadata": {
    "collapsed": false
   },
   "outputs": [
    {
     "ename": "TypeError",
     "evalue": "object of type 'itertools.product' has no len()",
     "output_type": "error",
     "traceback": [
      "\u001b[1;31m---------------------------------------------------------------------------\u001b[0m",
      "\u001b[1;31mTypeError\u001b[0m                                 Traceback (most recent call last)",
      "\u001b[1;32m<ipython-input-27-60cc8b0ed3c0>\u001b[0m in \u001b[0;36m<module>\u001b[1;34m()\u001b[0m\n\u001b[1;32m----> 1\u001b[1;33m \u001b[0mlen\u001b[0m\u001b[1;33m(\u001b[0m\u001b[0mitertools\u001b[0m\u001b[1;33m.\u001b[0m\u001b[0mproduct\u001b[0m\u001b[1;33m(\u001b[0m\u001b[1;33m*\u001b[0m\u001b[0mcategories\u001b[0m\u001b[1;33m)\u001b[0m\u001b[1;33m)\u001b[0m\u001b[1;33m\u001b[0m\u001b[0m\n\u001b[0m",
      "\u001b[1;31mTypeError\u001b[0m: object of type 'itertools.product' has no len()"
     ]
    }
   ],
   "source": [
    "len(itertools.product(*categories))"
   ]
  },
  {
   "cell_type": "code",
   "execution_count": 19,
   "metadata": {
    "collapsed": true
   },
   "outputs": [],
   "source": [
    "df1 = pd.DataFrame({'B': ['B0', 'B1', 'B2', 'B3'],\n",
    "   ...:                     'D': ['D0', 'D1', 'D2', 'D3']},\n",
    "   ...:                     index=[0, 1, 2, 3])"
   ]
  },
  {
   "cell_type": "code",
   "execution_count": 19,
   "metadata": {
    "collapsed": true
   },
   "outputs": [],
   "source": [
    "df1 = pd.DataFrame({'B': ['B0', 'B1', 'B2', 'B3'],\n",
    "   ...:                     'D': ['D0', 'D1', 'D2', 'D3']},\n",
    "   ...:                     index=[0, 1, 2, 3])"
   ]
  },
  {
   "cell_type": "code",
   "execution_count": 20,
   "metadata": {
    "collapsed": false
   },
   "outputs": [
    {
     "data": {
      "text/html": [
       "<div>\n",
       "<table border=\"1\" class=\"dataframe\">\n",
       "  <thead>\n",
       "    <tr style=\"text-align: right;\">\n",
       "      <th></th>\n",
       "      <th>B</th>\n",
       "      <th>D</th>\n",
       "    </tr>\n",
       "  </thead>\n",
       "  <tbody>\n",
       "    <tr>\n",
       "      <th>0</th>\n",
       "      <td>B0</td>\n",
       "      <td>D0</td>\n",
       "    </tr>\n",
       "    <tr>\n",
       "      <th>1</th>\n",
       "      <td>B1</td>\n",
       "      <td>D1</td>\n",
       "    </tr>\n",
       "    <tr>\n",
       "      <th>2</th>\n",
       "      <td>B2</td>\n",
       "      <td>D2</td>\n",
       "    </tr>\n",
       "    <tr>\n",
       "      <th>3</th>\n",
       "      <td>B3</td>\n",
       "      <td>D3</td>\n",
       "    </tr>\n",
       "  </tbody>\n",
       "</table>\n",
       "</div>"
      ],
      "text/plain": [
       "    B   D\n",
       "0  B0  D0\n",
       "1  B1  D1\n",
       "2  B2  D2\n",
       "3  B3  D3"
      ]
     },
     "execution_count": 20,
     "metadata": {},
     "output_type": "execute_result"
    }
   ],
   "source": [
    "df1"
   ]
  },
  {
   "cell_type": "code",
   "execution_count": 21,
   "metadata": {
    "collapsed": true
   },
   "outputs": [],
   "source": [
    "df2 = pd.DataFrame({'A': ['A0', 'A1', 'A2', 'A3'],\n",
    "   ...:                     'C': ['C0', 'C1', 'C2', 'C3']},               \n",
    "   ...:                     index=[0, 1, 2, 3])"
   ]
  },
  {
   "cell_type": "code",
   "execution_count": 22,
   "metadata": {
    "collapsed": false
   },
   "outputs": [
    {
     "data": {
      "text/html": [
       "<div>\n",
       "<table border=\"1\" class=\"dataframe\">\n",
       "  <thead>\n",
       "    <tr style=\"text-align: right;\">\n",
       "      <th></th>\n",
       "      <th>A</th>\n",
       "      <th>C</th>\n",
       "    </tr>\n",
       "  </thead>\n",
       "  <tbody>\n",
       "    <tr>\n",
       "      <th>0</th>\n",
       "      <td>A0</td>\n",
       "      <td>C0</td>\n",
       "    </tr>\n",
       "    <tr>\n",
       "      <th>1</th>\n",
       "      <td>A1</td>\n",
       "      <td>C1</td>\n",
       "    </tr>\n",
       "    <tr>\n",
       "      <th>2</th>\n",
       "      <td>A2</td>\n",
       "      <td>C2</td>\n",
       "    </tr>\n",
       "    <tr>\n",
       "      <th>3</th>\n",
       "      <td>A3</td>\n",
       "      <td>C3</td>\n",
       "    </tr>\n",
       "  </tbody>\n",
       "</table>\n",
       "</div>"
      ],
      "text/plain": [
       "    A   C\n",
       "0  A0  C0\n",
       "1  A1  C1\n",
       "2  A2  C2\n",
       "3  A3  C3"
      ]
     },
     "execution_count": 22,
     "metadata": {},
     "output_type": "execute_result"
    }
   ],
   "source": [
    "df2"
   ]
  },
  {
   "cell_type": "code",
   "execution_count": 23,
   "metadata": {
    "collapsed": false
   },
   "outputs": [
    {
     "data": {
      "text/html": [
       "<div>\n",
       "<table border=\"1\" class=\"dataframe\">\n",
       "  <thead>\n",
       "    <tr style=\"text-align: right;\">\n",
       "      <th></th>\n",
       "      <th>B</th>\n",
       "      <th>D</th>\n",
       "      <th>A</th>\n",
       "      <th>C</th>\n",
       "    </tr>\n",
       "  </thead>\n",
       "  <tbody>\n",
       "    <tr>\n",
       "      <th>0</th>\n",
       "      <td>B0</td>\n",
       "      <td>D0</td>\n",
       "      <td>A0</td>\n",
       "      <td>C0</td>\n",
       "    </tr>\n",
       "    <tr>\n",
       "      <th>1</th>\n",
       "      <td>B1</td>\n",
       "      <td>D1</td>\n",
       "      <td>A1</td>\n",
       "      <td>C1</td>\n",
       "    </tr>\n",
       "    <tr>\n",
       "      <th>2</th>\n",
       "      <td>B2</td>\n",
       "      <td>D2</td>\n",
       "      <td>A2</td>\n",
       "      <td>C2</td>\n",
       "    </tr>\n",
       "    <tr>\n",
       "      <th>3</th>\n",
       "      <td>B3</td>\n",
       "      <td>D3</td>\n",
       "      <td>A3</td>\n",
       "      <td>C3</td>\n",
       "    </tr>\n",
       "  </tbody>\n",
       "</table>\n",
       "</div>"
      ],
      "text/plain": [
       "    B   D   A   C\n",
       "0  B0  D0  A0  C0\n",
       "1  B1  D1  A1  C1\n",
       "2  B2  D2  A2  C2\n",
       "3  B3  D3  A3  C3"
      ]
     },
     "execution_count": 23,
     "metadata": {},
     "output_type": "execute_result"
    }
   ],
   "source": [
    "pd.concat([df1,df2],axis=1)"
   ]
  },
  {
   "cell_type": "code",
   "execution_count": 32,
   "metadata": {
    "collapsed": false
   },
   "outputs": [
    {
     "name": "stdout",
     "output_type": "stream",
     "text": [
      "['PatType', 'Severity']\n"
     ]
    }
   ],
   "source": [
    "print(catfield)"
   ]
  },
  {
   "cell_type": "code",
   "execution_count": 58,
   "metadata": {
    "collapsed": false
   },
   "outputs": [],
   "source": [
    "rng_bydt = pd.Series(pd.date_range(start_analysis_dt, end_analysis_dt, freq=Minute(bin_size_minutes)))"
   ]
  },
  {
   "cell_type": "code",
   "execution_count": 39,
   "metadata": {
    "collapsed": false
   },
   "outputs": [
    {
     "data": {
      "text/plain": [
       "<itertools.product at 0x7fb68b660c60>"
      ]
     },
     "execution_count": 39,
     "metadata": {},
     "output_type": "execute_result"
    }
   ],
   "source": [
    "itertools.product(*categories)"
   ]
  },
  {
   "cell_type": "code",
   "execution_count": 30,
   "metadata": {
    "collapsed": false
   },
   "outputs": [
    {
     "name": "stdout",
     "output_type": "stream",
     "text": [
      "2\n",
      "3\n"
     ]
    }
   ],
   "source": [
    "i=2\n",
    "print(i)\n",
    "i+=1\n",
    "print(i)"
   ]
  },
  {
   "cell_type": "code",
   "execution_count": 59,
   "metadata": {
    "collapsed": false
   },
   "outputs": [
    {
     "name": "stdout",
     "output_type": "stream",
     "text": [
      "IVT\n",
      "1\n",
      "IVT\n",
      "2\n",
      "MYE\n",
      "1\n",
      "MYE\n",
      "2\n",
      "CAT\n",
      "1\n",
      "CAT\n",
      "2\n",
      "ART\n",
      "1\n",
      "ART\n",
      "2\n",
      "OTH\n",
      "1\n",
      "OTH\n",
      "2\n"
     ]
    }
   ],
   "source": [
    "len_bydt = len(rng_bydt)\n",
    "all_cat_df = []\n",
    "for p in itertools.product(*categories):\n",
    "        i=0\n",
    "        cat_df = DataFrame()\n",
    "        j=0\n",
    "        for c in [*p]:\n",
    "            print(c)\n",
    "            bydt_catdata = {catfield[j]: [c] * len_bydt}\n",
    "            cat_df_cat = DataFrame(bydt_catdata, columns=[catfield[j]])\n",
    "            j+=1\n",
    "            #cat_df_cat.info()\n",
    "            cat_df = pd.concat([cat_df, cat_df_cat],axis=1)\n",
    "        all_cat_df.append(cat_df)\n",
    "        i+=1"
   ]
  },
  {
   "cell_type": "code",
   "execution_count": 60,
   "metadata": {
    "collapsed": false
   },
   "outputs": [
    {
     "data": {
      "text/html": [
       "<div>\n",
       "<table border=\"1\" class=\"dataframe\">\n",
       "  <thead>\n",
       "    <tr style=\"text-align: right;\">\n",
       "      <th></th>\n",
       "      <th>PatType</th>\n",
       "      <th>Severity</th>\n",
       "    </tr>\n",
       "  </thead>\n",
       "  <tbody>\n",
       "    <tr>\n",
       "      <th>0</th>\n",
       "      <td>IVT</td>\n",
       "      <td>2</td>\n",
       "    </tr>\n",
       "    <tr>\n",
       "      <th>1</th>\n",
       "      <td>IVT</td>\n",
       "      <td>2</td>\n",
       "    </tr>\n",
       "    <tr>\n",
       "      <th>2</th>\n",
       "      <td>IVT</td>\n",
       "      <td>2</td>\n",
       "    </tr>\n",
       "    <tr>\n",
       "      <th>3</th>\n",
       "      <td>IVT</td>\n",
       "      <td>2</td>\n",
       "    </tr>\n",
       "    <tr>\n",
       "      <th>4</th>\n",
       "      <td>IVT</td>\n",
       "      <td>2</td>\n",
       "    </tr>\n",
       "    <tr>\n",
       "      <th>5</th>\n",
       "      <td>IVT</td>\n",
       "      <td>2</td>\n",
       "    </tr>\n",
       "    <tr>\n",
       "      <th>6</th>\n",
       "      <td>IVT</td>\n",
       "      <td>2</td>\n",
       "    </tr>\n",
       "    <tr>\n",
       "      <th>7</th>\n",
       "      <td>IVT</td>\n",
       "      <td>2</td>\n",
       "    </tr>\n",
       "    <tr>\n",
       "      <th>8</th>\n",
       "      <td>IVT</td>\n",
       "      <td>2</td>\n",
       "    </tr>\n",
       "    <tr>\n",
       "      <th>9</th>\n",
       "      <td>IVT</td>\n",
       "      <td>2</td>\n",
       "    </tr>\n",
       "    <tr>\n",
       "      <th>10</th>\n",
       "      <td>IVT</td>\n",
       "      <td>2</td>\n",
       "    </tr>\n",
       "    <tr>\n",
       "      <th>11</th>\n",
       "      <td>IVT</td>\n",
       "      <td>2</td>\n",
       "    </tr>\n",
       "    <tr>\n",
       "      <th>12</th>\n",
       "      <td>IVT</td>\n",
       "      <td>2</td>\n",
       "    </tr>\n",
       "    <tr>\n",
       "      <th>13</th>\n",
       "      <td>IVT</td>\n",
       "      <td>2</td>\n",
       "    </tr>\n",
       "    <tr>\n",
       "      <th>14</th>\n",
       "      <td>IVT</td>\n",
       "      <td>2</td>\n",
       "    </tr>\n",
       "    <tr>\n",
       "      <th>15</th>\n",
       "      <td>IVT</td>\n",
       "      <td>2</td>\n",
       "    </tr>\n",
       "    <tr>\n",
       "      <th>16</th>\n",
       "      <td>IVT</td>\n",
       "      <td>2</td>\n",
       "    </tr>\n",
       "    <tr>\n",
       "      <th>17</th>\n",
       "      <td>IVT</td>\n",
       "      <td>2</td>\n",
       "    </tr>\n",
       "    <tr>\n",
       "      <th>18</th>\n",
       "      <td>IVT</td>\n",
       "      <td>2</td>\n",
       "    </tr>\n",
       "    <tr>\n",
       "      <th>19</th>\n",
       "      <td>IVT</td>\n",
       "      <td>2</td>\n",
       "    </tr>\n",
       "    <tr>\n",
       "      <th>20</th>\n",
       "      <td>IVT</td>\n",
       "      <td>2</td>\n",
       "    </tr>\n",
       "    <tr>\n",
       "      <th>21</th>\n",
       "      <td>IVT</td>\n",
       "      <td>2</td>\n",
       "    </tr>\n",
       "    <tr>\n",
       "      <th>22</th>\n",
       "      <td>IVT</td>\n",
       "      <td>2</td>\n",
       "    </tr>\n",
       "    <tr>\n",
       "      <th>23</th>\n",
       "      <td>IVT</td>\n",
       "      <td>2</td>\n",
       "    </tr>\n",
       "    <tr>\n",
       "      <th>24</th>\n",
       "      <td>IVT</td>\n",
       "      <td>2</td>\n",
       "    </tr>\n",
       "    <tr>\n",
       "      <th>25</th>\n",
       "      <td>IVT</td>\n",
       "      <td>2</td>\n",
       "    </tr>\n",
       "    <tr>\n",
       "      <th>26</th>\n",
       "      <td>IVT</td>\n",
       "      <td>2</td>\n",
       "    </tr>\n",
       "    <tr>\n",
       "      <th>27</th>\n",
       "      <td>IVT</td>\n",
       "      <td>2</td>\n",
       "    </tr>\n",
       "    <tr>\n",
       "      <th>28</th>\n",
       "      <td>IVT</td>\n",
       "      <td>2</td>\n",
       "    </tr>\n",
       "    <tr>\n",
       "      <th>29</th>\n",
       "      <td>IVT</td>\n",
       "      <td>2</td>\n",
       "    </tr>\n",
       "    <tr>\n",
       "      <th>...</th>\n",
       "      <td>...</td>\n",
       "      <td>...</td>\n",
       "    </tr>\n",
       "    <tr>\n",
       "      <th>2130</th>\n",
       "      <td>IVT</td>\n",
       "      <td>2</td>\n",
       "    </tr>\n",
       "    <tr>\n",
       "      <th>2131</th>\n",
       "      <td>IVT</td>\n",
       "      <td>2</td>\n",
       "    </tr>\n",
       "    <tr>\n",
       "      <th>2132</th>\n",
       "      <td>IVT</td>\n",
       "      <td>2</td>\n",
       "    </tr>\n",
       "    <tr>\n",
       "      <th>2133</th>\n",
       "      <td>IVT</td>\n",
       "      <td>2</td>\n",
       "    </tr>\n",
       "    <tr>\n",
       "      <th>2134</th>\n",
       "      <td>IVT</td>\n",
       "      <td>2</td>\n",
       "    </tr>\n",
       "    <tr>\n",
       "      <th>2135</th>\n",
       "      <td>IVT</td>\n",
       "      <td>2</td>\n",
       "    </tr>\n",
       "    <tr>\n",
       "      <th>2136</th>\n",
       "      <td>IVT</td>\n",
       "      <td>2</td>\n",
       "    </tr>\n",
       "    <tr>\n",
       "      <th>2137</th>\n",
       "      <td>IVT</td>\n",
       "      <td>2</td>\n",
       "    </tr>\n",
       "    <tr>\n",
       "      <th>2138</th>\n",
       "      <td>IVT</td>\n",
       "      <td>2</td>\n",
       "    </tr>\n",
       "    <tr>\n",
       "      <th>2139</th>\n",
       "      <td>IVT</td>\n",
       "      <td>2</td>\n",
       "    </tr>\n",
       "    <tr>\n",
       "      <th>2140</th>\n",
       "      <td>IVT</td>\n",
       "      <td>2</td>\n",
       "    </tr>\n",
       "    <tr>\n",
       "      <th>2141</th>\n",
       "      <td>IVT</td>\n",
       "      <td>2</td>\n",
       "    </tr>\n",
       "    <tr>\n",
       "      <th>2142</th>\n",
       "      <td>IVT</td>\n",
       "      <td>2</td>\n",
       "    </tr>\n",
       "    <tr>\n",
       "      <th>2143</th>\n",
       "      <td>IVT</td>\n",
       "      <td>2</td>\n",
       "    </tr>\n",
       "    <tr>\n",
       "      <th>2144</th>\n",
       "      <td>IVT</td>\n",
       "      <td>2</td>\n",
       "    </tr>\n",
       "    <tr>\n",
       "      <th>2145</th>\n",
       "      <td>IVT</td>\n",
       "      <td>2</td>\n",
       "    </tr>\n",
       "    <tr>\n",
       "      <th>2146</th>\n",
       "      <td>IVT</td>\n",
       "      <td>2</td>\n",
       "    </tr>\n",
       "    <tr>\n",
       "      <th>2147</th>\n",
       "      <td>IVT</td>\n",
       "      <td>2</td>\n",
       "    </tr>\n",
       "    <tr>\n",
       "      <th>2148</th>\n",
       "      <td>IVT</td>\n",
       "      <td>2</td>\n",
       "    </tr>\n",
       "    <tr>\n",
       "      <th>2149</th>\n",
       "      <td>IVT</td>\n",
       "      <td>2</td>\n",
       "    </tr>\n",
       "    <tr>\n",
       "      <th>2150</th>\n",
       "      <td>IVT</td>\n",
       "      <td>2</td>\n",
       "    </tr>\n",
       "    <tr>\n",
       "      <th>2151</th>\n",
       "      <td>IVT</td>\n",
       "      <td>2</td>\n",
       "    </tr>\n",
       "    <tr>\n",
       "      <th>2152</th>\n",
       "      <td>IVT</td>\n",
       "      <td>2</td>\n",
       "    </tr>\n",
       "    <tr>\n",
       "      <th>2153</th>\n",
       "      <td>IVT</td>\n",
       "      <td>2</td>\n",
       "    </tr>\n",
       "    <tr>\n",
       "      <th>2154</th>\n",
       "      <td>IVT</td>\n",
       "      <td>2</td>\n",
       "    </tr>\n",
       "    <tr>\n",
       "      <th>2155</th>\n",
       "      <td>IVT</td>\n",
       "      <td>2</td>\n",
       "    </tr>\n",
       "    <tr>\n",
       "      <th>2156</th>\n",
       "      <td>IVT</td>\n",
       "      <td>2</td>\n",
       "    </tr>\n",
       "    <tr>\n",
       "      <th>2157</th>\n",
       "      <td>IVT</td>\n",
       "      <td>2</td>\n",
       "    </tr>\n",
       "    <tr>\n",
       "      <th>2158</th>\n",
       "      <td>IVT</td>\n",
       "      <td>2</td>\n",
       "    </tr>\n",
       "    <tr>\n",
       "      <th>2159</th>\n",
       "      <td>IVT</td>\n",
       "      <td>2</td>\n",
       "    </tr>\n",
       "  </tbody>\n",
       "</table>\n",
       "<p>2160 rows × 2 columns</p>\n",
       "</div>"
      ],
      "text/plain": [
       "     PatType  Severity\n",
       "0        IVT         2\n",
       "1        IVT         2\n",
       "2        IVT         2\n",
       "3        IVT         2\n",
       "4        IVT         2\n",
       "5        IVT         2\n",
       "6        IVT         2\n",
       "7        IVT         2\n",
       "8        IVT         2\n",
       "9        IVT         2\n",
       "10       IVT         2\n",
       "11       IVT         2\n",
       "12       IVT         2\n",
       "13       IVT         2\n",
       "14       IVT         2\n",
       "15       IVT         2\n",
       "16       IVT         2\n",
       "17       IVT         2\n",
       "18       IVT         2\n",
       "19       IVT         2\n",
       "20       IVT         2\n",
       "21       IVT         2\n",
       "22       IVT         2\n",
       "23       IVT         2\n",
       "24       IVT         2\n",
       "25       IVT         2\n",
       "26       IVT         2\n",
       "27       IVT         2\n",
       "28       IVT         2\n",
       "29       IVT         2\n",
       "...      ...       ...\n",
       "2130     IVT         2\n",
       "2131     IVT         2\n",
       "2132     IVT         2\n",
       "2133     IVT         2\n",
       "2134     IVT         2\n",
       "2135     IVT         2\n",
       "2136     IVT         2\n",
       "2137     IVT         2\n",
       "2138     IVT         2\n",
       "2139     IVT         2\n",
       "2140     IVT         2\n",
       "2141     IVT         2\n",
       "2142     IVT         2\n",
       "2143     IVT         2\n",
       "2144     IVT         2\n",
       "2145     IVT         2\n",
       "2146     IVT         2\n",
       "2147     IVT         2\n",
       "2148     IVT         2\n",
       "2149     IVT         2\n",
       "2150     IVT         2\n",
       "2151     IVT         2\n",
       "2152     IVT         2\n",
       "2153     IVT         2\n",
       "2154     IVT         2\n",
       "2155     IVT         2\n",
       "2156     IVT         2\n",
       "2157     IVT         2\n",
       "2158     IVT         2\n",
       "2159     IVT         2\n",
       "\n",
       "[2160 rows x 2 columns]"
      ]
     },
     "execution_count": 60,
     "metadata": {},
     "output_type": "execute_result"
    }
   ],
   "source": [
    "all_cat_df[1]"
   ]
  },
  {
   "cell_type": "code",
   "execution_count": 35,
   "metadata": {
    "collapsed": false
   },
   "outputs": [
    {
     "name": "stdout",
     "output_type": "stream",
     "text": [
      "<class 'pandas.core.frame.DataFrame'>\n",
      "Int64Index: 2160 entries, 0 to 2159\n",
      "Data columns (total 4 columns):\n",
      "PatType                      0 non-null object\n",
      "Severity                     0 non-null object\n",
      "(IVT, MYE, CAT, ART, OTH)    2160 non-null object\n",
      "(1, 2)                       2160 non-null int64\n",
      "dtypes: int64(1), object(3)\n",
      "memory usage: 84.4+ KB\n"
     ]
    }
   ],
   "source": [
    "cat_df.info()"
   ]
  },
  {
   "cell_type": "code",
   "execution_count": 61,
   "metadata": {
    "collapsed": true
   },
   "outputs": [],
   "source": [
    "bydt_data = {'datetime': rng_bydt, 'arrivals': [0.0] * len_bydt,\n",
    "                     'departures': [0.0] * len_bydt, 'occupancy': [0.0] * len_bydt}"
   ]
  },
  {
   "cell_type": "code",
   "execution_count": 69,
   "metadata": {
    "collapsed": false
   },
   "outputs": [
    {
     "data": {
      "text/plain": [
       "10   1996-01-01 10:00:00\n",
       "11   1996-01-01 11:00:00\n",
       "12   1996-01-01 12:00:00\n",
       "13   1996-01-01 13:00:00\n",
       "14   1996-01-01 14:00:00\n",
       "15   1996-01-01 15:00:00\n",
       "16   1996-01-01 16:00:00\n",
       "17   1996-01-01 17:00:00\n",
       "18   1996-01-01 18:00:00\n",
       "19   1996-01-01 19:00:00\n",
       "dtype: datetime64[ns]"
      ]
     },
     "execution_count": 69,
     "metadata": {},
     "output_type": "execute_result"
    }
   ],
   "source": [
    "bydt_data['datetime'][10:20]"
   ]
  },
  {
   "cell_type": "code",
   "execution_count": 70,
   "metadata": {
    "collapsed": true
   },
   "outputs": [],
   "source": [
    "bydt_data_df = DataFrame(bydt_data, columns=['datetime', 'arrivals', 'departures', 'occupancy'])"
   ]
  },
  {
   "cell_type": "code",
   "execution_count": 71,
   "metadata": {
    "collapsed": false
   },
   "outputs": [
    {
     "name": "stdout",
     "output_type": "stream",
     "text": [
      "<class 'pandas.core.frame.DataFrame'>\n",
      "Int64Index: 2160 entries, 0 to 2159\n",
      "Data columns (total 4 columns):\n",
      "datetime      2160 non-null datetime64[ns]\n",
      "arrivals      2160 non-null float64\n",
      "departures    2160 non-null float64\n",
      "occupancy     2160 non-null float64\n",
      "dtypes: datetime64[ns](1), float64(3)\n",
      "memory usage: 84.4 KB\n"
     ]
    }
   ],
   "source": [
    "bydt_data_df.info()"
   ]
  },
  {
   "cell_type": "code",
   "execution_count": 72,
   "metadata": {
    "collapsed": false
   },
   "outputs": [
    {
     "data": {
      "text/html": [
       "<div>\n",
       "<table border=\"1\" class=\"dataframe\">\n",
       "  <thead>\n",
       "    <tr style=\"text-align: right;\">\n",
       "      <th></th>\n",
       "      <th>datetime</th>\n",
       "      <th>arrivals</th>\n",
       "      <th>departures</th>\n",
       "      <th>occupancy</th>\n",
       "    </tr>\n",
       "  </thead>\n",
       "  <tbody>\n",
       "    <tr>\n",
       "      <th>0</th>\n",
       "      <td>1996-01-01 00:00:00</td>\n",
       "      <td>0</td>\n",
       "      <td>0</td>\n",
       "      <td>0</td>\n",
       "    </tr>\n",
       "    <tr>\n",
       "      <th>1</th>\n",
       "      <td>1996-01-01 01:00:00</td>\n",
       "      <td>0</td>\n",
       "      <td>0</td>\n",
       "      <td>0</td>\n",
       "    </tr>\n",
       "    <tr>\n",
       "      <th>2</th>\n",
       "      <td>1996-01-01 02:00:00</td>\n",
       "      <td>0</td>\n",
       "      <td>0</td>\n",
       "      <td>0</td>\n",
       "    </tr>\n",
       "    <tr>\n",
       "      <th>3</th>\n",
       "      <td>1996-01-01 03:00:00</td>\n",
       "      <td>0</td>\n",
       "      <td>0</td>\n",
       "      <td>0</td>\n",
       "    </tr>\n",
       "    <tr>\n",
       "      <th>4</th>\n",
       "      <td>1996-01-01 04:00:00</td>\n",
       "      <td>0</td>\n",
       "      <td>0</td>\n",
       "      <td>0</td>\n",
       "    </tr>\n",
       "  </tbody>\n",
       "</table>\n",
       "</div>"
      ],
      "text/plain": [
       "             datetime  arrivals  departures  occupancy\n",
       "0 1996-01-01 00:00:00         0           0          0\n",
       "1 1996-01-01 01:00:00         0           0          0\n",
       "2 1996-01-01 02:00:00         0           0          0\n",
       "3 1996-01-01 03:00:00         0           0          0\n",
       "4 1996-01-01 04:00:00         0           0          0"
      ]
     },
     "execution_count": 72,
     "metadata": {},
     "output_type": "execute_result"
    }
   ],
   "source": [
    "bydt_data_df.head()"
   ]
  },
  {
   "cell_type": "code",
   "execution_count": 73,
   "metadata": {
    "collapsed": false
   },
   "outputs": [],
   "source": [
    "bydt_df = DataFrame()\n",
    "for cat_df in all_cat_df:\n",
    "   \n",
    "        #bydt_df_cat = DataFrame(bydt_data, columns=['category', 'datetime', 'arrivals', 'departures', 'occupancy'])\n",
    "        bydt_df_cat = pd.concat([cat_df, bydt_data_df],axis=1)\n",
    "        bydt_df = pd.concat([bydt_df, bydt_df_cat])"
   ]
  },
  {
   "cell_type": "code",
   "execution_count": 49,
   "metadata": {
    "collapsed": false
   },
   "outputs": [
    {
     "data": {
      "text/plain": [
       "2160"
      ]
     },
     "execution_count": 49,
     "metadata": {},
     "output_type": "execute_result"
    }
   ],
   "source": [
    "len_bydt"
   ]
  },
  {
   "cell_type": "code",
   "execution_count": 64,
   "metadata": {
    "collapsed": false
   },
   "outputs": [
    {
     "name": "stdout",
     "output_type": "stream",
     "text": [
      "<class 'pandas.core.frame.DataFrame'>\n",
      "Int64Index: 43200 entries, 0 to 2159\n",
      "Data columns (total 6 columns):\n",
      "PatType       21600 non-null object\n",
      "Severity      21600 non-null float64\n",
      "arrivals      21600 non-null float64\n",
      "datetime      21600 non-null datetime64[ns]\n",
      "departures    21600 non-null float64\n",
      "occupancy     21600 non-null float64\n",
      "dtypes: datetime64[ns](1), float64(4), object(1)\n",
      "memory usage: 2.3+ MB\n"
     ]
    }
   ],
   "source": [
    "bydt_df.info()"
   ]
  },
  {
   "cell_type": "code",
   "execution_count": 74,
   "metadata": {
    "collapsed": false
   },
   "outputs": [
    {
     "data": {
      "text/html": [
       "<div>\n",
       "<table border=\"1\" class=\"dataframe\">\n",
       "  <thead>\n",
       "    <tr style=\"text-align: right;\">\n",
       "      <th></th>\n",
       "      <th>PatType</th>\n",
       "      <th>Severity</th>\n",
       "      <th>datetime</th>\n",
       "      <th>arrivals</th>\n",
       "      <th>departures</th>\n",
       "      <th>occupancy</th>\n",
       "    </tr>\n",
       "  </thead>\n",
       "  <tbody>\n",
       "    <tr>\n",
       "      <th>0</th>\n",
       "      <td>IVT</td>\n",
       "      <td>1</td>\n",
       "      <td>1996-01-01 00:00:00</td>\n",
       "      <td>0</td>\n",
       "      <td>0</td>\n",
       "      <td>0</td>\n",
       "    </tr>\n",
       "    <tr>\n",
       "      <th>1</th>\n",
       "      <td>IVT</td>\n",
       "      <td>1</td>\n",
       "      <td>1996-01-01 01:00:00</td>\n",
       "      <td>0</td>\n",
       "      <td>0</td>\n",
       "      <td>0</td>\n",
       "    </tr>\n",
       "    <tr>\n",
       "      <th>2</th>\n",
       "      <td>IVT</td>\n",
       "      <td>1</td>\n",
       "      <td>1996-01-01 02:00:00</td>\n",
       "      <td>0</td>\n",
       "      <td>0</td>\n",
       "      <td>0</td>\n",
       "    </tr>\n",
       "    <tr>\n",
       "      <th>3</th>\n",
       "      <td>IVT</td>\n",
       "      <td>1</td>\n",
       "      <td>1996-01-01 03:00:00</td>\n",
       "      <td>0</td>\n",
       "      <td>0</td>\n",
       "      <td>0</td>\n",
       "    </tr>\n",
       "    <tr>\n",
       "      <th>4</th>\n",
       "      <td>IVT</td>\n",
       "      <td>1</td>\n",
       "      <td>1996-01-01 04:00:00</td>\n",
       "      <td>0</td>\n",
       "      <td>0</td>\n",
       "      <td>0</td>\n",
       "    </tr>\n",
       "  </tbody>\n",
       "</table>\n",
       "</div>"
      ],
      "text/plain": [
       "  PatType  Severity            datetime  arrivals  departures  occupancy\n",
       "0     IVT         1 1996-01-01 00:00:00         0           0          0\n",
       "1     IVT         1 1996-01-01 01:00:00         0           0          0\n",
       "2     IVT         1 1996-01-01 02:00:00         0           0          0\n",
       "3     IVT         1 1996-01-01 03:00:00         0           0          0\n",
       "4     IVT         1 1996-01-01 04:00:00         0           0          0"
      ]
     },
     "execution_count": 74,
     "metadata": {},
     "output_type": "execute_result"
    }
   ],
   "source": [
    "bydt_df.head()"
   ]
  },
  {
   "cell_type": "code",
   "execution_count": 76,
   "metadata": {
    "collapsed": false
   },
   "outputs": [],
   "source": [
    "bydt_df = DataFrame()\n",
    "bydt_data = {'datetime': rng_bydt, 'arrivals': [0.0] * len_bydt,\n",
    "                         'departures': [0.0] * len_bydt, 'occupancy': [0.0] * len_bydt}\n",
    "bydt_data_df = DataFrame(bydt_data, columns=['datetime', 'arrivals', 'departures', 'occupancy'])\n",
    "\n",
    "for cat_df in all_cat_df:\n",
    "    bydt_df_cat = pd.concat([cat_df, bydt_data_df],axis=1)\n",
    "    bydt_df = pd.concat([bydt_df, bydt_df_cat])"
   ]
  },
  {
   "cell_type": "code",
   "execution_count": 77,
   "metadata": {
    "collapsed": false
   },
   "outputs": [
    {
     "data": {
      "text/html": [
       "<div>\n",
       "<table border=\"1\" class=\"dataframe\">\n",
       "  <thead>\n",
       "    <tr style=\"text-align: right;\">\n",
       "      <th></th>\n",
       "      <th>PatType</th>\n",
       "      <th>Severity</th>\n",
       "      <th>datetime</th>\n",
       "      <th>arrivals</th>\n",
       "      <th>departures</th>\n",
       "      <th>occupancy</th>\n",
       "    </tr>\n",
       "  </thead>\n",
       "  <tbody>\n",
       "    <tr>\n",
       "      <th>0</th>\n",
       "      <td>IVT</td>\n",
       "      <td>1</td>\n",
       "      <td>1996-01-01 00:00:00</td>\n",
       "      <td>0</td>\n",
       "      <td>0</td>\n",
       "      <td>0</td>\n",
       "    </tr>\n",
       "    <tr>\n",
       "      <th>1</th>\n",
       "      <td>IVT</td>\n",
       "      <td>1</td>\n",
       "      <td>1996-01-01 01:00:00</td>\n",
       "      <td>0</td>\n",
       "      <td>0</td>\n",
       "      <td>0</td>\n",
       "    </tr>\n",
       "    <tr>\n",
       "      <th>2</th>\n",
       "      <td>IVT</td>\n",
       "      <td>1</td>\n",
       "      <td>1996-01-01 02:00:00</td>\n",
       "      <td>0</td>\n",
       "      <td>0</td>\n",
       "      <td>0</td>\n",
       "    </tr>\n",
       "    <tr>\n",
       "      <th>3</th>\n",
       "      <td>IVT</td>\n",
       "      <td>1</td>\n",
       "      <td>1996-01-01 03:00:00</td>\n",
       "      <td>0</td>\n",
       "      <td>0</td>\n",
       "      <td>0</td>\n",
       "    </tr>\n",
       "    <tr>\n",
       "      <th>4</th>\n",
       "      <td>IVT</td>\n",
       "      <td>1</td>\n",
       "      <td>1996-01-01 04:00:00</td>\n",
       "      <td>0</td>\n",
       "      <td>0</td>\n",
       "      <td>0</td>\n",
       "    </tr>\n",
       "  </tbody>\n",
       "</table>\n",
       "</div>"
      ],
      "text/plain": [
       "  PatType  Severity            datetime  arrivals  departures  occupancy\n",
       "0     IVT         1 1996-01-01 00:00:00         0           0          0\n",
       "1     IVT         1 1996-01-01 01:00:00         0           0          0\n",
       "2     IVT         1 1996-01-01 02:00:00         0           0          0\n",
       "3     IVT         1 1996-01-01 03:00:00         0           0          0\n",
       "4     IVT         1 1996-01-01 04:00:00         0           0          0"
      ]
     },
     "execution_count": 77,
     "metadata": {},
     "output_type": "execute_result"
    }
   ],
   "source": [
    "bydt_df.head()"
   ]
  },
  {
   "cell_type": "code",
   "execution_count": 78,
   "metadata": {
    "collapsed": false
   },
   "outputs": [
    {
     "data": {
      "text/html": [
       "<div>\n",
       "<table border=\"1\" class=\"dataframe\">\n",
       "  <thead>\n",
       "    <tr style=\"text-align: right;\">\n",
       "      <th></th>\n",
       "      <th>PatType</th>\n",
       "      <th>Severity</th>\n",
       "      <th>datetime</th>\n",
       "      <th>arrivals</th>\n",
       "      <th>departures</th>\n",
       "      <th>occupancy</th>\n",
       "    </tr>\n",
       "  </thead>\n",
       "  <tbody>\n",
       "    <tr>\n",
       "      <th>2155</th>\n",
       "      <td>OTH</td>\n",
       "      <td>2</td>\n",
       "      <td>1996-03-30 19:00:00</td>\n",
       "      <td>0</td>\n",
       "      <td>0</td>\n",
       "      <td>0</td>\n",
       "    </tr>\n",
       "    <tr>\n",
       "      <th>2156</th>\n",
       "      <td>OTH</td>\n",
       "      <td>2</td>\n",
       "      <td>1996-03-30 20:00:00</td>\n",
       "      <td>0</td>\n",
       "      <td>0</td>\n",
       "      <td>0</td>\n",
       "    </tr>\n",
       "    <tr>\n",
       "      <th>2157</th>\n",
       "      <td>OTH</td>\n",
       "      <td>2</td>\n",
       "      <td>1996-03-30 21:00:00</td>\n",
       "      <td>0</td>\n",
       "      <td>0</td>\n",
       "      <td>0</td>\n",
       "    </tr>\n",
       "    <tr>\n",
       "      <th>2158</th>\n",
       "      <td>OTH</td>\n",
       "      <td>2</td>\n",
       "      <td>1996-03-30 22:00:00</td>\n",
       "      <td>0</td>\n",
       "      <td>0</td>\n",
       "      <td>0</td>\n",
       "    </tr>\n",
       "    <tr>\n",
       "      <th>2159</th>\n",
       "      <td>OTH</td>\n",
       "      <td>2</td>\n",
       "      <td>1996-03-30 23:00:00</td>\n",
       "      <td>0</td>\n",
       "      <td>0</td>\n",
       "      <td>0</td>\n",
       "    </tr>\n",
       "  </tbody>\n",
       "</table>\n",
       "</div>"
      ],
      "text/plain": [
       "     PatType  Severity            datetime  arrivals  departures  occupancy\n",
       "2155     OTH         2 1996-03-30 19:00:00         0           0          0\n",
       "2156     OTH         2 1996-03-30 20:00:00         0           0          0\n",
       "2157     OTH         2 1996-03-30 21:00:00         0           0          0\n",
       "2158     OTH         2 1996-03-30 22:00:00         0           0          0\n",
       "2159     OTH         2 1996-03-30 23:00:00         0           0          0"
      ]
     },
     "execution_count": 78,
     "metadata": {},
     "output_type": "execute_result"
    }
   ],
   "source": [
    "bydt_df.tail()"
   ]
  },
  {
   "cell_type": "code",
   "execution_count": null,
   "metadata": {
    "collapsed": true
   },
   "outputs": [],
   "source": []
  }
 ],
 "metadata": {
  "kernelspec": {
   "display_name": "Python 3",
   "language": "python",
   "name": "python3"
  },
  "language_info": {
   "codemirror_mode": {
    "name": "ipython",
    "version": 3
   },
   "file_extension": ".py",
   "mimetype": "text/x-python",
   "name": "python",
   "nbconvert_exporter": "python",
   "pygments_lexer": "ipython3",
   "version": "3.5.1"
  }
 },
 "nbformat": 4,
 "nbformat_minor": 0
}
