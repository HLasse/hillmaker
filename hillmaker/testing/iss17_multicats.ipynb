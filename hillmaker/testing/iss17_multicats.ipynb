{
 "cells": [
  {
   "cell_type": "code",
   "execution_count": 1,
   "metadata": {
    "collapsed": true
   },
   "outputs": [],
   "source": [
    "import pandas as pd\n",
    "import hillmaker as hm\n",
    "from pandas import DataFrame\n",
    "from pandas import Timestamp\n",
    "from datetime import datetime\n",
    "from datetime import timedelta\n",
    "from pandas.tseries.offsets import Minute"
   ]
  },
  {
   "cell_type": "code",
   "execution_count": 2,
   "metadata": {
    "collapsed": true
   },
   "outputs": [],
   "source": [
    "import itertools"
   ]
  },
  {
   "cell_type": "code",
   "execution_count": 3,
   "metadata": {
    "collapsed": true
   },
   "outputs": [],
   "source": [
    "from hillmaker import bydatetime"
   ]
  },
  {
   "cell_type": "code",
   "execution_count": 4,
   "metadata": {
    "collapsed": false
   },
   "outputs": [
    {
     "name": "stdout",
     "output_type": "stream",
     "text": [
      "Help on function make_bydatetime in module hillmaker.bydatetime:\n",
      "\n",
      "make_bydatetime(stops_df, infield, outfield, start_analysis, end_analysis, catfield, total_str='Total', bin_size_minutes=60, cat_to_exclude=None, totals=True, verbose=0)\n",
      "    Create bydatetime table based on user inputs.\n",
      "    \n",
      "    This is the table from which summary statistics can be computed.\n",
      "    \n",
      "    Parameters\n",
      "    ----------\n",
      "    stops_df: DataFrame\n",
      "        Stop data\n",
      "    \n",
      "    infield: string\n",
      "        Name of column in stops_df to use as arrival datetime\n",
      "    \n",
      "    outfield: string\n",
      "        Name of column in stops_df to use as departure datetime\n",
      "    \n",
      "    start_analysis: datetime\n",
      "        Start date for the analysis\n",
      "    \n",
      "    end_analysis: datetime\n",
      "        End date for the analysis\n",
      "    \n",
      "    catfield : string or List of strings, optional\n",
      "        Column name(s) corresponding to the categories. If none is specified, then only overall occupancy is analyzed.\n",
      "    \n",
      "    total_str: string, default 'Total'\n",
      "        Value to use for the totals\n",
      "    \n",
      "    bin_size_minutes: int, default 60\n",
      "        Bin size in minutes. Should divide evenly into 1440.\n",
      "    \n",
      "    cat_to_exclude: list of str, default None\n",
      "        Categories to ignore\n",
      "    \n",
      "    totals: bool, default True\n",
      "        If true, overall totals are computed. Else, just category specific values computed.\n",
      "    \n",
      "    verbose : int, default 0\n",
      "        The verbosity level. The default, zero, means silent mode.\n",
      "    \n",
      "    Returns\n",
      "    -------\n",
      "    DataFrame\n",
      "       Occupancy, arrivals, departures by category by datetime bin\n",
      "    \n",
      "    Examples\n",
      "    --------\n",
      "    bydt_df = make_bydatetime(stops_df,'InTime','OutTime',\n",
      "    ...                        datetime(2014, 3, 1),datetime(2014, 6, 30),'PatientType','Total',60)\n",
      "    \n",
      "    \n",
      "    TODO\n",
      "    ----\n",
      "    \n",
      "    - add parameter and code to handle occ frac choice\n",
      "    - generalize to handle choice of arr, dep, occ or some combo of\n",
      "    \n",
      "     Notes\n",
      "    -----\n",
      "    \n",
      "    \n",
      "    References\n",
      "    ----------\n",
      "    \n",
      "    \n",
      "    See Also\n",
      "    --------\n",
      "\n"
     ]
    }
   ],
   "source": [
    "help(bydatetime.make_bydatetime)"
   ]
  },
  {
   "cell_type": "code",
   "execution_count": 8,
   "metadata": {
    "collapsed": true
   },
   "outputs": [],
   "source": [
    "file_stopdata = '../data/ShortStay2.csv'\n",
    "\n",
    "scenario = 'iss17_test1'\n",
    "in_fld_name = 'InRoomTS'\n",
    "out_fld_name = 'OutRoomTS'\n",
    "cat_fld_name = 'PatType'\n",
    "start_analysis_dt = '1/1/1996'\n",
    "end_analysis_dt = '3/30/1996 23:45'\n",
    "\n",
    "# Optional inputs\n",
    "tot_fld_name = 'SSU'\n",
    "bin_size_minutes = 60"
   ]
  },
  {
   "cell_type": "code",
   "execution_count": 9,
   "metadata": {
    "collapsed": false
   },
   "outputs": [],
   "source": [
    "stops_df = pd.read_csv(file_stopdata, parse_dates=[in_fld_name, out_fld_name])"
   ]
  },
  {
   "cell_type": "code",
   "execution_count": 10,
   "metadata": {
    "collapsed": false
   },
   "outputs": [
    {
     "data": {
      "text/html": [
       "<div>\n",
       "<table border=\"1\" class=\"dataframe\">\n",
       "  <thead>\n",
       "    <tr style=\"text-align: right;\">\n",
       "      <th></th>\n",
       "      <th>PatID</th>\n",
       "      <th>InRoomTS</th>\n",
       "      <th>OutRoomTS</th>\n",
       "      <th>PatType</th>\n",
       "      <th>Severity</th>\n",
       "    </tr>\n",
       "  </thead>\n",
       "  <tbody>\n",
       "    <tr>\n",
       "      <th>59873</th>\n",
       "      <td>59874</td>\n",
       "      <td>1996-09-30 20:23:00</td>\n",
       "      <td>1996-09-30 21:30:00</td>\n",
       "      <td>IVT</td>\n",
       "      <td>2</td>\n",
       "    </tr>\n",
       "    <tr>\n",
       "      <th>59874</th>\n",
       "      <td>59875</td>\n",
       "      <td>1996-09-30 21:00:00</td>\n",
       "      <td>1996-09-30 22:45:00</td>\n",
       "      <td>CAT</td>\n",
       "      <td>1</td>\n",
       "    </tr>\n",
       "    <tr>\n",
       "      <th>59875</th>\n",
       "      <td>59876</td>\n",
       "      <td>1996-09-30 21:57:00</td>\n",
       "      <td>1996-09-30 22:40:00</td>\n",
       "      <td>IVT</td>\n",
       "      <td>2</td>\n",
       "    </tr>\n",
       "    <tr>\n",
       "      <th>59876</th>\n",
       "      <td>59877</td>\n",
       "      <td>1996-09-30 22:45:00</td>\n",
       "      <td>1996-09-30 23:35:00</td>\n",
       "      <td>CAT</td>\n",
       "      <td>1</td>\n",
       "    </tr>\n",
       "  </tbody>\n",
       "</table>\n",
       "</div>"
      ],
      "text/plain": [
       "       PatID            InRoomTS           OutRoomTS PatType  Severity\n",
       "59873  59874 1996-09-30 20:23:00 1996-09-30 21:30:00     IVT         2\n",
       "59874  59875 1996-09-30 21:00:00 1996-09-30 22:45:00     CAT         1\n",
       "59875  59876 1996-09-30 21:57:00 1996-09-30 22:40:00     IVT         2\n",
       "59876  59877 1996-09-30 22:45:00 1996-09-30 23:35:00     CAT         1"
      ]
     },
     "execution_count": 10,
     "metadata": {},
     "output_type": "execute_result"
    }
   ],
   "source": [
    "stops_df.tail(4)"
   ]
  },
  {
   "cell_type": "code",
   "execution_count": 11,
   "metadata": {
    "collapsed": true
   },
   "outputs": [],
   "source": [
    "catfield = ['PatType','Severity']"
   ]
  },
  {
   "cell_type": "code",
   "execution_count": 12,
   "metadata": {
    "collapsed": false
   },
   "outputs": [
    {
     "data": {
      "text/plain": [
       "'Severity'"
      ]
     },
     "execution_count": 12,
     "metadata": {},
     "output_type": "execute_result"
    }
   ],
   "source": [
    "catfield[1]"
   ]
  },
  {
   "cell_type": "code",
   "execution_count": 13,
   "metadata": {
    "collapsed": false
   },
   "outputs": [
    {
     "data": {
      "text/plain": [
       "2"
      ]
     },
     "execution_count": 13,
     "metadata": {},
     "output_type": "execute_result"
    }
   ],
   "source": [
    "len(catfield)"
   ]
  },
  {
   "cell_type": "code",
   "execution_count": 11,
   "metadata": {
    "collapsed": false
   },
   "outputs": [
    {
     "data": {
      "text/plain": [
       "range(0, 2)"
      ]
     },
     "execution_count": 11,
     "metadata": {},
     "output_type": "execute_result"
    }
   ],
   "source": [
    "range(len(catfield))"
   ]
  },
  {
   "cell_type": "code",
   "execution_count": 32,
   "metadata": {
    "collapsed": false
   },
   "outputs": [
    {
     "name": "stdout",
     "output_type": "stream",
     "text": [
      "0\n",
      "1\n"
     ]
    }
   ],
   "source": [
    "for i in range(len(catfield)):\n",
    "    print(i)"
   ]
  },
  {
   "cell_type": "code",
   "execution_count": 33,
   "metadata": {
    "collapsed": false
   },
   "outputs": [],
   "source": [
    "cats = []\n",
    "cat_to_exclude = [[],[]]\n",
    "for i in range(len(catfield)):\n",
    "    cats.append(tuple([c for c in stops_df[catfield[i]].unique() if c not in cat_to_exclude[i]]))"
   ]
  },
  {
   "cell_type": "code",
   "execution_count": 34,
   "metadata": {
    "collapsed": false
   },
   "outputs": [
    {
     "data": {
      "text/plain": [
       "[('IVT', 'MYE', 'CAT', 'ART', 'OTH'), (1, 2)]"
      ]
     },
     "execution_count": 34,
     "metadata": {},
     "output_type": "execute_result"
    }
   ],
   "source": [
    "cats"
   ]
  },
  {
   "cell_type": "code",
   "execution_count": 14,
   "metadata": {
    "collapsed": false
   },
   "outputs": [],
   "source": [
    "categories = []\n",
    "cat_to_exclude = [[],[]]\n",
    "if cat_to_exclude is not None:\n",
    "        for i in range(len(catfield)):\n",
    "            categories.append(tuple([c for c in stops_df[catfield[i]].unique() if c not in cat_to_exclude[i]]))\n",
    "else:\n",
    "        for i in range(len(catfield)):\n",
    "            categories.append(tuple([c for c in stops_df[catfield[i]].unique()]))\n"
   ]
  },
  {
   "cell_type": "code",
   "execution_count": 15,
   "metadata": {
    "collapsed": false
   },
   "outputs": [
    {
     "data": {
      "text/plain": [
       "[('IVT', 'MYE', 'CAT', 'ART', 'OTH'), (1, 2)]"
      ]
     },
     "execution_count": 15,
     "metadata": {},
     "output_type": "execute_result"
    }
   ],
   "source": [
    "categories"
   ]
  },
  {
   "cell_type": "code",
   "execution_count": 15,
   "metadata": {
    "collapsed": false
   },
   "outputs": [],
   "source": [
    "n_catfields = len(catfield)"
   ]
  },
  {
   "cell_type": "code",
   "execution_count": 16,
   "metadata": {
    "collapsed": false
   },
   "outputs": [
    {
     "data": {
      "text/plain": [
       "['PatType', 'Severity', 'datetime', 'arrivals', 'departures', 'occupancy']"
      ]
     },
     "execution_count": 16,
     "metadata": {},
     "output_type": "execute_result"
    }
   ],
   "source": [
    "cols = []\n",
    "measures = ['datetime', 'arrivals', 'departures', 'occupancy']\n",
    "for cat in catfield:\n",
    "    cols.append(cat)\n",
    "cols.extend(measures)\n",
    "cols"
   ]
  },
  {
   "cell_type": "code",
   "execution_count": null,
   "metadata": {
    "collapsed": true
   },
   "outputs": [],
   "source": []
  },
  {
   "cell_type": "code",
   "execution_count": 17,
   "metadata": {
    "collapsed": false
   },
   "outputs": [],
   "source": [
    "# Create a list of column names for the by datetime table and then an empty data frame based on these columns.\n",
    "\n",
    "bydt_df = pd.DataFrame(columns=cols)"
   ]
  },
  {
   "cell_type": "code",
   "execution_count": 44,
   "metadata": {
    "collapsed": false
   },
   "outputs": [
    {
     "name": "stdout",
     "output_type": "stream",
     "text": [
      "<class 'pandas.core.frame.DataFrame'>\n",
      "Index: 0 entries\n",
      "Data columns (total 6 columns):\n",
      "PatType       0 non-null object\n",
      "Severity      0 non-null object\n",
      "datetime      0 non-null object\n",
      "arrivals      0 non-null object\n",
      "departures    0 non-null object\n",
      "occupancy     0 non-null object\n",
      "dtypes: object(6)\n",
      "memory usage: 0.0+ bytes\n"
     ]
    }
   ],
   "source": [
    "bydt_df.info()"
   ]
  },
  {
   "cell_type": "code",
   "execution_count": 18,
   "metadata": {
    "collapsed": false
   },
   "outputs": [
    {
     "name": "stdout",
     "output_type": "stream",
     "text": [
      "(('IVT', 'MYE', 'CAT', 'ART', 'OTH'),)\n",
      "((1, 2),)\n"
     ]
    }
   ],
   "source": [
    "for z in zip([c for c in categories]):\n",
    "    print(z)"
   ]
  },
  {
   "cell_type": "code",
   "execution_count": 51,
   "metadata": {
    "collapsed": false
   },
   "outputs": [
    {
     "data": {
      "text/plain": [
       "<itertools.product at 0x7f3f8fff9d38>"
      ]
     },
     "execution_count": 51,
     "metadata": {},
     "output_type": "execute_result"
    }
   ],
   "source": [
    "itertools.product(('IVT', 'MYE', 'CAT', 'ART', 'OTH'),(1,2))"
   ]
  },
  {
   "cell_type": "code",
   "execution_count": 56,
   "metadata": {
    "collapsed": false
   },
   "outputs": [
    {
     "name": "stdout",
     "output_type": "stream",
     "text": [
      "('IVT', 1)\n",
      "('IVT', 2)\n",
      "('MYE', 1)\n",
      "('MYE', 2)\n",
      "('CAT', 1)\n",
      "('CAT', 2)\n",
      "('ART', 1)\n",
      "('ART', 2)\n",
      "('OTH', 1)\n",
      "('OTH', 2)\n"
     ]
    }
   ],
   "source": [
    "for p in itertools.product(['IVT', 'MYE', 'CAT', 'ART', 'OTH'],[1,2]):\n",
    "    print(p)"
   ]
  },
  {
   "cell_type": "code",
   "execution_count": 21,
   "metadata": {
    "collapsed": false
   },
   "outputs": [
    {
     "name": "stdout",
     "output_type": "stream",
     "text": [
      "('IVT', 1)\n",
      "IVT 1\n",
      "('IVT', 2)\n",
      "IVT 2\n",
      "('MYE', 1)\n",
      "MYE 1\n",
      "('MYE', 2)\n",
      "MYE 2\n",
      "('CAT', 1)\n",
      "CAT 1\n",
      "('CAT', 2)\n",
      "CAT 2\n",
      "('ART', 1)\n",
      "ART 1\n",
      "('ART', 2)\n",
      "ART 2\n",
      "('OTH', 1)\n",
      "OTH 1\n",
      "('OTH', 2)\n",
      "OTH 2\n"
     ]
    }
   ],
   "source": [
    "for p in itertools.product(*categories):\n",
    "    print(p)\n",
    "    print(*p)"
   ]
  },
  {
   "cell_type": "code",
   "execution_count": 23,
   "metadata": {
    "collapsed": false
   },
   "outputs": [
    {
     "name": "stdout",
     "output_type": "stream",
     "text": [
      "('IVT', 'MYE', 'CAT', 'ART', 'OTH') (1, 2)\n"
     ]
    }
   ],
   "source": [
    "print(*categories)"
   ]
  },
  {
   "cell_type": "code",
   "execution_count": 36,
   "metadata": {
    "collapsed": false
   },
   "outputs": [
    {
     "name": "stdout",
     "output_type": "stream",
     "text": [
      "['IVT', 1] IVT 1\n",
      "['IVT', 2] IVT 2\n",
      "['MYE', 1] MYE 1\n",
      "['MYE', 2] MYE 2\n",
      "['CAT', 1] CAT 1\n",
      "['CAT', 2] CAT 2\n",
      "['ART', 1] ART 1\n",
      "['ART', 2] ART 2\n",
      "['OTH', 1] OTH 1\n",
      "['OTH', 2] OTH 2\n"
     ]
    }
   ],
   "source": [
    "for p in itertools.product(('IVT', 'MYE', 'CAT', 'ART', 'OTH'),(1,2)):\n",
    "    print([*p],p[0],p[1])"
   ]
  },
  {
   "cell_type": "code",
   "execution_count": 19,
   "metadata": {
    "collapsed": true
   },
   "outputs": [],
   "source": [
    "df1 = pd.DataFrame({'B': ['B0', 'B1', 'B2', 'B3'],\n",
    "   ...:                     'D': ['D0', 'D1', 'D2', 'D3']},\n",
    "   ...:                     index=[0, 1, 2, 3])"
   ]
  },
  {
   "cell_type": "code",
   "execution_count": 19,
   "metadata": {
    "collapsed": true
   },
   "outputs": [],
   "source": [
    "df1 = pd.DataFrame({'B': ['B0', 'B1', 'B2', 'B3'],\n",
    "   ...:                     'D': ['D0', 'D1', 'D2', 'D3']},\n",
    "   ...:                     index=[0, 1, 2, 3])"
   ]
  },
  {
   "cell_type": "code",
   "execution_count": 20,
   "metadata": {
    "collapsed": false
   },
   "outputs": [
    {
     "data": {
      "text/html": [
       "<div>\n",
       "<table border=\"1\" class=\"dataframe\">\n",
       "  <thead>\n",
       "    <tr style=\"text-align: right;\">\n",
       "      <th></th>\n",
       "      <th>B</th>\n",
       "      <th>D</th>\n",
       "    </tr>\n",
       "  </thead>\n",
       "  <tbody>\n",
       "    <tr>\n",
       "      <th>0</th>\n",
       "      <td>B0</td>\n",
       "      <td>D0</td>\n",
       "    </tr>\n",
       "    <tr>\n",
       "      <th>1</th>\n",
       "      <td>B1</td>\n",
       "      <td>D1</td>\n",
       "    </tr>\n",
       "    <tr>\n",
       "      <th>2</th>\n",
       "      <td>B2</td>\n",
       "      <td>D2</td>\n",
       "    </tr>\n",
       "    <tr>\n",
       "      <th>3</th>\n",
       "      <td>B3</td>\n",
       "      <td>D3</td>\n",
       "    </tr>\n",
       "  </tbody>\n",
       "</table>\n",
       "</div>"
      ],
      "text/plain": [
       "    B   D\n",
       "0  B0  D0\n",
       "1  B1  D1\n",
       "2  B2  D2\n",
       "3  B3  D3"
      ]
     },
     "execution_count": 20,
     "metadata": {},
     "output_type": "execute_result"
    }
   ],
   "source": [
    "df1"
   ]
  },
  {
   "cell_type": "code",
   "execution_count": 21,
   "metadata": {
    "collapsed": true
   },
   "outputs": [],
   "source": [
    "df2 = pd.DataFrame({'A': ['A0', 'A1', 'A2', 'A3'],\n",
    "   ...:                     'C': ['C0', 'C1', 'C2', 'C3']},               \n",
    "   ...:                     index=[0, 1, 2, 3])"
   ]
  },
  {
   "cell_type": "code",
   "execution_count": 22,
   "metadata": {
    "collapsed": false
   },
   "outputs": [
    {
     "data": {
      "text/html": [
       "<div>\n",
       "<table border=\"1\" class=\"dataframe\">\n",
       "  <thead>\n",
       "    <tr style=\"text-align: right;\">\n",
       "      <th></th>\n",
       "      <th>A</th>\n",
       "      <th>C</th>\n",
       "    </tr>\n",
       "  </thead>\n",
       "  <tbody>\n",
       "    <tr>\n",
       "      <th>0</th>\n",
       "      <td>A0</td>\n",
       "      <td>C0</td>\n",
       "    </tr>\n",
       "    <tr>\n",
       "      <th>1</th>\n",
       "      <td>A1</td>\n",
       "      <td>C1</td>\n",
       "    </tr>\n",
       "    <tr>\n",
       "      <th>2</th>\n",
       "      <td>A2</td>\n",
       "      <td>C2</td>\n",
       "    </tr>\n",
       "    <tr>\n",
       "      <th>3</th>\n",
       "      <td>A3</td>\n",
       "      <td>C3</td>\n",
       "    </tr>\n",
       "  </tbody>\n",
       "</table>\n",
       "</div>"
      ],
      "text/plain": [
       "    A   C\n",
       "0  A0  C0\n",
       "1  A1  C1\n",
       "2  A2  C2\n",
       "3  A3  C3"
      ]
     },
     "execution_count": 22,
     "metadata": {},
     "output_type": "execute_result"
    }
   ],
   "source": [
    "df2"
   ]
  },
  {
   "cell_type": "code",
   "execution_count": 23,
   "metadata": {
    "collapsed": false
   },
   "outputs": [
    {
     "data": {
      "text/html": [
       "<div>\n",
       "<table border=\"1\" class=\"dataframe\">\n",
       "  <thead>\n",
       "    <tr style=\"text-align: right;\">\n",
       "      <th></th>\n",
       "      <th>B</th>\n",
       "      <th>D</th>\n",
       "      <th>A</th>\n",
       "      <th>C</th>\n",
       "    </tr>\n",
       "  </thead>\n",
       "  <tbody>\n",
       "    <tr>\n",
       "      <th>0</th>\n",
       "      <td>B0</td>\n",
       "      <td>D0</td>\n",
       "      <td>A0</td>\n",
       "      <td>C0</td>\n",
       "    </tr>\n",
       "    <tr>\n",
       "      <th>1</th>\n",
       "      <td>B1</td>\n",
       "      <td>D1</td>\n",
       "      <td>A1</td>\n",
       "      <td>C1</td>\n",
       "    </tr>\n",
       "    <tr>\n",
       "      <th>2</th>\n",
       "      <td>B2</td>\n",
       "      <td>D2</td>\n",
       "      <td>A2</td>\n",
       "      <td>C2</td>\n",
       "    </tr>\n",
       "    <tr>\n",
       "      <th>3</th>\n",
       "      <td>B3</td>\n",
       "      <td>D3</td>\n",
       "      <td>A3</td>\n",
       "      <td>C3</td>\n",
       "    </tr>\n",
       "  </tbody>\n",
       "</table>\n",
       "</div>"
      ],
      "text/plain": [
       "    B   D   A   C\n",
       "0  B0  D0  A0  C0\n",
       "1  B1  D1  A1  C1\n",
       "2  B2  D2  A2  C2\n",
       "3  B3  D3  A3  C3"
      ]
     },
     "execution_count": 23,
     "metadata": {},
     "output_type": "execute_result"
    }
   ],
   "source": [
    "pd.concat([df1,df2],axis=1)"
   ]
  },
  {
   "cell_type": "code",
   "execution_count": 32,
   "metadata": {
    "collapsed": false
   },
   "outputs": [
    {
     "name": "stdout",
     "output_type": "stream",
     "text": [
      "['PatType', 'Severity']\n"
     ]
    }
   ],
   "source": [
    "print(catfield)"
   ]
  },
  {
   "cell_type": "code",
   "execution_count": 31,
   "metadata": {
    "collapsed": false
   },
   "outputs": [],
   "source": [
    "rng_bydt = pd.date_range(start_analysis_dt, end_analysis_dt, freq=Minute(bin_size_minutes))"
   ]
  },
  {
   "cell_type": "code",
   "execution_count": 39,
   "metadata": {
    "collapsed": false
   },
   "outputs": [
    {
     "data": {
      "text/plain": [
       "<itertools.product at 0x7fb68b660c60>"
      ]
     },
     "execution_count": 39,
     "metadata": {},
     "output_type": "execute_result"
    }
   ],
   "source": [
    "itertools.product(*categories)"
   ]
  },
  {
   "cell_type": "code",
   "execution_count": null,
   "metadata": {
    "collapsed": false
   },
   "outputs": [],
   "source": [
    "len_bydt = len(rng_bydt)\n",
    "for p in itertools.product(*categories):\n",
    "        i=0\n",
    "        cat_df = DataFrame(columns=catfield)\n",
    "        for c in [*p]:\n",
    "            print(c)\n",
    "            bydt_catdata = {catfield[i]: [c] * len_bydt}\n",
    "            cat_df_cat = DataFrame(bydt_catdata, columns=[catfield[i]])\n",
    "            cat_df_cat.info()\n",
    "            #cat_df = pd.concat([cat_df, cat_df_cat],axis=1)\n",
    "            i+=1"
   ]
  },
  {
   "cell_type": "code",
   "execution_count": 35,
   "metadata": {
    "collapsed": false
   },
   "outputs": [
    {
     "name": "stdout",
     "output_type": "stream",
     "text": [
      "<class 'pandas.core.frame.DataFrame'>\n",
      "Int64Index: 2160 entries, 0 to 2159\n",
      "Data columns (total 4 columns):\n",
      "PatType                      0 non-null object\n",
      "Severity                     0 non-null object\n",
      "(IVT, MYE, CAT, ART, OTH)    2160 non-null object\n",
      "(1, 2)                       2160 non-null int64\n",
      "dtypes: int64(1), object(3)\n",
      "memory usage: 84.4+ KB\n"
     ]
    }
   ],
   "source": [
    "cat_df.info()"
   ]
  },
  {
   "cell_type": "code",
   "execution_count": null,
   "metadata": {
    "collapsed": true
   },
   "outputs": [],
   "source": []
  }
 ],
 "metadata": {
  "kernelspec": {
   "display_name": "Python 3",
   "language": "python",
   "name": "python3"
  },
  "language_info": {
   "codemirror_mode": {
    "name": "ipython",
    "version": 3
   },
   "file_extension": ".py",
   "mimetype": "text/x-python",
   "name": "python",
   "nbconvert_exporter": "python",
   "pygments_lexer": "ipython3",
   "version": "3.5.1"
  }
 },
 "nbformat": 4,
 "nbformat_minor": 0
}
