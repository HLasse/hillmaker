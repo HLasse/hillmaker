{
 "cells": [
  {
   "cell_type": "code",
   "execution_count": 1,
   "metadata": {
    "collapsed": true
   },
   "outputs": [],
   "source": [
    "%matplotlib inline"
   ]
  },
  {
   "cell_type": "code",
   "execution_count": 3,
   "metadata": {
    "collapsed": true
   },
   "outputs": [],
   "source": [
    "import numpy as np\n",
    "from numpy.random import randn\n",
    "import pandas as pd\n",
    "from scipy import stats\n",
    "import matplotlib as mpl\n",
    "import matplotlib.pyplot as plt\n",
    "import seaborn as sns\n",
    "\n",
    "from pandas import Timestamp\n",
    "\n",
    "import re\n",
    "\n",
    "import hillmaker as hm"
   ]
  },
  {
   "cell_type": "code",
   "execution_count": 24,
   "metadata": {
    "collapsed": false
   },
   "outputs": [],
   "source": [
    "file_stopdata = 'data/unit_stop_log_Experiment1_Scenario1_Rep1.csv'\n",
    "\n",
    "scenario_name = 'log_unitocc_test_steadystate'\n",
    "in_fld_name = 'EnteredTS'\n",
    "out_fld_name = 'ExitedTS'\n",
    "cat_fld_name = 'Unit'\n",
    "start_analysis = '6/24/2015 00:00'\n",
    "end_analysis = '6/16/2016 00:00'\n",
    "\n",
    "# Optional inputs\n",
    "\n",
    "tot_fld_name = 'OBTot'\n",
    "bin_size_mins = 1440\n",
    "includecats = ['Obs','LDR','PP']\n",
    "\n"
   ]
  },
  {
   "cell_type": "code",
   "execution_count": 4,
   "metadata": {
    "collapsed": false
   },
   "outputs": [],
   "source": [
    "rx = re.compile(r'Scenario([0-9]){1,3}_Rep([0-9]){1,2}')"
   ]
  },
  {
   "cell_type": "code",
   "execution_count": 38,
   "metadata": {
    "collapsed": false
   },
   "outputs": [
    {
     "data": {
      "text/plain": [
       "(49575, 16)"
      ]
     },
     "execution_count": 38,
     "metadata": {},
     "output_type": "execute_result"
    }
   ],
   "source": [
    "stops_df = pd.read_csv(file_stopdata,index_col=0)\n",
    "basedate = Timestamp('20150215 00:00:00')\n",
    "stops_df['EnteredTS'] = stops_df.apply(lambda row:\n",
    "                           Timestamp(round((basedate + pd.DateOffset(hours=row['Entered'])).value,-9)), axis=1)\n",
    "\n",
    "stops_df['ExitedTS'] = stops_df.apply(lambda row:\n",
    "                          Timestamp(round((basedate + pd.DateOffset(hours=row['Exited'])).value,-9)), axis=1)\n",
    "\n",
    "stops_df = stops_df[stops_df[cat_fld_name].isin(includecats)]\n",
    "\n",
    "start_analysis_dt = pd.Timestamp(start_analysis)\n",
    "end_analysis_dt = pd.Timestamp(end_analysis)\n",
    "\n",
    "stops_df.shape "
   ]
  },
  {
   "cell_type": "code",
   "execution_count": 39,
   "metadata": {
    "collapsed": false
   },
   "outputs": [
    {
     "data": {
      "text/plain": [
       "(17631, 16)"
      ]
     },
     "execution_count": 39,
     "metadata": {},
     "output_type": "execute_result"
    }
   ],
   "source": [
    "# Now filter the stops dataframe so only records that will count for occupancy are included. This\n",
    "# will allow us to analyze the blocking related columns directly (since no blocking during warmup will be included)\n",
    "stops_df = stops_df[(stops_df['EnteredTS'] <= end_analysis_dt) & (stops_df['ExitedTS'] >= start_analysis_dt)]\n",
    "stops_df.shape "
   ]
  },
  {
   "cell_type": "code",
   "execution_count": 5,
   "metadata": {
    "collapsed": false
   },
   "outputs": [
    {
     "name": "stdout",
     "output_type": "stream",
     "text": [
      "1 1\n"
     ]
    }
   ],
   "source": [
    "m = re.search(rx, file_stopdata)\n",
    "\n",
    "scenario_num = m.group(1)\n",
    "rep_num = m.group(2)\n",
    "\n",
    "print (scenario_num, rep_num)"
   ]
  },
  {
   "cell_type": "code",
   "execution_count": 6,
   "metadata": {
    "collapsed": false
   },
   "outputs": [],
   "source": [
    "fn_bydatetime = 'testing/bydatetime_' + scenario_name + '.csv'\n",
    "fn_occ_summary = 'testing/occ_stats_summary_' + scenario_name + '.csv'\n",
    "fn_arr_summary = 'testing/arr_stats_summary_' + scenario_name + '.csv'\n",
    "fn_dep_summary = 'testing/dep_stats_summary_' + scenario_name + '.csv'"
   ]
  },
  {
   "cell_type": "code",
   "execution_count": 27,
   "metadata": {
    "collapsed": false
   },
   "outputs": [
    {
     "name": "stdout",
     "output_type": "stream",
     "text": [
      "min of intime: 2015-02-15 00:00:00\n",
      "max of outtime: 2017-11-10 23:33:11\n",
      "rng_bydt created: 0.0071\n",
      "using specified categories: 0.0231\n",
      "Seeded bydatetime DataFrame created: 0.0533\n",
      "dayofweek, bin_of_day, bin_of_week computed: 0.0819\n",
      "Multi-index on bydatetime DataFrame created: 0.0839\n",
      "Multi-index fully lexsorted: 0.0858\n",
      "Latest edits at 2015-07-07 08:26:45.380717\n",
      "Num inner: 17552\n",
      "{'left': 35, 'inner': 17552, 'right': 44}\n",
      "Done processing 17631 stop recs: 14.7413\n",
      "Done adding totals: 14.8043\n",
      "Done with summary stats: 49.73605\n",
      "Done with overall summary stats: 49.871479\n"
     ]
    }
   ],
   "source": [
    "hm.run_hillmaker(scenario_name,stops_df,in_fld_name, out_fld_name,cat_fld_name,start_analysis,end_analysis,tot_fld_name,bin_size_mins,categories=includecats,outputpath='./testing')"
   ]
  },
  {
   "cell_type": "code",
   "execution_count": 40,
   "metadata": {
    "collapsed": false
   },
   "outputs": [
    {
     "name": "stdout",
     "output_type": "stream",
     "text": [
      "min of intime: 2015-06-12 17:06:07\n",
      "max of outtime: 2016-06-27 20:40:20\n",
      "rng_bydt created: 0.0038\n",
      "using specified categories: 0.0110\n",
      "Seeded bydatetime DataFrame created: 0.0277\n",
      "dayofweek, bin_of_day, bin_of_week computed: 0.0621\n",
      "Multi-index on bydatetime DataFrame created: 0.0652\n",
      "Multi-index fully lexsorted: 0.0692\n",
      "Latest edits at 2015-07-07 09:09:59.825809\n",
      "Num inner: 17552\n",
      "{'left': 35, 'inner': 17552, 'right': 44}\n",
      "Done processing 17631 stop recs: 13.7587\n",
      "Done adding totals: 13.7851\n",
      "Done with summary stats: 110.532059\n",
      "Done with overall summary stats: 110.667795\n"
     ]
    }
   ],
   "source": [
    "hm.run_hillmaker(scenario_name,stops_df,in_fld_name, out_fld_name,cat_fld_name,start_analysis,end_analysis,tot_fld_name,bin_size_mins,categories=includecats,outputpath='./testing')"
   ]
  },
  {
   "cell_type": "code",
   "execution_count": 28,
   "metadata": {
    "collapsed": true
   },
   "outputs": [],
   "source": [
    "occ_df = pd.read_csv(fn_occ_summary)"
   ]
  },
  {
   "cell_type": "code",
   "execution_count": 29,
   "metadata": {
    "collapsed": false
   },
   "outputs": [],
   "source": [
    "bydt_df = pd.read_csv(fn_bydatetime)"
   ]
  },
  {
   "cell_type": "code",
   "execution_count": 12,
   "metadata": {
    "collapsed": true
   },
   "outputs": [],
   "source": [
    "def num_gt_0(column):\n",
    "    return (column != 0).sum()\n",
    "\n",
    "def get_stats(group, stub=''):\n",
    "    return {stub+'count': group.count(), stub+'mean': group.mean(),\n",
    "            stub+'min': group.min(), stub+'num_gt_0': num_gt_0(group),\n",
    "            stub+'max': group.max(), stub+'stdev': group.std(), \n",
    "            stub+'p01': group.quantile(0.01), stub+'p025': group.quantile(0.025),\n",
    "            stub+'p05': group.quantile(0.05), stub+'p25': group.quantile(0.25),\n",
    "            stub+'p50': group.quantile(0.5), stub+'p75': group.quantile(0.75),\n",
    "            stub+'p90': group.quantile(0.9), stub+'p95': group.quantile(0.95),\n",
    "            stub+'p975': group.quantile(0.975), stub+'p99': group.quantile(0.99)}"
   ]
  },
  {
   "cell_type": "code",
   "execution_count": 10,
   "metadata": {
    "collapsed": true
   },
   "outputs": [],
   "source": [
    "pp_occ = bydt_df[(bydt_df['category'] == 'PP')]['occupancy']"
   ]
  },
  {
   "cell_type": "code",
   "execution_count": 18,
   "metadata": {
    "collapsed": false
   },
   "outputs": [
    {
     "data": {
      "text/plain": [
       "count    359.000000\n",
       "mean      35.928327\n",
       "std        4.930759\n",
       "min       22.050231\n",
       "25%       32.463605\n",
       "50%       35.783588\n",
       "75%       39.436146\n",
       "max       46.000000\n",
       "Name: occupancy, dtype: float64"
      ]
     },
     "execution_count": 18,
     "metadata": {},
     "output_type": "execute_result"
    }
   ],
   "source": [
    "pp_occ.describe()"
   ]
  },
  {
   "cell_type": "code",
   "execution_count": 13,
   "metadata": {
    "collapsed": false
   },
   "outputs": [
    {
     "data": {
      "text/plain": [
       "{'count': 359,\n",
       " 'max': 46.0,\n",
       " 'mean': 35.9283265629836,\n",
       " 'min': 22.050231481481489,\n",
       " 'num_gt_0': 359,\n",
       " 'p01': 25.770185648148146,\n",
       " 'p025': 26.367486111111116,\n",
       " 'p05': 27.656700231481484,\n",
       " 'p25': 32.463605324074081,\n",
       " 'p50': 35.783587962962962,\n",
       " 'p75': 39.436145833333327,\n",
       " 'p90': 42.362648148148139,\n",
       " 'p95': 44.468702546296292,\n",
       " 'p975': 45.347137152777769,\n",
       " 'p99': 45.783168518518508,\n",
       " 'stdev': 4.9307588888398506}"
      ]
     },
     "execution_count": 13,
     "metadata": {},
     "output_type": "execute_result"
    }
   ],
   "source": [
    "get_stats(pp_occ)"
   ]
  },
  {
   "cell_type": "code",
   "execution_count": 14,
   "metadata": {
    "collapsed": true
   },
   "outputs": [],
   "source": [
    "ldr_occ = bydt_df[(bydt_df['category'] == 'LDR')]['occupancy']"
   ]
  },
  {
   "cell_type": "code",
   "execution_count": 22,
   "metadata": {
    "collapsed": false
   },
   "outputs": [
    {
     "data": {
      "text/plain": [
       "count    359.000000\n",
       "mean       8.160660\n",
       "std        2.162119\n",
       "min        0.000000\n",
       "25%        6.568762\n",
       "50%        8.158715\n",
       "75%        9.571510\n",
       "max       13.000000\n",
       "Name: occupancy, dtype: float64"
      ]
     },
     "execution_count": 22,
     "metadata": {},
     "output_type": "execute_result"
    }
   ],
   "source": [
    "ldr_occ.describe()"
   ]
  },
  {
   "cell_type": "code",
   "execution_count": 15,
   "metadata": {
    "collapsed": false
   },
   "outputs": [
    {
     "data": {
      "text/plain": [
       "{'count': 359,\n",
       " 'max': 12.999999999999998,\n",
       " 'mean': 8.1606601735788704,\n",
       " 'min': 0.0,\n",
       " 'num_gt_0': 358,\n",
       " 'p01': 3.3891692129629636,\n",
       " 'p025': 4.0458969907407418,\n",
       " 'p05': 4.772981481481481,\n",
       " 'p25': 6.5687615740740739,\n",
       " 'p50': 8.1587152777777785,\n",
       " 'p75': 9.5715104166666656,\n",
       " 'p90': 11.049131944444444,\n",
       " 'p95': 11.785155092592589,\n",
       " 'p975': 12.445212384259259,\n",
       " 'p99': 12.860917592592592,\n",
       " 'stdev': 2.1621193043684652}"
      ]
     },
     "execution_count": 15,
     "metadata": {},
     "output_type": "execute_result"
    }
   ],
   "source": [
    "get_stats(ldr_occ)"
   ]
  },
  {
   "cell_type": "code",
   "execution_count": 15,
   "metadata": {
    "collapsed": false
   },
   "outputs": [
    {
     "data": {
      "text/plain": [
       "(array([  2.,   4.,  16.,  26.,  28.,  50.,  62.,  42.,  54.,  31.,  23.,\n",
       "         21.]), array([ 22.05023148,  24.04604552,  26.04185957,  28.03767361,\n",
       "         30.03348765,  32.0293017 ,  34.02511574,  36.02092978,\n",
       "         38.01674383,  40.01255787,  42.00837191,  44.00418596,  46.        ]), <a list of 12 Patch objects>)"
      ]
     },
     "execution_count": 15,
     "metadata": {},
     "output_type": "execute_result"
    },
    {
     "data": {
      "image/png": "[encoded data removed]",
      "text/plain": [
       "<matplotlib.figure.Figure at 0x7fdbecf58940>"
      ]
     },
     "metadata": {},
     "output_type": "display_data"
    }
   ],
   "source": [
    "plt.hist(pp_occ.values,12)"
   ]
  },
  {
   "cell_type": "code",
   "execution_count": 16,
   "metadata": {
    "collapsed": false
   },
   "outputs": [
    {
     "data": {
      "text/plain": [
       "(array([  1.,   0.,   0.,   1.,   1.,   3.,  11.,   9.,  22.,  39.,  29.,\n",
       "         44.,  42.,  38.,  37.,  21.,  25.,  17.,   8.,  11.]),\n",
       " array([  0.  ,   0.65,   1.3 ,   1.95,   2.6 ,   3.25,   3.9 ,   4.55,\n",
       "          5.2 ,   5.85,   6.5 ,   7.15,   7.8 ,   8.45,   9.1 ,   9.75,\n",
       "         10.4 ,  11.05,  11.7 ,  12.35,  13.  ]),\n",
       " <a list of 20 Patch objects>)"
      ]
     },
     "execution_count": 16,
     "metadata": {},
     "output_type": "execute_result"
    },
    {
     "data": {
      "image/png": "[encoded data removed]",
      "text/plain": [
       "<matplotlib.figure.Figure at 0x7fdbecf58978>"
      ]
     },
     "metadata": {},
     "output_type": "display_data"
    }
   ],
   "source": [
    "plt.hist(ldr_occ.values,20)"
   ]
  },
  {
   "cell_type": "code",
   "execution_count": 17,
   "metadata": {
    "collapsed": false
   },
   "outputs": [
    {
     "data": {
      "text/html": [
       "<div>\n",
       "<table border=\"1\" class=\"dataframe\">\n",
       "  <thead>\n",
       "    <tr style=\"text-align: right;\">\n",
       "      <th></th>\n",
       "      <th>category</th>\n",
       "      <th>datetime</th>\n",
       "      <th>arrivals</th>\n",
       "      <th>departures</th>\n",
       "      <th>occupancy</th>\n",
       "      <th>day_of_week</th>\n",
       "      <th>bin_of_day</th>\n",
       "      <th>bin_of_week</th>\n",
       "    </tr>\n",
       "  </thead>\n",
       "  <tbody>\n",
       "    <tr>\n",
       "      <th>0</th>\n",
       "      <td>LDR</td>\n",
       "      <td>2015-06-24</td>\n",
       "      <td>17</td>\n",
       "      <td>12</td>\n",
       "      <td>8.436771</td>\n",
       "      <td>2</td>\n",
       "      <td>0</td>\n",
       "      <td>2</td>\n",
       "    </tr>\n",
       "    <tr>\n",
       "      <th>1</th>\n",
       "      <td>LDR</td>\n",
       "      <td>2015-06-25</td>\n",
       "      <td>15</td>\n",
       "      <td>18</td>\n",
       "      <td>7.693773</td>\n",
       "      <td>3</td>\n",
       "      <td>0</td>\n",
       "      <td>3</td>\n",
       "    </tr>\n",
       "    <tr>\n",
       "      <th>2</th>\n",
       "      <td>LDR</td>\n",
       "      <td>2015-06-26</td>\n",
       "      <td>22</td>\n",
       "      <td>21</td>\n",
       "      <td>9.906759</td>\n",
       "      <td>4</td>\n",
       "      <td>0</td>\n",
       "      <td>4</td>\n",
       "    </tr>\n",
       "    <tr>\n",
       "      <th>3</th>\n",
       "      <td>LDR</td>\n",
       "      <td>2015-06-27</td>\n",
       "      <td>11</td>\n",
       "      <td>15</td>\n",
       "      <td>6.563241</td>\n",
       "      <td>5</td>\n",
       "      <td>0</td>\n",
       "      <td>5</td>\n",
       "    </tr>\n",
       "    <tr>\n",
       "      <th>4</th>\n",
       "      <td>LDR</td>\n",
       "      <td>2015-06-28</td>\n",
       "      <td>14</td>\n",
       "      <td>15</td>\n",
       "      <td>4.467477</td>\n",
       "      <td>6</td>\n",
       "      <td>0</td>\n",
       "      <td>6</td>\n",
       "    </tr>\n",
       "  </tbody>\n",
       "</table>\n",
       "</div>"
      ],
      "text/plain": [
       "  category    datetime  arrivals  departures  occupancy  day_of_week  \\\n",
       "0      LDR  2015-06-24        17          12   8.436771            2   \n",
       "1      LDR  2015-06-25        15          18   7.693773            3   \n",
       "2      LDR  2015-06-26        22          21   9.906759            4   \n",
       "3      LDR  2015-06-27        11          15   6.563241            5   \n",
       "4      LDR  2015-06-28        14          15   4.467477            6   \n",
       "\n",
       "   bin_of_day  bin_of_week  \n",
       "0           0            2  \n",
       "1           0            3  \n",
       "2           0            4  \n",
       "3           0            5  \n",
       "4           0            6  "
      ]
     },
     "execution_count": 17,
     "metadata": {},
     "output_type": "execute_result"
    }
   ],
   "source": [
    "bydt_df.head()"
   ]
  },
  {
   "cell_type": "code",
   "execution_count": 10,
   "metadata": {
    "collapsed": false
   },
   "outputs": [
    {
     "data": {
      "image/png": "[encoded data removed]",
      "text/plain": [
       "<matplotlib.figure.Figure at 0x7fbfcd5965c0>"
      ]
     },
     "metadata": {},
     "output_type": "display_data"
    }
   ],
   "source": [
    "sns.tsplot(pp_occ);"
   ]
  },
  {
   "cell_type": "code",
   "execution_count": 32,
   "metadata": {
    "collapsed": false
   },
   "outputs": [
    {
     "data": {
      "text/plain": [
       "946    41.985243\n",
       "947    40.804190\n",
       "948    39.997558\n",
       "949    40.432025\n",
       "950    35.925370\n",
       "Name: occupancy, dtype: float64"
      ]
     },
     "execution_count": 32,
     "metadata": {},
     "output_type": "execute_result"
    }
   ],
   "source": [
    "pp_occ.head()"
   ]
  },
  {
   "cell_type": "code",
   "execution_count": 33,
   "metadata": {
    "collapsed": false
   },
   "outputs": [
    {
     "data": {
      "text/html": [
       "<div>\n",
       "<table border=\"1\" class=\"dataframe\">\n",
       "  <thead>\n",
       "    <tr style=\"text-align: right;\">\n",
       "      <th></th>\n",
       "      <th>category</th>\n",
       "      <th>day_of_week</th>\n",
       "      <th>bin_of_day</th>\n",
       "      <th>count</th>\n",
       "      <th>max</th>\n",
       "      <th>mean</th>\n",
       "      <th>min</th>\n",
       "      <th>p50</th>\n",
       "      <th>p55</th>\n",
       "      <th>p60</th>\n",
       "      <th>p65</th>\n",
       "      <th>p70</th>\n",
       "      <th>p75</th>\n",
       "      <th>p80</th>\n",
       "      <th>p85</th>\n",
       "      <th>p90</th>\n",
       "      <th>p95</th>\n",
       "      <th>p975</th>\n",
       "      <th>p99</th>\n",
       "      <th>stdev</th>\n",
       "    </tr>\n",
       "  </thead>\n",
       "  <tbody>\n",
       "    <tr>\n",
       "      <th>0</th>\n",
       "      <td>LDR</td>\n",
       "      <td>0</td>\n",
       "      <td>0</td>\n",
       "      <td>135</td>\n",
       "      <td>12.891366</td>\n",
       "      <td>7.984419</td>\n",
       "      <td>2.796759</td>\n",
       "      <td>7.720822</td>\n",
       "      <td>8.228215</td>\n",
       "      <td>8.595220</td>\n",
       "      <td>8.831941</td>\n",
       "      <td>9.171532</td>\n",
       "      <td>9.397662</td>\n",
       "      <td>9.869197</td>\n",
       "      <td>10.489184</td>\n",
       "      <td>11.033111</td>\n",
       "      <td>11.783839</td>\n",
       "      <td>12.132996</td>\n",
       "      <td>12.554980</td>\n",
       "      <td>2.181408</td>\n",
       "    </tr>\n",
       "    <tr>\n",
       "      <th>1</th>\n",
       "      <td>LDR</td>\n",
       "      <td>1</td>\n",
       "      <td>0</td>\n",
       "      <td>135</td>\n",
       "      <td>13.000000</td>\n",
       "      <td>8.230036</td>\n",
       "      <td>3.474745</td>\n",
       "      <td>8.092384</td>\n",
       "      <td>8.242804</td>\n",
       "      <td>8.470944</td>\n",
       "      <td>8.932141</td>\n",
       "      <td>9.299539</td>\n",
       "      <td>9.580023</td>\n",
       "      <td>9.918157</td>\n",
       "      <td>10.352272</td>\n",
       "      <td>10.915093</td>\n",
       "      <td>11.597917</td>\n",
       "      <td>12.728136</td>\n",
       "      <td>12.902694</td>\n",
       "      <td>2.046906</td>\n",
       "    </tr>\n",
       "    <tr>\n",
       "      <th>2</th>\n",
       "      <td>LDR</td>\n",
       "      <td>2</td>\n",
       "      <td>0</td>\n",
       "      <td>136</td>\n",
       "      <td>12.918009</td>\n",
       "      <td>8.144066</td>\n",
       "      <td>2.000000</td>\n",
       "      <td>8.163414</td>\n",
       "      <td>8.338695</td>\n",
       "      <td>8.533981</td>\n",
       "      <td>8.961140</td>\n",
       "      <td>9.328594</td>\n",
       "      <td>9.610564</td>\n",
       "      <td>10.099630</td>\n",
       "      <td>10.491646</td>\n",
       "      <td>10.854664</td>\n",
       "      <td>11.841606</td>\n",
       "      <td>12.358048</td>\n",
       "      <td>12.786104</td>\n",
       "      <td>2.121306</td>\n",
       "    </tr>\n",
       "    <tr>\n",
       "      <th>3</th>\n",
       "      <td>LDR</td>\n",
       "      <td>3</td>\n",
       "      <td>0</td>\n",
       "      <td>135</td>\n",
       "      <td>12.875243</td>\n",
       "      <td>8.408280</td>\n",
       "      <td>3.629352</td>\n",
       "      <td>8.463785</td>\n",
       "      <td>8.773997</td>\n",
       "      <td>9.020667</td>\n",
       "      <td>9.242135</td>\n",
       "      <td>9.678604</td>\n",
       "      <td>9.956875</td>\n",
       "      <td>10.488127</td>\n",
       "      <td>10.782909</td>\n",
       "      <td>11.263389</td>\n",
       "      <td>11.737558</td>\n",
       "      <td>12.120885</td>\n",
       "      <td>12.384748</td>\n",
       "      <td>2.098490</td>\n",
       "    </tr>\n",
       "    <tr>\n",
       "      <th>4</th>\n",
       "      <td>LDR</td>\n",
       "      <td>4</td>\n",
       "      <td>0</td>\n",
       "      <td>135</td>\n",
       "      <td>12.850544</td>\n",
       "      <td>8.424046</td>\n",
       "      <td>2.375741</td>\n",
       "      <td>8.401725</td>\n",
       "      <td>8.836523</td>\n",
       "      <td>9.129600</td>\n",
       "      <td>9.381046</td>\n",
       "      <td>9.591648</td>\n",
       "      <td>9.927517</td>\n",
       "      <td>10.293407</td>\n",
       "      <td>10.810131</td>\n",
       "      <td>11.301012</td>\n",
       "      <td>11.583255</td>\n",
       "      <td>12.083503</td>\n",
       "      <td>12.166122</td>\n",
       "      <td>2.142989</td>\n",
       "    </tr>\n",
       "    <tr>\n",
       "      <th>5</th>\n",
       "      <td>LDR</td>\n",
       "      <td>5</td>\n",
       "      <td>0</td>\n",
       "      <td>135</td>\n",
       "      <td>12.730498</td>\n",
       "      <td>8.138321</td>\n",
       "      <td>3.427373</td>\n",
       "      <td>7.931053</td>\n",
       "      <td>8.195449</td>\n",
       "      <td>8.535616</td>\n",
       "      <td>8.873404</td>\n",
       "      <td>9.068139</td>\n",
       "      <td>9.482662</td>\n",
       "      <td>9.733801</td>\n",
       "      <td>10.411692</td>\n",
       "      <td>10.906898</td>\n",
       "      <td>11.534293</td>\n",
       "      <td>11.949912</td>\n",
       "      <td>12.477259</td>\n",
       "      <td>1.940512</td>\n",
       "    </tr>\n",
       "    <tr>\n",
       "      <th>6</th>\n",
       "      <td>LDR</td>\n",
       "      <td>6</td>\n",
       "      <td>0</td>\n",
       "      <td>135</td>\n",
       "      <td>12.798495</td>\n",
       "      <td>8.308331</td>\n",
       "      <td>3.461505</td>\n",
       "      <td>8.316933</td>\n",
       "      <td>8.514780</td>\n",
       "      <td>8.731028</td>\n",
       "      <td>9.122241</td>\n",
       "      <td>9.315606</td>\n",
       "      <td>9.656620</td>\n",
       "      <td>10.069782</td>\n",
       "      <td>10.488385</td>\n",
       "      <td>11.100748</td>\n",
       "      <td>11.840792</td>\n",
       "      <td>12.359170</td>\n",
       "      <td>12.695952</td>\n",
       "      <td>2.039818</td>\n",
       "    </tr>\n",
       "    <tr>\n",
       "      <th>7</th>\n",
       "      <td>OBTot</td>\n",
       "      <td>0</td>\n",
       "      <td>0</td>\n",
       "      <td>135</td>\n",
       "      <td>58.312072</td>\n",
       "      <td>44.240580</td>\n",
       "      <td>32.207986</td>\n",
       "      <td>44.938137</td>\n",
       "      <td>45.654442</td>\n",
       "      <td>46.086981</td>\n",
       "      <td>46.621472</td>\n",
       "      <td>47.173657</td>\n",
       "      <td>47.777378</td>\n",
       "      <td>49.067007</td>\n",
       "      <td>50.312773</td>\n",
       "      <td>51.346285</td>\n",
       "      <td>53.838125</td>\n",
       "      <td>55.698014</td>\n",
       "      <td>56.525428</td>\n",
       "      <td>5.763216</td>\n",
       "    </tr>\n",
       "    <tr>\n",
       "      <th>8</th>\n",
       "      <td>OBTot</td>\n",
       "      <td>1</td>\n",
       "      <td>0</td>\n",
       "      <td>135</td>\n",
       "      <td>59.000000</td>\n",
       "      <td>44.509344</td>\n",
       "      <td>29.828657</td>\n",
       "      <td>45.239167</td>\n",
       "      <td>46.273299</td>\n",
       "      <td>46.602109</td>\n",
       "      <td>47.166617</td>\n",
       "      <td>47.507778</td>\n",
       "      <td>48.425787</td>\n",
       "      <td>49.093884</td>\n",
       "      <td>50.310515</td>\n",
       "      <td>52.097472</td>\n",
       "      <td>53.868200</td>\n",
       "      <td>54.859369</td>\n",
       "      <td>56.294068</td>\n",
       "      <td>5.859946</td>\n",
       "    </tr>\n",
       "    <tr>\n",
       "      <th>9</th>\n",
       "      <td>OBTot</td>\n",
       "      <td>2</td>\n",
       "      <td>0</td>\n",
       "      <td>136</td>\n",
       "      <td>58.326308</td>\n",
       "      <td>44.650573</td>\n",
       "      <td>29.872940</td>\n",
       "      <td>45.185909</td>\n",
       "      <td>46.155315</td>\n",
       "      <td>46.753565</td>\n",
       "      <td>47.937468</td>\n",
       "      <td>48.680897</td>\n",
       "      <td>49.369057</td>\n",
       "      <td>50.428646</td>\n",
       "      <td>50.892355</td>\n",
       "      <td>52.050064</td>\n",
       "      <td>53.626707</td>\n",
       "      <td>56.587617</td>\n",
       "      <td>57.801300</td>\n",
       "      <td>6.279447</td>\n",
       "    </tr>\n",
       "    <tr>\n",
       "      <th>10</th>\n",
       "      <td>OBTot</td>\n",
       "      <td>3</td>\n",
       "      <td>0</td>\n",
       "      <td>135</td>\n",
       "      <td>56.434688</td>\n",
       "      <td>44.321968</td>\n",
       "      <td>25.876238</td>\n",
       "      <td>44.813333</td>\n",
       "      <td>46.170649</td>\n",
       "      <td>46.513352</td>\n",
       "      <td>46.912650</td>\n",
       "      <td>47.862970</td>\n",
       "      <td>48.794352</td>\n",
       "      <td>50.148699</td>\n",
       "      <td>51.394428</td>\n",
       "      <td>52.081204</td>\n",
       "      <td>54.238525</td>\n",
       "      <td>55.475351</td>\n",
       "      <td>56.050589</td>\n",
       "      <td>6.477675</td>\n",
       "    </tr>\n",
       "    <tr>\n",
       "      <th>11</th>\n",
       "      <td>OBTot</td>\n",
       "      <td>4</td>\n",
       "      <td>0</td>\n",
       "      <td>135</td>\n",
       "      <td>56.045845</td>\n",
       "      <td>44.151101</td>\n",
       "      <td>30.947407</td>\n",
       "      <td>43.724873</td>\n",
       "      <td>44.343772</td>\n",
       "      <td>45.694400</td>\n",
       "      <td>46.483206</td>\n",
       "      <td>47.833481</td>\n",
       "      <td>49.680961</td>\n",
       "      <td>50.452731</td>\n",
       "      <td>51.791394</td>\n",
       "      <td>52.767613</td>\n",
       "      <td>53.961748</td>\n",
       "      <td>54.867369</td>\n",
       "      <td>55.274939</td>\n",
       "      <td>6.284958</td>\n",
       "    </tr>\n",
       "    <tr>\n",
       "      <th>12</th>\n",
       "      <td>OBTot</td>\n",
       "      <td>5</td>\n",
       "      <td>0</td>\n",
       "      <td>135</td>\n",
       "      <td>57.769444</td>\n",
       "      <td>44.115600</td>\n",
       "      <td>28.197037</td>\n",
       "      <td>44.696157</td>\n",
       "      <td>45.227959</td>\n",
       "      <td>46.116780</td>\n",
       "      <td>46.538221</td>\n",
       "      <td>47.207935</td>\n",
       "      <td>47.916794</td>\n",
       "      <td>49.094421</td>\n",
       "      <td>49.684709</td>\n",
       "      <td>51.029664</td>\n",
       "      <td>52.394648</td>\n",
       "      <td>53.374421</td>\n",
       "      <td>55.014473</td>\n",
       "      <td>5.437980</td>\n",
       "    </tr>\n",
       "    <tr>\n",
       "      <th>13</th>\n",
       "      <td>OBTot</td>\n",
       "      <td>6</td>\n",
       "      <td>0</td>\n",
       "      <td>135</td>\n",
       "      <td>57.201782</td>\n",
       "      <td>44.186353</td>\n",
       "      <td>32.765845</td>\n",
       "      <td>43.902824</td>\n",
       "      <td>44.450814</td>\n",
       "      <td>45.144995</td>\n",
       "      <td>46.361491</td>\n",
       "      <td>47.691912</td>\n",
       "      <td>48.499120</td>\n",
       "      <td>49.038299</td>\n",
       "      <td>51.020660</td>\n",
       "      <td>51.865164</td>\n",
       "      <td>53.340824</td>\n",
       "      <td>54.413748</td>\n",
       "      <td>55.862120</td>\n",
       "      <td>5.687215</td>\n",
       "    </tr>\n",
       "    <tr>\n",
       "      <th>14</th>\n",
       "      <td>PP</td>\n",
       "      <td>0</td>\n",
       "      <td>0</td>\n",
       "      <td>135</td>\n",
       "      <td>45.898113</td>\n",
       "      <td>36.256160</td>\n",
       "      <td>22.002211</td>\n",
       "      <td>36.118796</td>\n",
       "      <td>37.021725</td>\n",
       "      <td>38.002609</td>\n",
       "      <td>38.538626</td>\n",
       "      <td>38.903889</td>\n",
       "      <td>39.773322</td>\n",
       "      <td>41.288799</td>\n",
       "      <td>41.744350</td>\n",
       "      <td>42.642273</td>\n",
       "      <td>44.549983</td>\n",
       "      <td>45.260234</td>\n",
       "      <td>45.658693</td>\n",
       "      <td>5.020267</td>\n",
       "    </tr>\n",
       "    <tr>\n",
       "      <th>15</th>\n",
       "      <td>PP</td>\n",
       "      <td>1</td>\n",
       "      <td>0</td>\n",
       "      <td>135</td>\n",
       "      <td>46.000000</td>\n",
       "      <td>36.279308</td>\n",
       "      <td>24.317338</td>\n",
       "      <td>36.715498</td>\n",
       "      <td>37.809584</td>\n",
       "      <td>38.390900</td>\n",
       "      <td>38.881549</td>\n",
       "      <td>39.575275</td>\n",
       "      <td>39.927106</td>\n",
       "      <td>40.509484</td>\n",
       "      <td>41.464398</td>\n",
       "      <td>42.331120</td>\n",
       "      <td>45.041851</td>\n",
       "      <td>45.858452</td>\n",
       "      <td>45.957411</td>\n",
       "      <td>5.204713</td>\n",
       "    </tr>\n",
       "    <tr>\n",
       "      <th>16</th>\n",
       "      <td>PP</td>\n",
       "      <td>2</td>\n",
       "      <td>0</td>\n",
       "      <td>136</td>\n",
       "      <td>45.942662</td>\n",
       "      <td>36.506508</td>\n",
       "      <td>22.880706</td>\n",
       "      <td>36.855712</td>\n",
       "      <td>37.409022</td>\n",
       "      <td>38.495382</td>\n",
       "      <td>38.999158</td>\n",
       "      <td>40.035203</td>\n",
       "      <td>41.107538</td>\n",
       "      <td>41.975868</td>\n",
       "      <td>42.440692</td>\n",
       "      <td>43.167083</td>\n",
       "      <td>44.152859</td>\n",
       "      <td>45.396745</td>\n",
       "      <td>45.598332</td>\n",
       "      <td>5.430886</td>\n",
       "    </tr>\n",
       "    <tr>\n",
       "      <th>17</th>\n",
       "      <td>PP</td>\n",
       "      <td>3</td>\n",
       "      <td>0</td>\n",
       "      <td>135</td>\n",
       "      <td>46.000000</td>\n",
       "      <td>35.913688</td>\n",
       "      <td>21.342292</td>\n",
       "      <td>36.023796</td>\n",
       "      <td>36.743223</td>\n",
       "      <td>37.289817</td>\n",
       "      <td>38.302381</td>\n",
       "      <td>39.357468</td>\n",
       "      <td>40.441128</td>\n",
       "      <td>40.871049</td>\n",
       "      <td>41.399215</td>\n",
       "      <td>42.815160</td>\n",
       "      <td>44.673609</td>\n",
       "      <td>45.369503</td>\n",
       "      <td>45.920645</td>\n",
       "      <td>5.552446</td>\n",
       "    </tr>\n",
       "    <tr>\n",
       "      <th>18</th>\n",
       "      <td>PP</td>\n",
       "      <td>4</td>\n",
       "      <td>0</td>\n",
       "      <td>135</td>\n",
       "      <td>45.691690</td>\n",
       "      <td>35.727056</td>\n",
       "      <td>23.001354</td>\n",
       "      <td>35.308588</td>\n",
       "      <td>36.194297</td>\n",
       "      <td>36.983352</td>\n",
       "      <td>37.649626</td>\n",
       "      <td>38.955292</td>\n",
       "      <td>40.236007</td>\n",
       "      <td>41.019296</td>\n",
       "      <td>42.059389</td>\n",
       "      <td>42.757160</td>\n",
       "      <td>43.982604</td>\n",
       "      <td>45.339833</td>\n",
       "      <td>45.647387</td>\n",
       "      <td>5.264489</td>\n",
       "    </tr>\n",
       "    <tr>\n",
       "      <th>19</th>\n",
       "      <td>PP</td>\n",
       "      <td>5</td>\n",
       "      <td>0</td>\n",
       "      <td>135</td>\n",
       "      <td>45.952465</td>\n",
       "      <td>35.977279</td>\n",
       "      <td>20.479213</td>\n",
       "      <td>36.260440</td>\n",
       "      <td>36.824409</td>\n",
       "      <td>37.562956</td>\n",
       "      <td>38.360508</td>\n",
       "      <td>39.253412</td>\n",
       "      <td>40.041192</td>\n",
       "      <td>40.583894</td>\n",
       "      <td>41.566420</td>\n",
       "      <td>42.727738</td>\n",
       "      <td>44.126557</td>\n",
       "      <td>45.072064</td>\n",
       "      <td>45.556062</td>\n",
       "      <td>5.137616</td>\n",
       "    </tr>\n",
       "    <tr>\n",
       "      <th>20</th>\n",
       "      <td>PP</td>\n",
       "      <td>6</td>\n",
       "      <td>0</td>\n",
       "      <td>135</td>\n",
       "      <td>46.000000</td>\n",
       "      <td>35.878022</td>\n",
       "      <td>22.288310</td>\n",
       "      <td>35.657662</td>\n",
       "      <td>36.376359</td>\n",
       "      <td>36.938812</td>\n",
       "      <td>38.335972</td>\n",
       "      <td>38.771775</td>\n",
       "      <td>39.187645</td>\n",
       "      <td>40.141877</td>\n",
       "      <td>40.800571</td>\n",
       "      <td>43.074398</td>\n",
       "      <td>44.549737</td>\n",
       "      <td>45.264345</td>\n",
       "      <td>45.796022</td>\n",
       "      <td>5.048644</td>\n",
       "    </tr>\n",
       "  </tbody>\n",
       "</table>\n",
       "</div>"
      ],
      "text/plain": [
       "   category  day_of_week  bin_of_day  count        max       mean        min  \\\n",
       "0       LDR            0           0    135  12.891366   7.984419   2.796759   \n",
       "1       LDR            1           0    135  13.000000   8.230036   3.474745   \n",
       "2       LDR            2           0    136  12.918009   8.144066   2.000000   \n",
       "3       LDR            3           0    135  12.875243   8.408280   3.629352   \n",
       "4       LDR            4           0    135  12.850544   8.424046   2.375741   \n",
       "5       LDR            5           0    135  12.730498   8.138321   3.427373   \n",
       "6       LDR            6           0    135  12.798495   8.308331   3.461505   \n",
       "7     OBTot            0           0    135  58.312072  44.240580  32.207986   \n",
       "8     OBTot            1           0    135  59.000000  44.509344  29.828657   \n",
       "9     OBTot            2           0    136  58.326308  44.650573  29.872940   \n",
       "10    OBTot            3           0    135  56.434688  44.321968  25.876238   \n",
       "11    OBTot            4           0    135  56.045845  44.151101  30.947407   \n",
       "12    OBTot            5           0    135  57.769444  44.115600  28.197037   \n",
       "13    OBTot            6           0    135  57.201782  44.186353  32.765845   \n",
       "14       PP            0           0    135  45.898113  36.256160  22.002211   \n",
       "15       PP            1           0    135  46.000000  36.279308  24.317338   \n",
       "16       PP            2           0    136  45.942662  36.506508  22.880706   \n",
       "17       PP            3           0    135  46.000000  35.913688  21.342292   \n",
       "18       PP            4           0    135  45.691690  35.727056  23.001354   \n",
       "19       PP            5           0    135  45.952465  35.977279  20.479213   \n",
       "20       PP            6           0    135  46.000000  35.878022  22.288310   \n",
       "\n",
       "          p50        p55        p60        p65        p70        p75  \\\n",
       "0    7.720822   8.228215   8.595220   8.831941   9.171532   9.397662   \n",
       "1    8.092384   8.242804   8.470944   8.932141   9.299539   9.580023   \n",
       "2    8.163414   8.338695   8.533981   8.961140   9.328594   9.610564   \n",
       "3    8.463785   8.773997   9.020667   9.242135   9.678604   9.956875   \n",
       "4    8.401725   8.836523   9.129600   9.381046   9.591648   9.927517   \n",
       "5    7.931053   8.195449   8.535616   8.873404   9.068139   9.482662   \n",
       "6    8.316933   8.514780   8.731028   9.122241   9.315606   9.656620   \n",
       "7   44.938137  45.654442  46.086981  46.621472  47.173657  47.777378   \n",
       "8   45.239167  46.273299  46.602109  47.166617  47.507778  48.425787   \n",
       "9   45.185909  46.155315  46.753565  47.937468  48.680897  49.369057   \n",
       "10  44.813333  46.170649  46.513352  46.912650  47.862970  48.794352   \n",
       "11  43.724873  44.343772  45.694400  46.483206  47.833481  49.680961   \n",
       "12  44.696157  45.227959  46.116780  46.538221  47.207935  47.916794   \n",
       "13  43.902824  44.450814  45.144995  46.361491  47.691912  48.499120   \n",
       "14  36.118796  37.021725  38.002609  38.538626  38.903889  39.773322   \n",
       "15  36.715498  37.809584  38.390900  38.881549  39.575275  39.927106   \n",
       "16  36.855712  37.409022  38.495382  38.999158  40.035203  41.107538   \n",
       "17  36.023796  36.743223  37.289817  38.302381  39.357468  40.441128   \n",
       "18  35.308588  36.194297  36.983352  37.649626  38.955292  40.236007   \n",
       "19  36.260440  36.824409  37.562956  38.360508  39.253412  40.041192   \n",
       "20  35.657662  36.376359  36.938812  38.335972  38.771775  39.187645   \n",
       "\n",
       "          p80        p85        p90        p95       p975        p99     stdev  \n",
       "0    9.869197  10.489184  11.033111  11.783839  12.132996  12.554980  2.181408  \n",
       "1    9.918157  10.352272  10.915093  11.597917  12.728136  12.902694  2.046906  \n",
       "2   10.099630  10.491646  10.854664  11.841606  12.358048  12.786104  2.121306  \n",
       "3   10.488127  10.782909  11.263389  11.737558  12.120885  12.384748  2.098490  \n",
       "4   10.293407  10.810131  11.301012  11.583255  12.083503  12.166122  2.142989  \n",
       "5    9.733801  10.411692  10.906898  11.534293  11.949912  12.477259  1.940512  \n",
       "6   10.069782  10.488385  11.100748  11.840792  12.359170  12.695952  2.039818  \n",
       "7   49.067007  50.312773  51.346285  53.838125  55.698014  56.525428  5.763216  \n",
       "8   49.093884  50.310515  52.097472  53.868200  54.859369  56.294068  5.859946  \n",
       "9   50.428646  50.892355  52.050064  53.626707  56.587617  57.801300  6.279447  \n",
       "10  50.148699  51.394428  52.081204  54.238525  55.475351  56.050589  6.477675  \n",
       "11  50.452731  51.791394  52.767613  53.961748  54.867369  55.274939  6.284958  \n",
       "12  49.094421  49.684709  51.029664  52.394648  53.374421  55.014473  5.437980  \n",
       "13  49.038299  51.020660  51.865164  53.340824  54.413748  55.862120  5.687215  \n",
       "14  41.288799  41.744350  42.642273  44.549983  45.260234  45.658693  5.020267  \n",
       "15  40.509484  41.464398  42.331120  45.041851  45.858452  45.957411  5.204713  \n",
       "16  41.975868  42.440692  43.167083  44.152859  45.396745  45.598332  5.430886  \n",
       "17  40.871049  41.399215  42.815160  44.673609  45.369503  45.920645  5.552446  \n",
       "18  41.019296  42.059389  42.757160  43.982604  45.339833  45.647387  5.264489  \n",
       "19  40.583894  41.566420  42.727738  44.126557  45.072064  45.556062  5.137616  \n",
       "20  40.141877  40.800571  43.074398  44.549737  45.264345  45.796022  5.048644  "
      ]
     },
     "execution_count": 33,
     "metadata": {},
     "output_type": "execute_result"
    }
   ],
   "source": [
    "occ_df"
   ]
  },
  {
   "cell_type": "markdown",
   "metadata": {
    "collapsed": true
   },
   "source": [
    "## Computing occupancy statistics\n",
    "\n",
    "Need to compute a bunch of output stats to use for visualization, metamodeling and to evaluate scenarios."
   ]
  },
  {
   "cell_type": "code",
   "execution_count": 52,
   "metadata": {
    "collapsed": true
   },
   "outputs": [],
   "source": [
    "ldr_occ_stats = get_stats(ldr_occ)\n",
    "pp_occ_stats = get_stats(pp_occ)"
   ]
  },
  {
   "cell_type": "code",
   "execution_count": 41,
   "metadata": {
    "collapsed": false
   },
   "outputs": [],
   "source": [
    "grp_all = stops_df.groupby(['PatientType','Unit'])"
   ]
  },
  {
   "cell_type": "code",
   "execution_count": 46,
   "metadata": {
    "collapsed": false
   },
   "outputs": [
    {
     "data": {
      "text/plain": [
       "PatientType  Unit               \n",
       "1            LDR   test_count       4734.000000\n",
       "                   test_max           10.052280\n",
       "                   test_mean           0.217175\n",
       "                   test_min            0.000000\n",
       "                   test_num_gt_0     423.000000\n",
       "                   test_p01            0.000000\n",
       "                   test_p025           0.000000\n",
       "                   test_p05            0.000000\n",
       "                   test_p25            0.000000\n",
       "                   test_p50            0.000000\n",
       "                   test_p75            0.000000\n",
       "                   test_p90            0.000000\n",
       "                   test_p95            1.511892\n",
       "                   test_p975           3.183598\n",
       "                   test_p99            5.721315\n",
       "                   test_stdev          0.964268\n",
       "             Obs   test_count       4729.000000\n",
       "                   test_max            0.000000\n",
       "                   test_mean           0.000000\n",
       "                   test_min            0.000000\n",
       "                   test_num_gt_0       0.000000\n",
       "                   test_p01            0.000000\n",
       "                   test_p025           0.000000\n",
       "                   test_p05            0.000000\n",
       "                   test_p25            0.000000\n",
       "                   test_p50            0.000000\n",
       "                   test_p75            0.000000\n",
       "                   test_p90            0.000000\n",
       "                   test_p95            0.000000\n",
       "                   test_p975           0.000000\n",
       "                                       ...     \n",
       "2            Obs   test_mean           0.000000\n",
       "                   test_min            0.000000\n",
       "                   test_num_gt_0       0.000000\n",
       "                   test_p01            0.000000\n",
       "                   test_p025           0.000000\n",
       "                   test_p05            0.000000\n",
       "                   test_p25            0.000000\n",
       "                   test_p50            0.000000\n",
       "                   test_p75            0.000000\n",
       "                   test_p90            0.000000\n",
       "                   test_p95            0.000000\n",
       "                   test_p975           0.000000\n",
       "                   test_p99            0.000000\n",
       "                   test_stdev          0.000000\n",
       "             PP    test_count       1143.000000\n",
       "                   test_max           12.390646\n",
       "                   test_mean           0.165231\n",
       "                   test_min            0.000000\n",
       "                   test_num_gt_0      60.000000\n",
       "                   test_p01            0.000000\n",
       "                   test_p025           0.000000\n",
       "                   test_p05            0.000000\n",
       "                   test_p25            0.000000\n",
       "                   test_p50            0.000000\n",
       "                   test_p75            0.000000\n",
       "                   test_p90            0.000000\n",
       "                   test_p95            0.192677\n",
       "                   test_p975           2.429358\n",
       "                   test_p99            4.742597\n",
       "                   test_stdev          0.958355\n",
       "dtype: float64"
      ]
     },
     "execution_count": 46,
     "metadata": {},
     "output_type": "execute_result"
    }
   ],
   "source": [
    "blocked_uncond_stats = grp_all['Entered_TriedToEnter'].apply(get_stats,'test_')\n",
    "blocked_uncond_stats"
   ]
  },
  {
   "cell_type": "code",
   "execution_count": 43,
   "metadata": {
    "collapsed": false
   },
   "outputs": [],
   "source": [
    "grp_blocked = stops_df[(stops_df['Entered_TriedToEnter'] > 0)].groupby(['PatientType','Unit'])"
   ]
  },
  {
   "cell_type": "code",
   "execution_count": 45,
   "metadata": {
    "collapsed": false
   },
   "outputs": [
    {
     "data": {
      "text/plain": [
       "PatientType  Unit               \n",
       "1            LDR   test_count       423.000000\n",
       "                   test_max          10.052280\n",
       "                   test_mean          2.430514\n",
       "                   test_min           0.002380\n",
       "                   test_num_gt_0    423.000000\n",
       "                   test_p01           0.026150\n",
       "                   test_p025          0.055455\n",
       "                   test_p05           0.110433\n",
       "                   test_p25           0.650557\n",
       "                   test_p50           1.815509\n",
       "                   test_p75           3.428580\n",
       "                   test_p90           6.111076\n",
       "                   test_p95           7.208529\n",
       "                   test_p975          8.108493\n",
       "                   test_p99           9.494679\n",
       "                   test_stdev         2.244137\n",
       "             PP    test_count       246.000000\n",
       "                   test_max          12.258382\n",
       "                   test_mean          3.016110\n",
       "                   test_min           0.025138\n",
       "                   test_num_gt_0    246.000000\n",
       "                   test_p01           0.033729\n",
       "                   test_p025          0.071014\n",
       "                   test_p05           0.173617\n",
       "                   test_p25           0.698939\n",
       "                   test_p50           2.152046\n",
       "                   test_p75           4.479701\n",
       "                   test_p90           6.887076\n",
       "                   test_p95           8.645181\n",
       "                   test_p975         10.413556\n",
       "                                       ...    \n",
       "2            LDR   test_mean          2.557420\n",
       "                   test_min           0.009243\n",
       "                   test_num_gt_0     95.000000\n",
       "                   test_p01           0.075813\n",
       "                   test_p025          0.128502\n",
       "                   test_p05           0.192851\n",
       "                   test_p25           1.058544\n",
       "                   test_p50           1.881656\n",
       "                   test_p75           3.224906\n",
       "                   test_p90           6.198920\n",
       "                   test_p95           7.134094\n",
       "                   test_p975          8.955647\n",
       "                   test_p99           9.775193\n",
       "                   test_stdev         2.312224\n",
       "             PP    test_count        60.000000\n",
       "                   test_max          12.390646\n",
       "                   test_mean          3.147647\n",
       "                   test_min           0.007135\n",
       "                   test_num_gt_0     60.000000\n",
       "                   test_p01           0.026448\n",
       "                   test_p025          0.120518\n",
       "                   test_p05           0.265291\n",
       "                   test_p25           1.027064\n",
       "                   test_p50           2.337965\n",
       "                   test_p75           4.009726\n",
       "                   test_p90           7.499980\n",
       "                   test_p95           8.898217\n",
       "                   test_p975         10.768355\n",
       "                   test_p99          12.191620\n",
       "                   test_stdev         2.868908\n",
       "dtype: float64"
      ]
     },
     "execution_count": 45,
     "metadata": {},
     "output_type": "execute_result"
    }
   ],
   "source": [
    "blocked_cond_stats = grp_blocked['Entered_TriedToEnter'].apply(get_stats,'test_')\n",
    "blocked_cond_stats"
   ]
  },
  {
   "cell_type": "code",
   "execution_count": 48,
   "metadata": {
    "collapsed": false
   },
   "outputs": [
    {
     "data": {
      "text/plain": [
       "MultiIndex(levels=[[1, 2], ['LDR', 'PP'], ['test_count', 'test_max', 'test_mean', 'test_min', 'test_num_gt_0', 'test_p01', 'test_p025', 'test_p05', 'test_p25', 'test_p50', 'test_p75', 'test_p90', 'test_p95', 'test_p975', 'test_p99', 'test_stdev']],\n",
       "           labels=[[0, 0, 0, 0, 0, 0, 0, 0, 0, 0, 0, 0, 0, 0, 0, 0, 0, 0, 0, 0, 0, 0, 0, 0, 0, 0, 0, 0, 0, 0, 0, 0, 1, 1, 1, 1, 1, 1, 1, 1, 1, 1, 1, 1, 1, 1, 1, 1, 1, 1, 1, 1, 1, 1, 1, 1, 1, 1, 1, 1, 1, 1, 1, 1], [0, 0, 0, 0, 0, 0, 0, 0, 0, 0, 0, 0, 0, 0, 0, 0, 1, 1, 1, 1, 1, 1, 1, 1, 1, 1, 1, 1, 1, 1, 1, 1, 0, 0, 0, 0, 0, 0, 0, 0, 0, 0, 0, 0, 0, 0, 0, 0, 1, 1, 1, 1, 1, 1, 1, 1, 1, 1, 1, 1, 1, 1, 1, 1], [0, 1, 2, 3, 4, 5, 6, 7, 8, 9, 10, 11, 12, 13, 14, 15, 0, 1, 2, 3, 4, 5, 6, 7, 8, 9, 10, 11, 12, 13, 14, 15, 0, 1, 2, 3, 4, 5, 6, 7, 8, 9, 10, 11, 12, 13, 14, 15, 0, 1, 2, 3, 4, 5, 6, 7, 8, 9, 10, 11, 12, 13, 14, 15]],\n",
       "           names=['PatientType', 'Unit', None])"
      ]
     },
     "execution_count": 48,
     "metadata": {},
     "output_type": "execute_result"
    }
   ],
   "source": [
    "blocked_cond_stats.index"
   ]
  },
  {
   "cell_type": "code",
   "execution_count": 49,
   "metadata": {
    "collapsed": false
   },
   "outputs": [
    {
     "data": {
      "text/plain": [
       "2.4305144504988401"
      ]
     },
     "execution_count": 49,
     "metadata": {},
     "output_type": "execute_result"
    }
   ],
   "source": [
    "blocked_cond_stats[(1,'LDR','test_mean')]"
   ]
  },
  {
   "cell_type": "markdown",
   "metadata": {},
   "source": [
    "### Create dictionary to append to result data frame\n",
    "Each new record (a scenario and rep) is stored in a dictionary. Then append the dictionary to the results dataframe."
   ]
  },
  {
   "cell_type": "code",
   "execution_count": 53,
   "metadata": {
    "collapsed": false
   },
   "outputs": [
    {
     "name": "stdout",
     "output_type": "stream",
     "text": [
      "{'scenario': '1', 'occ_mean_ldr': 8.1606601735788704, 'rep': '1'}\n"
     ]
    }
   ],
   "source": [
    "newrec = {}\n",
    "newrec['scenario'] = scenario_num\n",
    "newrec['rep'] = rep_num\n",
    "\n",
    "newrec['occ_mean_ldr'] = ldr_occ_stats['mean']\n",
    "\n",
    "print(newrec)"
   ]
  },
  {
   "cell_type": "markdown",
   "metadata": {},
   "source": [
    "## Misc debugging cells"
   ]
  },
  {
   "cell_type": "code",
   "execution_count": 4,
   "metadata": {
    "collapsed": false
   },
   "outputs": [
    {
     "name": "stdout",
     "output_type": "stream",
     "text": [
      "2015-06-24 00:00:00 2016-06-16 00:00:00\n"
     ]
    }
   ],
   "source": [
    "a_start = pd.Timestamp(start_analysis)\n",
    "a_end = pd.Timestamp(end_analysis)\n",
    "print(a_start,a_end)"
   ]
  },
  {
   "cell_type": "code",
   "execution_count": 5,
   "metadata": {
    "collapsed": false
   },
   "outputs": [],
   "source": [
    "left_PP_df = df[(df['EnteredTS'] < a_start) & (a_start <= df['ExitedTS']) &  (df['ExitedTS'] < a_end) & (df['Unit'] == 'PP')]"
   ]
  },
  {
   "cell_type": "code",
   "execution_count": 9,
   "metadata": {
    "collapsed": false
   },
   "outputs": [],
   "source": [
    "right_PP_df = df[(a_start <= df['EnteredTS']) & (df['EnteredTS'] < a_end) &  (df['ExitedTS'] >= a_end) & (df['Unit'] == 'PP')]"
   ]
  },
  {
   "cell_type": "code",
   "execution_count": 10,
   "metadata": {
    "collapsed": true
   },
   "outputs": [
    {
     "name": "stdout",
     "output_type": "stream",
     "text": [
      "(37, 17)\n"
     ]
    },
    {
     "data": {
      "text/html": [
       "<div>\n",
       "<table border=\"1\" class=\"dataframe\">\n",
       "  <thead>\n",
       "    <tr style=\"text-align: right;\">\n",
       "      <th></th>\n",
       "      <th>EnteredTS</th>\n",
       "      <th>ExitedTS</th>\n",
       "    </tr>\n",
       "  </thead>\n",
       "  <tbody>\n",
       "    <tr>\n",
       "      <th>25283</th>\n",
       "      <td>2016-06-11 09:09:53</td>\n",
       "      <td>2016-06-16 00:54:04</td>\n",
       "    </tr>\n",
       "    <tr>\n",
       "      <th>25286</th>\n",
       "      <td>2016-06-14 10:14:50</td>\n",
       "      <td>2016-06-16 01:21:06</td>\n",
       "    </tr>\n",
       "    <tr>\n",
       "      <th>25287</th>\n",
       "      <td>2016-06-14 23:06:20</td>\n",
       "      <td>2016-06-16 02:48:32</td>\n",
       "    </tr>\n",
       "    <tr>\n",
       "      <th>25294</th>\n",
       "      <td>2016-06-13 09:06:27</td>\n",
       "      <td>2016-06-16 06:08:35</td>\n",
       "    </tr>\n",
       "    <tr>\n",
       "      <th>25297</th>\n",
       "      <td>2016-06-15 03:07:51</td>\n",
       "      <td>2016-06-16 06:53:49</td>\n",
       "    </tr>\n",
       "    <tr>\n",
       "      <th>25312</th>\n",
       "      <td>2016-06-15 18:30:35</td>\n",
       "      <td>2016-06-16 13:05:38</td>\n",
       "    </tr>\n",
       "    <tr>\n",
       "      <th>25320</th>\n",
       "      <td>2016-06-13 21:05:12</td>\n",
       "      <td>2016-06-16 16:17:26</td>\n",
       "    </tr>\n",
       "    <tr>\n",
       "      <th>25327</th>\n",
       "      <td>2016-06-13 22:45:53</td>\n",
       "      <td>2016-06-16 18:11:57</td>\n",
       "    </tr>\n",
       "    <tr>\n",
       "      <th>25328</th>\n",
       "      <td>2016-06-14 17:21:16</td>\n",
       "      <td>2016-06-16 18:32:38</td>\n",
       "    </tr>\n",
       "    <tr>\n",
       "      <th>25342</th>\n",
       "      <td>2016-06-14 19:21:25</td>\n",
       "      <td>2016-06-16 21:59:03</td>\n",
       "    </tr>\n",
       "    <tr>\n",
       "      <th>25352</th>\n",
       "      <td>2016-06-15 13:32:11</td>\n",
       "      <td>2016-06-17 02:01:55</td>\n",
       "    </tr>\n",
       "    <tr>\n",
       "      <th>25353</th>\n",
       "      <td>2016-06-15 13:49:54</td>\n",
       "      <td>2016-06-17 03:19:07</td>\n",
       "    </tr>\n",
       "    <tr>\n",
       "      <th>25356</th>\n",
       "      <td>2016-06-15 00:26:28</td>\n",
       "      <td>2016-06-17 05:26:46</td>\n",
       "    </tr>\n",
       "    <tr>\n",
       "      <th>25357</th>\n",
       "      <td>2016-06-15 14:36:07</td>\n",
       "      <td>2016-06-17 05:39:05</td>\n",
       "    </tr>\n",
       "    <tr>\n",
       "      <th>25364</th>\n",
       "      <td>2016-06-13 16:04:52</td>\n",
       "      <td>2016-06-17 07:32:43</td>\n",
       "    </tr>\n",
       "    <tr>\n",
       "      <th>25370</th>\n",
       "      <td>2016-06-09 08:08:10</td>\n",
       "      <td>2016-06-17 08:06:48</td>\n",
       "    </tr>\n",
       "    <tr>\n",
       "      <th>25373</th>\n",
       "      <td>2016-06-15 23:53:28</td>\n",
       "      <td>2016-06-17 10:16:26</td>\n",
       "    </tr>\n",
       "    <tr>\n",
       "      <th>25376</th>\n",
       "      <td>2016-06-14 00:11:03</td>\n",
       "      <td>2016-06-17 12:44:17</td>\n",
       "    </tr>\n",
       "    <tr>\n",
       "      <th>25377</th>\n",
       "      <td>2016-06-15 13:58:22</td>\n",
       "      <td>2016-06-17 13:37:55</td>\n",
       "    </tr>\n",
       "    <tr>\n",
       "      <th>25397</th>\n",
       "      <td>2016-06-14 17:00:10</td>\n",
       "      <td>2016-06-17 19:04:18</td>\n",
       "    </tr>\n",
       "    <tr>\n",
       "      <th>25402</th>\n",
       "      <td>2016-06-11 10:37:57</td>\n",
       "      <td>2016-06-17 19:48:32</td>\n",
       "    </tr>\n",
       "    <tr>\n",
       "      <th>25409</th>\n",
       "      <td>2016-06-14 10:31:08</td>\n",
       "      <td>2016-06-17 21:34:41</td>\n",
       "    </tr>\n",
       "    <tr>\n",
       "      <th>25418</th>\n",
       "      <td>2016-06-09 14:54:37</td>\n",
       "      <td>2016-06-18 00:57:20</td>\n",
       "    </tr>\n",
       "    <tr>\n",
       "      <th>25421</th>\n",
       "      <td>2016-06-14 14:30:26</td>\n",
       "      <td>2016-06-18 02:35:50</td>\n",
       "    </tr>\n",
       "    <tr>\n",
       "      <th>25454</th>\n",
       "      <td>2016-06-12 11:42:31</td>\n",
       "      <td>2016-06-18 17:39:15</td>\n",
       "    </tr>\n",
       "    <tr>\n",
       "      <th>25457</th>\n",
       "      <td>2016-06-12 23:10:09</td>\n",
       "      <td>2016-06-18 18:34:41</td>\n",
       "    </tr>\n",
       "    <tr>\n",
       "      <th>25465</th>\n",
       "      <td>2016-06-15 14:39:03</td>\n",
       "      <td>2016-06-18 22:51:33</td>\n",
       "    </tr>\n",
       "    <tr>\n",
       "      <th>25474</th>\n",
       "      <td>2016-06-11 20:51:25</td>\n",
       "      <td>2016-06-19 03:34:02</td>\n",
       "    </tr>\n",
       "    <tr>\n",
       "      <th>25499</th>\n",
       "      <td>2016-06-11 19:19:52</td>\n",
       "      <td>2016-06-19 15:04:00</td>\n",
       "    </tr>\n",
       "    <tr>\n",
       "      <th>25521</th>\n",
       "      <td>2016-06-13 23:29:16</td>\n",
       "      <td>2016-06-19 23:40:32</td>\n",
       "    </tr>\n",
       "    <tr>\n",
       "      <th>25533</th>\n",
       "      <td>2016-06-15 14:56:16</td>\n",
       "      <td>2016-06-20 05:24:55</td>\n",
       "    </tr>\n",
       "    <tr>\n",
       "      <th>25549</th>\n",
       "      <td>2016-06-14 10:47:13</td>\n",
       "      <td>2016-06-20 10:16:54</td>\n",
       "    </tr>\n",
       "    <tr>\n",
       "      <th>25556</th>\n",
       "      <td>2016-06-13 18:49:26</td>\n",
       "      <td>2016-06-20 12:12:00</td>\n",
       "    </tr>\n",
       "    <tr>\n",
       "      <th>25626</th>\n",
       "      <td>2016-06-14 22:30:37</td>\n",
       "      <td>2016-06-22 02:12:03</td>\n",
       "    </tr>\n",
       "    <tr>\n",
       "      <th>25681</th>\n",
       "      <td>2016-06-13 06:55:22</td>\n",
       "      <td>2016-06-23 03:23:22</td>\n",
       "    </tr>\n",
       "    <tr>\n",
       "      <th>25791</th>\n",
       "      <td>2016-06-14 10:23:24</td>\n",
       "      <td>2016-06-24 22:51:52</td>\n",
       "    </tr>\n",
       "    <tr>\n",
       "      <th>25965</th>\n",
       "      <td>2016-06-10 00:06:54</td>\n",
       "      <td>2016-06-27 20:40:20</td>\n",
       "    </tr>\n",
       "  </tbody>\n",
       "</table>\n",
       "</div>"
      ],
      "text/plain": [
       "                EnteredTS            ExitedTS\n",
       "25283 2016-06-11 09:09:53 2016-06-16 00:54:04\n",
       "25286 2016-06-14 10:14:50 2016-06-16 01:21:06\n",
       "25287 2016-06-14 23:06:20 2016-06-16 02:48:32\n",
       "25294 2016-06-13 09:06:27 2016-06-16 06:08:35\n",
       "25297 2016-06-15 03:07:51 2016-06-16 06:53:49\n",
       "25312 2016-06-15 18:30:35 2016-06-16 13:05:38\n",
       "25320 2016-06-13 21:05:12 2016-06-16 16:17:26\n",
       "25327 2016-06-13 22:45:53 2016-06-16 18:11:57\n",
       "25328 2016-06-14 17:21:16 2016-06-16 18:32:38\n",
       "25342 2016-06-14 19:21:25 2016-06-16 21:59:03\n",
       "25352 2016-06-15 13:32:11 2016-06-17 02:01:55\n",
       "25353 2016-06-15 13:49:54 2016-06-17 03:19:07\n",
       "25356 2016-06-15 00:26:28 2016-06-17 05:26:46\n",
       "25357 2016-06-15 14:36:07 2016-06-17 05:39:05\n",
       "25364 2016-06-13 16:04:52 2016-06-17 07:32:43\n",
       "25370 2016-06-09 08:08:10 2016-06-17 08:06:48\n",
       "25373 2016-06-15 23:53:28 2016-06-17 10:16:26\n",
       "25376 2016-06-14 00:11:03 2016-06-17 12:44:17\n",
       "25377 2016-06-15 13:58:22 2016-06-17 13:37:55\n",
       "25397 2016-06-14 17:00:10 2016-06-17 19:04:18\n",
       "25402 2016-06-11 10:37:57 2016-06-17 19:48:32\n",
       "25409 2016-06-14 10:31:08 2016-06-17 21:34:41\n",
       "25418 2016-06-09 14:54:37 2016-06-18 00:57:20\n",
       "25421 2016-06-14 14:30:26 2016-06-18 02:35:50\n",
       "25454 2016-06-12 11:42:31 2016-06-18 17:39:15\n",
       "25457 2016-06-12 23:10:09 2016-06-18 18:34:41\n",
       "25465 2016-06-15 14:39:03 2016-06-18 22:51:33\n",
       "25474 2016-06-11 20:51:25 2016-06-19 03:34:02\n",
       "25499 2016-06-11 19:19:52 2016-06-19 15:04:00\n",
       "25521 2016-06-13 23:29:16 2016-06-19 23:40:32\n",
       "25533 2016-06-15 14:56:16 2016-06-20 05:24:55\n",
       "25549 2016-06-14 10:47:13 2016-06-20 10:16:54\n",
       "25556 2016-06-13 18:49:26 2016-06-20 12:12:00\n",
       "25626 2016-06-14 22:30:37 2016-06-22 02:12:03\n",
       "25681 2016-06-13 06:55:22 2016-06-23 03:23:22\n",
       "25791 2016-06-14 10:23:24 2016-06-24 22:51:52\n",
       "25965 2016-06-10 00:06:54 2016-06-27 20:40:20"
      ]
     },
     "execution_count": 10,
     "metadata": {},
     "output_type": "execute_result"
    }
   ],
   "source": [
    "print(right_PP_df.shape)\n",
    "right_PP_df[:][['EnteredTS','ExitedTS']]"
   ]
  },
  {
   "cell_type": "code",
   "execution_count": 39,
   "metadata": {
    "collapsed": true
   },
   "outputs": [
    {
     "name": "stdout",
     "output_type": "stream",
     "text": [
      "(30, 17)\n"
     ]
    },
    {
     "data": {
      "text/html": [
       "<div>\n",
       "<table border=\"1\" class=\"dataframe\">\n",
       "  <thead>\n",
       "    <tr style=\"text-align: right;\">\n",
       "      <th></th>\n",
       "      <th>EnteredTS</th>\n",
       "      <th>ExitedTS</th>\n",
       "    </tr>\n",
       "  </thead>\n",
       "  <tbody>\n",
       "    <tr>\n",
       "      <th>6558</th>\n",
       "      <td>2015-06-21 13:54:53</td>\n",
       "      <td>2015-06-24 00:20:17</td>\n",
       "    </tr>\n",
       "    <tr>\n",
       "      <th>6562</th>\n",
       "      <td>2015-06-22 13:42:20</td>\n",
       "      <td>2015-06-24 00:44:04</td>\n",
       "    </tr>\n",
       "    <tr>\n",
       "      <th>6567</th>\n",
       "      <td>2015-06-22 01:06:01</td>\n",
       "      <td>2015-06-24 04:27:04</td>\n",
       "    </tr>\n",
       "    <tr>\n",
       "      <th>6575</th>\n",
       "      <td>2015-06-21 15:20:06</td>\n",
       "      <td>2015-06-24 09:40:08</td>\n",
       "    </tr>\n",
       "    <tr>\n",
       "      <th>6576</th>\n",
       "      <td>2015-06-15 17:39:59</td>\n",
       "      <td>2015-06-24 09:47:58</td>\n",
       "    </tr>\n",
       "    <tr>\n",
       "      <th>6583</th>\n",
       "      <td>2015-06-20 11:16:04</td>\n",
       "      <td>2015-06-24 13:46:49</td>\n",
       "    </tr>\n",
       "    <tr>\n",
       "      <th>6586</th>\n",
       "      <td>2015-06-22 19:32:53</td>\n",
       "      <td>2015-06-24 16:39:49</td>\n",
       "    </tr>\n",
       "    <tr>\n",
       "      <th>6590</th>\n",
       "      <td>2015-06-23 20:59:23</td>\n",
       "      <td>2015-06-24 19:16:10</td>\n",
       "    </tr>\n",
       "    <tr>\n",
       "      <th>6592</th>\n",
       "      <td>2015-06-19 08:52:54</td>\n",
       "      <td>2015-06-24 19:54:19</td>\n",
       "    </tr>\n",
       "    <tr>\n",
       "      <th>6594</th>\n",
       "      <td>2015-06-19 19:10:27</td>\n",
       "      <td>2015-06-24 20:44:15</td>\n",
       "    </tr>\n",
       "    <tr>\n",
       "      <th>6596</th>\n",
       "      <td>2015-06-20 10:29:36</td>\n",
       "      <td>2015-06-24 22:45:08</td>\n",
       "    </tr>\n",
       "    <tr>\n",
       "      <th>6598</th>\n",
       "      <td>2015-06-22 00:58:57</td>\n",
       "      <td>2015-06-24 22:53:08</td>\n",
       "    </tr>\n",
       "    <tr>\n",
       "      <th>6605</th>\n",
       "      <td>2015-06-22 09:25:36</td>\n",
       "      <td>2015-06-25 00:49:20</td>\n",
       "    </tr>\n",
       "    <tr>\n",
       "      <th>6609</th>\n",
       "      <td>2015-06-22 23:26:20</td>\n",
       "      <td>2015-06-25 02:46:38</td>\n",
       "    </tr>\n",
       "    <tr>\n",
       "      <th>6611</th>\n",
       "      <td>2015-06-20 15:16:59</td>\n",
       "      <td>2015-06-25 05:04:10</td>\n",
       "    </tr>\n",
       "    <tr>\n",
       "      <th>6618</th>\n",
       "      <td>2015-06-14 07:09:52</td>\n",
       "      <td>2015-06-25 06:27:32</td>\n",
       "    </tr>\n",
       "    <tr>\n",
       "      <th>6621</th>\n",
       "      <td>2015-06-21 01:42:47</td>\n",
       "      <td>2015-06-25 06:54:31</td>\n",
       "    </tr>\n",
       "    <tr>\n",
       "      <th>6628</th>\n",
       "      <td>2015-06-21 21:59:22</td>\n",
       "      <td>2015-06-25 10:09:14</td>\n",
       "    </tr>\n",
       "    <tr>\n",
       "      <th>6636</th>\n",
       "      <td>2015-06-23 18:19:03</td>\n",
       "      <td>2015-06-25 16:17:33</td>\n",
       "    </tr>\n",
       "    <tr>\n",
       "      <th>6652</th>\n",
       "      <td>2015-06-20 22:15:38</td>\n",
       "      <td>2015-06-25 22:47:47</td>\n",
       "    </tr>\n",
       "    <tr>\n",
       "      <th>6664</th>\n",
       "      <td>2015-06-12 17:06:07</td>\n",
       "      <td>2015-06-26 08:25:24</td>\n",
       "    </tr>\n",
       "    <tr>\n",
       "      <th>6670</th>\n",
       "      <td>2015-06-23 01:53:41</td>\n",
       "      <td>2015-06-26 09:44:11</td>\n",
       "    </tr>\n",
       "    <tr>\n",
       "      <th>6682</th>\n",
       "      <td>2015-06-23 04:38:19</td>\n",
       "      <td>2015-06-26 15:36:45</td>\n",
       "    </tr>\n",
       "    <tr>\n",
       "      <th>6699</th>\n",
       "      <td>2015-06-18 11:46:20</td>\n",
       "      <td>2015-06-26 21:07:09</td>\n",
       "    </tr>\n",
       "    <tr>\n",
       "      <th>6722</th>\n",
       "      <td>2015-06-23 06:40:50</td>\n",
       "      <td>2015-06-27 05:05:47</td>\n",
       "    </tr>\n",
       "    <tr>\n",
       "      <th>6729</th>\n",
       "      <td>2015-06-21 06:01:21</td>\n",
       "      <td>2015-06-27 10:19:00</td>\n",
       "    </tr>\n",
       "    <tr>\n",
       "      <th>6735</th>\n",
       "      <td>2015-06-22 10:13:35</td>\n",
       "      <td>2015-06-27 11:54:41</td>\n",
       "    </tr>\n",
       "    <tr>\n",
       "      <th>6744</th>\n",
       "      <td>2015-06-23 19:21:20</td>\n",
       "      <td>2015-06-27 17:10:36</td>\n",
       "    </tr>\n",
       "    <tr>\n",
       "      <th>6830</th>\n",
       "      <td>2015-06-22 21:55:52</td>\n",
       "      <td>2015-06-29 12:15:50</td>\n",
       "    </tr>\n",
       "    <tr>\n",
       "      <th>6892</th>\n",
       "      <td>2015-06-23 23:42:39</td>\n",
       "      <td>2015-06-30 14:15:47</td>\n",
       "    </tr>\n",
       "  </tbody>\n",
       "</table>\n",
       "</div>"
      ],
      "text/plain": [
       "               EnteredTS            ExitedTS\n",
       "6558 2015-06-21 13:54:53 2015-06-24 00:20:17\n",
       "6562 2015-06-22 13:42:20 2015-06-24 00:44:04\n",
       "6567 2015-06-22 01:06:01 2015-06-24 04:27:04\n",
       "6575 2015-06-21 15:20:06 2015-06-24 09:40:08\n",
       "6576 2015-06-15 17:39:59 2015-06-24 09:47:58\n",
       "6583 2015-06-20 11:16:04 2015-06-24 13:46:49\n",
       "6586 2015-06-22 19:32:53 2015-06-24 16:39:49\n",
       "6590 2015-06-23 20:59:23 2015-06-24 19:16:10\n",
       "6592 2015-06-19 08:52:54 2015-06-24 19:54:19\n",
       "6594 2015-06-19 19:10:27 2015-06-24 20:44:15\n",
       "6596 2015-06-20 10:29:36 2015-06-24 22:45:08\n",
       "6598 2015-06-22 00:58:57 2015-06-24 22:53:08\n",
       "6605 2015-06-22 09:25:36 2015-06-25 00:49:20\n",
       "6609 2015-06-22 23:26:20 2015-06-25 02:46:38\n",
       "6611 2015-06-20 15:16:59 2015-06-25 05:04:10\n",
       "6618 2015-06-14 07:09:52 2015-06-25 06:27:32\n",
       "6621 2015-06-21 01:42:47 2015-06-25 06:54:31\n",
       "6628 2015-06-21 21:59:22 2015-06-25 10:09:14\n",
       "6636 2015-06-23 18:19:03 2015-06-25 16:17:33\n",
       "6652 2015-06-20 22:15:38 2015-06-25 22:47:47\n",
       "6664 2015-06-12 17:06:07 2015-06-26 08:25:24\n",
       "6670 2015-06-23 01:53:41 2015-06-26 09:44:11\n",
       "6682 2015-06-23 04:38:19 2015-06-26 15:36:45\n",
       "6699 2015-06-18 11:46:20 2015-06-26 21:07:09\n",
       "6722 2015-06-23 06:40:50 2015-06-27 05:05:47\n",
       "6729 2015-06-21 06:01:21 2015-06-27 10:19:00\n",
       "6735 2015-06-22 10:13:35 2015-06-27 11:54:41\n",
       "6744 2015-06-23 19:21:20 2015-06-27 17:10:36\n",
       "6830 2015-06-22 21:55:52 2015-06-29 12:15:50\n",
       "6892 2015-06-23 23:42:39 2015-06-30 14:15:47"
      ]
     },
     "execution_count": 39,
     "metadata": {},
     "output_type": "execute_result"
    }
   ],
   "source": [
    "print(left_PP_df.shape)\n",
    "left_PP_df[:][['EnteredTS','ExitedTS']]"
   ]
  }
 ],
 "metadata": {
  "kernelspec": {
   "display_name": "Python 3",
   "language": "python",
   "name": "python3"
  },
  "language_info": {
   "codemirror_mode": {
    "name": "ipython",
    "version": 3
   },
   "file_extension": ".py",
   "mimetype": "text/x-python",
   "name": "python",
   "nbconvert_exporter": "python",
   "pygments_lexer": "ipython3",
   "version": "3.4.3"
  }
 },
 "nbformat": 4,
 "nbformat_minor": 0
}
