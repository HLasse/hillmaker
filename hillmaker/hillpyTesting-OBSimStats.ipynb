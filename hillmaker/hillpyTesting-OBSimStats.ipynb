{
 "cells": [
  {
   "cell_type": "code",
   "execution_count": 1,
   "metadata": {
    "collapsed": true
   },
   "outputs": [],
   "source": [
    "%matplotlib inline"
   ]
  },
  {
   "cell_type": "code",
   "execution_count": 25,
   "metadata": {
    "collapsed": true
   },
   "outputs": [],
   "source": [
    "import numpy as np\n",
    "from numpy.random import randn\n",
    "import pandas as pd\n",
    "from scipy import stats\n",
    "import matplotlib as mpl\n",
    "import matplotlib.pyplot as plt\n",
    "import seaborn as sns\n",
    "\n",
    "from pandas import Timestamp\n",
    "\n",
    "import hillmaker as hm"
   ]
  },
  {
   "cell_type": "code",
   "execution_count": 26,
   "metadata": {
    "collapsed": true
   },
   "outputs": [],
   "source": [
    "file_stopdata = 'data/unit_stop_log_Experiment1_Scenario1_Rep1.csv'\n",
    "\n",
    "scenario_name = 'log_unitocc_test_steadystate'\n",
    "in_fld_name = 'EnteredTS'\n",
    "out_fld_name = 'ExitedTS'\n",
    "cat_fld_name = 'Unit'\n",
    "start_analysis = '6/24/2015 00:00'\n",
    "end_analysis = '6/16/2016 00:00'\n",
    "\n",
    "# Optional inputs\n",
    "\n",
    "tot_fld_name = 'OBTot'\n",
    "bin_size_mins = 1440\n",
    "includecats = ['LDR','PP']\n",
    "\n",
    "df = pd.read_csv(file_stopdata)\n",
    "basedate = Timestamp('20150215 00:00:00')\n",
    "df['EnteredTS'] = df.apply(lambda row:\n",
    "                           Timestamp(round((basedate + pd.DateOffset(hours=row['Entered'])).value,-9)), axis=1)\n",
    "\n",
    "df['ExitedTS'] = df.apply(lambda row:\n",
    "                          Timestamp(round((basedate + pd.DateOffset(hours=row['Exited'])).value,-9)), axis=1)"
   ]
  },
  {
   "cell_type": "code",
   "execution_count": 36,
   "metadata": {
    "collapsed": false
   },
   "outputs": [
    {
     "name": "stdout",
     "output_type": "stream",
     "text": [
      "2015-06-24 00:00:00 2016-06-16 00:00:00\n"
     ]
    }
   ],
   "source": [
    "a_start = pd.Timestamp(start_analysis)\n",
    "a_end = pd.Timestamp(end_analysis)\n",
    "print(a_start,a_end)"
   ]
  },
  {
   "cell_type": "code",
   "execution_count": 38,
   "metadata": {
    "collapsed": false
   },
   "outputs": [],
   "source": [
    "left_PP_df = df[(df['EnteredTS'] < a_start) & (a_start <= df['ExitedTS']) &  (df['ExitedTS'] < a_end) & (df['Unit'] == 'PP')]"
   ]
  },
  {
   "cell_type": "code",
   "execution_count": 39,
   "metadata": {
    "collapsed": false
   },
   "outputs": [
    {
     "name": "stdout",
     "output_type": "stream",
     "text": [
      "(30, 17)\n"
     ]
    },
    {
     "data": {
      "text/html": [
       "<div>\n",
       "<table border=\"1\" class=\"dataframe\">\n",
       "  <thead>\n",
       "    <tr style=\"text-align: right;\">\n",
       "      <th></th>\n",
       "      <th>EnteredTS</th>\n",
       "      <th>ExitedTS</th>\n",
       "    </tr>\n",
       "  </thead>\n",
       "  <tbody>\n",
       "    <tr>\n",
       "      <th>6558</th>\n",
       "      <td>2015-06-21 13:54:53</td>\n",
       "      <td>2015-06-24 00:20:17</td>\n",
       "    </tr>\n",
       "    <tr>\n",
       "      <th>6562</th>\n",
       "      <td>2015-06-22 13:42:20</td>\n",
       "      <td>2015-06-24 00:44:04</td>\n",
       "    </tr>\n",
       "    <tr>\n",
       "      <th>6567</th>\n",
       "      <td>2015-06-22 01:06:01</td>\n",
       "      <td>2015-06-24 04:27:04</td>\n",
       "    </tr>\n",
       "    <tr>\n",
       "      <th>6575</th>\n",
       "      <td>2015-06-21 15:20:06</td>\n",
       "      <td>2015-06-24 09:40:08</td>\n",
       "    </tr>\n",
       "    <tr>\n",
       "      <th>6576</th>\n",
       "      <td>2015-06-15 17:39:59</td>\n",
       "      <td>2015-06-24 09:47:58</td>\n",
       "    </tr>\n",
       "    <tr>\n",
       "      <th>6583</th>\n",
       "      <td>2015-06-20 11:16:04</td>\n",
       "      <td>2015-06-24 13:46:49</td>\n",
       "    </tr>\n",
       "    <tr>\n",
       "      <th>6586</th>\n",
       "      <td>2015-06-22 19:32:53</td>\n",
       "      <td>2015-06-24 16:39:49</td>\n",
       "    </tr>\n",
       "    <tr>\n",
       "      <th>6590</th>\n",
       "      <td>2015-06-23 20:59:23</td>\n",
       "      <td>2015-06-24 19:16:10</td>\n",
       "    </tr>\n",
       "    <tr>\n",
       "      <th>6592</th>\n",
       "      <td>2015-06-19 08:52:54</td>\n",
       "      <td>2015-06-24 19:54:19</td>\n",
       "    </tr>\n",
       "    <tr>\n",
       "      <th>6594</th>\n",
       "      <td>2015-06-19 19:10:27</td>\n",
       "      <td>2015-06-24 20:44:15</td>\n",
       "    </tr>\n",
       "    <tr>\n",
       "      <th>6596</th>\n",
       "      <td>2015-06-20 10:29:36</td>\n",
       "      <td>2015-06-24 22:45:08</td>\n",
       "    </tr>\n",
       "    <tr>\n",
       "      <th>6598</th>\n",
       "      <td>2015-06-22 00:58:57</td>\n",
       "      <td>2015-06-24 22:53:08</td>\n",
       "    </tr>\n",
       "    <tr>\n",
       "      <th>6605</th>\n",
       "      <td>2015-06-22 09:25:36</td>\n",
       "      <td>2015-06-25 00:49:20</td>\n",
       "    </tr>\n",
       "    <tr>\n",
       "      <th>6609</th>\n",
       "      <td>2015-06-22 23:26:20</td>\n",
       "      <td>2015-06-25 02:46:38</td>\n",
       "    </tr>\n",
       "    <tr>\n",
       "      <th>6611</th>\n",
       "      <td>2015-06-20 15:16:59</td>\n",
       "      <td>2015-06-25 05:04:10</td>\n",
       "    </tr>\n",
       "    <tr>\n",
       "      <th>6618</th>\n",
       "      <td>2015-06-14 07:09:52</td>\n",
       "      <td>2015-06-25 06:27:32</td>\n",
       "    </tr>\n",
       "    <tr>\n",
       "      <th>6621</th>\n",
       "      <td>2015-06-21 01:42:47</td>\n",
       "      <td>2015-06-25 06:54:31</td>\n",
       "    </tr>\n",
       "    <tr>\n",
       "      <th>6628</th>\n",
       "      <td>2015-06-21 21:59:22</td>\n",
       "      <td>2015-06-25 10:09:14</td>\n",
       "    </tr>\n",
       "    <tr>\n",
       "      <th>6636</th>\n",
       "      <td>2015-06-23 18:19:03</td>\n",
       "      <td>2015-06-25 16:17:33</td>\n",
       "    </tr>\n",
       "    <tr>\n",
       "      <th>6652</th>\n",
       "      <td>2015-06-20 22:15:38</td>\n",
       "      <td>2015-06-25 22:47:47</td>\n",
       "    </tr>\n",
       "    <tr>\n",
       "      <th>6664</th>\n",
       "      <td>2015-06-12 17:06:07</td>\n",
       "      <td>2015-06-26 08:25:24</td>\n",
       "    </tr>\n",
       "    <tr>\n",
       "      <th>6670</th>\n",
       "      <td>2015-06-23 01:53:41</td>\n",
       "      <td>2015-06-26 09:44:11</td>\n",
       "    </tr>\n",
       "    <tr>\n",
       "      <th>6682</th>\n",
       "      <td>2015-06-23 04:38:19</td>\n",
       "      <td>2015-06-26 15:36:45</td>\n",
       "    </tr>\n",
       "    <tr>\n",
       "      <th>6699</th>\n",
       "      <td>2015-06-18 11:46:20</td>\n",
       "      <td>2015-06-26 21:07:09</td>\n",
       "    </tr>\n",
       "    <tr>\n",
       "      <th>6722</th>\n",
       "      <td>2015-06-23 06:40:50</td>\n",
       "      <td>2015-06-27 05:05:47</td>\n",
       "    </tr>\n",
       "    <tr>\n",
       "      <th>6729</th>\n",
       "      <td>2015-06-21 06:01:21</td>\n",
       "      <td>2015-06-27 10:19:00</td>\n",
       "    </tr>\n",
       "    <tr>\n",
       "      <th>6735</th>\n",
       "      <td>2015-06-22 10:13:35</td>\n",
       "      <td>2015-06-27 11:54:41</td>\n",
       "    </tr>\n",
       "    <tr>\n",
       "      <th>6744</th>\n",
       "      <td>2015-06-23 19:21:20</td>\n",
       "      <td>2015-06-27 17:10:36</td>\n",
       "    </tr>\n",
       "    <tr>\n",
       "      <th>6830</th>\n",
       "      <td>2015-06-22 21:55:52</td>\n",
       "      <td>2015-06-29 12:15:50</td>\n",
       "    </tr>\n",
       "    <tr>\n",
       "      <th>6892</th>\n",
       "      <td>2015-06-23 23:42:39</td>\n",
       "      <td>2015-06-30 14:15:47</td>\n",
       "    </tr>\n",
       "  </tbody>\n",
       "</table>\n",
       "</div>"
      ],
      "text/plain": [
       "               EnteredTS            ExitedTS\n",
       "6558 2015-06-21 13:54:53 2015-06-24 00:20:17\n",
       "6562 2015-06-22 13:42:20 2015-06-24 00:44:04\n",
       "6567 2015-06-22 01:06:01 2015-06-24 04:27:04\n",
       "6575 2015-06-21 15:20:06 2015-06-24 09:40:08\n",
       "6576 2015-06-15 17:39:59 2015-06-24 09:47:58\n",
       "6583 2015-06-20 11:16:04 2015-06-24 13:46:49\n",
       "6586 2015-06-22 19:32:53 2015-06-24 16:39:49\n",
       "6590 2015-06-23 20:59:23 2015-06-24 19:16:10\n",
       "6592 2015-06-19 08:52:54 2015-06-24 19:54:19\n",
       "6594 2015-06-19 19:10:27 2015-06-24 20:44:15\n",
       "6596 2015-06-20 10:29:36 2015-06-24 22:45:08\n",
       "6598 2015-06-22 00:58:57 2015-06-24 22:53:08\n",
       "6605 2015-06-22 09:25:36 2015-06-25 00:49:20\n",
       "6609 2015-06-22 23:26:20 2015-06-25 02:46:38\n",
       "6611 2015-06-20 15:16:59 2015-06-25 05:04:10\n",
       "6618 2015-06-14 07:09:52 2015-06-25 06:27:32\n",
       "6621 2015-06-21 01:42:47 2015-06-25 06:54:31\n",
       "6628 2015-06-21 21:59:22 2015-06-25 10:09:14\n",
       "6636 2015-06-23 18:19:03 2015-06-25 16:17:33\n",
       "6652 2015-06-20 22:15:38 2015-06-25 22:47:47\n",
       "6664 2015-06-12 17:06:07 2015-06-26 08:25:24\n",
       "6670 2015-06-23 01:53:41 2015-06-26 09:44:11\n",
       "6682 2015-06-23 04:38:19 2015-06-26 15:36:45\n",
       "6699 2015-06-18 11:46:20 2015-06-26 21:07:09\n",
       "6722 2015-06-23 06:40:50 2015-06-27 05:05:47\n",
       "6729 2015-06-21 06:01:21 2015-06-27 10:19:00\n",
       "6735 2015-06-22 10:13:35 2015-06-27 11:54:41\n",
       "6744 2015-06-23 19:21:20 2015-06-27 17:10:36\n",
       "6830 2015-06-22 21:55:52 2015-06-29 12:15:50\n",
       "6892 2015-06-23 23:42:39 2015-06-30 14:15:47"
      ]
     },
     "execution_count": 39,
     "metadata": {},
     "output_type": "execute_result"
    }
   ],
   "source": [
    "print(left_PP_df.shape)\n",
    "left_PP_df[:][['EnteredTS','ExitedTS']]"
   ]
  },
  {
   "cell_type": "code",
   "execution_count": 45,
   "metadata": {
    "collapsed": true
   },
   "outputs": [],
   "source": [
    "occ_df = pd.read_csv('testing/occ_stats_summary_log_unitocc_test_steadystate_PP.csv')"
   ]
  },
  {
   "cell_type": "code",
   "execution_count": 46,
   "metadata": {
    "collapsed": true
   },
   "outputs": [],
   "source": [
    "bydt_df = pd.read_csv('testing/bydatetime_log_unitocc_test_steadystate_PP.csv')"
   ]
  },
  {
   "cell_type": "code",
   "execution_count": 47,
   "metadata": {
    "collapsed": true
   },
   "outputs": [],
   "source": [
    "pp_occ = bydt_df[(bydt_df['category'] == 'PP')]['occupancy']"
   ]
  },
  {
   "cell_type": "code",
   "execution_count": 22,
   "metadata": {
    "collapsed": true
   },
   "outputs": [],
   "source": [
    "ldr_occ = bydt_df[(bydt_df['category'] == 'LDR')]['occupancy']"
   ]
  },
  {
   "cell_type": "code",
   "execution_count": 8,
   "metadata": {
    "collapsed": false
   },
   "outputs": [
    {
     "data": {
      "text/plain": [
       "(array([  1.,   0.,   1.,   1.,   3.,   0.,  12.,  13.,  26.,  24.,  39.,\n",
       "         40.,  52.,  47.,  43.,  49.,  35.,  24.,  18.,  23.]),\n",
       " array([ 16.3093287 ,  17.79386227,  19.27839583,  20.7629294 ,\n",
       "         22.24746296,  23.73199653,  25.21653009,  26.70106366,\n",
       "         28.18559722,  29.67013079,  31.15466435,  32.63919792,\n",
       "         34.12373148,  35.60826505,  37.09279861,  38.57733218,\n",
       "         40.06186574,  41.54639931,  43.03093287,  44.51546644,  46.        ]),\n",
       " <a list of 20 Patch objects>)"
      ]
     },
     "execution_count": 8,
     "metadata": {},
     "output_type": "execute_result"
    },
    {
     "data": {
      "image/png": "[encoded data removed]",
      "text/plain": [
       "<matplotlib.figure.Figure at 0x7fc5bd5044a8>"
      ]
     },
     "metadata": {},
     "output_type": "display_data"
    }
   ],
   "source": [
    "plt.hist(pp_occ.values,20)"
   ]
  },
  {
   "cell_type": "code",
   "execution_count": 9,
   "metadata": {
    "collapsed": false
   },
   "outputs": [
    {
     "data": {
      "text/plain": [
       "(array([  1.,   0.,   0.,   1.,   1.,   5.,  12.,  11.,  28.,  50.,  41.,\n",
       "         54.,  50.,  46.,  43.,  24.,  35.,  25.,  13.,  11.]),\n",
       " array([  0.  ,   0.65,   1.3 ,   1.95,   2.6 ,   3.25,   3.9 ,   4.55,\n",
       "          5.2 ,   5.85,   6.5 ,   7.15,   7.8 ,   8.45,   9.1 ,   9.75,\n",
       "         10.4 ,  11.05,  11.7 ,  12.35,  13.  ]),\n",
       " <a list of 20 Patch objects>)"
      ]
     },
     "execution_count": 9,
     "metadata": {},
     "output_type": "execute_result"
    },
    {
     "data": {
      "image/png": "[encoded data removed]",
      "text/plain": [
       "<matplotlib.figure.Figure at 0x7fc5ccb88a90>"
      ]
     },
     "metadata": {},
     "output_type": "display_data"
    }
   ],
   "source": [
    "plt.hist(ldr_occ.values,20)"
   ]
  },
  {
   "cell_type": "code",
   "execution_count": 11,
   "metadata": {
    "collapsed": false
   },
   "outputs": [
    {
     "data": {
      "text/html": [
       "<div>\n",
       "<table border=\"1\" class=\"dataframe\">\n",
       "  <thead>\n",
       "    <tr style=\"text-align: right;\">\n",
       "      <th></th>\n",
       "      <th>category</th>\n",
       "      <th>datetime</th>\n",
       "      <th>arrivals</th>\n",
       "      <th>departures</th>\n",
       "      <th>occupancy</th>\n",
       "      <th>day_of_week</th>\n",
       "      <th>bin_of_day</th>\n",
       "      <th>bin_of_week</th>\n",
       "    </tr>\n",
       "  </thead>\n",
       "  <tbody>\n",
       "    <tr>\n",
       "      <th>0</th>\n",
       "      <td>LDR</td>\n",
       "      <td>2015-02-15 00:00:00</td>\n",
       "      <td>12</td>\n",
       "      <td>7</td>\n",
       "      <td>2.697824</td>\n",
       "      <td>6</td>\n",
       "      <td>0</td>\n",
       "      <td>6</td>\n",
       "    </tr>\n",
       "    <tr>\n",
       "      <th>1</th>\n",
       "      <td>LDR</td>\n",
       "      <td>2015-02-16 00:00:00</td>\n",
       "      <td>17</td>\n",
       "      <td>17</td>\n",
       "      <td>6.657824</td>\n",
       "      <td>0</td>\n",
       "      <td>0</td>\n",
       "      <td>0</td>\n",
       "    </tr>\n",
       "    <tr>\n",
       "      <th>2</th>\n",
       "      <td>LDR</td>\n",
       "      <td>2015-02-17 00:00:00</td>\n",
       "      <td>16</td>\n",
       "      <td>13</td>\n",
       "      <td>6.210556</td>\n",
       "      <td>1</td>\n",
       "      <td>0</td>\n",
       "      <td>1</td>\n",
       "    </tr>\n",
       "    <tr>\n",
       "      <th>3</th>\n",
       "      <td>LDR</td>\n",
       "      <td>2015-02-18 00:00:00</td>\n",
       "      <td>17</td>\n",
       "      <td>18</td>\n",
       "      <td>7.160961</td>\n",
       "      <td>2</td>\n",
       "      <td>0</td>\n",
       "      <td>2</td>\n",
       "    </tr>\n",
       "    <tr>\n",
       "      <th>4</th>\n",
       "      <td>LDR</td>\n",
       "      <td>2015-02-19 00:00:00</td>\n",
       "      <td>16</td>\n",
       "      <td>17</td>\n",
       "      <td>7.375949</td>\n",
       "      <td>3</td>\n",
       "      <td>0</td>\n",
       "      <td>3</td>\n",
       "    </tr>\n",
       "  </tbody>\n",
       "</table>\n",
       "</div>"
      ],
      "text/plain": [
       "  category             datetime  arrivals  departures  occupancy  day_of_week  \\\n",
       "0      LDR  2015-02-15 00:00:00        12           7   2.697824            6   \n",
       "1      LDR  2015-02-16 00:00:00        17          17   6.657824            0   \n",
       "2      LDR  2015-02-17 00:00:00        16          13   6.210556            1   \n",
       "3      LDR  2015-02-18 00:00:00        17          18   7.160961            2   \n",
       "4      LDR  2015-02-19 00:00:00        16          17   7.375949            3   \n",
       "\n",
       "   bin_of_day  bin_of_week  \n",
       "0           0            6  \n",
       "1           0            0  \n",
       "2           0            1  \n",
       "3           0            2  \n",
       "4           0            3  "
      ]
     },
     "execution_count": 11,
     "metadata": {},
     "output_type": "execute_result"
    }
   ],
   "source": [
    "bydt_df.head()"
   ]
  },
  {
   "cell_type": "code",
   "execution_count": 51,
   "metadata": {
    "collapsed": false
   },
   "outputs": [
    {
     "data": {
      "text/plain": [
       "'2015-03-24'"
      ]
     },
     "execution_count": 51,
     "metadata": {},
     "output_type": "execute_result"
    }
   ],
   "source": [
    "bydt_df['datetime'].min()"
   ]
  },
  {
   "cell_type": "code",
   "execution_count": 48,
   "metadata": {
    "collapsed": false
   },
   "outputs": [
    {
     "data": {
      "text/plain": [
       "count    437.000000\n",
       "mean      36.068304\n",
       "std        5.123482\n",
       "min       20.479213\n",
       "25%       32.514062\n",
       "50%       36.058218\n",
       "75%       39.820926\n",
       "max       46.000000\n",
       "Name: occupancy, dtype: float64"
      ]
     },
     "execution_count": 48,
     "metadata": {},
     "output_type": "execute_result"
    }
   ],
   "source": [
    "pp_occ.describe()"
   ]
  },
  {
   "cell_type": "code",
   "execution_count": 49,
   "metadata": {
    "collapsed": false
   },
   "outputs": [
    {
     "data": {
      "image/png": "[encoded data removed]",
      "text/plain": [
       "<matplotlib.figure.Figure at 0x7fc5bd0a9e80>"
      ]
     },
     "metadata": {},
     "output_type": "display_data"
    }
   ],
   "source": [
    "sns.tsplot(pp_occ);"
   ]
  },
  {
   "cell_type": "code",
   "execution_count": 15,
   "metadata": {
    "collapsed": false
   },
   "outputs": [
    {
     "data": {
      "text/plain": [
       "488     2.773785\n",
       "489    10.258866\n",
       "490    20.487118\n",
       "491    31.099259\n",
       "492    34.894653\n",
       "Name: occupancy, dtype: float64"
      ]
     },
     "execution_count": 15,
     "metadata": {},
     "output_type": "execute_result"
    }
   ],
   "source": [
    "pp_occ.head()"
   ]
  },
  {
   "cell_type": "code",
   "execution_count": null,
   "metadata": {
    "collapsed": true
   },
   "outputs": [],
   "source": []
  }
 ],
 "metadata": {
  "kernelspec": {
   "display_name": "Python 3",
   "language": "python",
   "name": "python3"
  },
  "language_info": {
   "codemirror_mode": {
    "name": "ipython",
    "version": 3
   },
   "file_extension": ".py",
   "mimetype": "text/x-python",
   "name": "python",
   "nbconvert_exporter": "python",
   "pygments_lexer": "ipython3",
   "version": "3.4.3"
  }
 },
 "nbformat": 4,
 "nbformat_minor": 0
}
