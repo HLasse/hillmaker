{
 "cells": [
  {
   "cell_type": "markdown",
   "metadata": {},
   "source": [
    "# Hillmaker - basic usage\n",
    "\n",
    "In this notebook we'll focus on basic use of hillmaker for analyzing arrivals, departures, and occupancy by time of day and day of week for a typical *discrete entity flow system*. A few examples of such systems include:\n",
    "\n",
    "- patients arriving, undergoing some sort of care process and departing some healthcare system (e.g. emergency department, surgical recovery, nursing unit, outpatient clinic, and many more)\n",
    "- customers renting, using, and returning bikes in a bike share system,\n",
    "- users of licensed software checking out, using, checking back in a software license,\n",
    "- products undergoing some sort of manufacturing or assembly process - occupancy is WIP,\n",
    "- patrons arriving, dining and leaving a restaurant,\n",
    "- travelers renting, residing in, and checking out of a hotel,\n",
    "- flights taking off and arriving at their destination,\n",
    "- ...\n",
    "\n",
    "Basically, any sort of discrete [stock and flow system](https://en.wikipedia.org/wiki/Stock_and_flow) for which you are interested in time of day and day of week specific statistical summaries of occupancy, arrivals and departures, and have raw data on the arrival and departure times, is fair game for hillmaker."
   ]
  },
  {
   "cell_type": "markdown",
   "metadata": {},
   "source": [
    "## A prototypical example of a hillmaker use case\n",
    "\n",
    "Patients flow through a short stay unit for a variety of procedures, tests or therapies. Let's assume patients can be classified into one of five categories of patient types: ART (arterialgram), CAT (post cardiac-cath), MYE (myelogram), IVT (IV therapy), and OTH (other). From one of our hospital information systems we were able to get raw data about the entry and exit times of each patient and exported the data to a csv file. Let's take a peek at the data."
   ]
  },
  {
   "cell_type": "code",
   "execution_count": 1,
   "metadata": {},
   "outputs": [],
   "source": [
    "%load_ext autoreload\n",
    "%autoreload 2"
   ]
  },
  {
   "cell_type": "code",
   "execution_count": 2,
   "metadata": {},
   "outputs": [
    {
     "name": "stdout",
     "output_type": "stream",
     "text": [
      "<class 'pandas.core.frame.DataFrame'>\n",
      "RangeIndex: 59877 entries, 0 to 59876\n",
      "Data columns (total 4 columns):\n",
      " #   Column     Non-Null Count  Dtype         \n",
      "---  ------     --------------  -----         \n",
      " 0   PatID      59877 non-null  int64         \n",
      " 1   InRoomTS   59877 non-null  datetime64[ns]\n",
      " 2   OutRoomTS  59877 non-null  datetime64[ns]\n",
      " 3   PatType    59877 non-null  object        \n",
      "dtypes: datetime64[ns](2), int64(1), object(1)\n",
      "memory usage: 1.8+ MB\n"
     ]
    }
   ],
   "source": [
    "import pandas as pd\n",
    "\n",
    "ssu_stopdata = './input/ShortStay.csv'\n",
    "stops_df = pd.read_csv(ssu_stopdata, parse_dates=['InRoomTS','OutRoomTS'])\n",
    "stops_df.info() # Check out the structure of the resulting DataFrame"
   ]
  },
  {
   "cell_type": "code",
   "execution_count": 3,
   "metadata": {},
   "outputs": [
    {
     "data": {
      "text/html": [
       "<div>\n",
       "<style scoped>\n",
       "    .dataframe tbody tr th:only-of-type {\n",
       "        vertical-align: middle;\n",
       "    }\n",
       "\n",
       "    .dataframe tbody tr th {\n",
       "        vertical-align: top;\n",
       "    }\n",
       "\n",
       "    .dataframe thead th {\n",
       "        text-align: right;\n",
       "    }\n",
       "</style>\n",
       "<table border=\"1\" class=\"dataframe\">\n",
       "  <thead>\n",
       "    <tr style=\"text-align: right;\">\n",
       "      <th></th>\n",
       "      <th>PatID</th>\n",
       "      <th>InRoomTS</th>\n",
       "      <th>OutRoomTS</th>\n",
       "      <th>PatType</th>\n",
       "    </tr>\n",
       "  </thead>\n",
       "  <tbody>\n",
       "    <tr>\n",
       "      <th>0</th>\n",
       "      <td>1</td>\n",
       "      <td>1996-01-01 07:44:00</td>\n",
       "      <td>1996-01-01 08:50:00</td>\n",
       "      <td>IVT</td>\n",
       "    </tr>\n",
       "    <tr>\n",
       "      <th>1</th>\n",
       "      <td>2</td>\n",
       "      <td>1996-01-01 08:28:00</td>\n",
       "      <td>1996-01-01 09:20:00</td>\n",
       "      <td>IVT</td>\n",
       "    </tr>\n",
       "    <tr>\n",
       "      <th>2</th>\n",
       "      <td>3</td>\n",
       "      <td>1996-01-01 11:44:00</td>\n",
       "      <td>1996-01-01 13:30:00</td>\n",
       "      <td>MYE</td>\n",
       "    </tr>\n",
       "    <tr>\n",
       "      <th>3</th>\n",
       "      <td>4</td>\n",
       "      <td>1996-01-01 11:51:00</td>\n",
       "      <td>1996-01-01 12:55:00</td>\n",
       "      <td>CAT</td>\n",
       "    </tr>\n",
       "    <tr>\n",
       "      <th>4</th>\n",
       "      <td>5</td>\n",
       "      <td>1996-01-01 12:10:00</td>\n",
       "      <td>1996-01-01 13:00:00</td>\n",
       "      <td>IVT</td>\n",
       "    </tr>\n",
       "  </tbody>\n",
       "</table>\n",
       "</div>"
      ],
      "text/plain": [
       "   PatID            InRoomTS           OutRoomTS PatType\n",
       "0      1 1996-01-01 07:44:00 1996-01-01 08:50:00     IVT\n",
       "1      2 1996-01-01 08:28:00 1996-01-01 09:20:00     IVT\n",
       "2      3 1996-01-01 11:44:00 1996-01-01 13:30:00     MYE\n",
       "3      4 1996-01-01 11:51:00 1996-01-01 12:55:00     CAT\n",
       "4      5 1996-01-01 12:10:00 1996-01-01 13:00:00     IVT"
      ]
     },
     "execution_count": 3,
     "metadata": {},
     "output_type": "execute_result"
    }
   ],
   "source": [
    "stops_df.head()"
   ]
  },
  {
   "cell_type": "markdown",
   "metadata": {},
   "source": [
    "As part of an operational analysis we would like to compute a number of relevant statistics, such as:\n",
    "\n",
    "- mean and 95th percentile of overall SSU occupancy by hour of day and day of week,\n",
    "- similar hourly statistics for patient arrivals and departures,\n",
    "- all of the above but by patient type as well.\n",
    "\n",
    "In addition to tabular summaries, plots are needed. Like this:\n",
    "\n",
    "![SSU occupancy plot](images/ssu-occ.png)\n",
    "\n",
    "Hillmaker was designed for precisely this type of problem. In fact, the very first version of hillmaker was written for analyzing an SSU when the author was an undergraduate interning at a large health care system. That very first version was written in BASIC on a [DECwriter](https://en.wikipedia.org/wiki/DECwriter)!\n",
    "\n",
    "![DECwriter](images/DECwriter,_Tektronix,_PDP-11_(192826605).jpg)\n",
    "<p align = \"center\">\n",
    "<font size=\"-2\">Source: By Wolfgang Stief from Tittmoning, Germany - DECwriter, Tektronix, PDP-11, CC0, https://commons.wikimedia.org/w/index.php?curid=105322423</font>\n",
    "</p>\n",
    "\n",
    "Over the years, hillmaker was migrated to [FoxPro](https://en.wikipedia.org/wiki/FoxPro), and then to MS Access where it [lived for many years](http://hillmaker.sourceforge.net/). In 2016, I [moved it to Python](https://misken.github.io/blog/hillmaker-python-released/)."
   ]
  },
  {
   "cell_type": "markdown",
   "metadata": {},
   "source": [
    "## Current (2022-06-28) status of code\n",
    "\n",
    "Version 0.4.0 was just released and is available on [PyPI](https://pypi.org/project/hillmaker/) or source from https://github.com/misken/hillmaker. This version is much faster than previous versions (thank you numpy) and includes a CLI, flow conservation checks and better logging. It does however revert back to only allowing a single category field (multiple category fields can easily be handled by constructing composite category strings). You can read more about this latest release of Hillmaker at [https://misken.github.io/blog/hillmaker-python-released/](https://misken.github.io/blog/hillmaker-python-released/). It's free and open source.\n",
    "\n",
    "Hillmaker is implemented as an importable Python module and as a runnable script with a simple CLI. This new version of Hillmaker is still in what I'd call a pre-release state. The output does match the Access version for the ShortStay database that I included in the original Hillmaker. I've been actively using it to process thousands of simulation output log files as part of a research project on OB patient flow. More testing is needed before I release it publicly as version 1.0, but it does appear to be doing its primary job correctly. Please open an issue on GitHub if you think it's computing something incorrectly. Before using for any real project work, you should do your own testing to confirm that it is working appropriately for your needs. Use at your own risk - see [LICENSE file in GitHub](https://github.com/misken/hillmaker/blob/master/LICENSE)."
   ]
  },
  {
   "cell_type": "markdown",
   "metadata": {},
   "source": [
    "## User interface plans\n",
    "Over the years, I (and many others) have used the old Hillmaker in a variety of ways, including:\n",
    "\n",
    "- MS Access form based GUI\n",
    "- run main Hillmaker sub from Access VBA Immediate Window\n",
    "- run Hillmaker main sub (and/or components subs) via custom VBA procedures\n",
    "\n",
    "I'd like users to be able to use the new Python based version in a number of different ways as well. As I'll show in this Jupyter notebook, it can be used by importing the `hillmaker` module and then calling Hillmaker functions via:\n",
    "\n",
    "- a Jupyter notebook (or any Python terminal such as an IPython shell or QT console, or IDLE)\n",
    "- a Python script with the input arguments set and passed via Python statements\n",
    "\n",
    "### A CLI\n",
    "\n",
    "While these two options provide tons of flexibility for power users, I have also added a CLI. The CLI is demo'd in this notebook as well.\n",
    "\n",
    "### A GUI for hillmaker\n",
    "This is uncharted territory for me. Python has [a number of frameworks/toolkits for creating GUI apps](https://wiki.python.org/moin/GuiProgramming). This is not the highest priority for me but I do plan on creating a GUI for Hillmaker. If anyone wants to help with this, let me know.\n",
    "\n"
   ]
  },
  {
   "cell_type": "markdown",
   "metadata": {},
   "source": [
    "## Installing Hillmaker\n",
    "\n",
    "Whereas the old Hillmaker required MS Access, the new one requires an installation of Python 3.7+ along with several Python modules that are widely used for analytics and data science work. The free and open source [Anaconda Distribution of Python](https://www.anaconda.com/products/distribution) is a great way to get started with Python for analytics work. It is available on all platforms. Once you've got a working version of Python, you can install into a Python (or Conda) virtual environment with:\n",
    "\n",
    "```\n",
    "pip install hillmaker\n",
    "```\n",
    "\n",
    "This latest version (0.4.0) should be available on `conda-forge` soon.\n",
    "\n",
    "Obviously if you are comfortable working with source code, you can also install `hillmaker` from its GitHub repo or a clone/fork of it."
   ]
  },
  {
   "cell_type": "markdown",
   "metadata": {},
   "source": [
    "## Module imports\n",
    "To run Hillmaker we only need to import a few modules. Since the main hillmaker function uses pandas DataFrames for both data input and output, we need to import `pandas` in addition to `hillmaker`."
   ]
  },
  {
   "cell_type": "code",
   "execution_count": 4,
   "metadata": {},
   "outputs": [],
   "source": [
    "import pandas as pd\n",
    "import hillmaker as hm"
   ]
  },
  {
   "cell_type": "markdown",
   "metadata": {},
   "source": [
    "## Read main stop data file\n",
    "Here's the first few lines from our csv file containing the patient stop data:\n",
    "\n",
    "    PatID,InRoomTS,OutRoomTS,PatType\n",
    "    1,1/1/1996 7:44,1/1/1996 8:50,IVT\n",
    "    2,1/1/1996 8:28,1/1/1996 9:20,IVT\n",
    "    3,1/1/1996 11:44,1/1/1996 13:30,MYE\n",
    "    4,1/1/1996 11:51,1/1/1996 12:55,CAT\n",
    "    5,1/1/1996 12:10,1/1/1996 13:00,IVT\n",
    "    6,1/1/1996 14:16,1/1/1996 15:35,IVT\n",
    "    7,1/1/1996 14:40,1/1/1996 15:25,IVT\n",
    "\n",
    "\n",
    "We have already read this data into a pandas DataFrame named `stops_df`. Each record is a \"stop\" at the SSU."
   ]
  },
  {
   "cell_type": "markdown",
   "metadata": {},
   "source": [
    "Check out the top and bottom of `stops_df`. "
   ]
  },
  {
   "cell_type": "code",
   "execution_count": 5,
   "metadata": {
    "collapsed": false,
    "jupyter": {
     "outputs_hidden": false
    }
   },
   "outputs": [
    {
     "data": {
      "text/html": [
       "<div>\n",
       "<style scoped>\n",
       "    .dataframe tbody tr th:only-of-type {\n",
       "        vertical-align: middle;\n",
       "    }\n",
       "\n",
       "    .dataframe tbody tr th {\n",
       "        vertical-align: top;\n",
       "    }\n",
       "\n",
       "    .dataframe thead th {\n",
       "        text-align: right;\n",
       "    }\n",
       "</style>\n",
       "<table border=\"1\" class=\"dataframe\">\n",
       "  <thead>\n",
       "    <tr style=\"text-align: right;\">\n",
       "      <th></th>\n",
       "      <th>PatID</th>\n",
       "      <th>InRoomTS</th>\n",
       "      <th>OutRoomTS</th>\n",
       "      <th>PatType</th>\n",
       "    </tr>\n",
       "  </thead>\n",
       "  <tbody>\n",
       "    <tr>\n",
       "      <th>0</th>\n",
       "      <td>1</td>\n",
       "      <td>1996-01-01 07:44:00</td>\n",
       "      <td>1996-01-01 08:50:00</td>\n",
       "      <td>IVT</td>\n",
       "    </tr>\n",
       "    <tr>\n",
       "      <th>1</th>\n",
       "      <td>2</td>\n",
       "      <td>1996-01-01 08:28:00</td>\n",
       "      <td>1996-01-01 09:20:00</td>\n",
       "      <td>IVT</td>\n",
       "    </tr>\n",
       "    <tr>\n",
       "      <th>2</th>\n",
       "      <td>3</td>\n",
       "      <td>1996-01-01 11:44:00</td>\n",
       "      <td>1996-01-01 13:30:00</td>\n",
       "      <td>MYE</td>\n",
       "    </tr>\n",
       "    <tr>\n",
       "      <th>3</th>\n",
       "      <td>4</td>\n",
       "      <td>1996-01-01 11:51:00</td>\n",
       "      <td>1996-01-01 12:55:00</td>\n",
       "      <td>CAT</td>\n",
       "    </tr>\n",
       "    <tr>\n",
       "      <th>4</th>\n",
       "      <td>5</td>\n",
       "      <td>1996-01-01 12:10:00</td>\n",
       "      <td>1996-01-01 13:00:00</td>\n",
       "      <td>IVT</td>\n",
       "    </tr>\n",
       "    <tr>\n",
       "      <th>5</th>\n",
       "      <td>6</td>\n",
       "      <td>1996-01-01 14:16:00</td>\n",
       "      <td>1996-01-01 15:35:00</td>\n",
       "      <td>IVT</td>\n",
       "    </tr>\n",
       "    <tr>\n",
       "      <th>6</th>\n",
       "      <td>7</td>\n",
       "      <td>1996-01-01 14:40:00</td>\n",
       "      <td>1996-01-01 15:25:00</td>\n",
       "      <td>IVT</td>\n",
       "    </tr>\n",
       "  </tbody>\n",
       "</table>\n",
       "</div>"
      ],
      "text/plain": [
       "   PatID            InRoomTS           OutRoomTS PatType\n",
       "0      1 1996-01-01 07:44:00 1996-01-01 08:50:00     IVT\n",
       "1      2 1996-01-01 08:28:00 1996-01-01 09:20:00     IVT\n",
       "2      3 1996-01-01 11:44:00 1996-01-01 13:30:00     MYE\n",
       "3      4 1996-01-01 11:51:00 1996-01-01 12:55:00     CAT\n",
       "4      5 1996-01-01 12:10:00 1996-01-01 13:00:00     IVT\n",
       "5      6 1996-01-01 14:16:00 1996-01-01 15:35:00     IVT\n",
       "6      7 1996-01-01 14:40:00 1996-01-01 15:25:00     IVT"
      ]
     },
     "execution_count": 5,
     "metadata": {},
     "output_type": "execute_result"
    }
   ],
   "source": [
    "stops_df.head(7)"
   ]
  },
  {
   "cell_type": "code",
   "execution_count": 6,
   "metadata": {
    "collapsed": false,
    "jupyter": {
     "outputs_hidden": false
    }
   },
   "outputs": [
    {
     "data": {
      "text/html": [
       "<div>\n",
       "<style scoped>\n",
       "    .dataframe tbody tr th:only-of-type {\n",
       "        vertical-align: middle;\n",
       "    }\n",
       "\n",
       "    .dataframe tbody tr th {\n",
       "        vertical-align: top;\n",
       "    }\n",
       "\n",
       "    .dataframe thead th {\n",
       "        text-align: right;\n",
       "    }\n",
       "</style>\n",
       "<table border=\"1\" class=\"dataframe\">\n",
       "  <thead>\n",
       "    <tr style=\"text-align: right;\">\n",
       "      <th></th>\n",
       "      <th>PatID</th>\n",
       "      <th>InRoomTS</th>\n",
       "      <th>OutRoomTS</th>\n",
       "      <th>PatType</th>\n",
       "    </tr>\n",
       "  </thead>\n",
       "  <tbody>\n",
       "    <tr>\n",
       "      <th>59870</th>\n",
       "      <td>59871</td>\n",
       "      <td>1996-09-30 19:20:00</td>\n",
       "      <td>1996-09-30 20:20:00</td>\n",
       "      <td>IVT</td>\n",
       "    </tr>\n",
       "    <tr>\n",
       "      <th>59871</th>\n",
       "      <td>59872</td>\n",
       "      <td>1996-09-30 19:26:00</td>\n",
       "      <td>1996-09-30 21:05:00</td>\n",
       "      <td>CAT</td>\n",
       "    </tr>\n",
       "    <tr>\n",
       "      <th>59872</th>\n",
       "      <td>59873</td>\n",
       "      <td>1996-09-30 19:31:00</td>\n",
       "      <td>1996-09-30 20:15:00</td>\n",
       "      <td>IVT</td>\n",
       "    </tr>\n",
       "    <tr>\n",
       "      <th>59873</th>\n",
       "      <td>59874</td>\n",
       "      <td>1996-09-30 20:23:00</td>\n",
       "      <td>1996-09-30 21:30:00</td>\n",
       "      <td>IVT</td>\n",
       "    </tr>\n",
       "    <tr>\n",
       "      <th>59874</th>\n",
       "      <td>59875</td>\n",
       "      <td>1996-09-30 21:00:00</td>\n",
       "      <td>1996-09-30 22:45:00</td>\n",
       "      <td>CAT</td>\n",
       "    </tr>\n",
       "    <tr>\n",
       "      <th>59875</th>\n",
       "      <td>59876</td>\n",
       "      <td>1996-09-30 21:57:00</td>\n",
       "      <td>1996-09-30 22:40:00</td>\n",
       "      <td>IVT</td>\n",
       "    </tr>\n",
       "    <tr>\n",
       "      <th>59876</th>\n",
       "      <td>59877</td>\n",
       "      <td>1996-09-30 22:45:00</td>\n",
       "      <td>1996-09-30 23:35:00</td>\n",
       "      <td>CAT</td>\n",
       "    </tr>\n",
       "  </tbody>\n",
       "</table>\n",
       "</div>"
      ],
      "text/plain": [
       "       PatID            InRoomTS           OutRoomTS PatType\n",
       "59870  59871 1996-09-30 19:20:00 1996-09-30 20:20:00     IVT\n",
       "59871  59872 1996-09-30 19:26:00 1996-09-30 21:05:00     CAT\n",
       "59872  59873 1996-09-30 19:31:00 1996-09-30 20:15:00     IVT\n",
       "59873  59874 1996-09-30 20:23:00 1996-09-30 21:30:00     IVT\n",
       "59874  59875 1996-09-30 21:00:00 1996-09-30 22:45:00     CAT\n",
       "59875  59876 1996-09-30 21:57:00 1996-09-30 22:40:00     IVT\n",
       "59876  59877 1996-09-30 22:45:00 1996-09-30 23:35:00     CAT"
      ]
     },
     "execution_count": 6,
     "metadata": {},
     "output_type": "execute_result"
    }
   ],
   "source": [
    "stops_df.tail(7)"
   ]
  },
  {
   "cell_type": "markdown",
   "metadata": {},
   "source": [
    "Let's compute some basic summary statistics such as the earliest and latest arrival and departure as well as counts by patient type."
   ]
  },
  {
   "cell_type": "code",
   "execution_count": 7,
   "metadata": {},
   "outputs": [
    {
     "name": "stdout",
     "output_type": "stream",
     "text": [
      "Earliest arrival = 1996-01-01 07:44:00\n",
      "Latest departure = 1996-09-30 23:35:00\n"
     ]
    }
   ],
   "source": [
    "print(f'Earliest arrival = {stops_df[\"InRoomTS\"].min()}')\n",
    "print(f'Latest departure = {stops_df[\"OutRoomTS\"].max()}')"
   ]
  },
  {
   "cell_type": "code",
   "execution_count": 8,
   "metadata": {},
   "outputs": [
    {
     "data": {
      "text/plain": [
       "PatType\n",
       "ART     5761\n",
       "CAT    10692\n",
       "IVT    33179\n",
       "MYE     6478\n",
       "OTH     3767\n",
       "Name: PatID, dtype: int64"
      ]
     },
     "execution_count": 8,
     "metadata": {},
     "output_type": "execute_result"
    }
   ],
   "source": [
    "stops_df.groupby(['PatType'])['PatID'].count()"
   ]
  },
  {
   "cell_type": "markdown",
   "metadata": {},
   "source": [
    "Let's get a sense of the number of patient visits by month."
   ]
  },
  {
   "cell_type": "code",
   "execution_count": 9,
   "metadata": {},
   "outputs": [
    {
     "data": {
      "text/plain": [
       "InRoomTS\n",
       "1996-01    6802\n",
       "1996-02    6371\n",
       "1996-03    6628\n",
       "1996-04    6778\n",
       "1996-05    6982\n",
       "1996-06    6580\n",
       "1996-07    6719\n",
       "1996-08    6935\n",
       "1996-09    6082\n",
       "Freq: M, Name: InRoomTS, dtype: int64"
      ]
     },
     "execution_count": 9,
     "metadata": {},
     "output_type": "execute_result"
    }
   ],
   "source": [
    "stops_df['InRoomTS'].groupby(stops_df.InRoomTS.dt.to_period(\"M\")).agg('count')"
   ]
  },
  {
   "cell_type": "markdown",
   "metadata": {},
   "source": [
    "You probably want to do some length of stay analysis, so let's compute it in hours and then do `describe` by patient type."
   ]
  },
  {
   "cell_type": "code",
   "execution_count": 10,
   "metadata": {},
   "outputs": [],
   "source": [
    "stops_df['LOS'] = (stops_df['OutRoomTS'] - stops_df['InRoomTS']) / pd.Timedelta(1, \"h\")"
   ]
  },
  {
   "cell_type": "code",
   "execution_count": 11,
   "metadata": {},
   "outputs": [
    {
     "data": {
      "text/html": [
       "<div>\n",
       "<style scoped>\n",
       "    .dataframe tbody tr th:only-of-type {\n",
       "        vertical-align: middle;\n",
       "    }\n",
       "\n",
       "    .dataframe tbody tr th {\n",
       "        vertical-align: top;\n",
       "    }\n",
       "\n",
       "    .dataframe thead th {\n",
       "        text-align: right;\n",
       "    }\n",
       "</style>\n",
       "<table border=\"1\" class=\"dataframe\">\n",
       "  <thead>\n",
       "    <tr style=\"text-align: right;\">\n",
       "      <th></th>\n",
       "      <th>count</th>\n",
       "      <th>mean</th>\n",
       "      <th>std</th>\n",
       "      <th>min</th>\n",
       "      <th>25%</th>\n",
       "      <th>50%</th>\n",
       "      <th>75%</th>\n",
       "      <th>max</th>\n",
       "    </tr>\n",
       "    <tr>\n",
       "      <th>PatType</th>\n",
       "      <th></th>\n",
       "      <th></th>\n",
       "      <th></th>\n",
       "      <th></th>\n",
       "      <th></th>\n",
       "      <th></th>\n",
       "      <th></th>\n",
       "      <th></th>\n",
       "    </tr>\n",
       "  </thead>\n",
       "  <tbody>\n",
       "    <tr>\n",
       "      <th>ART</th>\n",
       "      <td>5761.0</td>\n",
       "      <td>1.479483</td>\n",
       "      <td>0.375888</td>\n",
       "      <td>0.533333</td>\n",
       "      <td>1.183333</td>\n",
       "      <td>1.416667</td>\n",
       "      <td>1.75</td>\n",
       "      <td>2.483333</td>\n",
       "    </tr>\n",
       "    <tr>\n",
       "      <th>CAT</th>\n",
       "      <td>10692.0</td>\n",
       "      <td>1.043914</td>\n",
       "      <td>0.567298</td>\n",
       "      <td>0.066667</td>\n",
       "      <td>0.666667</td>\n",
       "      <td>0.983333</td>\n",
       "      <td>1.25</td>\n",
       "      <td>5.983333</td>\n",
       "    </tr>\n",
       "    <tr>\n",
       "      <th>IVT</th>\n",
       "      <td>33179.0</td>\n",
       "      <td>1.147418</td>\n",
       "      <td>0.702600</td>\n",
       "      <td>0.000000</td>\n",
       "      <td>0.733333</td>\n",
       "      <td>1.000000</td>\n",
       "      <td>1.40</td>\n",
       "      <td>10.916667</td>\n",
       "    </tr>\n",
       "    <tr>\n",
       "      <th>MYE</th>\n",
       "      <td>6478.0</td>\n",
       "      <td>1.429021</td>\n",
       "      <td>0.397153</td>\n",
       "      <td>0.533333</td>\n",
       "      <td>1.133333</td>\n",
       "      <td>1.366667</td>\n",
       "      <td>1.70</td>\n",
       "      <td>2.483333</td>\n",
       "    </tr>\n",
       "    <tr>\n",
       "      <th>OTH</th>\n",
       "      <td>3767.0</td>\n",
       "      <td>1.502048</td>\n",
       "      <td>0.349509</td>\n",
       "      <td>1.016667</td>\n",
       "      <td>1.200000</td>\n",
       "      <td>1.450000</td>\n",
       "      <td>1.75</td>\n",
       "      <td>2.483333</td>\n",
       "    </tr>\n",
       "  </tbody>\n",
       "</table>\n",
       "</div>"
      ],
      "text/plain": [
       "           count      mean       std       min       25%       50%   75%  \\\n",
       "PatType                                                                    \n",
       "ART       5761.0  1.479483  0.375888  0.533333  1.183333  1.416667  1.75   \n",
       "CAT      10692.0  1.043914  0.567298  0.066667  0.666667  0.983333  1.25   \n",
       "IVT      33179.0  1.147418  0.702600  0.000000  0.733333  1.000000  1.40   \n",
       "MYE       6478.0  1.429021  0.397153  0.533333  1.133333  1.366667  1.70   \n",
       "OTH       3767.0  1.502048  0.349509  1.016667  1.200000  1.450000  1.75   \n",
       "\n",
       "               max  \n",
       "PatType             \n",
       "ART       2.483333  \n",
       "CAT       5.983333  \n",
       "IVT      10.916667  \n",
       "MYE       2.483333  \n",
       "OTH       2.483333  "
      ]
     },
     "execution_count": 11,
     "metadata": {},
     "output_type": "execute_result"
    }
   ],
   "source": [
    "stops_df.groupby(['PatType'])['LOS'].describe()"
   ]
  },
  {
   "cell_type": "markdown",
   "metadata": {},
   "source": [
    "No obvious problems. We'll assume the data was all read in correctly."
   ]
  },
  {
   "cell_type": "markdown",
   "metadata": {},
   "source": [
    "## Creating occupancy summaries\n",
    "The primary function in hillmaker is called `make_hills` and plays the same role as the `Hillmaker` function in the original Access VBA version of Hillmaker. Let's get a little help on this function."
   ]
  },
  {
   "cell_type": "code",
   "execution_count": 12,
   "metadata": {
    "collapsed": false,
    "jupyter": {
     "outputs_hidden": false
    }
   },
   "outputs": [
    {
     "name": "stdout",
     "output_type": "stream",
     "text": [
      "Help on function make_hills in module hillmaker.hills:\n",
      "\n",
      "make_hills(scenario_name, stops_df, in_field, out_field, start_analysis_dt, end_analysis_dt, cat_field=None, bin_size_minutes=60, percentiles=(0.25, 0.5, 0.75, 0.95, 0.99), cat_to_exclude=None, occ_weight_field=None, totals=1, nonstationary_stats=True, stationary_stats=True, export_bydatetime_csv=True, export_summaries_csv=True, export_path=PosixPath('.'), edge_bins=1, verbose=0)\n",
      "    Compute occupancy, arrival, and departure statistics by category, time bin of day and day of week.\n",
      "    \n",
      "    Main function that first calls `bydatetime.make_bydatetime` to calculate occupancy, arrival\n",
      "    and departure values by date by time bin and then calls `summarize.summarize`\n",
      "    to compute the summary statistics.\n",
      "    \n",
      "    Parameters\n",
      "    ----------\n",
      "    \n",
      "    scenario_name : str\n",
      "        Used in output filenames\n",
      "    stops_df : DataFrame\n",
      "        Base data containing one row per visit\n",
      "    in_field : str\n",
      "        Column name corresponding to the arrival times\n",
      "    out_field : str\n",
      "        Column name corresponding to the departure times\n",
      "    start_analysis_dt : datetime-like, str\n",
      "        Starting datetime for the analysis (must be convertible to pandas Timestamp)\n",
      "    end_analysis_dt : datetime-like, str\n",
      "        Ending datetime for the analysis (must be convertible to pandas Timestamp)\n",
      "    cat_field : str, optional\n",
      "        Column name corresponding to the categories. If none is specified, then only overall occupancy is summarized.\n",
      "        Default is None\n",
      "    bin_size_minutes : int, optional\n",
      "        Number of minutes in each time bin of the day, default is 60. Use a value that\n",
      "        divides into 1440 with no remainder\n",
      "    percentiles : list or tuple of floats (e.g. [0.5, 0.75, 0.95]), optional\n",
      "        Which percentiles to compute. Default is (0.25, 0.5, 0.75, 0.95, 0.99)\n",
      "    cat_to_exclude : list, optional\n",
      "        Category values to ignore, default is None\n",
      "    occ_weight_field : str, optional\n",
      "        Column name corresponding to the weights to use for occupancy incrementing, default is None\n",
      "        which corresponds to a weight of 1.0.\n",
      "    edge_bins: int, default 1\n",
      "        Occupancy contribution method for arrival and departure bins. 1=fractional, 2=whole bin\n",
      "    totals: int, default 1\n",
      "        0=no totals, 1=totals by datetime\n",
      "    nonstationary_stats : bool, optional\n",
      "       If True, datetime bin stats are computed. Else, they aren't computed. Default is True\n",
      "    stationary_stats : bool, optional\n",
      "       If True, overall, non time bin dependent, stats are computed. Else, they aren't computed. Default is True\n",
      "    export_bydatetime_csv : bool, optional\n",
      "       If True, bydatetime DataFrames are exported to csv files. Default is True.\n",
      "    export_summaries_csv : bool, optional\n",
      "       If True, summary DataFrames are exported to csv files. Default is True.\n",
      "    export_path : str or Path, optional\n",
      "        Destination path for exported csv files, default is current directory\n",
      "    verbose : int, optional\n",
      "        Used to set level in loggers. 0=logging.WARNING (default=0), 1=logging.INFO, 2=logging.DEBUG\n",
      "    \n",
      "    Returns\n",
      "    -------\n",
      "    dict of DataFrames\n",
      "       The bydatetime DataFrames and all summary DataFrames.\n",
      "\n"
     ]
    }
   ],
   "source": [
    "help(hm.make_hills)"
   ]
  },
  {
   "cell_type": "markdown",
   "metadata": {},
   "source": [
    "Most of the parameters are similar to those in the original VBA version, though a few new ones have been added. For example, the `cat_to_exclude` parameter allows you to specify a list of category values for which you do not want occupancy statistics computed. Also, since the VBA version used an Access database as the container for its output, new parameters were added to control output to csv files instead."
   ]
  },
  {
   "cell_type": "markdown",
   "metadata": {},
   "source": [
    "### Example 1: 60 minute bins, all categories, export to csv\n",
    "Specify values for all the required inputs:"
   ]
  },
  {
   "cell_type": "code",
   "execution_count": 13,
   "metadata": {
    "tags": []
   },
   "outputs": [],
   "source": [
    "# Required inputs\n",
    "scenario = 'ss_example_1'\n",
    "in_fld_name = 'InRoomTS'\n",
    "out_fld_name = 'OutRoomTS'\n",
    "cat_fld_name = 'PatType'\n",
    "start = '1/1/1996'\n",
    "end = '9/30/1996 23:45'\n",
    "\n",
    "# Optional inputs\n",
    "verbose = 1 # INFO level logging\n"
   ]
  },
  {
   "cell_type": "markdown",
   "metadata": {},
   "source": [
    "Now we'll call the main `make_hills` function. We won't capture the return values but will simply take the default behavior of having the summaries exported to csv files. You'll see that the filenames will contain the scenario value."
   ]
  },
  {
   "cell_type": "code",
   "execution_count": 14,
   "metadata": {
    "collapsed": false,
    "jupyter": {
     "outputs_hidden": false
    }
   },
   "outputs": [
    {
     "name": "stderr",
     "output_type": "stream",
     "text": [
      "2022-07-07 08:41:09,542 - hillmaker.bydatetime - INFO - min of intime: 1996-01-01 07:44:00\n",
      "2022-07-07 08:41:09,542 - hillmaker.bydatetime - INFO - max of intime: 1996-09-30 22:45:00\n",
      "2022-07-07 08:41:09,543 - hillmaker.bydatetime - INFO - min of outtime: 1996-01-01 08:50:00\n",
      "2022-07-07 08:41:09,544 - hillmaker.bydatetime - INFO - max of outtime: 1996-09-30 23:35:00\n",
      "2022-07-07 08:41:10,748 - hillmaker.bydatetime - INFO - cat IVT {'inner': 33179}\n",
      "2022-07-07 08:41:10,804 - hillmaker.bydatetime - INFO - cat IVT num_arrivals_hm 33179 num_arrivals_stops 33179\n",
      "2022-07-07 08:41:10,804 - hillmaker.bydatetime - INFO - cat IVT num_departures_hm 33179 num_departures_stops 33179\n",
      "2022-07-07 08:41:10,806 - hillmaker.bydatetime - INFO - cat IVT tot_occ_hm 38070.18 tot_occ_stops 38070.18\n",
      "2022-07-07 08:41:11,027 - hillmaker.bydatetime - INFO - cat MYE {'inner': 6478}\n",
      "2022-07-07 08:41:11,040 - hillmaker.bydatetime - INFO - cat MYE num_arrivals_hm 6478 num_arrivals_stops 6478\n",
      "2022-07-07 08:41:11,041 - hillmaker.bydatetime - INFO - cat MYE num_departures_hm 6478 num_departures_stops 6478\n",
      "2022-07-07 08:41:11,042 - hillmaker.bydatetime - INFO - cat MYE tot_occ_hm 9257.20 tot_occ_stops 9257.20\n",
      "2022-07-07 08:41:11,379 - hillmaker.bydatetime - INFO - cat CAT {'inner': 10692}\n",
      "2022-07-07 08:41:11,397 - hillmaker.bydatetime - INFO - cat CAT num_arrivals_hm 10692 num_arrivals_stops 10692\n",
      "2022-07-07 08:41:11,398 - hillmaker.bydatetime - INFO - cat CAT num_departures_hm 10692 num_departures_stops 10692\n",
      "2022-07-07 08:41:11,400 - hillmaker.bydatetime - INFO - cat CAT tot_occ_hm 11161.53 tot_occ_stops 11161.53\n",
      "2022-07-07 08:41:11,597 - hillmaker.bydatetime - INFO - cat ART {'inner': 5761}\n",
      "2022-07-07 08:41:11,608 - hillmaker.bydatetime - INFO - cat ART num_arrivals_hm 5761 num_arrivals_stops 5761\n",
      "2022-07-07 08:41:11,609 - hillmaker.bydatetime - INFO - cat ART num_departures_hm 5761 num_departures_stops 5761\n",
      "2022-07-07 08:41:11,611 - hillmaker.bydatetime - INFO - cat ART tot_occ_hm 8523.30 tot_occ_stops 8523.30\n",
      "2022-07-07 08:41:11,782 - hillmaker.bydatetime - INFO - cat OTH {'inner': 3767}\n",
      "2022-07-07 08:41:11,790 - hillmaker.bydatetime - INFO - cat OTH num_arrivals_hm 3767 num_arrivals_stops 3767\n",
      "2022-07-07 08:41:11,791 - hillmaker.bydatetime - INFO - cat OTH num_departures_hm 3767 num_departures_stops 3767\n",
      "2022-07-07 08:41:11,793 - hillmaker.bydatetime - INFO - cat OTH tot_occ_hm 5658.22 tot_occ_stops 5658.22\n",
      "2022-07-07 08:41:12,377 - hillmaker.hills - INFO - Datetime matrix created (seconds): 2.8473\n",
      "2022-07-07 08:41:17,208 - hillmaker.summarize - INFO - Created nonstationary summaries - ['PatType']\n",
      "2022-07-07 08:41:18,151 - hillmaker.summarize - INFO - Created nonstationary summaries - []\n",
      "2022-07-07 08:41:18,184 - hillmaker.summarize - INFO - Created stationary summaries - ['PatType']\n",
      "2022-07-07 08:41:18,196 - hillmaker.summarize - INFO - Created stationary summaries - []\n",
      "2022-07-07 08:41:18,196 - hillmaker.hills - INFO - Summaries by datetime created (seconds): 5.8237\n",
      "2022-07-07 08:41:18,443 - hillmaker.hills - INFO - By datetime exported to csv (seconds): 0.2477\n",
      "2022-07-07 08:41:18,511 - hillmaker.hills - INFO - Summaries exported to csv (seconds): 0.0677\n",
      "2022-07-07 08:41:18,512 - hillmaker.hills - INFO - Total time (seconds): 8.9882\n"
     ]
    },
    {
     "data": {
      "text/plain": [
       "{'bydatetime': {'PatType_datetime':                              arrivals  departures  occupancy  day_of_week  \\\n",
       "  PatType datetime                                                            \n",
       "  ART     1996-01-01 00:00:00       0.0         0.0        0.0            0   \n",
       "          1996-01-01 01:00:00       0.0         0.0        0.0            0   \n",
       "          1996-01-01 02:00:00       0.0         0.0        0.0            0   \n",
       "          1996-01-01 03:00:00       0.0         0.0        0.0            0   \n",
       "          1996-01-01 04:00:00       0.0         0.0        0.0            0   \n",
       "  ...                               ...         ...        ...          ...   \n",
       "  OTH     1996-09-30 19:00:00       0.0         0.0        0.0            0   \n",
       "          1996-09-30 20:00:00       0.0         0.0        0.0            0   \n",
       "          1996-09-30 21:00:00       0.0         0.0        0.0            0   \n",
       "          1996-09-30 22:00:00       0.0         0.0        0.0            0   \n",
       "          1996-09-30 23:00:00       0.0         0.0        0.0            0   \n",
       "  \n",
       "                              dow_name  bin_of_day  bin_of_week  \n",
       "  PatType datetime                                               \n",
       "  ART     1996-01-01 00:00:00   Monday           0            0  \n",
       "          1996-01-01 01:00:00   Monday           1            1  \n",
       "          1996-01-01 02:00:00   Monday           2            2  \n",
       "          1996-01-01 03:00:00   Monday           3            3  \n",
       "          1996-01-01 04:00:00   Monday           4            4  \n",
       "  ...                              ...         ...          ...  \n",
       "  OTH     1996-09-30 19:00:00   Monday          19           19  \n",
       "          1996-09-30 20:00:00   Monday          20           20  \n",
       "          1996-09-30 21:00:00   Monday          21           21  \n",
       "          1996-09-30 22:00:00   Monday          22           22  \n",
       "          1996-09-30 23:00:00   Monday          23           23  \n",
       "  \n",
       "  [32880 rows x 7 columns],\n",
       "  'datetime':                      arrivals  departures  occupancy  day_of_week dow_name  \\\n",
       "  datetime                                                                     \n",
       "  1996-01-01 00:00:00       0.0         0.0   0.000000            0   Monday   \n",
       "  1996-01-01 01:00:00       0.0         0.0   0.000000            0   Monday   \n",
       "  1996-01-01 02:00:00       0.0         0.0   0.000000            0   Monday   \n",
       "  1996-01-01 03:00:00       0.0         0.0   0.000000            0   Monday   \n",
       "  1996-01-01 04:00:00       0.0         0.0   0.000000            0   Monday   \n",
       "  ...                       ...         ...        ...          ...      ...   \n",
       "  1996-09-30 19:00:00       3.0         7.0   9.883333            0   Monday   \n",
       "  1996-09-30 20:00:00       1.0         6.0   4.783333            0   Monday   \n",
       "  1996-09-30 21:00:00       2.0         2.0   2.633333            0   Monday   \n",
       "  1996-09-30 22:00:00       1.0         3.0   1.833333            0   Monday   \n",
       "  1996-09-30 23:00:00       0.0         1.0   0.583333            0   Monday   \n",
       "  \n",
       "                       bin_of_day  bin_of_week  \n",
       "  datetime                                      \n",
       "  1996-01-01 00:00:00           0            0  \n",
       "  1996-01-01 01:00:00           1            1  \n",
       "  1996-01-01 02:00:00           2            2  \n",
       "  1996-01-01 03:00:00           3            3  \n",
       "  1996-01-01 04:00:00           4            4  \n",
       "  ...                         ...          ...  \n",
       "  1996-09-30 19:00:00          19           19  \n",
       "  1996-09-30 20:00:00          20           20  \n",
       "  1996-09-30 21:00:00          21           21  \n",
       "  1996-09-30 22:00:00          22           22  \n",
       "  1996-09-30 23:00:00          23           23  \n",
       "  \n",
       "  [6576 rows x 7 columns]},\n",
       " 'summaries': {'nonstationary': {'PatType_dow_binofday': {'occupancy':                                          count  mean  min  max  stdev  sem  \\\n",
       "    PatType day_of_week dow_name bin_of_day                                      \n",
       "    ART     0           Monday   0            40.0   0.0  0.0  0.0    0.0  0.0   \n",
       "                                 1            40.0   0.0  0.0  0.0    0.0  0.0   \n",
       "                                 2            40.0   0.0  0.0  0.0    0.0  0.0   \n",
       "                                 3            40.0   0.0  0.0  0.0    0.0  0.0   \n",
       "                                 4            40.0   0.0  0.0  0.0    0.0  0.0   \n",
       "    ...                                        ...   ...  ...  ...    ...  ...   \n",
       "    OTH     6           Sunday   19           39.0   0.0  0.0  0.0    0.0  0.0   \n",
       "                                 20           39.0   0.0  0.0  0.0    0.0  0.0   \n",
       "                                 21           39.0   0.0  0.0  0.0    0.0  0.0   \n",
       "                                 22           39.0   0.0  0.0  0.0    0.0  0.0   \n",
       "                                 23           39.0   0.0  0.0  0.0    0.0  0.0   \n",
       "    \n",
       "                                             var   cv  skew  kurt  p25  p50  p75  \\\n",
       "    PatType day_of_week dow_name bin_of_day                                        \n",
       "    ART     0           Monday   0           0.0  0.0   0.0   0.0  0.0  0.0  0.0   \n",
       "                                 1           0.0  0.0   0.0   0.0  0.0  0.0  0.0   \n",
       "                                 2           0.0  0.0   0.0   0.0  0.0  0.0  0.0   \n",
       "                                 3           0.0  0.0   0.0   0.0  0.0  0.0  0.0   \n",
       "                                 4           0.0  0.0   0.0   0.0  0.0  0.0  0.0   \n",
       "    ...                                      ...  ...   ...   ...  ...  ...  ...   \n",
       "    OTH     6           Sunday   19          0.0  0.0   0.0   0.0  0.0  0.0  0.0   \n",
       "                                 20          0.0  0.0   0.0   0.0  0.0  0.0  0.0   \n",
       "                                 21          0.0  0.0   0.0   0.0  0.0  0.0  0.0   \n",
       "                                 22          0.0  0.0   0.0   0.0  0.0  0.0  0.0   \n",
       "                                 23          0.0  0.0   0.0   0.0  0.0  0.0  0.0   \n",
       "    \n",
       "                                             p95  p99  \n",
       "    PatType day_of_week dow_name bin_of_day            \n",
       "    ART     0           Monday   0           0.0  0.0  \n",
       "                                 1           0.0  0.0  \n",
       "                                 2           0.0  0.0  \n",
       "                                 3           0.0  0.0  \n",
       "                                 4           0.0  0.0  \n",
       "    ...                                      ...  ...  \n",
       "    OTH     6           Sunday   19          0.0  0.0  \n",
       "                                 20          0.0  0.0  \n",
       "                                 21          0.0  0.0  \n",
       "                                 22          0.0  0.0  \n",
       "                                 23          0.0  0.0  \n",
       "    \n",
       "    [840 rows x 15 columns],\n",
       "    'arrivals':                                          count  mean  min  max  stdev  sem  \\\n",
       "    PatType day_of_week dow_name bin_of_day                                      \n",
       "    ART     0           Monday   0            40.0   0.0  0.0  0.0    0.0  0.0   \n",
       "                                 1            40.0   0.0  0.0  0.0    0.0  0.0   \n",
       "                                 2            40.0   0.0  0.0  0.0    0.0  0.0   \n",
       "                                 3            40.0   0.0  0.0  0.0    0.0  0.0   \n",
       "                                 4            40.0   0.0  0.0  0.0    0.0  0.0   \n",
       "    ...                                        ...   ...  ...  ...    ...  ...   \n",
       "    OTH     6           Sunday   19           39.0   0.0  0.0  0.0    0.0  0.0   \n",
       "                                 20           39.0   0.0  0.0  0.0    0.0  0.0   \n",
       "                                 21           39.0   0.0  0.0  0.0    0.0  0.0   \n",
       "                                 22           39.0   0.0  0.0  0.0    0.0  0.0   \n",
       "                                 23           39.0   0.0  0.0  0.0    0.0  0.0   \n",
       "    \n",
       "                                             var   cv  skew  kurt  p25  p50  p75  \\\n",
       "    PatType day_of_week dow_name bin_of_day                                        \n",
       "    ART     0           Monday   0           0.0  0.0   0.0   0.0  0.0  0.0  0.0   \n",
       "                                 1           0.0  0.0   0.0   0.0  0.0  0.0  0.0   \n",
       "                                 2           0.0  0.0   0.0   0.0  0.0  0.0  0.0   \n",
       "                                 3           0.0  0.0   0.0   0.0  0.0  0.0  0.0   \n",
       "                                 4           0.0  0.0   0.0   0.0  0.0  0.0  0.0   \n",
       "    ...                                      ...  ...   ...   ...  ...  ...  ...   \n",
       "    OTH     6           Sunday   19          0.0  0.0   0.0   0.0  0.0  0.0  0.0   \n",
       "                                 20          0.0  0.0   0.0   0.0  0.0  0.0  0.0   \n",
       "                                 21          0.0  0.0   0.0   0.0  0.0  0.0  0.0   \n",
       "                                 22          0.0  0.0   0.0   0.0  0.0  0.0  0.0   \n",
       "                                 23          0.0  0.0   0.0   0.0  0.0  0.0  0.0   \n",
       "    \n",
       "                                             p95  p99  \n",
       "    PatType day_of_week dow_name bin_of_day            \n",
       "    ART     0           Monday   0           0.0  0.0  \n",
       "                                 1           0.0  0.0  \n",
       "                                 2           0.0  0.0  \n",
       "                                 3           0.0  0.0  \n",
       "                                 4           0.0  0.0  \n",
       "    ...                                      ...  ...  \n",
       "    OTH     6           Sunday   19          0.0  0.0  \n",
       "                                 20          0.0  0.0  \n",
       "                                 21          0.0  0.0  \n",
       "                                 22          0.0  0.0  \n",
       "                                 23          0.0  0.0  \n",
       "    \n",
       "    [840 rows x 15 columns],\n",
       "    'departures':                                          count  mean  min  max  stdev  sem  \\\n",
       "    PatType day_of_week dow_name bin_of_day                                      \n",
       "    ART     0           Monday   0            40.0   0.0  0.0  0.0    0.0  0.0   \n",
       "                                 1            40.0   0.0  0.0  0.0    0.0  0.0   \n",
       "                                 2            40.0   0.0  0.0  0.0    0.0  0.0   \n",
       "                                 3            40.0   0.0  0.0  0.0    0.0  0.0   \n",
       "                                 4            40.0   0.0  0.0  0.0    0.0  0.0   \n",
       "    ...                                        ...   ...  ...  ...    ...  ...   \n",
       "    OTH     6           Sunday   19           39.0   0.0  0.0  0.0    0.0  0.0   \n",
       "                                 20           39.0   0.0  0.0  0.0    0.0  0.0   \n",
       "                                 21           39.0   0.0  0.0  0.0    0.0  0.0   \n",
       "                                 22           39.0   0.0  0.0  0.0    0.0  0.0   \n",
       "                                 23           39.0   0.0  0.0  0.0    0.0  0.0   \n",
       "    \n",
       "                                             var   cv  skew  kurt  p25  p50  p75  \\\n",
       "    PatType day_of_week dow_name bin_of_day                                        \n",
       "    ART     0           Monday   0           0.0  0.0   0.0   0.0  0.0  0.0  0.0   \n",
       "                                 1           0.0  0.0   0.0   0.0  0.0  0.0  0.0   \n",
       "                                 2           0.0  0.0   0.0   0.0  0.0  0.0  0.0   \n",
       "                                 3           0.0  0.0   0.0   0.0  0.0  0.0  0.0   \n",
       "                                 4           0.0  0.0   0.0   0.0  0.0  0.0  0.0   \n",
       "    ...                                      ...  ...   ...   ...  ...  ...  ...   \n",
       "    OTH     6           Sunday   19          0.0  0.0   0.0   0.0  0.0  0.0  0.0   \n",
       "                                 20          0.0  0.0   0.0   0.0  0.0  0.0  0.0   \n",
       "                                 21          0.0  0.0   0.0   0.0  0.0  0.0  0.0   \n",
       "                                 22          0.0  0.0   0.0   0.0  0.0  0.0  0.0   \n",
       "                                 23          0.0  0.0   0.0   0.0  0.0  0.0  0.0   \n",
       "    \n",
       "                                             p95  p99  \n",
       "    PatType day_of_week dow_name bin_of_day            \n",
       "    ART     0           Monday   0           0.0  0.0  \n",
       "                                 1           0.0  0.0  \n",
       "                                 2           0.0  0.0  \n",
       "                                 3           0.0  0.0  \n",
       "                                 4           0.0  0.0  \n",
       "    ...                                      ...  ...  \n",
       "    OTH     6           Sunday   19          0.0  0.0  \n",
       "                                 20          0.0  0.0  \n",
       "                                 21          0.0  0.0  \n",
       "                                 22          0.0  0.0  \n",
       "                                 23          0.0  0.0  \n",
       "    \n",
       "    [840 rows x 15 columns]},\n",
       "   'dow_binofday': {'occupancy':                                  count      mean  min       max     stdev  \\\n",
       "    day_of_week dow_name bin_of_day                                             \n",
       "    0           Monday   0            40.0  0.255000  0.0  1.833333  0.418453   \n",
       "                         1            40.0  0.206667  0.0  1.600000  0.380785   \n",
       "                         2            40.0  0.204167  0.0  0.916667  0.332665   \n",
       "                         3            40.0  0.190000  0.0  1.133333  0.331142   \n",
       "                         4            40.0  0.111250  0.0  1.000000  0.255910   \n",
       "    ...                                ...       ...  ...       ...       ...   \n",
       "    6           Sunday   19           39.0  0.535470  0.0  3.266667  0.747004   \n",
       "                         20           39.0  0.489316  0.0  2.000000  0.596168   \n",
       "                         21           39.0  0.433761  0.0  1.966667  0.463310   \n",
       "                         22           39.0  0.368376  0.0  2.066667  0.510315   \n",
       "                         23           39.0  0.355983  0.0  2.083333  0.493207   \n",
       "    \n",
       "                                          sem       var        cv      skew  \\\n",
       "    day_of_week dow_name bin_of_day                                           \n",
       "    0           Monday   0           0.066163  0.175103  1.640991  2.024153   \n",
       "                         1           0.060207  0.144997  1.842508  2.045914   \n",
       "                         2           0.052599  0.110666  1.629379  1.203569   \n",
       "                         3           0.052358  0.109655  1.742855  1.583843   \n",
       "                         4           0.040463  0.065490  2.300313  2.349720   \n",
       "    ...                                   ...       ...       ...       ...   \n",
       "    6           Sunday   19          0.119616  0.558014  1.395043  1.813045   \n",
       "                         20          0.095463  0.355416  1.218370  1.119442   \n",
       "                         21          0.074189  0.214656  1.068124  1.194987   \n",
       "                         22          0.081716  0.260421  1.385309  1.608689   \n",
       "                         23          0.078976  0.243253  1.385478  1.578062   \n",
       "    \n",
       "                                         kurt  p25       p50       p75       p95  \\\n",
       "    day_of_week dow_name bin_of_day                                                \n",
       "    0           Monday   0           4.603107  0.0  0.000000  0.495833  0.795833   \n",
       "                         1           3.916359  0.0  0.000000  0.187500  0.984167   \n",
       "                         2          -0.249311  0.0  0.000000  0.500000  0.900000   \n",
       "                         3           1.181465  0.0  0.000000  0.270833  0.902500   \n",
       "                         4           4.703609  0.0  0.000000  0.000000  0.630000   \n",
       "    ...                                   ...  ...       ...       ...       ...   \n",
       "    6           Sunday   19          3.776304  0.0  0.150000  0.816667  1.716667   \n",
       "                         20          0.457068  0.0  0.250000  0.791667  1.760000   \n",
       "                         21          1.781882  0.0  0.333333  0.741667  1.191667   \n",
       "                         22          2.409985  0.0  0.083333  0.650000  1.358333   \n",
       "                         23          2.748971  0.0  0.000000  0.616667  1.280000   \n",
       "    \n",
       "                                          p99  \n",
       "    day_of_week dow_name bin_of_day            \n",
       "    0           Monday   0           1.644833  \n",
       "                         1           1.366000  \n",
       "                         2           0.910167  \n",
       "                         3           1.061833  \n",
       "                         4           0.954500  \n",
       "    ...                                   ...  \n",
       "    6           Sunday   19          2.905667  \n",
       "                         20          2.000000  \n",
       "                         21          1.757667  \n",
       "                         22          1.883000  \n",
       "                         23          1.823667  \n",
       "    \n",
       "    [168 rows x 15 columns],\n",
       "    'arrivals':                                  count      mean  min  max     stdev  \\\n",
       "    day_of_week dow_name bin_of_day                                        \n",
       "    0           Monday   0            40.0  0.300000  0.0  2.0  0.563869   \n",
       "                         1            40.0  0.275000  0.0  2.0  0.554122   \n",
       "                         2            40.0  0.200000  0.0  2.0  0.464095   \n",
       "                         3            40.0  0.275000  0.0  2.0  0.554122   \n",
       "                         4            40.0  0.075000  0.0  1.0  0.266747   \n",
       "    ...                                ...       ...  ...  ...       ...   \n",
       "    6           Sunday   19           39.0  0.615385  0.0  4.0  0.906566   \n",
       "                         20           39.0  0.487179  0.0  2.0  0.643665   \n",
       "                         21           39.0  0.512821  0.0  2.0  0.683328   \n",
       "                         22           39.0  0.435897  0.0  2.0  0.552262   \n",
       "                         23           39.0  0.256410  0.0  1.0  0.442359   \n",
       "    \n",
       "                                          sem       var        cv      skew  \\\n",
       "    day_of_week dow_name bin_of_day                                           \n",
       "    0           Monday   0           0.089156  0.317949  1.879565  1.770449   \n",
       "                         1           0.087614  0.307051  2.014989  1.949410   \n",
       "                         2           0.073380  0.215385  2.320477  2.332940   \n",
       "                         3           0.087614  0.307051  2.014989  1.949410   \n",
       "                         4           0.042176  0.071154  3.556624  3.354255   \n",
       "    ...                                   ...       ...       ...       ...   \n",
       "    6           Sunday   19          0.145167  0.821862  1.473170  1.759233   \n",
       "                         20          0.103069  0.414305  1.321208  0.986132   \n",
       "                         21          0.109420  0.466937  1.332489  0.994746   \n",
       "                         22          0.088433  0.304993  1.266954  0.759850   \n",
       "                         23          0.070834  0.195682  1.725200  1.160852   \n",
       "    \n",
       "                                         kurt  p25  p50   p75   p95   p99  \n",
       "    day_of_week dow_name bin_of_day                                        \n",
       "    0           Monday   0           2.336826  0.0  0.0  0.25  1.05  2.00  \n",
       "                         1           3.042075  0.0  0.0  0.00  1.05  2.00  \n",
       "                         2           5.141014  0.0  0.0  0.00  1.00  1.61  \n",
       "                         3           3.042075  0.0  0.0  0.00  1.05  2.00  \n",
       "                         4           9.735881  0.0  0.0  0.00  1.00  1.00  \n",
       "    ...                                   ...  ...  ...   ...   ...   ...  \n",
       "    6           Sunday   19          3.734700  0.0  0.0  1.00  2.00  3.24  \n",
       "                         20         -0.036761  0.0  0.0  1.00  2.00  2.00  \n",
       "                         21         -0.165950  0.0  0.0  1.00  2.00  2.00  \n",
       "                         22         -0.490912  0.0  0.0  1.00  1.00  1.62  \n",
       "                         23         -0.690587  0.0  0.0  0.50  1.00  1.00  \n",
       "    \n",
       "    [168 rows x 15 columns],\n",
       "    'departures':                                  count      mean  min  max     stdev  \\\n",
       "    day_of_week dow_name bin_of_day                                        \n",
       "    0           Monday   0            40.0  0.250000  0.0  1.0  0.438529   \n",
       "                         1            40.0  0.350000  0.0  2.0  0.622237   \n",
       "                         2            40.0  0.300000  0.0  2.0  0.563869   \n",
       "                         3            40.0  0.150000  0.0  1.0  0.361620   \n",
       "                         4            40.0  0.225000  0.0  2.0  0.530481   \n",
       "    ...                                ...       ...  ...  ...       ...   \n",
       "    6           Sunday   19           39.0  0.384615  0.0  2.0  0.590066   \n",
       "                         20           39.0  0.666667  0.0  4.0  0.898342   \n",
       "                         21           39.0  0.589744  0.0  2.0  0.677377   \n",
       "                         22           39.0  0.435897  0.0  2.0  0.552262   \n",
       "                         23           39.0  0.435897  0.0  2.0  0.598017   \n",
       "    \n",
       "                                          sem       var        cv      skew  \\\n",
       "    day_of_week dow_name bin_of_day                                           \n",
       "    0           Monday   0           0.069338  0.192308  1.754116  1.200185   \n",
       "                         1           0.098384  0.387179  1.777821  1.616626   \n",
       "                         2           0.089156  0.317949  1.879565  1.770449   \n",
       "                         3           0.057177  0.130769  2.410802  2.037613   \n",
       "                         4           0.083876  0.281410  2.357694  2.375053   \n",
       "    ...                                   ...       ...       ...       ...   \n",
       "    6           Sunday   19          0.094486  0.348178  1.534172  1.284625   \n",
       "                         20          0.143850  0.807018  1.347512  1.649469   \n",
       "                         21          0.108467  0.458839  1.148596  0.727580   \n",
       "                         22          0.088433  0.304993  1.266954  0.759850   \n",
       "                         23          0.095759  0.357625  1.371922  1.037424   \n",
       "    \n",
       "                                         kurt  p25  p50   p75   p95   p99  \n",
       "    day_of_week dow_name bin_of_day                                        \n",
       "    0           Monday   0          -0.591750  0.0  0.0  0.25  1.00  1.00  \n",
       "                         1           1.562715  0.0  0.0  1.00  2.00  2.00  \n",
       "                         2           2.336826  0.0  0.0  0.25  1.05  2.00  \n",
       "                         3           2.262572  0.0  0.0  0.00  1.00  1.00  \n",
       "                         4           4.965653  0.0  0.0  0.00  1.05  2.00  \n",
       "    ...                                   ...  ...  ...   ...   ...   ...  \n",
       "    6           Sunday   19          0.755782  0.0  0.0  1.00  1.10  2.00  \n",
       "                         20          3.541205  0.0  0.0  1.00  2.00  3.24  \n",
       "                         21         -0.519733  0.0  0.0  1.00  2.00  2.00  \n",
       "                         22         -0.490912  0.0  0.0  1.00  1.00  1.62  \n",
       "                         23          0.158277  0.0  0.0  1.00  1.10  2.00  \n",
       "    \n",
       "    [168 rows x 15 columns]}},\n",
       "  'stationary': {'PatType': {'occupancy':           count      mean  min        max     stdev       sem        var  \\\n",
       "    PatType                                                                    \n",
       "    ART      6576.0  1.296122  0.0  13.166667  2.315255  0.028551   5.360404   \n",
       "    CAT      6576.0  1.697313  0.0  10.650000  2.334648  0.028790   5.450580   \n",
       "    IVT      6576.0  5.789261  0.0  34.233333  7.961096  0.098173  63.379055   \n",
       "    MYE      6576.0  1.407725  0.0  11.366667  2.285368  0.028182   5.222907   \n",
       "    OTH      6576.0  0.860434  0.0  12.183333  1.668233  0.020572   2.783002   \n",
       "    \n",
       "                   cv      skew      kurt  p25       p50        p75        p95  \\\n",
       "    PatType                                                                      \n",
       "    ART      1.786293  1.694090  1.841735  0.0  0.000000   1.916667   6.466667   \n",
       "    CAT      1.375496  1.437153  1.097302  0.0  0.550000   2.750000   6.783333   \n",
       "    IVT      1.375149  1.229228  0.181904  0.0  0.916667  10.133333  22.516667   \n",
       "    MYE      1.623448  1.593619  1.454699  0.0  0.000000   2.133333   6.483333   \n",
       "    OTH      1.938827  2.197501  4.608606  0.0  0.000000   1.000000   4.666667   \n",
       "    \n",
       "                   p99  \n",
       "    PatType             \n",
       "    ART       8.591667  \n",
       "    CAT       8.729167  \n",
       "    IVT      27.129167  \n",
       "    MYE       8.375000  \n",
       "    OTH       7.208333  ,\n",
       "    'arrivals':           count      mean  min   max     stdev       sem        var        cv  \\\n",
       "    PatType                                                                         \n",
       "    ART      6576.0  0.876064  0.0  11.0  1.707420  0.021055   2.915284  1.948966   \n",
       "    CAT      6576.0  1.625912  0.0  12.0  2.280276  0.028119   5.199657  1.402459   \n",
       "    IVT      6576.0  5.045468  0.0  32.0  7.174219  0.088470  51.469415  1.421913   \n",
       "    MYE      6576.0  0.985097  0.0  10.0  1.713846  0.021134   2.937268  1.739773   \n",
       "    OTH      6576.0  0.572841  0.0   8.0  1.256291  0.015492   1.578268  2.193090   \n",
       "    \n",
       "                 skew      kurt  p25  p50  p75   p95   p99  \n",
       "    PatType                                                 \n",
       "    ART      2.044947  3.541325  0.0  0.0  1.0   5.0   7.0  \n",
       "    CAT      1.493959  1.461686  0.0  1.0  3.0   7.0   9.0  \n",
       "    IVT      1.346475  0.587699  0.0  1.0  8.0  21.0  25.0  \n",
       "    MYE      1.948869  3.451006  0.0  0.0  1.0   5.0   7.0  \n",
       "    OTH      2.613393  6.984429  0.0  0.0  0.0   3.0   6.0  ,\n",
       "    'departures':           count      mean  min   max     stdev       sem        var        cv  \\\n",
       "    PatType                                                                         \n",
       "    ART      6576.0  0.876064  0.0  10.0  1.663749  0.020517   2.768060  1.899117   \n",
       "    CAT      6576.0  1.625912  0.0  13.0  2.263540  0.027913   5.123611  1.392166   \n",
       "    IVT      6576.0  5.045468  0.0  31.0  6.957048  0.085791  48.400518  1.378871   \n",
       "    MYE      6576.0  0.985097  0.0  10.0  1.760424  0.021709   3.099093  1.787056   \n",
       "    OTH      6576.0  0.572841  0.0   9.0  1.287619  0.015878   1.657963  2.247779   \n",
       "    \n",
       "                 skew      kurt  p25  p50  p75   p95   p99  \n",
       "    PatType                                                 \n",
       "    ART      1.843163  2.451898  0.0  0.0  1.0   5.0   6.0  \n",
       "    CAT      1.519903  1.661372  0.0  1.0  3.0   7.0   9.0  \n",
       "    IVT      1.225742  0.251023  0.0  1.0  9.0  19.0  24.0  \n",
       "    MYE      1.989128  3.528463  0.0  0.0  1.0   5.0   7.0  \n",
       "    OTH      2.810753  8.658614  0.0  0.0  0.0   3.0   6.0  },\n",
       "   '': {'occupancy':     count       mean  min    max      stdev      sem         var        cv  \\\n",
       "    1  6576.0  11.050857  0.0  60.45  14.416628  0.17778  207.839175  1.304571   \n",
       "    \n",
       "           skew     kurt   p25       p50      p75      p95        p99  \n",
       "    1  1.079433 -0.22584  0.25  1.983333  21.9875  40.4875  47.829167  ,\n",
       "    'arrivals':     count      mean  min   max      stdev       sem         var        cv  \\\n",
       "    1  6576.0  9.105383  0.0  54.0  12.061301  0.148735  145.474976  1.324634   \n",
       "    \n",
       "           skew      kurt  p25  p50   p75   p95   p99  \n",
       "    1  1.197855  0.157709  0.0  2.0  17.0  35.0  41.0  ,\n",
       "    'departures':     count      mean  min   max      stdev       sem         var        cv  \\\n",
       "    1  6576.0  9.105383  0.0  54.0  12.049618  0.148591  145.193303  1.323351   \n",
       "    \n",
       "           skew      kurt  p25  p50   p75   p95   p99  \n",
       "    1  1.122631 -0.091141  0.0  2.0  18.0  33.0  40.0  }}}}"
      ]
     },
     "execution_count": 14,
     "metadata": {},
     "output_type": "execute_result"
    }
   ],
   "source": [
    "hm.make_hills(scenario, stops_df, in_fld_name, out_fld_name, start, end, cat_fld_name, verbose=verbose)"
   ]
  },
  {
   "cell_type": "code",
   "execution_count": 15,
   "metadata": {},
   "outputs": [
    {
     "name": "stdout",
     "output_type": "stream",
     "text": [
      "# packages in environment at /home/mark/anaconda3/envs/hm2_p37:\n",
      "#\n",
      "# Name                    Version                   Build  Channel\n",
      "_libgcc_mutex             0.1                        main  \n",
      "_openmp_mutex             5.1                       1_gnu  \n",
      "backcall                  0.2.0              pyhd3eb1b0_0  \n",
      "blas                      1.0                         mkl  \n",
      "bottleneck                1.3.4            py37hce1f21e_0  \n",
      "brotli                    1.0.9                he6710b0_2  \n",
      "ca-certificates           2022.4.26            h06a4308_0  \n",
      "certifi                   2022.6.15        py37h06a4308_0  \n",
      "cycler                    0.11.0             pyhd3eb1b0_0  \n",
      "dbus                      1.13.18              hb2f20db_0  \n",
      "debugpy                   1.5.1            py37h295c915_0  \n",
      "decorator                 5.1.1              pyhd3eb1b0_0  \n",
      "entrypoints               0.4              py37h06a4308_0  \n",
      "expat                     2.4.4                h295c915_0  \n",
      "fontconfig                2.13.1               h6c09931_0  \n",
      "fonttools                 4.25.0             pyhd3eb1b0_0  \n",
      "freetype                  2.11.0               h70c0345_0  \n",
      "giflib                    5.2.1                h7b6447c_0  \n",
      "glib                      2.69.1               h4ff587b_1  \n",
      "gst-plugins-base          1.14.0               h8213a91_2  \n",
      "gstreamer                 1.14.0               h28cd5cc_2  \n",
      "hillmaker                 0.4.0                     dev_0    <develop>\n",
      "icu                       58.2                 he6710b0_3  \n",
      "intel-openmp              2021.4.0          h06a4308_3561  \n",
      "ipykernel                 6.9.1            py37h06a4308_0  \n",
      "ipython                   7.31.1           py37h06a4308_0  \n",
      "jedi                      0.18.1           py37h06a4308_1  \n",
      "jpeg                      9e                   h7f8727e_0  \n",
      "jupyter_client            7.2.2            py37h06a4308_0  \n",
      "jupyter_core              4.10.0           py37h06a4308_0  \n",
      "kiwisolver                1.4.2            py37h295c915_0  \n",
      "lcms2                     2.12                 h3be6417_0  \n",
      "ld_impl_linux-64          2.38                 h1181459_1  \n",
      "libffi                    3.3                  he6710b0_2  \n",
      "libgcc-ng                 11.2.0               h1234567_1  \n",
      "libgomp                   11.2.0               h1234567_1  \n",
      "libpng                    1.6.37               hbc83047_0  \n",
      "libsodium                 1.0.18               h7b6447c_0  \n",
      "libstdcxx-ng              11.2.0               h1234567_1  \n",
      "libtiff                   4.2.0                h2818925_1  \n",
      "libuuid                   1.0.3                h7f8727e_2  \n",
      "libwebp                   1.2.2                h55f646e_0  \n",
      "libwebp-base              1.2.2                h7f8727e_0  \n",
      "libxcb                    1.15                 h7f8727e_0  \n",
      "libxml2                   2.9.14               h74e7548_0  \n",
      "lz4-c                     1.9.3                h295c915_1  \n",
      "matplotlib                3.5.1            py37h06a4308_1  \n",
      "matplotlib-base           3.5.1            py37ha18d171_1  \n",
      "matplotlib-inline         0.1.2              pyhd3eb1b0_2  \n",
      "mkl                       2021.4.0           h06a4308_640  \n",
      "mkl-service               2.4.0            py37h7f8727e_0  \n",
      "mkl_fft                   1.3.1            py37hd3c417c_0  \n",
      "mkl_random                1.2.2            py37h51133e4_0  \n",
      "munkres                   1.1.4                      py_0  \n",
      "ncurses                   6.3                  h7f8727e_2  \n",
      "nest-asyncio              1.5.5            py37h06a4308_0  \n",
      "numexpr                   2.8.1            py37h807cd23_2  \n",
      "numpy                     1.21.5           py37h6c91a56_3  \n",
      "numpy-base                1.21.5           py37ha15fc14_3  \n",
      "openssl                   1.1.1p               h5eee18b_0  \n",
      "packaging                 21.3               pyhd3eb1b0_0  \n",
      "pandas                    1.3.5            py37h8c16a72_0  \n",
      "parso                     0.8.3              pyhd3eb1b0_0  \n",
      "pcre                      8.45                 h295c915_0  \n",
      "pexpect                   4.8.0              pyhd3eb1b0_3  \n",
      "pickleshare               0.7.5           pyhd3eb1b0_1003  \n",
      "pillow                    9.0.1            py37h22f2fdc_0  \n",
      "pip                       21.2.2           py37h06a4308_0  \n",
      "prompt-toolkit            3.0.20             pyhd3eb1b0_0  \n",
      "ptyprocess                0.7.0              pyhd3eb1b0_2  \n",
      "pygments                  2.11.2             pyhd3eb1b0_0  \n",
      "pyparsing                 3.0.4              pyhd3eb1b0_0  \n",
      "pyqt                      5.9.2            py37h05f1152_2  \n",
      "python                    3.7.13               h12debd9_0  \n",
      "python-dateutil           2.8.2              pyhd3eb1b0_0  \n",
      "pytz                      2022.1           py37h06a4308_0  \n",
      "pyzmq                     22.3.0           py37h295c915_2  \n",
      "qt                        5.9.7                h5867ecd_1  \n",
      "readline                  8.1.2                h7f8727e_1  \n",
      "setuptools                61.2.0           py37h06a4308_0  \n",
      "sip                       4.19.8           py37hf484d3e_0  \n",
      "six                       1.16.0             pyhd3eb1b0_1  \n",
      "sqlite                    3.38.5               hc218d9a_0  \n",
      "tk                        8.6.12               h1ccaba5_0  \n",
      "tornado                   6.1              py37h27cfd23_0  \n",
      "traitlets                 5.1.1              pyhd3eb1b0_0  \n",
      "typing_extensions         4.1.1              pyh06a4308_0  \n",
      "wcwidth                   0.2.5              pyhd3eb1b0_0  \n",
      "wheel                     0.37.1             pyhd3eb1b0_0  \n",
      "xz                        5.2.5                h7f8727e_1  \n",
      "zeromq                    4.3.4                h2531618_0  \n",
      "zlib                      1.2.12               h7f8727e_2  \n",
      "zstd                      1.5.2                ha4553b6_0  \n"
     ]
    }
   ],
   "source": [
    "!conda list"
   ]
  },
  {
   "cell_type": "code",
   "execution_count": 16,
   "metadata": {},
   "outputs": [
    {
     "name": "stdout",
     "output_type": "stream",
     "text": [
      "2022-07-07 08:45:10,391 - hillmaker.bydatetime - INFO - min of intime: 1996-01-01 07:44:00\n",
      "2022-07-07 08:45:10,391 - hillmaker.bydatetime - INFO - max of intime: 1996-09-29 19:51:00\n",
      "2022-07-07 08:45:10,391 - hillmaker.bydatetime - INFO - min of outtime: 1996-01-01 08:50:00\n",
      "2022-07-07 08:45:10,391 - hillmaker.bydatetime - INFO - max of outtime: 1996-09-29 20:15:00\n",
      "2022-07-07 08:45:11,436 - hillmaker.bydatetime - INFO - cat IVT {'inner': 33019}\n",
      "2022-07-07 08:45:11,487 - hillmaker.bydatetime - INFO - cat IVT num_arrivals_hm 33019 num_arrivals_stops 33019\n",
      "2022-07-07 08:45:11,487 - hillmaker.bydatetime - INFO - cat IVT num_departures_hm 33019 num_departures_stops 33019\n",
      "2022-07-07 08:45:11,488 - hillmaker.bydatetime - INFO - cat IVT tot_occ_hm 37871.13 tot_occ_stops 37871.13\n",
      "2022-07-07 08:45:11,707 - hillmaker.bydatetime - INFO - cat MYE {'inner': 6447}\n",
      "2022-07-07 08:45:11,718 - hillmaker.bydatetime - INFO - cat MYE num_arrivals_hm 6447 num_arrivals_stops 6447\n",
      "2022-07-07 08:45:11,718 - hillmaker.bydatetime - INFO - cat MYE num_departures_hm 6447 num_departures_stops 6447\n",
      "2022-07-07 08:45:11,719 - hillmaker.bydatetime - INFO - cat MYE tot_occ_hm 9210.75 tot_occ_stops 9210.75\n",
      "2022-07-07 08:45:12,057 - hillmaker.bydatetime - INFO - cat CAT {'inner': 10641}\n",
      "2022-07-07 08:45:12,074 - hillmaker.bydatetime - INFO - cat CAT num_arrivals_hm 10641 num_arrivals_stops 10641\n",
      "2022-07-07 08:45:12,074 - hillmaker.bydatetime - INFO - cat CAT num_departures_hm 10641 num_departures_stops 10641\n",
      "2022-07-07 08:45:12,075 - hillmaker.bydatetime - INFO - cat CAT tot_occ_hm 11107.40 tot_occ_stops 11107.40\n",
      "2022-07-07 08:45:12,267 - hillmaker.bydatetime - INFO - cat ART {'inner': 5738}\n",
      "2022-07-07 08:45:12,277 - hillmaker.bydatetime - INFO - cat ART num_arrivals_hm 5738 num_arrivals_stops 5738\n",
      "2022-07-07 08:45:12,277 - hillmaker.bydatetime - INFO - cat ART num_departures_hm 5738 num_departures_stops 5738\n",
      "2022-07-07 08:45:12,278 - hillmaker.bydatetime - INFO - cat ART tot_occ_hm 8491.98 tot_occ_stops 8491.98\n",
      "2022-07-07 08:45:12,412 - hillmaker.bydatetime - INFO - cat OTH {'inner': 3747}\n",
      "2022-07-07 08:45:12,419 - hillmaker.bydatetime - INFO - cat OTH num_arrivals_hm 3747 num_arrivals_stops 3747\n",
      "2022-07-07 08:45:12,419 - hillmaker.bydatetime - INFO - cat OTH num_departures_hm 3747 num_departures_stops 3747\n",
      "2022-07-07 08:45:12,420 - hillmaker.bydatetime - INFO - cat OTH tot_occ_hm 5628.47 tot_occ_stops 5628.47\n",
      "2022-07-07 08:45:13,028 - hillmaker.hills - INFO - Datetime matrix created (seconds): 2.6371\n",
      "2022-07-07 08:45:17,880 - hillmaker.summarize - INFO - Created nonstationary summaries - ['PatType']\n",
      "2022-07-07 08:45:18,714 - hillmaker.summarize - INFO - Created nonstationary summaries - []\n",
      "2022-07-07 08:45:18,742 - hillmaker.summarize - INFO - Created stationary summaries - ['PatType']\n",
      "2022-07-07 08:45:18,753 - hillmaker.summarize - INFO - Created stationary summaries - []\n",
      "2022-07-07 08:45:18,753 - hillmaker.hills - INFO - Summaries by datetime created (seconds): 5.7254\n",
      "2022-07-07 08:45:18,952 - hillmaker.hills - INFO - By datetime exported to csv (seconds): 0.1983\n",
      "2022-07-07 08:45:19,012 - hillmaker.hills - INFO - Summaries exported to csv (seconds): 0.0600\n",
      "2022-07-07 08:45:19,012 - hillmaker.hills - INFO - Total time (seconds): 8.6211\n"
     ]
    }
   ],
   "source": [
    "!hillmaker cli_test_ssu input/ShortStay.csv InRoomTS OutRoomTS 1996-01-01 1996-09-30 --cat_field PatType --verbose 1"
   ]
  },
  {
   "cell_type": "markdown",
   "metadata": {},
   "source": [
    "Here's a screenshot of the current folder containing this IPython notebook (**basic_usage_shortstay_unit.ipynb**) and the csv files created by Hillmaker. "
   ]
  },
  {
   "cell_type": "markdown",
   "metadata": {},
   "source": [
    "![folder with output csv files](example_1_files.png)"
   ]
  },
  {
   "cell_type": "markdown",
   "metadata": {},
   "source": [
    "If you've used the previous version of Hillmaker, you'll recognize these files. A few more statistics have been added, but otherwise they are the same. These csv files can be imported into a spreadsheet application for plot creation. Of course, we can also make plots in Python. We'll do that in the next example. \n",
    "\n",
    "![folder with output csv files](example_1_occ.png)"
   ]
  },
  {
   "cell_type": "markdown",
   "metadata": {},
   "source": [
    "The files with 'cat' in their name are new. They contain summary overall summary statistics by category. In other words, they are NOT by time of day and day of week.\n",
    "\n",
    "![folder with output csv files](example_1_occ_cat.png)"
   ]
  },
  {
   "cell_type": "markdown",
   "metadata": {},
   "source": [
    "### Example 2: 30 minute bins, only CAT and IVT, return values to DataFrames"
   ]
  },
  {
   "cell_type": "code",
   "execution_count": null,
   "metadata": {},
   "outputs": [],
   "source": [
    "# Required inputs - same as Example 1 except for scenario name\n",
    "scenario = 'ss_example_2'\n",
    "in_fld_name = 'InRoomTS'\n",
    "out_fld_name = 'OutRoomTS'\n",
    "cat_fld_name = 'PatType'\n",
    "start = '1/1/1996'\n",
    "end = '3/30/1996 23:45'\n",
    "\n",
    "# Optional inputs\n",
    "tot_fld_name = 'CAT_IVT' # Just to make it clear that it's only these patient types\n",
    "bin_mins = 30 # Half-hour time bins\n",
    "exclude = ['ART','MYE','OTH'] # Tell Hillmaker to ignore these patient types\n"
   ]
  },
  {
   "cell_type": "markdown",
   "metadata": {},
   "source": [
    "Now we'll call `make_hills` and tuck the results (a dictionary of DataFrames) into a local variable. Then we can explore them a bit with Pandas."
   ]
  },
  {
   "cell_type": "code",
   "execution_count": null,
   "metadata": {},
   "outputs": [],
   "source": [
    "results_ex2 = hm.make_hills(scenario, stops_df, in_fld_name, out_fld_name, start, end, cat_fld_name,\n",
    "                            total_str=tot_fld_name, bin_size_minutes=bin_mins, \n",
    "                            cat_to_exclude=exclude, return_dataframes=True)"
   ]
  },
  {
   "cell_type": "code",
   "execution_count": null,
   "metadata": {
    "collapsed": false,
    "jupyter": {
     "outputs_hidden": false
    }
   },
   "outputs": [],
   "source": [
    "results_ex2.keys()"
   ]
  },
  {
   "cell_type": "code",
   "execution_count": null,
   "metadata": {},
   "outputs": [],
   "source": [
    "occ_df = results_ex2['occupancy']"
   ]
  },
  {
   "cell_type": "code",
   "execution_count": null,
   "metadata": {
    "collapsed": false,
    "jupyter": {
     "outputs_hidden": false
    }
   },
   "outputs": [],
   "source": [
    "occ_df.head()"
   ]
  },
  {
   "cell_type": "code",
   "execution_count": null,
   "metadata": {
    "collapsed": false,
    "jupyter": {
     "outputs_hidden": false
    }
   },
   "outputs": [],
   "source": [
    "occ_df.tail()"
   ]
  },
  {
   "cell_type": "code",
   "execution_count": null,
   "metadata": {
    "collapsed": false,
    "jupyter": {
     "outputs_hidden": false
    }
   },
   "outputs": [],
   "source": [
    "occ_df.info()"
   ]
  },
  {
   "cell_type": "markdown",
   "metadata": {},
   "source": [
    "### Example 3 - Running via a Python script\n",
    "Of course, you don't have to run Python statements through an IPython notebook. You can simply create a short Python script and run that directly in a terminal. An example, `test_shortstay.py`, can be found in the `scripts` subfolder of the hillmaker-examples project. Here's what it looks like - you can modify as necessary for your needs. There is another example in that folder as well, `test_obsim_log.py`, that is slightly more complex in that the input data has raw simulation times (i.e. minutes past t=0) and we need to do some datetime math to turn them into calendar based inputs."
   ]
  },
  {
   "cell_type": "code",
   "execution_count": null,
   "metadata": {
    "collapsed": false,
    "jupyter": {
     "outputs_hidden": false
    }
   },
   "outputs": [],
   "source": [
    "import pandas as pd\n",
    "\n",
    "import hillmaker as hm\n",
    "\n",
    "file_stopdata = '../data/ShortStay.csv'\n",
    "\n",
    "# Required inputs\n",
    "scenario = 'sstest_60'\n",
    "in_fld_name = 'InRoomTS'\n",
    "out_fld_name = 'OutRoomTS'\n",
    "cat_fld_name = 'PatType'\n",
    "start = '1/1/1996'\n",
    "end = '3/30/1996 23:45'\n",
    "\n",
    "# Optional inputs\n",
    "tot_fld_name = 'SSU'\n",
    "bin_mins = 60\n",
    "\n",
    "\n",
    "df = pd.read_csv(file_stopdata, parse_dates=[in_fld_name, out_fld_name])\n",
    "\n",
    "hm.make_hills(scenario, df, in_fld_name, out_fld_name,\n",
    "                     start, end, cat_fld_name,\n",
    "                     tot_fld_name, bin_mins,\n",
    "                     cat_to_exclude=None,\n",
    "                     verbose=1)"
   ]
  },
  {
   "cell_type": "markdown",
   "metadata": {},
   "source": [
    "More elaborate versions of scripts like `test_shortstay.py` can be envisioned. For example, an entire folder of input data files could be processed by simple enclosing the `hm.make_hills` call inside a loop over the collection of input files:"
   ]
  },
  {
   "cell_type": "code",
   "execution_count": null,
   "metadata": {},
   "outputs": [],
   "source": [
    "for log_fn in glob.glob('logs/*.csv'):\n",
    "    \n",
    "        # Read the log file and filter by included categories\n",
    "        stops_df = pd.read_csv(log_fn, parse_dates=[in_fld_name, out_fld_name])\n",
    "        \n",
    "        hm.make_hills(scenario, df, in_fld_name, out_fld_name, start, end, cat_fld_name)\n",
    "        ..."
   ]
  }
 ],
 "metadata": {
  "kernelspec": {
   "display_name": "Python [conda env:hm2_p37]",
   "language": "python",
   "name": "conda-env-hm2_p37-py"
  },
  "language_info": {
   "codemirror_mode": {
    "name": "ipython",
    "version": 3
   },
   "file_extension": ".py",
   "mimetype": "text/x-python",
   "name": "python",
   "nbconvert_exporter": "python",
   "pygments_lexer": "ipython3",
   "version": "3.7.13"
  }
 },
 "nbformat": 4,
 "nbformat_minor": 4
}
