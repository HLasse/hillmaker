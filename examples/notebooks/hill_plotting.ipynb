{
 "cells": [
  {
   "cell_type": "code",
   "execution_count": null,
   "id": "66328014-74c4-4969-8620-4d399d52ef38",
   "metadata": {},
   "outputs": [],
   "source": [
    "from pathlib import Path\n",
    "from pandas import Timestamp\n",
    "\n",
    "import pandas as pd\n",
    "import matplotlib.pyplot as plt\n",
    "from matplotlib.dates import DateFormatter\n",
    "from IPython.display import Image\n",
    "# Import seaborn\n",
    "import seaborn as sns\n",
    "\n",
    "import hillmaker as hm"
   ]
  },
  {
   "cell_type": "code",
   "execution_count": null,
   "id": "d1415ff2-13ac-450b-ace5-72064f1f2fe7",
   "metadata": {},
   "outputs": [],
   "source": [
    "ssu_stopdata = '../data/ShortStay.csv'\n",
    "ssu_stops_df = pd.read_csv(ssu_stopdata, parse_dates=['InRoomTS','OutRoomTS'])\n",
    "ssu_stops_df.info() # Check out the structure of the resulting DataFrame"
   ]
  },
  {
   "cell_type": "code",
   "execution_count": null,
   "id": "2bdc9af6-69b0-4a45-8dc2-dada2872f809",
   "metadata": {},
   "outputs": [],
   "source": [
    "# Required inputs\n",
    "scenario_name = 'ssu_1'\n",
    "stops_df = ssu_stops_df\n",
    "in_field_name = 'InRoomTS'\n",
    "out_field_name = 'OutRoomTS'\n",
    "start_date = '1996-01-01'\n",
    "end_date = '1996-09-30'\n",
    "\n",
    "# Optional inputs\n",
    "\n",
    "cat_field_name = 'PatType'\n",
    "verbosity = 1 # INFO level logging\n",
    "output_path = './output'\n",
    "bin_size_minutes = 60\n",
    "\n",
    "s1 = hm.Scenario(scenario_name=scenario_name, \n",
    "                         stops_df=stops_df,\n",
    "                         in_field=in_field_name,\n",
    "                         out_field=out_field_name,\n",
    "                         start_analysis_dt=start_date,\n",
    "                         end_analysis_dt=end_date,\n",
    "                         cat_field=cat_field_name,\n",
    "                         output_path=Path('./output'),\n",
    "                         verbosity=verbosity)"
   ]
  },
  {
   "cell_type": "code",
   "execution_count": null,
   "id": "bd1a57e9-cd51-40e8-ba6b-50bbdb3f3f12",
   "metadata": {},
   "outputs": [],
   "source": [
    "s1.make_hills()"
   ]
  },
  {
   "cell_type": "code",
   "execution_count": null,
   "id": "7f426d13-0fc6-4ac4-8f3b-4ecb75daa405",
   "metadata": {},
   "outputs": [],
   "source": [
    "s1.get_summary_df?"
   ]
  },
  {
   "cell_type": "code",
   "execution_count": null,
   "id": "b0230cd0-63b2-495a-9271-d52746ec586d",
   "metadata": {},
   "outputs": [],
   "source": [
    "occ_summary_cat_df = s1.get_summary_df()\n",
    "occ_summary_cat_df"
   ]
  },
  {
   "cell_type": "code",
   "execution_count": null,
   "id": "960365c7-6e87-4edf-ad31-8964e4a40fdc",
   "metadata": {},
   "outputs": [],
   "source": [
    "occ_summary_df = s1.get_summary_df(by_category=False)\n",
    "occ_summary_df"
   ]
  },
  {
   "cell_type": "code",
   "execution_count": null,
   "id": "43592d1f-b077-45e9-84f3-45d3fbe4f2a9",
   "metadata": {},
   "outputs": [],
   "source": [
    "def make_week_hill_plot(summary_df: pd.DataFrame, scenario_name: str, metric: str,\n",
    "                        \n",
    "\n",
    "                        bin_size_minutes: int = 60,\n",
    "                        cap: int = None,\n",
    "                        first_dow: str = 'Mon',\n",
    "                        xlabel: str = 'Hour',\n",
    "                        ylabel: str = 'Patients',\n",
    "                        export_path: Path | str | None = None,):\n",
    "    \"\"\"\n",
    "    Makes and optionally exports week plot for occupancy, arrivals, or departures.\n",
    "\n",
    "    Takes output DataFrames of `summarize.summarize` and plots mean and percentile\n",
    "    values for occupancy, arrival, and departure categories.\n",
    "\n",
    "    Parameters\n",
    "    ----------\n",
    "    summary_df : DataFrame\n",
    "        Single summary df from the output of `summarize.summarize`\n",
    "    scenario_name : str\n",
    "        Used in output filenames\n",
    "    metric : str\n",
    "        Name of make_hills summary df being plotted\n",
    "    export_path : str or Path, optional\n",
    "        Destination path for exported png files, default is current directory\n",
    "    bin_size_minutes : int, optional\n",
    "        Number of minutes in each time bin of the day, default is 60. Use a value that\n",
    "        divides into 1440 with no remainder\n",
    "    cap : int, optional\n",
    "        Capacity of area being analyzed, default is None\n",
    "    week_range : str\n",
    "        Week range of summary df. Default is 'week', can also take the form of\n",
    "        the first three characters of a day of week name (ex: 'tue')\n",
    "    xlabel : str\n",
    "        x-axis label, default='Hour'\n",
    "    ylabel : str\n",
    "        y-axis label, default='Patients'\n",
    "    export_png : bool, default is False\n",
    "        If True, plot is exported to png file to `export_path`\n",
    "    \"\"\"\n",
    "\n",
    "    plt.style.use('seaborn-darkgrid')\n",
    "    fig1 = plt.figure(figsize=(15, 10))\n",
    "    ax1 = fig1.add_subplot(1, 1, 1)\n",
    "\n",
    "    # infer number of days being plotted\n",
    "    num_days = len(summary_df) / (60 / bin_size_minutes * 24)\n",
    "\n",
    "    # Create a list to use as the X-axis values\n",
    "    num_bins = num_days * 1440 / bin_size_minutes\n",
    "    # TODO: This is a Monday. Make flexible so any dow can be \"first\".\n",
    "    base_date_for_first_dow = '2015-01-05'\n",
    "    timestamps = pd.date_range(base_date_for_first_dow, periods=num_bins, freq=f'{bin_size_minutes}Min').tolist()\n",
    "\n",
    "    # Choose appropriate major and minor tick locations\n",
    "    major_tick_locations = pd.date_range(f'{base_date_for_first_dow} 12:00:00', periods=7, freq='24H').tolist()\n",
    "    minor_tick_locations = pd.date_range(f'{base_date_for_first_dow} 06:00:00', periods=42, freq='4H').tolist()\n",
    "\n",
    "    # Set the tick locations for the axes object\n",
    "    ax1.set_xticks(major_tick_locations)\n",
    "    ax1.set_xticks(minor_tick_locations, minor=True)\n",
    "\n",
    "    # Specify the mean occupancy and percentile values. TODO - let user choose series to plot\n",
    "    mean_occ = summary_df['mean']\n",
    "    pctile_occ = summary_df['p95']\n",
    "\n",
    "    # Styling of bars, lines, plot area\n",
    "    # Style the bars for mean occupancy\n",
    "    bar_color = 'steelblue'\n",
    "\n",
    "    # Style the line for the occupancy percentile\n",
    "    # pctile_line_style = '-'\n",
    "    # pctile_color = 'grey'\n",
    "    pctile_colors = ['blue', 'green']\n",
    "    pctile_linestyles = ['-', '--']\n",
    "\n",
    "    # Add data to the plot\n",
    "    # Mean occupancy as bars - here's the GOTCHA involving the bar width\n",
    "    bar_width = 1 / (1440 / bin_size_minutes)\n",
    "    ax1.bar(timestamps, mean_occ, label=f'Mean {metric}', width=bar_width, color=bar_color)\n",
    "\n",
    "    # Some percentile as a line\n",
    "    ax1.plot(timestamps, pctile_occ, linestyle=pctile_line_style, label=f'95th %ile {metric}', color=pctile_color)\n",
    "\n",
    "    # establish capacity horizontal line if supplied\n",
    "    if cap is not None and metric == 'occupancy':\n",
    "        plt.axhline(cap, color='r', linestyle='--', label='Capacity')\n",
    "\n",
    "    # Create formatter variables\n",
    "    day_fmt = '' if num_days == 1 else '%a'\n",
    "    dayofweek_formatter = DateFormatter(day_fmt)\n",
    "    qtrday_formatter = DateFormatter('%H')\n",
    "\n",
    "    # Format the tick labels\n",
    "    ax1.xaxis.set_major_formatter(dayofweek_formatter)\n",
    "    ax1.xaxis.set_minor_formatter(qtrday_formatter)\n",
    "\n",
    "    # Slide the major tick labels underneath the default location by 20 points\n",
    "    ax1.tick_params(which='major', pad=20)\n",
    "\n",
    "    # Add other chart elements\n",
    "\n",
    "    # Set plot and axis titles\n",
    "    sup_title = fig1.suptitle(f'{metric.title()} by Time of Day - {week_range.title()}\\n{scenario_name.title()}',\n",
    "                              x=0.125, y=0.95, horizontalalignment='left', verticalalignment='top', fontsize=16)\n",
    "\n",
    "    ax1.set_title('All category types', loc='left', style='italic')\n",
    "    ax1.set_xlabel(xlabel)\n",
    "    ax1.set_ylabel(ylabel)\n",
    "\n",
    "    # Legend\n",
    "    ax1.legend(loc='best', frameon=True, facecolor='w')\n",
    "\n",
    "    # save figure\n",
    "    if export_path is not None:\n",
    "        week_range_str = 'week'\n",
    "        plot_png = f'{scenario_name}_{metric}_plot_{week_range_str}.png'\n",
    "        png_wpath = Path(export_path, plot_png)\n",
    "        plt.savefig(png_wpath, bbox_extra_artists=[sup_title], bbox_inches='tight')\n",
    "\n",
    "    # Suppress plot output in notebook\n",
    "    plt.close()\n",
    "\n",
    "    return fig1"
   ]
  },
  {
   "cell_type": "code",
   "execution_count": null,
   "id": "f3719bef-0c71-45cb-8a4d-c7ce0f06f596",
   "metadata": {},
   "outputs": [],
   "source": []
  },
  {
   "cell_type": "code",
   "execution_count": null,
   "id": "99a56a7e-9751-415e-98cb-18d0f51835a3",
   "metadata": {},
   "outputs": [],
   "source": [
    "pctile_colors = ['blue', 'green']\n",
    "pctile_linestyles = ['-', '--']"
   ]
  },
  {
   "cell_type": "code",
   "execution_count": null,
   "id": "1852a35b-1cc0-4810-a2ee-2664a06d5819",
   "metadata": {},
   "outputs": [],
   "source": [
    "from cycler import cycler\n",
    "cc = (cycler(color=pctile_colors) +\n",
    "      cycler(linestyle=pctile_linestyles))\n",
    "for d in cc:\n",
    "    print(d)"
   ]
  },
  {
   "cell_type": "code",
   "execution_count": null,
   "id": "a3932eb7-4e9c-4311-8144-40cacd07b70e",
   "metadata": {},
   "outputs": [],
   "source": [
    "with plt.rc_context({'axes.prop_cycle': cc}):"
   ]
  },
  {
   "cell_type": "code",
   "execution_count": null,
   "id": "09beeacc-7e7d-4246-93a8-c5ca0079d909",
   "metadata": {},
   "outputs": [],
   "source": []
  },
  {
   "cell_type": "markdown",
   "id": "56237e68-7e4c-4270-9e18-71ed0e3f5c43",
   "metadata": {},
   "source": [
    "## First dow"
   ]
  },
  {
   "cell_type": "code",
   "execution_count": null,
   "id": "45771cf5-0c6c-4b87-90be-da7895c1cdb9",
   "metadata": {},
   "outputs": [],
   "source": [
    "def find_first_dow(year, month, dow):\n",
    "    d = Timestamp(year, month, 1)\n",
    "    offset = -d.weekday() #weekday = 0 means monday\n",
    "    return d + timedelta(offset)"
   ]
  },
  {
   "cell_type": "code",
   "execution_count": null,
   "id": "a779f471-fbfd-4d8d-823e-222001675ce0",
   "metadata": {},
   "outputs": [],
   "source": [
    "year = 2015\n",
    "month = 1\n",
    "dow = 0\n",
    "\n",
    "d = Timestamp(year, month, 1)\n",
    "d"
   ]
  },
  {
   "cell_type": "code",
   "execution_count": null,
   "id": "b1754754-18fd-4fe9-9073-616d75388091",
   "metadata": {},
   "outputs": [],
   "source": [
    "dow_1 = d.weekday()\n",
    "dow_1"
   ]
  },
  {
   "cell_type": "code",
   "execution_count": null,
   "id": "3293acdc-0290-462d-8f04-1bdcdb1c05ca",
   "metadata": {},
   "outputs": [],
   "source": [
    "d + pd.Timedelta(7, unit=\"d\") - pd.Timedelta(dow_1, unit=\"d\")"
   ]
  },
  {
   "cell_type": "code",
   "execution_count": null,
   "id": "8bd04cfc-0ada-49ba-a413-d899d6fdea29",
   "metadata": {},
   "outputs": [],
   "source": [
    "(d + pd.Timedelta(7, unit=\"d\") - pd.Timedelta(dow_1, unit=\"d\")).weekday()"
   ]
  },
  {
   "cell_type": "code",
   "execution_count": null,
   "id": "07e2d5ad-9b41-44bb-8c26-effb9d121eeb",
   "metadata": {},
   "outputs": [],
   "source": [
    "(d + pd.Timedelta(7, unit=\"d\") - pd.Timedelta(dow_1, unit=\"d\")).weekday()"
   ]
  }
 ],
 "metadata": {
  "kernelspec": {
   "display_name": "Python [conda env:hm_oo]",
   "language": "python",
   "name": "conda-env-hm_oo-py"
  },
  "language_info": {
   "codemirror_mode": {
    "name": "ipython",
    "version": 3
   },
   "file_extension": ".py",
   "mimetype": "text/x-python",
   "name": "python",
   "nbconvert_exporter": "python",
   "pygments_lexer": "ipython3",
   "version": "3.10.12"
  }
 },
 "nbformat": 4,
 "nbformat_minor": 5
}
