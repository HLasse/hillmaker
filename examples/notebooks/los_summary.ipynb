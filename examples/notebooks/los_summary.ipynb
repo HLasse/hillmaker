{
 "cells": [
  {
   "cell_type": "markdown",
   "metadata": {},
   "source": [
    "# Length of stay summary dev - hillmaker (v0.5.0)"
   ]
  },
  {
   "cell_type": "markdown",
   "metadata": {},
   "source": [
    "<div class=\"alert alert-block alert-warning\">\n",
    "    <b>WARNING</b> Numerous API and core code changes have happened to hillmaker recently and this notebook is specific to v0.5.x. \n",
    "</div>"
   ]
  },
  {
   "cell_type": "code",
   "execution_count": 1,
   "metadata": {},
   "outputs": [],
   "source": [
    "%load_ext autoreload\n",
    "%autoreload 2"
   ]
  },
  {
   "cell_type": "code",
   "execution_count": 2,
   "metadata": {},
   "outputs": [],
   "source": [
    "import pandas as pd\n",
    "import matplotlib.pyplot as plt\n",
    "from matplotlib.dates import DateFormatter\n",
    "from IPython.display import Image\n",
    "\n",
    "import hillmaker as hm"
   ]
  },
  {
   "cell_type": "code",
   "execution_count": 3,
   "metadata": {},
   "outputs": [
    {
     "name": "stdout",
     "output_type": "stream",
     "text": [
      "<class 'pandas.core.frame.DataFrame'>\n",
      "RangeIndex: 59877 entries, 0 to 59876\n",
      "Data columns (total 4 columns):\n",
      " #   Column     Non-Null Count  Dtype         \n",
      "---  ------     --------------  -----         \n",
      " 0   PatID      59877 non-null  int64         \n",
      " 1   InRoomTS   59877 non-null  datetime64[ns]\n",
      " 2   OutRoomTS  59877 non-null  datetime64[ns]\n",
      " 3   PatType    59877 non-null  object        \n",
      "dtypes: datetime64[ns](2), int64(1), object(1)\n",
      "memory usage: 1.8+ MB\n"
     ]
    }
   ],
   "source": [
    "ssu_stopdata = '../data/ShortStay.csv'\n",
    "stops_df = pd.read_csv(ssu_stopdata, parse_dates=['InRoomTS','OutRoomTS'])\n",
    "stops_df.info() # Check out the structure of the resulting DataFrame"
   ]
  },
  {
   "cell_type": "code",
   "execution_count": 4,
   "metadata": {},
   "outputs": [
    {
     "data": {
      "text/html": [
       "<div>\n",
       "<style scoped>\n",
       "    .dataframe tbody tr th:only-of-type {\n",
       "        vertical-align: middle;\n",
       "    }\n",
       "\n",
       "    .dataframe tbody tr th {\n",
       "        vertical-align: top;\n",
       "    }\n",
       "\n",
       "    .dataframe thead th {\n",
       "        text-align: right;\n",
       "    }\n",
       "</style>\n",
       "<table border=\"1\" class=\"dataframe\">\n",
       "  <thead>\n",
       "    <tr style=\"text-align: right;\">\n",
       "      <th></th>\n",
       "      <th>PatID</th>\n",
       "      <th>InRoomTS</th>\n",
       "      <th>OutRoomTS</th>\n",
       "      <th>PatType</th>\n",
       "    </tr>\n",
       "  </thead>\n",
       "  <tbody>\n",
       "    <tr>\n",
       "      <th>0</th>\n",
       "      <td>1</td>\n",
       "      <td>1996-01-01 07:44:00</td>\n",
       "      <td>1996-01-01 08:50:00</td>\n",
       "      <td>IVT</td>\n",
       "    </tr>\n",
       "    <tr>\n",
       "      <th>1</th>\n",
       "      <td>2</td>\n",
       "      <td>1996-01-01 08:28:00</td>\n",
       "      <td>1996-01-01 09:20:00</td>\n",
       "      <td>IVT</td>\n",
       "    </tr>\n",
       "    <tr>\n",
       "      <th>2</th>\n",
       "      <td>3</td>\n",
       "      <td>1996-01-01 11:44:00</td>\n",
       "      <td>1996-01-01 13:30:00</td>\n",
       "      <td>MYE</td>\n",
       "    </tr>\n",
       "    <tr>\n",
       "      <th>3</th>\n",
       "      <td>4</td>\n",
       "      <td>1996-01-01 11:51:00</td>\n",
       "      <td>1996-01-01 12:55:00</td>\n",
       "      <td>CAT</td>\n",
       "    </tr>\n",
       "    <tr>\n",
       "      <th>4</th>\n",
       "      <td>5</td>\n",
       "      <td>1996-01-01 12:10:00</td>\n",
       "      <td>1996-01-01 13:00:00</td>\n",
       "      <td>IVT</td>\n",
       "    </tr>\n",
       "  </tbody>\n",
       "</table>\n",
       "</div>"
      ],
      "text/plain": [
       "   PatID            InRoomTS           OutRoomTS PatType\n",
       "0      1 1996-01-01 07:44:00 1996-01-01 08:50:00     IVT\n",
       "1      2 1996-01-01 08:28:00 1996-01-01 09:20:00     IVT\n",
       "2      3 1996-01-01 11:44:00 1996-01-01 13:30:00     MYE\n",
       "3      4 1996-01-01 11:51:00 1996-01-01 12:55:00     CAT\n",
       "4      5 1996-01-01 12:10:00 1996-01-01 13:00:00     IVT"
      ]
     },
     "execution_count": 4,
     "metadata": {},
     "output_type": "execute_result"
    }
   ],
   "source": [
    "stops_df.head()"
   ]
  },
  {
   "cell_type": "markdown",
   "metadata": {},
   "source": [
    "## Length of stay summary\n",
    "\n",
    "We can precompute LOS during the pydantic model pre-processing step. Instead of storing it as a Timedelta, we could allow user to specify units for LOS summary (default = 'h') where the unit string codes are same as used for Timedelta conversions.\n",
    "\n",
    "https://en.wikipedia.org/wiki/ISO_8601#Durations"
   ]
  },
  {
   "cell_type": "code",
   "execution_count": 5,
   "metadata": {},
   "outputs": [],
   "source": [
    "units = 'hours'"
   ]
  },
  {
   "cell_type": "code",
   "execution_count": 6,
   "metadata": {},
   "outputs": [
    {
     "data": {
      "text/html": [
       "<div>\n",
       "<style scoped>\n",
       "    .dataframe tbody tr th:only-of-type {\n",
       "        vertical-align: middle;\n",
       "    }\n",
       "\n",
       "    .dataframe tbody tr th {\n",
       "        vertical-align: top;\n",
       "    }\n",
       "\n",
       "    .dataframe thead th {\n",
       "        text-align: right;\n",
       "    }\n",
       "</style>\n",
       "<table border=\"1\" class=\"dataframe\">\n",
       "  <thead>\n",
       "    <tr style=\"text-align: right;\">\n",
       "      <th></th>\n",
       "      <th>PatID</th>\n",
       "      <th>InRoomTS</th>\n",
       "      <th>OutRoomTS</th>\n",
       "      <th>PatType</th>\n",
       "      <th>los_hours</th>\n",
       "    </tr>\n",
       "  </thead>\n",
       "  <tbody>\n",
       "    <tr>\n",
       "      <th>0</th>\n",
       "      <td>1</td>\n",
       "      <td>1996-01-01 07:44:00</td>\n",
       "      <td>1996-01-01 08:50:00</td>\n",
       "      <td>IVT</td>\n",
       "      <td>1.100000</td>\n",
       "    </tr>\n",
       "    <tr>\n",
       "      <th>1</th>\n",
       "      <td>2</td>\n",
       "      <td>1996-01-01 08:28:00</td>\n",
       "      <td>1996-01-01 09:20:00</td>\n",
       "      <td>IVT</td>\n",
       "      <td>0.866667</td>\n",
       "    </tr>\n",
       "    <tr>\n",
       "      <th>2</th>\n",
       "      <td>3</td>\n",
       "      <td>1996-01-01 11:44:00</td>\n",
       "      <td>1996-01-01 13:30:00</td>\n",
       "      <td>MYE</td>\n",
       "      <td>1.766667</td>\n",
       "    </tr>\n",
       "    <tr>\n",
       "      <th>3</th>\n",
       "      <td>4</td>\n",
       "      <td>1996-01-01 11:51:00</td>\n",
       "      <td>1996-01-01 12:55:00</td>\n",
       "      <td>CAT</td>\n",
       "      <td>1.066667</td>\n",
       "    </tr>\n",
       "    <tr>\n",
       "      <th>4</th>\n",
       "      <td>5</td>\n",
       "      <td>1996-01-01 12:10:00</td>\n",
       "      <td>1996-01-01 13:00:00</td>\n",
       "      <td>IVT</td>\n",
       "      <td>0.833333</td>\n",
       "    </tr>\n",
       "  </tbody>\n",
       "</table>\n",
       "</div>"
      ],
      "text/plain": [
       "   PatID            InRoomTS           OutRoomTS PatType  los_hours\n",
       "0      1 1996-01-01 07:44:00 1996-01-01 08:50:00     IVT   1.100000\n",
       "1      2 1996-01-01 08:28:00 1996-01-01 09:20:00     IVT   0.866667\n",
       "2      3 1996-01-01 11:44:00 1996-01-01 13:30:00     MYE   1.766667\n",
       "3      4 1996-01-01 11:51:00 1996-01-01 12:55:00     CAT   1.066667\n",
       "4      5 1996-01-01 12:10:00 1996-01-01 13:00:00     IVT   0.833333"
      ]
     },
     "execution_count": 6,
     "metadata": {},
     "output_type": "execute_result"
    }
   ],
   "source": [
    "los_field_name = f'los_{units}'\n",
    "stops_df[los_field_name] = (stops_df['OutRoomTS'] - stops_df['InRoomTS']) / pd.Timedelta(1, units)\n",
    "stops_df.head()"
   ]
  },
  {
   "cell_type": "code",
   "execution_count": 7,
   "metadata": {},
   "outputs": [
    {
     "name": "stdout",
     "output_type": "stream",
     "text": [
      "<class 'pandas.core.frame.DataFrame'>\n",
      "RangeIndex: 59877 entries, 0 to 59876\n",
      "Data columns (total 5 columns):\n",
      " #   Column     Non-Null Count  Dtype         \n",
      "---  ------     --------------  -----         \n",
      " 0   PatID      59877 non-null  int64         \n",
      " 1   InRoomTS   59877 non-null  datetime64[ns]\n",
      " 2   OutRoomTS  59877 non-null  datetime64[ns]\n",
      " 3   PatType    59877 non-null  object        \n",
      " 4   los_hours  59877 non-null  float64       \n",
      "dtypes: datetime64[ns](2), float64(1), int64(1), object(1)\n",
      "memory usage: 2.3+ MB\n"
     ]
    }
   ],
   "source": [
    "stops_df.info()"
   ]
  },
  {
   "cell_type": "markdown",
   "metadata": {},
   "source": [
    "In addition to statistical summaries as shown below, it would be nice to have histograms."
   ]
  },
  {
   "cell_type": "code",
   "execution_count": 8,
   "metadata": {},
   "outputs": [
    {
     "data": {
      "text/html": [
       "<div>\n",
       "<style scoped>\n",
       "    .dataframe tbody tr th:only-of-type {\n",
       "        vertical-align: middle;\n",
       "    }\n",
       "\n",
       "    .dataframe tbody tr th {\n",
       "        vertical-align: top;\n",
       "    }\n",
       "\n",
       "    .dataframe thead th {\n",
       "        text-align: right;\n",
       "    }\n",
       "</style>\n",
       "<table border=\"1\" class=\"dataframe\">\n",
       "  <thead>\n",
       "    <tr style=\"text-align: right;\">\n",
       "      <th></th>\n",
       "      <th>count</th>\n",
       "      <th>mean</th>\n",
       "      <th>std</th>\n",
       "      <th>min</th>\n",
       "      <th>25%</th>\n",
       "      <th>50%</th>\n",
       "      <th>75%</th>\n",
       "      <th>max</th>\n",
       "    </tr>\n",
       "    <tr>\n",
       "      <th>PatType</th>\n",
       "      <th></th>\n",
       "      <th></th>\n",
       "      <th></th>\n",
       "      <th></th>\n",
       "      <th></th>\n",
       "      <th></th>\n",
       "      <th></th>\n",
       "      <th></th>\n",
       "    </tr>\n",
       "  </thead>\n",
       "  <tbody>\n",
       "    <tr>\n",
       "      <th>ART</th>\n",
       "      <td>5761.0</td>\n",
       "      <td>1.479483</td>\n",
       "      <td>0.375888</td>\n",
       "      <td>0.533333</td>\n",
       "      <td>1.183333</td>\n",
       "      <td>1.416667</td>\n",
       "      <td>1.75</td>\n",
       "      <td>2.483333</td>\n",
       "    </tr>\n",
       "    <tr>\n",
       "      <th>CAT</th>\n",
       "      <td>10692.0</td>\n",
       "      <td>1.043914</td>\n",
       "      <td>0.567298</td>\n",
       "      <td>0.066667</td>\n",
       "      <td>0.666667</td>\n",
       "      <td>0.983333</td>\n",
       "      <td>1.25</td>\n",
       "      <td>5.983333</td>\n",
       "    </tr>\n",
       "    <tr>\n",
       "      <th>IVT</th>\n",
       "      <td>33179.0</td>\n",
       "      <td>1.147418</td>\n",
       "      <td>0.702600</td>\n",
       "      <td>0.000000</td>\n",
       "      <td>0.733333</td>\n",
       "      <td>1.000000</td>\n",
       "      <td>1.40</td>\n",
       "      <td>10.916667</td>\n",
       "    </tr>\n",
       "    <tr>\n",
       "      <th>MYE</th>\n",
       "      <td>6478.0</td>\n",
       "      <td>1.429021</td>\n",
       "      <td>0.397153</td>\n",
       "      <td>0.533333</td>\n",
       "      <td>1.133333</td>\n",
       "      <td>1.366667</td>\n",
       "      <td>1.70</td>\n",
       "      <td>2.483333</td>\n",
       "    </tr>\n",
       "    <tr>\n",
       "      <th>OTH</th>\n",
       "      <td>3767.0</td>\n",
       "      <td>1.502048</td>\n",
       "      <td>0.349509</td>\n",
       "      <td>1.016667</td>\n",
       "      <td>1.200000</td>\n",
       "      <td>1.450000</td>\n",
       "      <td>1.75</td>\n",
       "      <td>2.483333</td>\n",
       "    </tr>\n",
       "  </tbody>\n",
       "</table>\n",
       "</div>"
      ],
      "text/plain": [
       "           count      mean       std       min       25%       50%   75%  \\\n",
       "PatType                                                                    \n",
       "ART       5761.0  1.479483  0.375888  0.533333  1.183333  1.416667  1.75   \n",
       "CAT      10692.0  1.043914  0.567298  0.066667  0.666667  0.983333  1.25   \n",
       "IVT      33179.0  1.147418  0.702600  0.000000  0.733333  1.000000  1.40   \n",
       "MYE       6478.0  1.429021  0.397153  0.533333  1.133333  1.366667  1.70   \n",
       "OTH       3767.0  1.502048  0.349509  1.016667  1.200000  1.450000  1.75   \n",
       "\n",
       "               max  \n",
       "PatType             \n",
       "ART       2.483333  \n",
       "CAT       5.983333  \n",
       "IVT      10.916667  \n",
       "MYE       2.483333  \n",
       "OTH       2.483333  "
      ]
     },
     "execution_count": 8,
     "metadata": {},
     "output_type": "execute_result"
    }
   ],
   "source": [
    "stops_df.groupby(['PatType'])[los_field_name].describe()"
   ]
  },
  {
   "cell_type": "code",
   "execution_count": 9,
   "metadata": {},
   "outputs": [],
   "source": [
    "from pandas.core.groupby import DataFrameGroupBy\n",
    "from typing import Dict, List, Tuple"
   ]
  },
  {
   "cell_type": "code",
   "execution_count": 10,
   "metadata": {},
   "outputs": [],
   "source": [
    "def summary_stats(group: DataFrameGroupBy,\n",
    "                  percentiles: Tuple[float] | List[float] = (0.25, 0.5, 0.75, 0.95, 0.99),\n",
    "                  stub: str = ''):\n",
    "    \"\"\"\n",
    "    Compute summary statistics on a pandas `DataFrameGroupBy` object.\n",
    "\n",
    "    Parameters\n",
    "    ----------\n",
    "    group : pd.DataFrameGroupBy\n",
    "        The grouping is by category\n",
    "    percentiles : list or tuple of floats (e.g. [0.5, 0.75, 0.95]), optional\n",
    "        Which percentiles to compute. Default is (0.25, 0.5, 0.75, 0.95, 0.99)\n",
    "    stub : str\n",
    "        Used to create field names (e.g. '{stub}_mean')\n",
    "\n",
    "    Returns\n",
    "    -------\n",
    "    Dict whose keys are '{stub}_{statistic}'. Dict values are `DataFrame` objects.\n",
    "\n",
    "    \"\"\"\n",
    "    stats = {stub + 'count': group.count(), stub + 'mean': group.mean(),\n",
    "             stub + 'min': group.min(),\n",
    "             stub + 'max': group.max(), 'stdev': group.std(), 'sem': group.sem(),\n",
    "             stub + 'var': group.var(), 'cv': group.std() / group.mean() if group.mean() > 0 else 0,\n",
    "             stub + 'skew': group.skew(), 'kurt': group.kurt()}\n",
    "\n",
    "    if percentiles is not None:\n",
    "        pctile_vals = group.quantile(percentiles)\n",
    "\n",
    "        for p in percentiles:\n",
    "            pctile_name = f'{stub}p{int(100 * p):d}'\n",
    "            stats[pctile_name] = pctile_vals[p]\n",
    "\n",
    "    return stats"
   ]
  },
  {
   "cell_type": "code",
   "execution_count": 11,
   "metadata": {},
   "outputs": [
    {
     "data": {
      "text/html": [
       "<div>\n",
       "<style scoped>\n",
       "    .dataframe tbody tr th:only-of-type {\n",
       "        vertical-align: middle;\n",
       "    }\n",
       "\n",
       "    .dataframe tbody tr th {\n",
       "        vertical-align: top;\n",
       "    }\n",
       "\n",
       "    .dataframe thead th {\n",
       "        text-align: right;\n",
       "    }\n",
       "</style>\n",
       "<table border=\"1\" class=\"dataframe\">\n",
       "  <thead>\n",
       "    <tr style=\"text-align: right;\">\n",
       "      <th></th>\n",
       "      <th>count</th>\n",
       "      <th>mean</th>\n",
       "      <th>min</th>\n",
       "      <th>max</th>\n",
       "      <th>stdev</th>\n",
       "      <th>sem</th>\n",
       "      <th>var</th>\n",
       "      <th>cv</th>\n",
       "      <th>skew</th>\n",
       "      <th>kurt</th>\n",
       "      <th>p25</th>\n",
       "      <th>p50</th>\n",
       "      <th>p75</th>\n",
       "      <th>p95</th>\n",
       "      <th>p99</th>\n",
       "    </tr>\n",
       "    <tr>\n",
       "      <th>PatType</th>\n",
       "      <th></th>\n",
       "      <th></th>\n",
       "      <th></th>\n",
       "      <th></th>\n",
       "      <th></th>\n",
       "      <th></th>\n",
       "      <th></th>\n",
       "      <th></th>\n",
       "      <th></th>\n",
       "      <th></th>\n",
       "      <th></th>\n",
       "      <th></th>\n",
       "      <th></th>\n",
       "      <th></th>\n",
       "      <th></th>\n",
       "    </tr>\n",
       "  </thead>\n",
       "  <tbody>\n",
       "    <tr>\n",
       "      <th>ART</th>\n",
       "      <td>5761.0</td>\n",
       "      <td>1.479483</td>\n",
       "      <td>0.533333</td>\n",
       "      <td>2.483333</td>\n",
       "      <td>0.375888</td>\n",
       "      <td>0.004952</td>\n",
       "      <td>0.141292</td>\n",
       "      <td>0.254067</td>\n",
       "      <td>0.388482</td>\n",
       "      <td>-0.506492</td>\n",
       "      <td>1.183333</td>\n",
       "      <td>1.416667</td>\n",
       "      <td>1.75</td>\n",
       "      <td>2.166667</td>\n",
       "      <td>2.350000</td>\n",
       "    </tr>\n",
       "    <tr>\n",
       "      <th>CAT</th>\n",
       "      <td>10692.0</td>\n",
       "      <td>1.043914</td>\n",
       "      <td>0.066667</td>\n",
       "      <td>5.983333</td>\n",
       "      <td>0.567298</td>\n",
       "      <td>0.005486</td>\n",
       "      <td>0.321827</td>\n",
       "      <td>0.543433</td>\n",
       "      <td>2.097465</td>\n",
       "      <td>8.190130</td>\n",
       "      <td>0.666667</td>\n",
       "      <td>0.983333</td>\n",
       "      <td>1.25</td>\n",
       "      <td>2.074167</td>\n",
       "      <td>3.150000</td>\n",
       "    </tr>\n",
       "    <tr>\n",
       "      <th>IVT</th>\n",
       "      <td>33179.0</td>\n",
       "      <td>1.147418</td>\n",
       "      <td>0.000000</td>\n",
       "      <td>10.916667</td>\n",
       "      <td>0.702600</td>\n",
       "      <td>0.003857</td>\n",
       "      <td>0.493647</td>\n",
       "      <td>0.612331</td>\n",
       "      <td>2.870813</td>\n",
       "      <td>16.362389</td>\n",
       "      <td>0.733333</td>\n",
       "      <td>1.000000</td>\n",
       "      <td>1.40</td>\n",
       "      <td>2.318333</td>\n",
       "      <td>3.833333</td>\n",
       "    </tr>\n",
       "    <tr>\n",
       "      <th>MYE</th>\n",
       "      <td>6478.0</td>\n",
       "      <td>1.429021</td>\n",
       "      <td>0.533333</td>\n",
       "      <td>2.483333</td>\n",
       "      <td>0.397153</td>\n",
       "      <td>0.004934</td>\n",
       "      <td>0.157731</td>\n",
       "      <td>0.277920</td>\n",
       "      <td>0.397701</td>\n",
       "      <td>-0.446451</td>\n",
       "      <td>1.133333</td>\n",
       "      <td>1.366667</td>\n",
       "      <td>1.70</td>\n",
       "      <td>2.166667</td>\n",
       "      <td>2.350000</td>\n",
       "    </tr>\n",
       "    <tr>\n",
       "      <th>OTH</th>\n",
       "      <td>3767.0</td>\n",
       "      <td>1.502048</td>\n",
       "      <td>1.016667</td>\n",
       "      <td>2.483333</td>\n",
       "      <td>0.349509</td>\n",
       "      <td>0.005695</td>\n",
       "      <td>0.122157</td>\n",
       "      <td>0.232688</td>\n",
       "      <td>0.532790</td>\n",
       "      <td>-0.652905</td>\n",
       "      <td>1.200000</td>\n",
       "      <td>1.450000</td>\n",
       "      <td>1.75</td>\n",
       "      <td>2.150000</td>\n",
       "      <td>2.316667</td>\n",
       "    </tr>\n",
       "  </tbody>\n",
       "</table>\n",
       "</div>"
      ],
      "text/plain": [
       "           count      mean       min        max     stdev       sem       var  \\\n",
       "PatType                                                                         \n",
       "ART       5761.0  1.479483  0.533333   2.483333  0.375888  0.004952  0.141292   \n",
       "CAT      10692.0  1.043914  0.066667   5.983333  0.567298  0.005486  0.321827   \n",
       "IVT      33179.0  1.147418  0.000000  10.916667  0.702600  0.003857  0.493647   \n",
       "MYE       6478.0  1.429021  0.533333   2.483333  0.397153  0.004934  0.157731   \n",
       "OTH       3767.0  1.502048  1.016667   2.483333  0.349509  0.005695  0.122157   \n",
       "\n",
       "               cv      skew       kurt       p25       p50   p75       p95  \\\n",
       "PatType                                                                      \n",
       "ART      0.254067  0.388482  -0.506492  1.183333  1.416667  1.75  2.166667   \n",
       "CAT      0.543433  2.097465   8.190130  0.666667  0.983333  1.25  2.074167   \n",
       "IVT      0.612331  2.870813  16.362389  0.733333  1.000000  1.40  2.318333   \n",
       "MYE      0.277920  0.397701  -0.446451  1.133333  1.366667  1.70  2.166667   \n",
       "OTH      0.232688  0.532790  -0.652905  1.200000  1.450000  1.75  2.150000   \n",
       "\n",
       "              p99  \n",
       "PatType            \n",
       "ART      2.350000  \n",
       "CAT      3.150000  \n",
       "IVT      3.833333  \n",
       "MYE      2.350000  \n",
       "OTH      2.316667  "
      ]
     },
     "execution_count": 11,
     "metadata": {},
     "output_type": "execute_result"
    }
   ],
   "source": [
    "cat_field_grp = stops_df.groupby(['PatType'])\n",
    "los_bycat_stats = cat_field_grp[los_field_name].apply(summary_stats).unstack()\n",
    "los_bycat_stats"
   ]
  },
  {
   "cell_type": "code",
   "execution_count": 12,
   "metadata": {},
   "outputs": [
    {
     "data": {
      "text/html": [
       "<div>\n",
       "<style scoped>\n",
       "    .dataframe tbody tr th:only-of-type {\n",
       "        vertical-align: middle;\n",
       "    }\n",
       "\n",
       "    .dataframe tbody tr th {\n",
       "        vertical-align: top;\n",
       "    }\n",
       "\n",
       "    .dataframe thead th {\n",
       "        text-align: right;\n",
       "    }\n",
       "</style>\n",
       "<table border=\"1\" class=\"dataframe\">\n",
       "  <thead>\n",
       "    <tr style=\"text-align: right;\">\n",
       "      <th></th>\n",
       "      <th>count</th>\n",
       "      <th>mean</th>\n",
       "      <th>min</th>\n",
       "      <th>max</th>\n",
       "      <th>stdev</th>\n",
       "      <th>sem</th>\n",
       "      <th>var</th>\n",
       "      <th>cv</th>\n",
       "      <th>skew</th>\n",
       "      <th>kurt</th>\n",
       "      <th>p25</th>\n",
       "      <th>p50</th>\n",
       "      <th>p75</th>\n",
       "      <th>p95</th>\n",
       "      <th>p99</th>\n",
       "    </tr>\n",
       "  </thead>\n",
       "  <tbody>\n",
       "    <tr>\n",
       "      <th>all</th>\n",
       "      <td>59877.0</td>\n",
       "      <td>1.213662</td>\n",
       "      <td>0.0</td>\n",
       "      <td>10.916667</td>\n",
       "      <td>0.627664</td>\n",
       "      <td>0.002565</td>\n",
       "      <td>0.393962</td>\n",
       "      <td>0.517165</td>\n",
       "      <td>2.323057</td>\n",
       "      <td>14.275584</td>\n",
       "      <td>0.816667</td>\n",
       "      <td>1.116667</td>\n",
       "      <td>1.5</td>\n",
       "      <td>2.216667</td>\n",
       "      <td>3.4</td>\n",
       "    </tr>\n",
       "  </tbody>\n",
       "</table>\n",
       "</div>"
      ],
      "text/plain": [
       "       count      mean  min        max     stdev       sem       var  \\\n",
       "all  59877.0  1.213662  0.0  10.916667  0.627664  0.002565  0.393962   \n",
       "\n",
       "           cv      skew       kurt       p25       p50  p75       p95  p99  \n",
       "all  0.517165  2.323057  14.275584  0.816667  1.116667  1.5  2.216667  3.4  "
      ]
     },
     "execution_count": 12,
     "metadata": {},
     "output_type": "execute_result"
    }
   ],
   "source": [
    "all_grp = stops_df.groupby(by=lambda x: 'all')\n",
    "los_all_stats = all_grp[los_field_name].apply(summary_stats).unstack()\n",
    "los_all_stats"
   ]
  },
  {
   "cell_type": "markdown",
   "metadata": {},
   "source": [
    "How to make nice looking tabular outputs? Similar to [gt](https://posit.co/blog/great-looking-tables-gt-0-2/) in R.\n",
    "\n",
    "Use pandas Stylers - https://pandas.pydata.org/docs/user_guide/style.html\n",
    "\n",
    "Also, do we really need Seaborn or can we make do with matplotlib? Seaborn has some nice built in plots. :)"
   ]
  },
  {
   "cell_type": "code",
   "execution_count": 14,
   "metadata": {},
   "outputs": [
    {
     "data": {
      "text/html": [
       "<style type=\"text/css\">\n",
       "</style>\n",
       "<table id=\"T_c55c0\">\n",
       "  <thead>\n",
       "    <tr>\n",
       "      <th class=\"blank level0\" >&nbsp;</th>\n",
       "      <th id=\"T_c55c0_level0_col0\" class=\"col_heading level0 col0\" >count</th>\n",
       "      <th id=\"T_c55c0_level0_col1\" class=\"col_heading level0 col1\" >mean</th>\n",
       "      <th id=\"T_c55c0_level0_col2\" class=\"col_heading level0 col2\" >min</th>\n",
       "      <th id=\"T_c55c0_level0_col3\" class=\"col_heading level0 col3\" >max</th>\n",
       "      <th id=\"T_c55c0_level0_col4\" class=\"col_heading level0 col4\" >stdev</th>\n",
       "      <th id=\"T_c55c0_level0_col5\" class=\"col_heading level0 col5\" >cv</th>\n",
       "      <th id=\"T_c55c0_level0_col6\" class=\"col_heading level0 col6\" >skew</th>\n",
       "      <th id=\"T_c55c0_level0_col7\" class=\"col_heading level0 col7\" >p50</th>\n",
       "      <th id=\"T_c55c0_level0_col8\" class=\"col_heading level0 col8\" >p75</th>\n",
       "      <th id=\"T_c55c0_level0_col9\" class=\"col_heading level0 col9\" >p95</th>\n",
       "      <th id=\"T_c55c0_level0_col10\" class=\"col_heading level0 col10\" >p99</th>\n",
       "    </tr>\n",
       "  </thead>\n",
       "  <tbody>\n",
       "    <tr>\n",
       "      <th id=\"T_c55c0_level0_row0\" class=\"row_heading level0 row0\" >all</th>\n",
       "      <td id=\"T_c55c0_row0_col0\" class=\"data row0 col0\" >59877</td>\n",
       "      <td id=\"T_c55c0_row0_col1\" class=\"data row0 col1\" >1.2</td>\n",
       "      <td id=\"T_c55c0_row0_col2\" class=\"data row0 col2\" >0.0</td>\n",
       "      <td id=\"T_c55c0_row0_col3\" class=\"data row0 col3\" >10.9</td>\n",
       "      <td id=\"T_c55c0_row0_col4\" class=\"data row0 col4\" >0.6</td>\n",
       "      <td id=\"T_c55c0_row0_col5\" class=\"data row0 col5\" >0.5</td>\n",
       "      <td id=\"T_c55c0_row0_col6\" class=\"data row0 col6\" >2.3</td>\n",
       "      <td id=\"T_c55c0_row0_col7\" class=\"data row0 col7\" >1.1</td>\n",
       "      <td id=\"T_c55c0_row0_col8\" class=\"data row0 col8\" >1.5</td>\n",
       "      <td id=\"T_c55c0_row0_col9\" class=\"data row0 col9\" >2.2</td>\n",
       "      <td id=\"T_c55c0_row0_col10\" class=\"data row0 col10\" >3.4</td>\n",
       "    </tr>\n",
       "  </tbody>\n",
       "</table>\n"
      ],
      "text/plain": [
       "<pandas.io.formats.style.Styler at 0x7f10517dd420>"
      ]
     },
     "execution_count": 14,
     "metadata": {},
     "output_type": "execute_result"
    }
   ],
   "source": [
    "cols = ['count', 'mean', 'min', 'max', 'stdev', 'cv', 'skew', 'p50', 'p75', 'p95', 'p99']\n",
    "float_format = '{0:.1f}'\n",
    "mapper =  {'count': '{:.0f}',\n",
    "           'mean': float_format,\n",
    "           'min': float_format,\n",
    "           'max': float_format,\n",
    "           'stdev': float_format,\n",
    "           'cv': float_format,\n",
    "           'skew': float_format,\n",
    "           'p50': float_format,\n",
    "           'p75': float_format,\n",
    "           'p95': float_format,\n",
    "           'p99': float_format}\n",
    "los_all_stats[cols].style.format(mapper)\n",
    "#  .format(precision=1)"
   ]
  },
  {
   "cell_type": "code",
   "execution_count": null,
   "metadata": {},
   "outputs": [],
   "source": []
  },
  {
   "cell_type": "markdown",
   "metadata": {},
   "source": [
    "## Plotting"
   ]
  },
  {
   "cell_type": "code",
   "execution_count": 16,
   "metadata": {},
   "outputs": [],
   "source": [
    "# Import seaborn\n",
    "import seaborn as sns\n",
    "\n",
    "# Apply the default theme\n",
    "sns.set_theme()"
   ]
  },
  {
   "cell_type": "code",
   "execution_count": null,
   "metadata": {},
   "outputs": [],
   "source": [
    "sns.displot(data=stops_df, x=\"los_hours\", hue=\"PatType\", col=\"PatType\", col_wrap=3)"
   ]
  },
  {
   "cell_type": "code",
   "execution_count": null,
   "metadata": {},
   "outputs": [],
   "source": [
    "sns.displot(data=stops_df, x=\"los_hours\", hue=\"PatType\", col=\"PatType\", kind='kde', col_wrap=3)"
   ]
  },
  {
   "cell_type": "code",
   "execution_count": null,
   "metadata": {},
   "outputs": [],
   "source": [
    "sns.displot(data=stops_df, x=\"los_hours\", hue=\"PatType\", col=\"PatType\", stat='density', kde=True, col_wrap=3)"
   ]
  },
  {
   "cell_type": "markdown",
   "metadata": {},
   "source": [
    "I think to have a non-shared y-axis, you have to use the `FacetGrid` and `map` approach."
   ]
  },
  {
   "cell_type": "code",
   "execution_count": null,
   "metadata": {},
   "outputs": [],
   "source": [
    "sns.displot(data=stops_df, x=\"los_hours\", hue=\"PatType\", kind='ecdf')"
   ]
  },
  {
   "cell_type": "code",
   "execution_count": null,
   "metadata": {},
   "outputs": [],
   "source": [
    "sns.displot(data=stops_df, x=\"los_hours\", hue=\"PatType\", kind='kde')"
   ]
  },
  {
   "cell_type": "code",
   "execution_count": null,
   "metadata": {},
   "outputs": [],
   "source": [
    "sns.catplot(data=stops_df, x=\"PatType\", y=\"los_hours\", kind=\"box\")"
   ]
  },
  {
   "cell_type": "code",
   "execution_count": null,
   "metadata": {},
   "outputs": [],
   "source": [
    "sns.catplot(data=stops_df, x=\"PatType\", y=\"los_hours\", kind=\"violin\")"
   ]
  },
  {
   "cell_type": "code",
   "execution_count": null,
   "metadata": {},
   "outputs": [],
   "source": [
    "sns.catplot(data=stops_df, x=\"PatType\", y=\"los_hours\", kind=\"boxen\")"
   ]
  },
  {
   "cell_type": "code",
   "execution_count": null,
   "metadata": {},
   "outputs": [],
   "source": [
    "mean_los_plot = sns.catplot(data=stops_df, x=\"PatType\", y=\"los_hours\", kind=\"bar\")\n",
    "# https://stackoverflow.com/questions/43920341/facetgrid-change-titles\n",
    "axes = mean_los_plot.axes.flatten()\n",
    "axes[0].set_ylabel(\"Mean los (hrs)\")\n",
    "mean_los_plot"
   ]
  },
  {
   "cell_type": "code",
   "execution_count": null,
   "metadata": {},
   "outputs": [],
   "source": []
  },
  {
   "cell_type": "markdown",
   "metadata": {},
   "source": [
    "Need to change y-axis to be relative frequency instead of raw counts."
   ]
  },
  {
   "cell_type": "code",
   "execution_count": null,
   "metadata": {},
   "outputs": [],
   "source": [
    "sns.displot(data=stops_df, x=\"los_hours\", hue=\"PatType\", element=\"step\")"
   ]
  },
  {
   "cell_type": "code",
   "execution_count": 17,
   "metadata": {},
   "outputs": [
    {
     "data": {
      "text/plain": [
       "<seaborn.axisgrid.FacetGrid at 0x7f1051b646d0>"
      ]
     },
     "execution_count": 17,
     "metadata": {},
     "output_type": "execute_result"
    },
    {
     "data": {
      "image/png": "[encoded data removed]",
      "text/plain": [
       "<Figure size 900x600 with 5 Axes>"
      ]
     },
     "metadata": {},
     "output_type": "display_data"
    }
   ],
   "source": [
    "g = sns.FacetGrid(data=stops_df, col=\"PatType\", sharex=False, sharey=False, col_wrap=3)\n",
    "plot = g.map(sns.histplot, \"los_hours\")\n",
    "plot"
   ]
  },
  {
   "cell_type": "code",
   "execution_count": 18,
   "metadata": {},
   "outputs": [
    {
     "data": {
      "text/plain": [
       "seaborn.axisgrid.FacetGrid"
      ]
     },
     "execution_count": 18,
     "metadata": {},
     "output_type": "execute_result"
    }
   ],
   "source": [
    "type(g)"
   ]
  },
  {
   "cell_type": "code",
   "execution_count": null,
   "metadata": {},
   "outputs": [],
   "source": [
    "g = sns.FacetGrid(data=stops_df, col=\"PatType\", sharex=False, col_wrap=3);\n",
    "g.map(sns.histplot, \"los_hours\", stat='density');"
   ]
  },
  {
   "cell_type": "code",
   "execution_count": null,
   "metadata": {},
   "outputs": [],
   "source": [
    "sns.set_style('ticks')\n",
    "g = sns.FacetGrid(data=stops_df, col=\"PatType\", sharex=False, col_wrap=3);\n",
    "g.map(sns.histplot, \"los_hours\", stat='density', common_norm=False);"
   ]
  },
  {
   "cell_type": "code",
   "execution_count": null,
   "metadata": {},
   "outputs": [],
   "source": [
    "g = sns.FacetGrid(data=stops_df, col=\"PatType\", sharex=False, sharey=False, col_wrap=3);\n",
    "g.map(sns.kdeplot, \"los_hours\");"
   ]
  },
  {
   "cell_type": "markdown",
   "metadata": {},
   "source": []
  },
  {
   "cell_type": "code",
   "execution_count": null,
   "metadata": {},
   "outputs": [],
   "source": []
  },
  {
   "cell_type": "code",
   "execution_count": null,
   "metadata": {},
   "outputs": [],
   "source": []
  },
  {
   "cell_type": "code",
   "execution_count": null,
   "metadata": {},
   "outputs": [],
   "source": []
  }
 ],
 "metadata": {
  "kernelspec": {
   "display_name": "Python [conda env:hm_oo]",
   "language": "python",
   "name": "conda-env-hm_oo-py"
  },
  "language_info": {
   "codemirror_mode": {
    "name": "ipython",
    "version": 3
   },
   "file_extension": ".py",
   "mimetype": "text/x-python",
   "name": "python",
   "nbconvert_exporter": "python",
   "pygments_lexer": "ipython3",
   "version": "3.10.12"
  }
 },
 "nbformat": 4,
 "nbformat_minor": 4
}
