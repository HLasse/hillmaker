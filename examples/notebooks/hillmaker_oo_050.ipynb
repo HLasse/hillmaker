{
 "cells": [
  {
   "cell_type": "markdown",
   "metadata": {},
   "source": [
    "# hillmaker - OO design ideas\n",
    "\n",
    "https://github.com/misken/hillmaker/tree/oo"
   ]
  },
  {
   "cell_type": "markdown",
   "metadata": {},
   "source": [
    "Overall application design goals and objectives\n",
    "\n",
    "- should be easy to run a scenario and get all the standard outputs\n",
    "- scenario specific settings should be persistable as something like a json file\n",
    "- should be possible to generate only outputs wanted\n",
    "- should have a CLI\n",
    "- should be importable so that it can be used from notebook or other custom Python scripts\n",
    "- be nice to have a GUI for non-technie users\n",
    "- should be easy to explore multiple scenarios\n",
    "- global and scenario specific settings can be managed through settings files, command line args or function args\n",
    "- current occupancy, arrival and departure stats all still desirable\n",
    "- los summary would be nice\n",
    "- outputs should be in formats that lend themselves to further analysis and reporting such as csvs for the occ stats (bydatetime and summary), standard graphic file formats, perhaps JSON for los summary and occ stats\n",
    "- dataset profiling should be done to identify potential issues with horizon effects, warmup effects, missing data periods, or other anomolies.\n",
    "\n",
    "\n",
    "Should hillmaker be redesigned as an OO based application?\n",
    "\n",
    "- does OO design make for a better analyst experience? For example, does OO make it easier to create and manage a bunch of scenarios in which each is a separate hillmaker run? OO would make it easier to document scenarios through their settings (e.g. as json file).\n",
    "- does OO lead to potential performance gains by making it easier to only run the parts we want to run. For example, maybe we don't want individual day of week plots.\n",
    "- right now hillmaker is an (almost) all or nothing experience with each run standing alone. \n",
    "- OO would likely be better for those using hillmaker programmatically. \n",
    "- no matter what the design, there will always be a CLI.\n",
    "- not sure how OO or not affects GUI dev\n",
    "\n",
    "How should hillmaker be redesigned as an OO based application?"
   ]
  },
  {
   "cell_type": "markdown",
   "metadata": {},
   "source": [
    "## Use case 1 - overall and by patient type summaries\n",
    "\n",
    "Patients flow through a short stay unit for a variety of procedures, tests or therapies. Let's assume patients can be classified into one of five categories of patient types: ART (arterialgram), CAT (post cardiac-cath), MYE (myelogram), IVT (IV therapy), and OTH (other). From one of our hospital information systems we were able to get raw data about the entry and exit times of each patient and exported the data to a csv file. We call each row of such data a *stop* (as in, the patient stopped here for a while). \n",
    "\n",
    "- We want to generate summaries of occupancy as well as arrivals and discharges to go into a summary report for hospital administration. \n",
    "- We want these overall and by patient type. \n",
    "- We also want LOS summaries by patient type. \n",
    "- Volume and occupancy trends over time"
   ]
  },
  {
   "cell_type": "code",
   "execution_count": 1,
   "metadata": {},
   "outputs": [],
   "source": [
    "%load_ext autoreload\n",
    "%autoreload 2"
   ]
  },
  {
   "cell_type": "code",
   "execution_count": 2,
   "metadata": {},
   "outputs": [],
   "source": [
    "from pathlib import Path\n",
    "from pprint import pprint\n",
    "\n",
    "import pandas as pd\n",
    "import numpy as np\n",
    "import matplotlib.pyplot as plt\n",
    "from matplotlib.dates import DateFormatter\n",
    "from IPython.display import Image\n",
    "\n",
    "from datetime import datetime, date\n",
    "from typing import Dict, List, Optional, Tuple, Union"
   ]
  },
  {
   "cell_type": "code",
   "execution_count": 3,
   "metadata": {},
   "outputs": [
    {
     "name": "stdout",
     "output_type": "stream",
     "text": [
      "<class 'pandas.core.frame.DataFrame'>\n",
      "RangeIndex: 59877 entries, 0 to 59876\n",
      "Data columns (total 4 columns):\n",
      " #   Column     Non-Null Count  Dtype         \n",
      "---  ------     --------------  -----         \n",
      " 0   PatID      59877 non-null  int64         \n",
      " 1   InRoomTS   59877 non-null  datetime64[ns]\n",
      " 2   OutRoomTS  59877 non-null  datetime64[ns]\n",
      " 3   PatType    59877 non-null  object        \n",
      "dtypes: datetime64[ns](2), int64(1), object(1)\n",
      "memory usage: 1.8+ MB\n"
     ]
    }
   ],
   "source": [
    "ssu_stopdata = '../data/ShortStay.csv'\n",
    "ssu_stops_df = pd.read_csv(ssu_stopdata, parse_dates=['InRoomTS','OutRoomTS'])\n",
    "ssu_stops_df.info() # Check out the structure of the resulting DataFrame"
   ]
  },
  {
   "cell_type": "code",
   "execution_count": 4,
   "metadata": {},
   "outputs": [
    {
     "data": {
      "text/html": [
       "<div>\n",
       "<style scoped>\n",
       "    .dataframe tbody tr th:only-of-type {\n",
       "        vertical-align: middle;\n",
       "    }\n",
       "\n",
       "    .dataframe tbody tr th {\n",
       "        vertical-align: top;\n",
       "    }\n",
       "\n",
       "    .dataframe thead th {\n",
       "        text-align: right;\n",
       "    }\n",
       "</style>\n",
       "<table border=\"1\" class=\"dataframe\">\n",
       "  <thead>\n",
       "    <tr style=\"text-align: right;\">\n",
       "      <th></th>\n",
       "      <th>PatID</th>\n",
       "      <th>InRoomTS</th>\n",
       "      <th>OutRoomTS</th>\n",
       "      <th>PatType</th>\n",
       "    </tr>\n",
       "  </thead>\n",
       "  <tbody>\n",
       "    <tr>\n",
       "      <th>0</th>\n",
       "      <td>1</td>\n",
       "      <td>1996-01-01 07:44:00</td>\n",
       "      <td>1996-01-01 08:50:00</td>\n",
       "      <td>IVT</td>\n",
       "    </tr>\n",
       "    <tr>\n",
       "      <th>1</th>\n",
       "      <td>2</td>\n",
       "      <td>1996-01-01 08:28:00</td>\n",
       "      <td>1996-01-01 09:20:00</td>\n",
       "      <td>IVT</td>\n",
       "    </tr>\n",
       "    <tr>\n",
       "      <th>2</th>\n",
       "      <td>3</td>\n",
       "      <td>1996-01-01 11:44:00</td>\n",
       "      <td>1996-01-01 13:30:00</td>\n",
       "      <td>MYE</td>\n",
       "    </tr>\n",
       "    <tr>\n",
       "      <th>3</th>\n",
       "      <td>4</td>\n",
       "      <td>1996-01-01 11:51:00</td>\n",
       "      <td>1996-01-01 12:55:00</td>\n",
       "      <td>CAT</td>\n",
       "    </tr>\n",
       "    <tr>\n",
       "      <th>4</th>\n",
       "      <td>5</td>\n",
       "      <td>1996-01-01 12:10:00</td>\n",
       "      <td>1996-01-01 13:00:00</td>\n",
       "      <td>IVT</td>\n",
       "    </tr>\n",
       "  </tbody>\n",
       "</table>\n",
       "</div>"
      ],
      "text/plain": [
       "   PatID            InRoomTS           OutRoomTS PatType\n",
       "0      1 1996-01-01 07:44:00 1996-01-01 08:50:00     IVT\n",
       "1      2 1996-01-01 08:28:00 1996-01-01 09:20:00     IVT\n",
       "2      3 1996-01-01 11:44:00 1996-01-01 13:30:00     MYE\n",
       "3      4 1996-01-01 11:51:00 1996-01-01 12:55:00     CAT\n",
       "4      5 1996-01-01 12:10:00 1996-01-01 13:00:00     IVT"
      ]
     },
     "execution_count": 4,
     "metadata": {},
     "output_type": "execute_result"
    }
   ],
   "source": [
    "ssu_stops_df.head()"
   ]
  },
  {
   "cell_type": "markdown",
   "metadata": {},
   "source": [
    "## An OO version of hillmaker (0.5.0)\n",
    "\n",
    "This is a work in progress and just wanted to share some early ideas. To summarize:\n",
    "\n",
    "- added a `Scenario` class which has methods for running hillmaker (`make_hills()`) and for retrieving plots and dataframes from the results dictionary (`get_plot()`, `get_summary_df()`, and `get_bydatetime_df()`). \n",
    "- the plots and dataframes produced by `make_hills` are stored in a dictionary called `hills` that is an attribute of the `Scenario` class\n",
    "- the methods of the `Scenario` class are just wrappers that call module level functions of the same name that do the actual work. By doing this, I haven't broken the existing hillmaker API - you can still call a `make_hills` function and pass in a bunch of key word arguments and run things. The `make_hills()` function returns a `hills` dictionary and `get_plot` and `get_*_df` functions can be used to extract plots and dataframes from `hills` in a simple way.\n",
    "- the `Scenario` class is actually a `pydantic` model which handles input validation.\n",
    "\n",
    "So, hillmaker can be used in either an objected oriented way or a via standard function calls. It also has (or will have) a CLI. For now, this lets us try it out and see what makes the most sense for future development."
   ]
  },
  {
   "cell_type": "markdown",
   "metadata": {},
   "source": [
    "## Usage example 1 - the OO approach"
   ]
  },
  {
   "cell_type": "code",
   "execution_count": 5,
   "metadata": {},
   "outputs": [],
   "source": [
    "import hillmaker as hm"
   ]
  },
  {
   "cell_type": "markdown",
   "metadata": {},
   "source": [
    "Here are a collection of inputs that we'll use to create a scenario. Notice I purposely set one of the input dates to a string and the other to a `Timestamp` just to show that the `pydantic` model can handle the automatic transformation for us to a `datetime`."
   ]
  },
  {
   "cell_type": "code",
   "execution_count": 6,
   "metadata": {},
   "outputs": [],
   "source": [
    "# Required inputs\n",
    "scenario_name = 'ss_example_1'\n",
    "stops_df = ssu_stops_df\n",
    "in_field_name = 'InRoomTS'\n",
    "out_field_name = 'OutRoomTS'\n",
    "start_date = '1996-01-01'\n",
    "end_date = pd.Timestamp('9/30/1996')\n",
    "\n",
    "# Optional inputs\n",
    "\n",
    "cat_field_name = 'PatType'\n",
    "verbosity = 1 # INFO level logging\n",
    "output_path = './output'\n",
    "bin_size_minutes = 60"
   ]
  },
  {
   "cell_type": "markdown",
   "metadata": {},
   "source": [
    "I created a `Scenario` class that is a Pydantic model. It handles a bunch of type constraints, validation, and default values. What does the `Scenario` class look like?"
   ]
  },
  {
   "cell_type": "code",
   "execution_count": 7,
   "metadata": {
    "tags": []
   },
   "outputs": [
    {
     "data": {
      "text/plain": [
       "\u001b[0;31mInit signature:\u001b[0m\n",
       "\u001b[0mhm\u001b[0m\u001b[0;34m.\u001b[0m\u001b[0mScenario\u001b[0m\u001b[0;34m(\u001b[0m\u001b[0;34m\u001b[0m\n",
       "\u001b[0;34m\u001b[0m    \u001b[0;34m*\u001b[0m\u001b[0;34m,\u001b[0m\u001b[0;34m\u001b[0m\n",
       "\u001b[0;34m\u001b[0m    \u001b[0mscenario_name\u001b[0m\u001b[0;34m:\u001b[0m \u001b[0mstr\u001b[0m\u001b[0;34m,\u001b[0m\u001b[0;34m\u001b[0m\n",
       "\u001b[0;34m\u001b[0m    \u001b[0mstops_df\u001b[0m\u001b[0;34m:\u001b[0m \u001b[0mpandas\u001b[0m\u001b[0;34m.\u001b[0m\u001b[0mcore\u001b[0m\u001b[0;34m.\u001b[0m\u001b[0mframe\u001b[0m\u001b[0;34m.\u001b[0m\u001b[0mDataFrame\u001b[0m\u001b[0;34m,\u001b[0m\u001b[0;34m\u001b[0m\n",
       "\u001b[0;34m\u001b[0m    \u001b[0min_field\u001b[0m\u001b[0;34m:\u001b[0m \u001b[0mstr\u001b[0m\u001b[0;34m,\u001b[0m\u001b[0;34m\u001b[0m\n",
       "\u001b[0;34m\u001b[0m    \u001b[0mout_field\u001b[0m\u001b[0;34m:\u001b[0m \u001b[0mstr\u001b[0m\u001b[0;34m,\u001b[0m\u001b[0;34m\u001b[0m\n",
       "\u001b[0;34m\u001b[0m    \u001b[0mstart_analysis_dt\u001b[0m\u001b[0;34m:\u001b[0m \u001b[0mdatetime\u001b[0m\u001b[0;34m.\u001b[0m\u001b[0mdate\u001b[0m \u001b[0;34m|\u001b[0m \u001b[0mdatetime\u001b[0m\u001b[0;34m.\u001b[0m\u001b[0mdatetime\u001b[0m \u001b[0;34m|\u001b[0m \u001b[0mpandas\u001b[0m\u001b[0;34m.\u001b[0m\u001b[0m_libs\u001b[0m\u001b[0;34m.\u001b[0m\u001b[0mtslibs\u001b[0m\u001b[0;34m.\u001b[0m\u001b[0mtimestamps\u001b[0m\u001b[0;34m.\u001b[0m\u001b[0mTimestamp\u001b[0m \u001b[0;34m|\u001b[0m \u001b[0mnumpy\u001b[0m\u001b[0;34m.\u001b[0m\u001b[0mdatetime64\u001b[0m\u001b[0;34m,\u001b[0m\u001b[0;34m\u001b[0m\n",
       "\u001b[0;34m\u001b[0m    \u001b[0mend_analysis_dt\u001b[0m\u001b[0;34m:\u001b[0m \u001b[0mdatetime\u001b[0m\u001b[0;34m.\u001b[0m\u001b[0mdate\u001b[0m \u001b[0;34m|\u001b[0m \u001b[0mdatetime\u001b[0m\u001b[0;34m.\u001b[0m\u001b[0mdatetime\u001b[0m \u001b[0;34m|\u001b[0m \u001b[0mpandas\u001b[0m\u001b[0;34m.\u001b[0m\u001b[0m_libs\u001b[0m\u001b[0;34m.\u001b[0m\u001b[0mtslibs\u001b[0m\u001b[0;34m.\u001b[0m\u001b[0mtimestamps\u001b[0m\u001b[0;34m.\u001b[0m\u001b[0mTimestamp\u001b[0m \u001b[0;34m|\u001b[0m \u001b[0mnumpy\u001b[0m\u001b[0;34m.\u001b[0m\u001b[0mdatetime64\u001b[0m\u001b[0;34m,\u001b[0m\u001b[0;34m\u001b[0m\n",
       "\u001b[0;34m\u001b[0m    \u001b[0mcat_field\u001b[0m\u001b[0;34m:\u001b[0m \u001b[0mstr\u001b[0m \u001b[0;34m|\u001b[0m \u001b[0;32mNone\u001b[0m \u001b[0;34m=\u001b[0m \u001b[0;32mNone\u001b[0m\u001b[0;34m,\u001b[0m\u001b[0;34m\u001b[0m\n",
       "\u001b[0;34m\u001b[0m    \u001b[0mbin_size_minutes\u001b[0m\u001b[0;34m:\u001b[0m \u001b[0mint\u001b[0m \u001b[0;34m=\u001b[0m \u001b[0;36m60\u001b[0m\u001b[0;34m,\u001b[0m\u001b[0;34m\u001b[0m\n",
       "\u001b[0;34m\u001b[0m    \u001b[0mcats_to_exclude\u001b[0m\u001b[0;34m:\u001b[0m \u001b[0mOptional\u001b[0m\u001b[0;34m[\u001b[0m\u001b[0mList\u001b[0m\u001b[0;34m[\u001b[0m\u001b[0mstr\u001b[0m\u001b[0;34m]\u001b[0m\u001b[0;34m]\u001b[0m \u001b[0;34m=\u001b[0m \u001b[0;32mNone\u001b[0m\u001b[0;34m,\u001b[0m\u001b[0;34m\u001b[0m\n",
       "\u001b[0;34m\u001b[0m    \u001b[0mocc_weight_field\u001b[0m\u001b[0;34m:\u001b[0m \u001b[0mstr\u001b[0m \u001b[0;34m|\u001b[0m \u001b[0;32mNone\u001b[0m \u001b[0;34m=\u001b[0m \u001b[0;32mNone\u001b[0m\u001b[0;34m,\u001b[0m\u001b[0;34m\u001b[0m\n",
       "\u001b[0;34m\u001b[0m    \u001b[0mpercentiles\u001b[0m\u001b[0;34m:\u001b[0m \u001b[0mUnion\u001b[0m\u001b[0;34m[\u001b[0m\u001b[0mTuple\u001b[0m\u001b[0;34m[\u001b[0m\u001b[0mAnnotated\u001b[0m\u001b[0;34m[\u001b[0m\u001b[0mfloat\u001b[0m\u001b[0;34m,\u001b[0m \u001b[0;32mNone\u001b[0m\u001b[0;34m,\u001b[0m \u001b[0mInterval\u001b[0m\u001b[0;34m(\u001b[0m\u001b[0mgt\u001b[0m\u001b[0;34m=\u001b[0m\u001b[0;32mNone\u001b[0m\u001b[0;34m,\u001b[0m \u001b[0mge\u001b[0m\u001b[0;34m=\u001b[0m\u001b[0;36m0.0\u001b[0m\u001b[0;34m,\u001b[0m \u001b[0mlt\u001b[0m\u001b[0;34m=\u001b[0m\u001b[0;32mNone\u001b[0m\u001b[0;34m,\u001b[0m \u001b[0mle\u001b[0m\u001b[0;34m=\u001b[0m\u001b[0;36m1.0\u001b[0m\u001b[0;34m)\u001b[0m\u001b[0;34m,\u001b[0m \u001b[0;32mNone\u001b[0m\u001b[0;34m,\u001b[0m \u001b[0;32mNone\u001b[0m\u001b[0;34m]\u001b[0m\u001b[0;34m]\u001b[0m\u001b[0;34m,\u001b[0m \u001b[0mList\u001b[0m\u001b[0;34m[\u001b[0m\u001b[0mAnnotated\u001b[0m\u001b[0;34m[\u001b[0m\u001b[0mfloat\u001b[0m\u001b[0;34m,\u001b[0m \u001b[0;32mNone\u001b[0m\u001b[0;34m,\u001b[0m \u001b[0mInterval\u001b[0m\u001b[0;34m(\u001b[0m\u001b[0mgt\u001b[0m\u001b[0;34m=\u001b[0m\u001b[0;32mNone\u001b[0m\u001b[0;34m,\u001b[0m \u001b[0mge\u001b[0m\u001b[0;34m=\u001b[0m\u001b[0;36m0.0\u001b[0m\u001b[0;34m,\u001b[0m \u001b[0mlt\u001b[0m\u001b[0;34m=\u001b[0m\u001b[0;32mNone\u001b[0m\u001b[0;34m,\u001b[0m \u001b[0mle\u001b[0m\u001b[0;34m=\u001b[0m\u001b[0;36m1.0\u001b[0m\u001b[0;34m)\u001b[0m\u001b[0;34m,\u001b[0m \u001b[0;32mNone\u001b[0m\u001b[0;34m,\u001b[0m \u001b[0;32mNone\u001b[0m\u001b[0;34m]\u001b[0m\u001b[0;34m]\u001b[0m\u001b[0;34m]\u001b[0m \u001b[0;34m=\u001b[0m \u001b[0;34m(\u001b[0m\u001b[0;36m0.25\u001b[0m\u001b[0;34m,\u001b[0m \u001b[0;36m0.5\u001b[0m\u001b[0;34m,\u001b[0m \u001b[0;36m0.75\u001b[0m\u001b[0;34m,\u001b[0m \u001b[0;36m0.95\u001b[0m\u001b[0;34m,\u001b[0m \u001b[0;36m0.99\u001b[0m\u001b[0;34m)\u001b[0m\u001b[0;34m,\u001b[0m\u001b[0;34m\u001b[0m\n",
       "\u001b[0;34m\u001b[0m    \u001b[0mnonstationary_stats\u001b[0m\u001b[0;34m:\u001b[0m \u001b[0mbool\u001b[0m \u001b[0;34m=\u001b[0m \u001b[0;32mTrue\u001b[0m\u001b[0;34m,\u001b[0m\u001b[0;34m\u001b[0m\n",
       "\u001b[0;34m\u001b[0m    \u001b[0mstationary_stats\u001b[0m\u001b[0;34m:\u001b[0m \u001b[0mbool\u001b[0m \u001b[0;34m=\u001b[0m \u001b[0;32mTrue\u001b[0m\u001b[0;34m,\u001b[0m\u001b[0;34m\u001b[0m\n",
       "\u001b[0;34m\u001b[0m    \u001b[0medge_bins\u001b[0m\u001b[0;34m:\u001b[0m \u001b[0mhillmaker\u001b[0m\u001b[0;34m.\u001b[0m\u001b[0mscenario\u001b[0m\u001b[0;34m.\u001b[0m\u001b[0mEdgeBinsEnum\u001b[0m \u001b[0;34m=\u001b[0m \u001b[0;34m<\u001b[0m\u001b[0mEdgeBinsEnum\u001b[0m\u001b[0;34m.\u001b[0m\u001b[0mFRACTIONAL\u001b[0m\u001b[0;34m:\u001b[0m \u001b[0;36m1\u001b[0m\u001b[0;34m>\u001b[0m\u001b[0;34m,\u001b[0m\u001b[0;34m\u001b[0m\n",
       "\u001b[0;34m\u001b[0m    \u001b[0moutput_path\u001b[0m\u001b[0;34m:\u001b[0m \u001b[0mstr\u001b[0m \u001b[0;34m|\u001b[0m \u001b[0mpathlib\u001b[0m\u001b[0;34m.\u001b[0m\u001b[0mPath\u001b[0m \u001b[0;34m=\u001b[0m \u001b[0mPosixPath\u001b[0m\u001b[0;34m(\u001b[0m\u001b[0;34m'.'\u001b[0m\u001b[0;34m)\u001b[0m\u001b[0;34m,\u001b[0m\u001b[0;34m\u001b[0m\n",
       "\u001b[0;34m\u001b[0m    \u001b[0mexport_bydatetime_csv\u001b[0m\u001b[0;34m:\u001b[0m \u001b[0mbool\u001b[0m \u001b[0;34m=\u001b[0m \u001b[0;32mFalse\u001b[0m\u001b[0;34m,\u001b[0m\u001b[0;34m\u001b[0m\n",
       "\u001b[0;34m\u001b[0m    \u001b[0mexport_summaries_csv\u001b[0m\u001b[0;34m:\u001b[0m \u001b[0mbool\u001b[0m \u001b[0;34m=\u001b[0m \u001b[0;32mFalse\u001b[0m\u001b[0;34m,\u001b[0m\u001b[0;34m\u001b[0m\n",
       "\u001b[0;34m\u001b[0m    \u001b[0mmake_all_dow_plots\u001b[0m\u001b[0;34m:\u001b[0m \u001b[0mbool\u001b[0m \u001b[0;34m=\u001b[0m \u001b[0;32mTrue\u001b[0m\u001b[0;34m,\u001b[0m\u001b[0;34m\u001b[0m\n",
       "\u001b[0;34m\u001b[0m    \u001b[0mmake_all_week_plots\u001b[0m\u001b[0;34m:\u001b[0m \u001b[0mbool\u001b[0m \u001b[0;34m=\u001b[0m \u001b[0;32mTrue\u001b[0m\u001b[0;34m,\u001b[0m\u001b[0;34m\u001b[0m\n",
       "\u001b[0;34m\u001b[0m    \u001b[0mexport_all_dow_plots\u001b[0m\u001b[0;34m:\u001b[0m \u001b[0mbool\u001b[0m \u001b[0;34m=\u001b[0m \u001b[0;32mFalse\u001b[0m\u001b[0;34m,\u001b[0m\u001b[0;34m\u001b[0m\n",
       "\u001b[0;34m\u001b[0m    \u001b[0mexport_all_week_plots\u001b[0m\u001b[0;34m:\u001b[0m \u001b[0mbool\u001b[0m \u001b[0;34m=\u001b[0m \u001b[0;32mFalse\u001b[0m\u001b[0;34m,\u001b[0m\u001b[0;34m\u001b[0m\n",
       "\u001b[0;34m\u001b[0m    \u001b[0mcap\u001b[0m\u001b[0;34m:\u001b[0m \u001b[0mint\u001b[0m \u001b[0;34m|\u001b[0m \u001b[0;32mNone\u001b[0m \u001b[0;34m=\u001b[0m \u001b[0;32mNone\u001b[0m\u001b[0;34m,\u001b[0m\u001b[0;34m\u001b[0m\n",
       "\u001b[0;34m\u001b[0m    \u001b[0mxlabel\u001b[0m\u001b[0;34m:\u001b[0m \u001b[0mstr\u001b[0m \u001b[0;34m|\u001b[0m \u001b[0;32mNone\u001b[0m \u001b[0;34m=\u001b[0m \u001b[0;34m'Hour'\u001b[0m\u001b[0;34m,\u001b[0m\u001b[0;34m\u001b[0m\n",
       "\u001b[0;34m\u001b[0m    \u001b[0mylabel\u001b[0m\u001b[0;34m:\u001b[0m \u001b[0mstr\u001b[0m \u001b[0;34m|\u001b[0m \u001b[0;32mNone\u001b[0m \u001b[0;34m=\u001b[0m \u001b[0;34m'Patients'\u001b[0m\u001b[0;34m,\u001b[0m\u001b[0;34m\u001b[0m\n",
       "\u001b[0;34m\u001b[0m    \u001b[0mverbosity\u001b[0m\u001b[0;34m:\u001b[0m \u001b[0mint\u001b[0m \u001b[0;34m=\u001b[0m \u001b[0;34m<\u001b[0m\u001b[0mVerbosityEnum\u001b[0m\u001b[0;34m.\u001b[0m\u001b[0mWARNING\u001b[0m\u001b[0;34m:\u001b[0m \u001b[0;36m0\u001b[0m\u001b[0;34m>\u001b[0m\u001b[0;34m,\u001b[0m\u001b[0;34m\u001b[0m\n",
       "\u001b[0;34m\u001b[0m    \u001b[0mstops_preprocessed_df\u001b[0m\u001b[0;34m:\u001b[0m \u001b[0mpandas\u001b[0m\u001b[0;34m.\u001b[0m\u001b[0mcore\u001b[0m\u001b[0;34m.\u001b[0m\u001b[0mframe\u001b[0m\u001b[0;34m.\u001b[0m\u001b[0mDataFrame\u001b[0m \u001b[0;34m|\u001b[0m \u001b[0;32mNone\u001b[0m \u001b[0;34m=\u001b[0m \u001b[0;32mNone\u001b[0m\u001b[0;34m,\u001b[0m\u001b[0;34m\u001b[0m\n",
       "\u001b[0;34m\u001b[0m    \u001b[0mhills\u001b[0m\u001b[0;34m:\u001b[0m \u001b[0mdict\u001b[0m \u001b[0;34m|\u001b[0m \u001b[0;32mNone\u001b[0m \u001b[0;34m=\u001b[0m \u001b[0;32mNone\u001b[0m\u001b[0;34m,\u001b[0m\u001b[0;34m\u001b[0m\n",
       "\u001b[0;34m\u001b[0m\u001b[0;34m)\u001b[0m \u001b[0;34m->\u001b[0m \u001b[0;32mNone\u001b[0m\u001b[0;34m\u001b[0m\u001b[0;34m\u001b[0m\u001b[0m\n",
       "\u001b[0;31mDocstring:\u001b[0m     \n",
       "pydantic model for creating scenario objects from input parameters\n",
       "\n",
       "Parameters\n",
       "----------\n",
       "scenario_name : str\n",
       "    Used in output filenames\n",
       "stops_df : DataFrame\n",
       "    Base data containing one row per visit\n",
       "in_field : str\n",
       "    Column name corresponding to the arrival times\n",
       "out_field : str\n",
       "    Column name corresponding to the departure times\n",
       "start_analysis_dt : datetime-like, str\n",
       "    Starting datetime for the analysis (must be convertible to pandas Timestamp)\n",
       "end_analysis_dt : datetime-like, str\n",
       "    Ending datetime for the analysis (must be convertible to pandas Timestamp)\n",
       "cat_field : str, optional\n",
       "    Column name corresponding to the categories. If none is specified, then only overall occupancy is summarized.\n",
       "    Default is None\n",
       "bin_size_minutes : int, optional\n",
       "    Number of minutes in each time bin of the day, default is 60. Use a value that\n",
       "    divides into 1440 with no remainder\n",
       "cats_to_exclude : list, optional\n",
       "    Category values to ignore, default is None\n",
       "occ_weight_field : str, optional\n",
       "    Column name corresponding to the weights to use for occupancy incrementing, default is None\n",
       "    which corresponds to a weight of 1.0.\n",
       "edge_bins: int, default 1\n",
       "    Occupancy contribution method for arrival and departure bins. 1=fractional, 2=entire bin\n",
       "percentiles : list or tuple of floats (e.g. [0.5, 0.75, 0.95]), optional\n",
       "    Which percentiles to compute. Default is (0.25, 0.5, 0.75, 0.95, 0.99)\n",
       "cap : int, optional\n",
       "    Capacity of area being analyzed, default is None. Used only to add capacity line to occupancy plots.\n",
       "nonstationary_stats : bool, optional\n",
       "   If True, datetime bin stats are computed. Else, they aren't computed. Default is True\n",
       "stationary_stats : bool, optional\n",
       "   If True, overall, non-time bin dependent, stats are computed. Else, they aren't computed. Default is True\n",
       "export_bydatetime_csv : bool, optional\n",
       "   If True, bydatetime DataFrames are exported to csv files. Default is False.\n",
       "export_summaries_csv : bool, optional\n",
       "   If True, summary DataFrames are exported to csv files. Default is False.\n",
       "make_all_dow_plots : bool, optional\n",
       "   If True, day of week plots are created for occupancy, arrival, and departure. Default is True.\n",
       "make_all_week_plots : bool, optional\n",
       "   If True, full week plots are created for occupancy, arrival, and departure. Default is True.\n",
       "export_all_dow_plots : bool, optional\n",
       "   If True, day of week plots are exported for occupancy, arrival, and departure. Default is False.\n",
       "export_all_week_plots : bool, optional\n",
       "   If True, full week plots are exported for occupancy, arrival, and departure. Default is False.\n",
       "xlabel : str\n",
       "    x-axis label, default='Hour'\n",
       "ylabel : str\n",
       "    y-axis label, default='Occupancy'\n",
       "output_path : str or Path, optional\n",
       "    Destination path for exported csv and png files, default is current directory\n",
       "verbosity : int, optional\n",
       "    Used to set level in loggers. 0=logging.WARNING (default=0), 1=logging.INFO, 2=logging.DEBUG\n",
       "\n",
       "Attributes\n",
       "----------\n",
       "stops_preprocessed_df : DataFrame (initialized to None)\n",
       "    Preprocessed dataframe that only contains necessary fields and does not include records with missing\n",
       "        timestamps for the entry and/or exit time. This `DataFrame` is the one used for hill making.\n",
       "\n",
       "hills : dict (initialized to None)\n",
       "    Stores results of `make_hills`.\n",
       "\u001b[0;31mInit docstring:\u001b[0m\n",
       "Create a new model by parsing and validating input data from keyword arguments.\n",
       "\n",
       "Raises [`ValidationError`][pydantic_core.ValidationError] if the input data cannot be\n",
       "validated to form a valid model.\n",
       "\n",
       "`__init__` uses `__pydantic_self__` instead of the more common `self` for the first arg to\n",
       "allow `self` as a field name.\n",
       "\u001b[0;31mFile:\u001b[0m           ~/Documents/projects/hillmaker/src/hillmaker/scenario.py\n",
       "\u001b[0;31mType:\u001b[0m           ModelMetaclass\n",
       "\u001b[0;31mSubclasses:\u001b[0m     "
      ]
     },
     "metadata": {},
     "output_type": "display_data"
    }
   ],
   "source": [
    "hm.Scenario?"
   ]
  },
  {
   "cell_type": "markdown",
   "metadata": {},
   "source": [
    "We can create scenarios a few different ways.\n",
    "\n",
    "- instantiate an instance of `Scenario` by passing in keyword args\n",
    "- if the args are in a dict, can use dictionary unpacking to do the same\n",
    "- there's a `create_scenario` function in the `utils` module that can take any of a dict, a TOML path or keyword args and returns a `Scenario` object (precedence is in the reverse order - kwargs get the final say)"
   ]
  },
  {
   "cell_type": "markdown",
   "metadata": {},
   "source": [
    "### Create a new scenario with keyword arguments\n",
    "\n",
    "You can create an instance of `Scenario` by passing in keyword arguments."
   ]
  },
  {
   "cell_type": "code",
   "execution_count": 8,
   "metadata": {},
   "outputs": [],
   "source": [
    "scenario_1 = hm.Scenario(scenario_name=scenario_name, \n",
    "                         stops_df=stops_df,\n",
    "                         in_field=in_field_name,\n",
    "                         out_field=out_field_name,\n",
    "                         start_analysis_dt=start_date,\n",
    "                         end_analysis_dt=end_date,\n",
    "                         cat_field=cat_field_name,\n",
    "                         output_path=Path('./output'),\n",
    "                         verbosity=verbosity)"
   ]
  },
  {
   "cell_type": "code",
   "execution_count": 9,
   "metadata": {
    "tags": []
   },
   "outputs": [
    {
     "name": "stdout",
     "output_type": "stream",
     "text": [
      "{'bin_size_minutes': 60,\n",
      " 'cap': None,\n",
      " 'cat_field': 'PatType',\n",
      " 'cats_to_exclude': None,\n",
      " 'edge_bins': <EdgeBinsEnum.FRACTIONAL: 1>,\n",
      " 'end_analysis_dt': numpy.datetime64('1996-09-30T00:00:00.000000000'),\n",
      " 'export_all_dow_plots': False,\n",
      " 'export_all_week_plots': False,\n",
      " 'export_bydatetime_csv': False,\n",
      " 'export_summaries_csv': False,\n",
      " 'hills': None,\n",
      " 'in_field': 'InRoomTS',\n",
      " 'make_all_dow_plots': True,\n",
      " 'make_all_week_plots': True,\n",
      " 'nonstationary_stats': True,\n",
      " 'occ_weight_field': None,\n",
      " 'out_field': 'OutRoomTS',\n",
      " 'output_path': PosixPath('output'),\n",
      " 'percentiles': (0.25, 0.5, 0.75, 0.95, 0.99),\n",
      " 'scenario_name': 'ss_example_1',\n",
      " 'start_analysis_dt': numpy.datetime64('1996-01-01T00:00:00.000000000'),\n",
      " 'stationary_stats': True,\n",
      " 'stops_df':        PatID            InRoomTS           OutRoomTS PatType\n",
      "0          1 1996-01-01 07:44:00 1996-01-01 08:50:00     IVT\n",
      "1          2 1996-01-01 08:28:00 1996-01-01 09:20:00     IVT\n",
      "2          3 1996-01-01 11:44:00 1996-01-01 13:30:00     MYE\n",
      "3          4 1996-01-01 11:51:00 1996-01-01 12:55:00     CAT\n",
      "4          5 1996-01-01 12:10:00 1996-01-01 13:00:00     IVT\n",
      "...      ...                 ...                 ...     ...\n",
      "59872  59873 1996-09-30 19:31:00 1996-09-30 20:15:00     IVT\n",
      "59873  59874 1996-09-30 20:23:00 1996-09-30 21:30:00     IVT\n",
      "59874  59875 1996-09-30 21:00:00 1996-09-30 22:45:00     CAT\n",
      "59875  59876 1996-09-30 21:57:00 1996-09-30 22:40:00     IVT\n",
      "59876  59877 1996-09-30 22:45:00 1996-09-30 23:35:00     CAT\n",
      "\n",
      "[59877 rows x 4 columns],\n",
      " 'stops_preprocessed_df':                  InRoomTS           OutRoomTS PatType\n",
      "0     1996-01-01 07:44:00 1996-01-01 08:50:00     IVT\n",
      "1     1996-01-01 08:28:00 1996-01-01 09:20:00     IVT\n",
      "2     1996-01-01 11:44:00 1996-01-01 13:30:00     MYE\n",
      "3     1996-01-01 11:51:00 1996-01-01 12:55:00     CAT\n",
      "4     1996-01-01 12:10:00 1996-01-01 13:00:00     IVT\n",
      "...                   ...                 ...     ...\n",
      "59587 1996-09-29 16:47:00 1996-09-29 17:30:00     IVT\n",
      "59588 1996-09-29 16:56:00 1996-09-29 17:40:00     CAT\n",
      "59589 1996-09-29 17:52:00 1996-09-29 18:40:00     IVT\n",
      "59590 1996-09-29 18:16:00 1996-09-29 18:30:00     CAT\n",
      "59591 1996-09-29 19:51:00 1996-09-29 20:15:00     CAT\n",
      "\n",
      "[59592 rows x 3 columns],\n",
      " 'verbosity': 1,\n",
      " 'xlabel': 'Hour',\n",
      " 'ylabel': 'Patients'}\n"
     ]
    }
   ],
   "source": [
    "pprint(scenario_1.model_dump())"
   ]
  },
  {
   "cell_type": "markdown",
   "metadata": {},
   "source": [
    "You can use pydantic's `model_dump` function to create dictionary from a pydantic model. I'll do that and make a few changes and create a new scenario from the modified dict using dictionary unpacking to pass in the keyword arguments to `Scenario`."
   ]
  },
  {
   "cell_type": "code",
   "execution_count": 10,
   "metadata": {},
   "outputs": [
    {
     "name": "stdout",
     "output_type": "stream",
     "text": [
      "Scenario(scenario_name='ss_example_2', stops_df=       PatID            InRoomTS           OutRoomTS PatType\n",
      "0          1 1996-01-01 07:44:00 1996-01-01 08:50:00     IVT\n",
      "1          2 1996-01-01 08:28:00 1996-01-01 09:20:00     IVT\n",
      "2          3 1996-01-01 11:44:00 1996-01-01 13:30:00     MYE\n",
      "3          4 1996-01-01 11:51:00 1996-01-01 12:55:00     CAT\n",
      "4          5 1996-01-01 12:10:00 1996-01-01 13:00:00     IVT\n",
      "...      ...                 ...                 ...     ...\n",
      "59872  59873 1996-09-30 19:31:00 1996-09-30 20:15:00     IVT\n",
      "59873  59874 1996-09-30 20:23:00 1996-09-30 21:30:00     IVT\n",
      "59874  59875 1996-09-30 21:00:00 1996-09-30 22:45:00     CAT\n",
      "59875  59876 1996-09-30 21:57:00 1996-09-30 22:40:00     IVT\n",
      "59876  59877 1996-09-30 22:45:00 1996-09-30 23:35:00     CAT\n",
      "\n",
      "[59877 rows x 4 columns], in_field='InRoomTS', out_field='OutRoomTS', start_analysis_dt=numpy.datetime64('1996-01-01T00:00:00.000000000'), end_analysis_dt=numpy.datetime64('1996-09-30T00:00:00.000000000'), cat_field='PatType', bin_size_minutes=30, cats_to_exclude=None, occ_weight_field=None, percentiles=[0.25, 0.5, 0.75, 0.95, 0.99], nonstationary_stats=True, stationary_stats=True, edge_bins=<EdgeBinsEnum.FRACTIONAL: 1>, output_path=PosixPath('output'), export_bydatetime_csv=False, export_summaries_csv=False, make_all_dow_plots=True, make_all_week_plots=True, export_all_dow_plots=False, export_all_week_plots=False, cap=None, xlabel='Hour', ylabel='Patients', verbosity=1, stops_preprocessed_df=                 InRoomTS           OutRoomTS PatType\n",
      "0     1996-01-01 07:44:00 1996-01-01 08:50:00     IVT\n",
      "1     1996-01-01 08:28:00 1996-01-01 09:20:00     IVT\n",
      "2     1996-01-01 11:44:00 1996-01-01 13:30:00     MYE\n",
      "3     1996-01-01 11:51:00 1996-01-01 12:55:00     CAT\n",
      "4     1996-01-01 12:10:00 1996-01-01 13:00:00     IVT\n",
      "...                   ...                 ...     ...\n",
      "59587 1996-09-29 16:47:00 1996-09-29 17:30:00     IVT\n",
      "59588 1996-09-29 16:56:00 1996-09-29 17:40:00     CAT\n",
      "59589 1996-09-29 17:52:00 1996-09-29 18:40:00     IVT\n",
      "59590 1996-09-29 18:16:00 1996-09-29 18:30:00     CAT\n",
      "59591 1996-09-29 19:51:00 1996-09-29 20:15:00     CAT\n",
      "\n",
      "[59592 rows x 3 columns], hills=None)\n"
     ]
    }
   ],
   "source": [
    "# Dump pydantic model to dict (could wrap this with a to_dict() method\n",
    "scenario_2_dict = scenario_1.model_dump()\n",
    "\n",
    "# Make some changes\n",
    "scenario_2_dict['scenario_name'] = 'ss_example_2'\n",
    "scenario_2_dict['bin_size_minutes'] = 30\n",
    "\n",
    "# Make a new scenario using dictionary unpacking\n",
    "scenario_2 = hm.Scenario(**scenario_2_dict)\n",
    "\n",
    "pprint(scenario_2)"
   ]
  },
  {
   "cell_type": "markdown",
   "metadata": {},
   "source": [
    "Since the scenario objects are really just a Python class, attributes can be get and set in the usual way."
   ]
  },
  {
   "cell_type": "markdown",
   "metadata": {},
   "source": [
    "### Create a new scenario with a TOML config file\n",
    "\n",
    "To use a TOML configuration file to create a scenario, we can use the `create_scenario` function in the `utils` module.\n",
    "Notice here that instead of specifying a pandas `DataFrame`, we are specifiying a path to a csv file which will be read to create the stops `DataFrame`. It would be also possible to allow a string corresponding to the name of an existing `DataFrame` to be specified - we could use the `globals()[<string_name_of_dataframe>]` construct to access the actual object.\n",
    "\n",
    "Here's an example config file:\n",
    "\n",
    "```\n",
    "[scenario_data]\n",
    "scenario_name = \"ss_example_3\"\n",
    "stop_data_csv = \"../data/ShortStay.csv\"\n",
    "\n",
    "[fields]\n",
    "in_field = \"InRoomTS\"\n",
    "out_field = \"OutRoomTS\"\n",
    "# Just remove the following line if no category field\n",
    "cat_field = \"PatType\"\n",
    "\n",
    "[analysis_dates]\n",
    "start_analysis_dt = 1996-01-01\n",
    "end_analysis_dt = 1996-09-30\n",
    "\n",
    "[settings]\n",
    "bin_size_minutes = 60\n",
    "verbosity = 1\n",
    "output_path = \"./output\"\n",
    "\n",
    "# Add any additional arguments here\n",
    "# Strings should be surrounded in double quotes\n",
    "# Floats and ints are specified in the normal way as values\n",
    "# Dates are specified as shown above\n",
    "\n",
    "# For arguments that take lists, the entries look\n",
    "# just like Python lists and following the other rules above\n",
    "\n",
    "# cats_to_exclude = [\"IVT\", \"OTH\"]\n",
    "# percentiles = [0.5, 0.8, 0.9]\n",
    "```"
   ]
  },
  {
   "cell_type": "code",
   "execution_count": 12,
   "metadata": {},
   "outputs": [
    {
     "name": "stdout",
     "output_type": "stream",
     "text": [
      "{'scenario_name': 'ss_example_3', 'stops_df':        PatID            InRoomTS           OutRoomTS PatType\n",
      "0          1 1996-01-01 07:44:00 1996-01-01 08:50:00     IVT\n",
      "1          2 1996-01-01 08:28:00 1996-01-01 09:20:00     IVT\n",
      "2          3 1996-01-01 11:44:00 1996-01-01 13:30:00     MYE\n",
      "3          4 1996-01-01 11:51:00 1996-01-01 12:55:00     CAT\n",
      "4          5 1996-01-01 12:10:00 1996-01-01 13:00:00     IVT\n",
      "...      ...                 ...                 ...     ...\n",
      "59872  59873 1996-09-30 19:31:00 1996-09-30 20:15:00     IVT\n",
      "59873  59874 1996-09-30 20:23:00 1996-09-30 21:30:00     IVT\n",
      "59874  59875 1996-09-30 21:00:00 1996-09-30 22:45:00     CAT\n",
      "59875  59876 1996-09-30 21:57:00 1996-09-30 22:40:00     IVT\n",
      "59876  59877 1996-09-30 22:45:00 1996-09-30 23:35:00     CAT\n",
      "\n",
      "[59877 rows x 4 columns], 'in_field': 'InRoomTS', 'out_field': 'OutRoomTS', 'start_analysis_dt': numpy.datetime64('1996-01-01T00:00:00.000000000'), 'end_analysis_dt': numpy.datetime64('1996-09-30T00:00:00.000000000'), 'cat_field': 'PatType', 'bin_size_minutes': 60, 'cats_to_exclude': None, 'occ_weight_field': None, 'percentiles': (0.25, 0.5, 0.75, 0.95, 0.99), 'nonstationary_stats': True, 'stationary_stats': True, 'edge_bins': <EdgeBinsEnum.FRACTIONAL: 1>, 'output_path': './output', 'export_bydatetime_csv': False, 'export_summaries_csv': False, 'make_all_dow_plots': True, 'make_all_week_plots': True, 'export_all_dow_plots': False, 'export_all_week_plots': False, 'cap': None, 'xlabel': 'Hour', 'ylabel': 'Patients', 'verbosity': 1, 'stops_preprocessed_df':                  InRoomTS           OutRoomTS PatType\n",
      "0     1996-01-01 07:44:00 1996-01-01 08:50:00     IVT\n",
      "1     1996-01-01 08:28:00 1996-01-01 09:20:00     IVT\n",
      "2     1996-01-01 11:44:00 1996-01-01 13:30:00     MYE\n",
      "3     1996-01-01 11:51:00 1996-01-01 12:55:00     CAT\n",
      "4     1996-01-01 12:10:00 1996-01-01 13:00:00     IVT\n",
      "...                   ...                 ...     ...\n",
      "59587 1996-09-29 16:47:00 1996-09-29 17:30:00     IVT\n",
      "59588 1996-09-29 16:56:00 1996-09-29 17:40:00     CAT\n",
      "59589 1996-09-29 17:52:00 1996-09-29 18:40:00     IVT\n",
      "59590 1996-09-29 18:16:00 1996-09-29 18:30:00     CAT\n",
      "59591 1996-09-29 19:51:00 1996-09-29 20:15:00     CAT\n",
      "\n",
      "[59592 rows x 3 columns], 'hills': None}\n"
     ]
    }
   ],
   "source": [
    "config_file = Path('ssu_example_3.toml')\n",
    "scenario_3 = hm.create_scenario(toml_path=config_file)\n",
    "print(scenario_3)"
   ]
  },
  {
   "cell_type": "code",
   "execution_count": 13,
   "metadata": {},
   "outputs": [
    {
     "data": {
      "text/plain": [
       "60"
      ]
     },
     "execution_count": 13,
     "metadata": {},
     "output_type": "execute_result"
    }
   ],
   "source": [
    "scenario_1.bin_size_minutes"
   ]
  },
  {
   "cell_type": "markdown",
   "metadata": {},
   "source": [
    "While this is convenient, it does mean that as the programmer, you can get around some of the validation checks that were already done. For example, `bin_size_minutes` must evenly divide into 1440. I can add code to revalidate the model before allowing `make_hills` to run but I'm not going to bother for now. The standard Python error system will catch bad things."
   ]
  },
  {
   "cell_type": "code",
   "execution_count": 14,
   "metadata": {},
   "outputs": [],
   "source": [
    "# Bad\n",
    "scenario_1.bin_size_minutes = 17\n",
    "\n",
    "# Set it back to a valid value\n",
    "scenario_1.bin_size_minutes = 60"
   ]
  },
  {
   "cell_type": "markdown",
   "metadata": {},
   "source": [
    "### Create a new scenario using `create_scenario()` and a dictionary\n",
    "\n",
    "The `create_scenario` function also can take, as input, a dictionary of input arguments. Notice in the example below that I've used strings for the dates but I could just as well have used `datetime` or `TimeStamp` objects - anything that can be converted to a pandas `TimeStamp` is allowed. I've only included the required parameters and two optional parameters - `cat_field` and `bin_size_mins`.\n",
    "\n",
    "```\n",
    "scenario_4_dict = {\n",
    "    'scenario_name': 'ss_example_4',\n",
    "    'stops_df': ssu_stops_df,\n",
    "    'in_field': 'InRoomTS',\n",
    "    'out_field': 'OutRoomTS',\n",
    "    'start_analysis_dt': '1996-01-01',\n",
    "    'end_analysis_dt': '1996-09-30',\n",
    "    'cat_field': 'PatType',\n",
    "    'bin_size_minutes': 60\n",
    "}\n",
    "```"
   ]
  },
  {
   "cell_type": "code",
   "execution_count": 15,
   "metadata": {},
   "outputs": [
    {
     "data": {
      "text/plain": [
       "\u001b[0;31mSignature:\u001b[0m\n",
       "\u001b[0mhm\u001b[0m\u001b[0;34m.\u001b[0m\u001b[0mcreate_scenario\u001b[0m\u001b[0;34m(\u001b[0m\u001b[0;34m\u001b[0m\n",
       "\u001b[0;34m\u001b[0m    \u001b[0mparams_dict\u001b[0m\u001b[0;34m:\u001b[0m \u001b[0mOptional\u001b[0m\u001b[0;34m[\u001b[0m\u001b[0mDict\u001b[0m\u001b[0;34m]\u001b[0m \u001b[0;34m=\u001b[0m \u001b[0;32mNone\u001b[0m\u001b[0;34m,\u001b[0m\u001b[0;34m\u001b[0m\n",
       "\u001b[0;34m\u001b[0m    \u001b[0mtoml_path\u001b[0m\u001b[0;34m:\u001b[0m \u001b[0mUnion\u001b[0m\u001b[0;34m[\u001b[0m\u001b[0mstr\u001b[0m\u001b[0;34m,\u001b[0m \u001b[0mpathlib\u001b[0m\u001b[0;34m.\u001b[0m\u001b[0mPath\u001b[0m\u001b[0;34m,\u001b[0m \u001b[0mNoneType\u001b[0m\u001b[0;34m]\u001b[0m \u001b[0;34m=\u001b[0m \u001b[0;32mNone\u001b[0m\u001b[0;34m,\u001b[0m\u001b[0;34m\u001b[0m\n",
       "\u001b[0;34m\u001b[0m    \u001b[0;34m**\u001b[0m\u001b[0mkwargs\u001b[0m\u001b[0;34m,\u001b[0m\u001b[0;34m\u001b[0m\n",
       "\u001b[0;34m\u001b[0m\u001b[0;34m)\u001b[0m\u001b[0;34m\u001b[0m\u001b[0;34m\u001b[0m\u001b[0m\n",
       "\u001b[0;31mDocstring:\u001b[0m Function to create a `Scenario` from a dict, a TOML file, and/or keyword args \n",
       "\u001b[0;31mFile:\u001b[0m      ~/Documents/projects/hillmaker/src/hillmaker/utils.py\n",
       "\u001b[0;31mType:\u001b[0m      function"
      ]
     },
     "metadata": {},
     "output_type": "display_data"
    }
   ],
   "source": [
    "hm.create_scenario?"
   ]
  },
  {
   "cell_type": "code",
   "execution_count": 16,
   "metadata": {},
   "outputs": [
    {
     "name": "stdout",
     "output_type": "stream",
     "text": [
      "{'scenario_name': 'ss_example_4', 'stops_df':        PatID            InRoomTS           OutRoomTS PatType\n",
      "0          1 1996-01-01 07:44:00 1996-01-01 08:50:00     IVT\n",
      "1          2 1996-01-01 08:28:00 1996-01-01 09:20:00     IVT\n",
      "2          3 1996-01-01 11:44:00 1996-01-01 13:30:00     MYE\n",
      "3          4 1996-01-01 11:51:00 1996-01-01 12:55:00     CAT\n",
      "4          5 1996-01-01 12:10:00 1996-01-01 13:00:00     IVT\n",
      "...      ...                 ...                 ...     ...\n",
      "59872  59873 1996-09-30 19:31:00 1996-09-30 20:15:00     IVT\n",
      "59873  59874 1996-09-30 20:23:00 1996-09-30 21:30:00     IVT\n",
      "59874  59875 1996-09-30 21:00:00 1996-09-30 22:45:00     CAT\n",
      "59875  59876 1996-09-30 21:57:00 1996-09-30 22:40:00     IVT\n",
      "59876  59877 1996-09-30 22:45:00 1996-09-30 23:35:00     CAT\n",
      "\n",
      "[59877 rows x 4 columns], 'in_field': 'InRoomTS', 'out_field': 'OutRoomTS', 'start_analysis_dt': numpy.datetime64('1996-01-01T00:00:00.000000000'), 'end_analysis_dt': numpy.datetime64('1996-09-30T00:00:00.000000000'), 'cat_field': 'PatType', 'bin_size_minutes': 60, 'cats_to_exclude': None, 'occ_weight_field': None, 'percentiles': (0.25, 0.5, 0.75, 0.95, 0.99), 'nonstationary_stats': True, 'stationary_stats': True, 'edge_bins': <EdgeBinsEnum.FRACTIONAL: 1>, 'output_path': PosixPath('.'), 'export_bydatetime_csv': False, 'export_summaries_csv': False, 'make_all_dow_plots': True, 'make_all_week_plots': True, 'export_all_dow_plots': False, 'export_all_week_plots': False, 'cap': None, 'xlabel': 'Hour', 'ylabel': 'Patients', 'verbosity': <VerbosityEnum.WARNING: 0>, 'stops_preprocessed_df':                  InRoomTS           OutRoomTS PatType\n",
      "0     1996-01-01 07:44:00 1996-01-01 08:50:00     IVT\n",
      "1     1996-01-01 08:28:00 1996-01-01 09:20:00     IVT\n",
      "2     1996-01-01 11:44:00 1996-01-01 13:30:00     MYE\n",
      "3     1996-01-01 11:51:00 1996-01-01 12:55:00     CAT\n",
      "4     1996-01-01 12:10:00 1996-01-01 13:00:00     IVT\n",
      "...                   ...                 ...     ...\n",
      "59587 1996-09-29 16:47:00 1996-09-29 17:30:00     IVT\n",
      "59588 1996-09-29 16:56:00 1996-09-29 17:40:00     CAT\n",
      "59589 1996-09-29 17:52:00 1996-09-29 18:40:00     IVT\n",
      "59590 1996-09-29 18:16:00 1996-09-29 18:30:00     CAT\n",
      "59591 1996-09-29 19:51:00 1996-09-29 20:15:00     CAT\n",
      "\n",
      "[59592 rows x 3 columns], 'hills': None}\n"
     ]
    }
   ],
   "source": [
    "scenario_4_dict = {\n",
    "    'scenario_name': 'ss_example_4',\n",
    "    'stops_df': ssu_stops_df,\n",
    "    'in_field': 'InRoomTS',\n",
    "    'out_field': 'OutRoomTS',\n",
    "    'start_analysis_dt': '1996-01-01',\n",
    "    'end_analysis_dt': '1996-09-30',\n",
    "    'cat_field': 'PatType',\n",
    "    'bin_size_minutes': 60\n",
    "}\n",
    "\n",
    "scenario_4 = hm.create_scenario(params_dict=scenario_4_dict)\n",
    "print(scenario_4)\n"
   ]
  },
  {
   "cell_type": "markdown",
   "metadata": {},
   "source": [
    "With `create_scenario`, you can also include keyword arguments that will take precedence over those specified in either a TOML file or a dictionary. "
   ]
  },
  {
   "cell_type": "code",
   "execution_count": 17,
   "metadata": {},
   "outputs": [
    {
     "name": "stdout",
     "output_type": "stream",
     "text": [
      "{'scenario_name': 'ss_example_5', 'stops_df':        PatID            InRoomTS           OutRoomTS PatType\n",
      "0          1 1996-01-01 07:44:00 1996-01-01 08:50:00     IVT\n",
      "1          2 1996-01-01 08:28:00 1996-01-01 09:20:00     IVT\n",
      "2          3 1996-01-01 11:44:00 1996-01-01 13:30:00     MYE\n",
      "3          4 1996-01-01 11:51:00 1996-01-01 12:55:00     CAT\n",
      "4          5 1996-01-01 12:10:00 1996-01-01 13:00:00     IVT\n",
      "...      ...                 ...                 ...     ...\n",
      "59872  59873 1996-09-30 19:31:00 1996-09-30 20:15:00     IVT\n",
      "59873  59874 1996-09-30 20:23:00 1996-09-30 21:30:00     IVT\n",
      "59874  59875 1996-09-30 21:00:00 1996-09-30 22:45:00     CAT\n",
      "59875  59876 1996-09-30 21:57:00 1996-09-30 22:40:00     IVT\n",
      "59876  59877 1996-09-30 22:45:00 1996-09-30 23:35:00     CAT\n",
      "\n",
      "[59877 rows x 4 columns], 'in_field': 'InRoomTS', 'out_field': 'OutRoomTS', 'start_analysis_dt': numpy.datetime64('1996-01-01T00:00:00.000000000'), 'end_analysis_dt': numpy.datetime64('1996-09-30T00:00:00.000000000'), 'cat_field': 'PatType', 'bin_size_minutes': 30, 'cats_to_exclude': None, 'occ_weight_field': None, 'percentiles': (0.25, 0.5, 0.75, 0.95, 0.99), 'nonstationary_stats': True, 'stationary_stats': True, 'edge_bins': <EdgeBinsEnum.FRACTIONAL: 1>, 'output_path': PosixPath('.'), 'export_bydatetime_csv': False, 'export_summaries_csv': False, 'make_all_dow_plots': True, 'make_all_week_plots': True, 'export_all_dow_plots': False, 'export_all_week_plots': True, 'cap': None, 'xlabel': 'Hour', 'ylabel': 'Patients', 'verbosity': <VerbosityEnum.WARNING: 0>, 'stops_preprocessed_df':                  InRoomTS           OutRoomTS PatType\n",
      "0     1996-01-01 07:44:00 1996-01-01 08:50:00     IVT\n",
      "1     1996-01-01 08:28:00 1996-01-01 09:20:00     IVT\n",
      "2     1996-01-01 11:44:00 1996-01-01 13:30:00     MYE\n",
      "3     1996-01-01 11:51:00 1996-01-01 12:55:00     CAT\n",
      "4     1996-01-01 12:10:00 1996-01-01 13:00:00     IVT\n",
      "...                   ...                 ...     ...\n",
      "59587 1996-09-29 16:47:00 1996-09-29 17:30:00     IVT\n",
      "59588 1996-09-29 16:56:00 1996-09-29 17:40:00     CAT\n",
      "59589 1996-09-29 17:52:00 1996-09-29 18:40:00     IVT\n",
      "59590 1996-09-29 18:16:00 1996-09-29 18:30:00     CAT\n",
      "59591 1996-09-29 19:51:00 1996-09-29 20:15:00     CAT\n",
      "\n",
      "[59592 rows x 3 columns], 'hills': None}\n"
     ]
    }
   ],
   "source": [
    "scenario_5_dict = {\n",
    "    'scenario_name': 'ss_example_5',\n",
    "    'stops_df': ssu_stops_df,\n",
    "    'in_field': 'InRoomTS',\n",
    "    'out_field': 'OutRoomTS',\n",
    "    'start_analysis_dt': '1996-01-01',\n",
    "    'end_analysis_dt': '1996-09-30',\n",
    "    'cat_field': 'PatType',\n",
    "    'bin_size_minutes': 60\n",
    "}\n",
    "\n",
    "scenario_5 = hm.create_scenario(params_dict=scenario_5_dict, \n",
    "                                export_all_week_plots=True, bin_size_minutes=30)\n",
    "print(scenario_5)"
   ]
  },
  {
   "cell_type": "markdown",
   "metadata": {},
   "source": [
    "Now let's generate hills by using the `make_hills` method of one of the scenario instances."
   ]
  },
  {
   "cell_type": "code",
   "execution_count": 18,
   "metadata": {},
   "outputs": [
    {
     "name": "stderr",
     "output_type": "stream",
     "text": [
      "2023-08-23 10:43:52,165 - hillmaker.bydatetime - INFO - min of intime: 1996-01-01 07:44:00\n",
      "2023-08-23 10:43:52,167 - hillmaker.bydatetime - INFO - max of intime: 1996-09-29 19:51:00\n",
      "2023-08-23 10:43:52,168 - hillmaker.bydatetime - INFO - min of outtime: 1996-01-01 08:50:00\n",
      "2023-08-23 10:43:52,169 - hillmaker.bydatetime - INFO - max of outtime: 1996-09-29 20:15:00\n",
      "2023-08-23 10:43:52,170 - hillmaker.bydatetime - INFO - start analysis: 1996-01-01, end analysis: 1996-09-30\n",
      "2023-08-23 10:43:52,190 - hillmaker.bydatetime - INFO - min of entry time_bin = 7\n",
      "2023-08-23 10:43:52,192 - hillmaker.bydatetime - INFO - max of exit time_bin = 6546 and num_bins=6553\n",
      "2023-08-23 10:43:52,929 - hillmaker.bydatetime - INFO - cat IVT {'inner': 33019}\n",
      "2023-08-23 10:43:52,975 - hillmaker.bydatetime - INFO - cat IVT num_arrivals_hm 33019 num_arrivals_stops 33019\n",
      "2023-08-23 10:43:52,976 - hillmaker.bydatetime - INFO - cat IVT num_departures_hm 33019 num_departures_stops 33019\n",
      "2023-08-23 10:43:52,981 - hillmaker.bydatetime - INFO - cat IVT tot_occ_hm 37871.13 tot_occ_stops 37871.13\n",
      "2023-08-23 10:43:52,991 - hillmaker.bydatetime - INFO - min of entry time_bin = 11\n",
      "2023-08-23 10:43:52,992 - hillmaker.bydatetime - INFO - max of exit time_bin = 6543 and num_bins=6553\n",
      "2023-08-23 10:43:53,127 - hillmaker.bydatetime - INFO - cat MYE {'inner': 6447}\n",
      "2023-08-23 10:43:53,138 - hillmaker.bydatetime - INFO - cat MYE num_arrivals_hm 6447 num_arrivals_stops 6447\n",
      "2023-08-23 10:43:53,138 - hillmaker.bydatetime - INFO - cat MYE num_departures_hm 6447 num_departures_stops 6447\n",
      "2023-08-23 10:43:53,140 - hillmaker.bydatetime - INFO - cat MYE tot_occ_hm 9210.75 tot_occ_stops 9210.75\n",
      "2023-08-23 10:43:53,145 - hillmaker.bydatetime - INFO - min of entry time_bin = 11\n",
      "2023-08-23 10:43:53,146 - hillmaker.bydatetime - INFO - max of exit time_bin = 6548 and num_bins=6553\n",
      "2023-08-23 10:43:53,351 - hillmaker.bydatetime - INFO - cat CAT {'inner': 10641}\n",
      "2023-08-23 10:43:53,367 - hillmaker.bydatetime - INFO - cat CAT num_arrivals_hm 10641 num_arrivals_stops 10641\n",
      "2023-08-23 10:43:53,368 - hillmaker.bydatetime - INFO - cat CAT num_departures_hm 10641 num_departures_stops 10641\n",
      "2023-08-23 10:43:53,370 - hillmaker.bydatetime - INFO - cat CAT tot_occ_hm 11107.40 tot_occ_stops 11107.40\n",
      "2023-08-23 10:43:53,375 - hillmaker.bydatetime - INFO - min of entry time_bin = 30\n",
      "2023-08-23 10:43:53,375 - hillmaker.bydatetime - INFO - max of exit time_bin = 6498 and num_bins=6553\n",
      "2023-08-23 10:43:53,494 - hillmaker.bydatetime - INFO - cat ART {'inner': 5738}\n",
      "2023-08-23 10:43:53,503 - hillmaker.bydatetime - INFO - cat ART num_arrivals_hm 5738 num_arrivals_stops 5738\n",
      "2023-08-23 10:43:53,504 - hillmaker.bydatetime - INFO - cat ART num_departures_hm 5738 num_departures_stops 5738\n",
      "2023-08-23 10:43:53,506 - hillmaker.bydatetime - INFO - cat ART tot_occ_hm 8491.98 tot_occ_stops 8491.98\n",
      "2023-08-23 10:43:53,514 - hillmaker.bydatetime - INFO - min of entry time_bin = 30\n",
      "2023-08-23 10:43:53,515 - hillmaker.bydatetime - INFO - max of exit time_bin = 6495 and num_bins=6553\n",
      "2023-08-23 10:43:53,624 - hillmaker.bydatetime - INFO - cat OTH {'inner': 3747}\n",
      "2023-08-23 10:43:53,631 - hillmaker.bydatetime - INFO - cat OTH num_arrivals_hm 3747 num_arrivals_stops 3747\n",
      "2023-08-23 10:43:53,632 - hillmaker.bydatetime - INFO - cat OTH num_departures_hm 3747 num_departures_stops 3747\n",
      "2023-08-23 10:43:53,634 - hillmaker.bydatetime - INFO - cat OTH tot_occ_hm 5628.47 tot_occ_stops 5628.47\n",
      "2023-08-23 10:43:54,130 - hillmaker.hills - INFO - Datetime matrix created (seconds): 1.9702\n",
      "2023-08-23 10:44:00,321 - hillmaker.summarize - INFO - Created nonstationary summaries - ['PatType']\n",
      "2023-08-23 10:44:01,468 - hillmaker.summarize - INFO - Created nonstationary summaries - []\n",
      "2023-08-23 10:44:01,501 - hillmaker.summarize - INFO - Created stationary summaries - ['PatType']\n",
      "2023-08-23 10:44:01,513 - hillmaker.summarize - INFO - Created stationary summaries - []\n",
      "2023-08-23 10:44:01,514 - hillmaker.hills - INFO - Summaries by datetime created (seconds): 7.3710\n",
      "2023-08-23 10:44:01,515 - hillmaker.hills - INFO - bydatetime and summaries by datetime created (seconds): 9.3433\n",
      "2023-08-23 10:44:02,021 - hillmaker.plotting - INFO - Full week plots created (seconds): 0.4799\n",
      "2023-08-23 10:44:03,787 - hillmaker.plotting - INFO - Individual day of week plots created (seconds): 1.7658\n",
      "2023-08-23 10:44:03,788 - hillmaker.hills - INFO - Total time (seconds): 9.3433\n"
     ]
    }
   ],
   "source": [
    "scenario_1.make_hills()"
   ]
  },
  {
   "cell_type": "markdown",
   "metadata": {},
   "source": [
    "All of the outputs get stored in the `hills` dictionary attribute. It's a nested dictionary and it can be cumbersome to pull out specific items. Later in this notebook we'll describe \"getter\" methods to make it easier to pull out specific plots or dataframes."
   ]
  },
  {
   "cell_type": "code",
   "execution_count": 19,
   "metadata": {},
   "outputs": [
    {
     "data": {
      "text/plain": [
       "dict_keys(['bydatetime', 'summaries', 'settings', 'plots'])"
      ]
     },
     "execution_count": 19,
     "metadata": {},
     "output_type": "execute_result"
    }
   ],
   "source": [
    "scenario_1.hills.keys()"
   ]
  },
  {
   "cell_type": "code",
   "execution_count": 20,
   "metadata": {},
   "outputs": [
    {
     "data": {
      "text/plain": [
       "dict_keys(['PatType_datetime', 'datetime'])"
      ]
     },
     "execution_count": 20,
     "metadata": {},
     "output_type": "execute_result"
    }
   ],
   "source": [
    "scenario_1.hills['bydatetime'].keys()"
   ]
  },
  {
   "cell_type": "code",
   "execution_count": 21,
   "metadata": {},
   "outputs": [
    {
     "data": {
      "text/html": [
       "<div>\n",
       "<style scoped>\n",
       "    .dataframe tbody tr th:only-of-type {\n",
       "        vertical-align: middle;\n",
       "    }\n",
       "\n",
       "    .dataframe tbody tr th {\n",
       "        vertical-align: top;\n",
       "    }\n",
       "\n",
       "    .dataframe thead th {\n",
       "        text-align: right;\n",
       "    }\n",
       "</style>\n",
       "<table border=\"1\" class=\"dataframe\">\n",
       "  <thead>\n",
       "    <tr style=\"text-align: right;\">\n",
       "      <th></th>\n",
       "      <th></th>\n",
       "      <th>arrivals</th>\n",
       "      <th>departures</th>\n",
       "      <th>occupancy</th>\n",
       "      <th>day_of_week</th>\n",
       "      <th>dow_name</th>\n",
       "      <th>bin_of_day_str</th>\n",
       "      <th>bin_of_day</th>\n",
       "      <th>bin_of_week</th>\n",
       "    </tr>\n",
       "    <tr>\n",
       "      <th>PatType</th>\n",
       "      <th>datetime</th>\n",
       "      <th></th>\n",
       "      <th></th>\n",
       "      <th></th>\n",
       "      <th></th>\n",
       "      <th></th>\n",
       "      <th></th>\n",
       "      <th></th>\n",
       "      <th></th>\n",
       "    </tr>\n",
       "  </thead>\n",
       "  <tbody>\n",
       "    <tr>\n",
       "      <th rowspan=\"5\" valign=\"top\">ART</th>\n",
       "      <th>1996-01-01 00:00:00</th>\n",
       "      <td>0.0</td>\n",
       "      <td>0.0</td>\n",
       "      <td>0.0</td>\n",
       "      <td>0</td>\n",
       "      <td>Mon</td>\n",
       "      <td>00:00</td>\n",
       "      <td>0</td>\n",
       "      <td>0</td>\n",
       "    </tr>\n",
       "    <tr>\n",
       "      <th>1996-01-01 01:00:00</th>\n",
       "      <td>0.0</td>\n",
       "      <td>0.0</td>\n",
       "      <td>0.0</td>\n",
       "      <td>0</td>\n",
       "      <td>Mon</td>\n",
       "      <td>01:00</td>\n",
       "      <td>1</td>\n",
       "      <td>1</td>\n",
       "    </tr>\n",
       "    <tr>\n",
       "      <th>1996-01-01 02:00:00</th>\n",
       "      <td>0.0</td>\n",
       "      <td>0.0</td>\n",
       "      <td>0.0</td>\n",
       "      <td>0</td>\n",
       "      <td>Mon</td>\n",
       "      <td>02:00</td>\n",
       "      <td>2</td>\n",
       "      <td>2</td>\n",
       "    </tr>\n",
       "    <tr>\n",
       "      <th>1996-01-01 03:00:00</th>\n",
       "      <td>0.0</td>\n",
       "      <td>0.0</td>\n",
       "      <td>0.0</td>\n",
       "      <td>0</td>\n",
       "      <td>Mon</td>\n",
       "      <td>03:00</td>\n",
       "      <td>3</td>\n",
       "      <td>3</td>\n",
       "    </tr>\n",
       "    <tr>\n",
       "      <th>1996-01-01 04:00:00</th>\n",
       "      <td>0.0</td>\n",
       "      <td>0.0</td>\n",
       "      <td>0.0</td>\n",
       "      <td>0</td>\n",
       "      <td>Mon</td>\n",
       "      <td>04:00</td>\n",
       "      <td>4</td>\n",
       "      <td>4</td>\n",
       "    </tr>\n",
       "  </tbody>\n",
       "</table>\n",
       "</div>"
      ],
      "text/plain": [
       "                             arrivals  departures  occupancy  day_of_week  \\\n",
       "PatType datetime                                                            \n",
       "ART     1996-01-01 00:00:00       0.0         0.0        0.0            0   \n",
       "        1996-01-01 01:00:00       0.0         0.0        0.0            0   \n",
       "        1996-01-01 02:00:00       0.0         0.0        0.0            0   \n",
       "        1996-01-01 03:00:00       0.0         0.0        0.0            0   \n",
       "        1996-01-01 04:00:00       0.0         0.0        0.0            0   \n",
       "\n",
       "                            dow_name bin_of_day_str  bin_of_day  bin_of_week  \n",
       "PatType datetime                                                              \n",
       "ART     1996-01-01 00:00:00      Mon          00:00           0            0  \n",
       "        1996-01-01 01:00:00      Mon          01:00           1            1  \n",
       "        1996-01-01 02:00:00      Mon          02:00           2            2  \n",
       "        1996-01-01 03:00:00      Mon          03:00           3            3  \n",
       "        1996-01-01 04:00:00      Mon          04:00           4            4  "
      ]
     },
     "execution_count": 21,
     "metadata": {},
     "output_type": "execute_result"
    }
   ],
   "source": [
    "scenario_1.hills['bydatetime']['PatType_datetime'].head()"
   ]
  },
  {
   "cell_type": "code",
   "execution_count": 22,
   "metadata": {},
   "outputs": [
    {
     "data": {
      "text/plain": [
       "dict_keys(['nonstationary', 'stationary'])"
      ]
     },
     "execution_count": 22,
     "metadata": {},
     "output_type": "execute_result"
    }
   ],
   "source": [
    "scenario_1.hills['summaries'].keys()"
   ]
  },
  {
   "cell_type": "code",
   "execution_count": 23,
   "metadata": {},
   "outputs": [
    {
     "data": {
      "text/plain": [
       "dict_keys(['PatType_dow_binofday', 'dow_binofday'])"
      ]
     },
     "execution_count": 23,
     "metadata": {},
     "output_type": "execute_result"
    }
   ],
   "source": [
    "scenario_1.hills['summaries']['nonstationary'].keys()"
   ]
  },
  {
   "cell_type": "code",
   "execution_count": 24,
   "metadata": {},
   "outputs": [
    {
     "data": {
      "text/plain": [
       "dict_keys(['occupancy', 'arrivals', 'departures'])"
      ]
     },
     "execution_count": 24,
     "metadata": {},
     "output_type": "execute_result"
    }
   ],
   "source": [
    "scenario_1.hills['summaries']['nonstationary']['PatType_dow_binofday'].keys()"
   ]
  },
  {
   "cell_type": "code",
   "execution_count": 25,
   "metadata": {},
   "outputs": [
    {
     "data": {
      "text/html": [
       "<div>\n",
       "<style scoped>\n",
       "    .dataframe tbody tr th:only-of-type {\n",
       "        vertical-align: middle;\n",
       "    }\n",
       "\n",
       "    .dataframe tbody tr th {\n",
       "        vertical-align: top;\n",
       "    }\n",
       "\n",
       "    .dataframe thead th {\n",
       "        text-align: right;\n",
       "    }\n",
       "</style>\n",
       "<table border=\"1\" class=\"dataframe\">\n",
       "  <thead>\n",
       "    <tr style=\"text-align: right;\">\n",
       "      <th></th>\n",
       "      <th></th>\n",
       "      <th></th>\n",
       "      <th></th>\n",
       "      <th></th>\n",
       "      <th>count</th>\n",
       "      <th>mean</th>\n",
       "      <th>min</th>\n",
       "      <th>max</th>\n",
       "      <th>stdev</th>\n",
       "      <th>sem</th>\n",
       "      <th>var</th>\n",
       "      <th>cv</th>\n",
       "      <th>skew</th>\n",
       "      <th>kurt</th>\n",
       "      <th>p25</th>\n",
       "      <th>p50</th>\n",
       "      <th>p75</th>\n",
       "      <th>p95</th>\n",
       "      <th>p99</th>\n",
       "    </tr>\n",
       "    <tr>\n",
       "      <th>PatType</th>\n",
       "      <th>day_of_week</th>\n",
       "      <th>dow_name</th>\n",
       "      <th>bin_of_day</th>\n",
       "      <th>bin_of_day_str</th>\n",
       "      <th></th>\n",
       "      <th></th>\n",
       "      <th></th>\n",
       "      <th></th>\n",
       "      <th></th>\n",
       "      <th></th>\n",
       "      <th></th>\n",
       "      <th></th>\n",
       "      <th></th>\n",
       "      <th></th>\n",
       "      <th></th>\n",
       "      <th></th>\n",
       "      <th></th>\n",
       "      <th></th>\n",
       "      <th></th>\n",
       "    </tr>\n",
       "  </thead>\n",
       "  <tbody>\n",
       "    <tr>\n",
       "      <th rowspan=\"5\" valign=\"top\">ART</th>\n",
       "      <th rowspan=\"5\" valign=\"top\">0</th>\n",
       "      <th rowspan=\"5\" valign=\"top\">Mon</th>\n",
       "      <th>0</th>\n",
       "      <th>00:00</th>\n",
       "      <td>40.0</td>\n",
       "      <td>0.0</td>\n",
       "      <td>0.0</td>\n",
       "      <td>0.0</td>\n",
       "      <td>0.0</td>\n",
       "      <td>0.0</td>\n",
       "      <td>0.0</td>\n",
       "      <td>0.0</td>\n",
       "      <td>0.0</td>\n",
       "      <td>0.0</td>\n",
       "      <td>0.0</td>\n",
       "      <td>0.0</td>\n",
       "      <td>0.0</td>\n",
       "      <td>0.0</td>\n",
       "      <td>0.0</td>\n",
       "    </tr>\n",
       "    <tr>\n",
       "      <th>1</th>\n",
       "      <th>01:00</th>\n",
       "      <td>39.0</td>\n",
       "      <td>0.0</td>\n",
       "      <td>0.0</td>\n",
       "      <td>0.0</td>\n",
       "      <td>0.0</td>\n",
       "      <td>0.0</td>\n",
       "      <td>0.0</td>\n",
       "      <td>0.0</td>\n",
       "      <td>0.0</td>\n",
       "      <td>0.0</td>\n",
       "      <td>0.0</td>\n",
       "      <td>0.0</td>\n",
       "      <td>0.0</td>\n",
       "      <td>0.0</td>\n",
       "      <td>0.0</td>\n",
       "    </tr>\n",
       "    <tr>\n",
       "      <th>2</th>\n",
       "      <th>02:00</th>\n",
       "      <td>39.0</td>\n",
       "      <td>0.0</td>\n",
       "      <td>0.0</td>\n",
       "      <td>0.0</td>\n",
       "      <td>0.0</td>\n",
       "      <td>0.0</td>\n",
       "      <td>0.0</td>\n",
       "      <td>0.0</td>\n",
       "      <td>0.0</td>\n",
       "      <td>0.0</td>\n",
       "      <td>0.0</td>\n",
       "      <td>0.0</td>\n",
       "      <td>0.0</td>\n",
       "      <td>0.0</td>\n",
       "      <td>0.0</td>\n",
       "    </tr>\n",
       "    <tr>\n",
       "      <th>3</th>\n",
       "      <th>03:00</th>\n",
       "      <td>39.0</td>\n",
       "      <td>0.0</td>\n",
       "      <td>0.0</td>\n",
       "      <td>0.0</td>\n",
       "      <td>0.0</td>\n",
       "      <td>0.0</td>\n",
       "      <td>0.0</td>\n",
       "      <td>0.0</td>\n",
       "      <td>0.0</td>\n",
       "      <td>0.0</td>\n",
       "      <td>0.0</td>\n",
       "      <td>0.0</td>\n",
       "      <td>0.0</td>\n",
       "      <td>0.0</td>\n",
       "      <td>0.0</td>\n",
       "    </tr>\n",
       "    <tr>\n",
       "      <th>4</th>\n",
       "      <th>04:00</th>\n",
       "      <td>39.0</td>\n",
       "      <td>0.0</td>\n",
       "      <td>0.0</td>\n",
       "      <td>0.0</td>\n",
       "      <td>0.0</td>\n",
       "      <td>0.0</td>\n",
       "      <td>0.0</td>\n",
       "      <td>0.0</td>\n",
       "      <td>0.0</td>\n",
       "      <td>0.0</td>\n",
       "      <td>0.0</td>\n",
       "      <td>0.0</td>\n",
       "      <td>0.0</td>\n",
       "      <td>0.0</td>\n",
       "      <td>0.0</td>\n",
       "    </tr>\n",
       "  </tbody>\n",
       "</table>\n",
       "</div>"
      ],
      "text/plain": [
       "                                                        count  mean  min  max  \\\n",
       "PatType day_of_week dow_name bin_of_day bin_of_day_str                          \n",
       "ART     0           Mon      0          00:00            40.0   0.0  0.0  0.0   \n",
       "                             1          01:00            39.0   0.0  0.0  0.0   \n",
       "                             2          02:00            39.0   0.0  0.0  0.0   \n",
       "                             3          03:00            39.0   0.0  0.0  0.0   \n",
       "                             4          04:00            39.0   0.0  0.0  0.0   \n",
       "\n",
       "                                                        stdev  sem  var   cv  \\\n",
       "PatType day_of_week dow_name bin_of_day bin_of_day_str                         \n",
       "ART     0           Mon      0          00:00             0.0  0.0  0.0  0.0   \n",
       "                             1          01:00             0.0  0.0  0.0  0.0   \n",
       "                             2          02:00             0.0  0.0  0.0  0.0   \n",
       "                             3          03:00             0.0  0.0  0.0  0.0   \n",
       "                             4          04:00             0.0  0.0  0.0  0.0   \n",
       "\n",
       "                                                        skew  kurt  p25  p50  \\\n",
       "PatType day_of_week dow_name bin_of_day bin_of_day_str                         \n",
       "ART     0           Mon      0          00:00            0.0   0.0  0.0  0.0   \n",
       "                             1          01:00            0.0   0.0  0.0  0.0   \n",
       "                             2          02:00            0.0   0.0  0.0  0.0   \n",
       "                             3          03:00            0.0   0.0  0.0  0.0   \n",
       "                             4          04:00            0.0   0.0  0.0  0.0   \n",
       "\n",
       "                                                        p75  p95  p99  \n",
       "PatType day_of_week dow_name bin_of_day bin_of_day_str                 \n",
       "ART     0           Mon      0          00:00           0.0  0.0  0.0  \n",
       "                             1          01:00           0.0  0.0  0.0  \n",
       "                             2          02:00           0.0  0.0  0.0  \n",
       "                             3          03:00           0.0  0.0  0.0  \n",
       "                             4          04:00           0.0  0.0  0.0  "
      ]
     },
     "execution_count": 25,
     "metadata": {},
     "output_type": "execute_result"
    }
   ],
   "source": [
    "scenario_1.hills['summaries']['nonstationary']['PatType_dow_binofday']['occupancy'].head()"
   ]
  },
  {
   "cell_type": "code",
   "execution_count": 26,
   "metadata": {},
   "outputs": [
    {
     "data": {
      "text/plain": [
       "{'scenario_name': 'ss_example_1', 'cat_field': 'PatType'}"
      ]
     },
     "execution_count": 26,
     "metadata": {},
     "output_type": "execute_result"
    }
   ],
   "source": [
    "scenario_1.hills['settings']"
   ]
  },
  {
   "cell_type": "markdown",
   "metadata": {},
   "source": [
    "## Making Plotting Easier"
   ]
  },
  {
   "cell_type": "markdown",
   "metadata": {},
   "source": [
    "As previously pointed out, it's clunky to have to traverse these dictionaries to pull out plots and dataframes. Seems like we'd want to be able to quickly view a specific plot"
   ]
  },
  {
   "cell_type": "markdown",
   "metadata": {},
   "source": [
    "I added `get_plot()` as a method to the `Scenario` class."
   ]
  },
  {
   "cell_type": "code",
   "execution_count": 27,
   "metadata": {},
   "outputs": [
    {
     "data": {
      "text/plain": [
       "\u001b[0;31mSignature:\u001b[0m\n",
       "\u001b[0mscenario_1\u001b[0m\u001b[0;34m.\u001b[0m\u001b[0mget_plot\u001b[0m\u001b[0;34m(\u001b[0m\u001b[0;34m\u001b[0m\n",
       "\u001b[0;34m\u001b[0m    \u001b[0mflow_metric\u001b[0m\u001b[0;34m:\u001b[0m \u001b[0mstr\u001b[0m \u001b[0;34m=\u001b[0m \u001b[0;34m'occupancy'\u001b[0m\u001b[0;34m,\u001b[0m\u001b[0;34m\u001b[0m\n",
       "\u001b[0;34m\u001b[0m    \u001b[0mday_of_week\u001b[0m\u001b[0;34m:\u001b[0m \u001b[0mstr\u001b[0m \u001b[0;34m=\u001b[0m \u001b[0;34m'week'\u001b[0m\u001b[0;34m,\u001b[0m\u001b[0;34m\u001b[0m\n",
       "\u001b[0;34m\u001b[0m\u001b[0;34m)\u001b[0m\u001b[0;34m\u001b[0m\u001b[0;34m\u001b[0m\u001b[0m\n",
       "\u001b[0;31mDocstring:\u001b[0m\n",
       "Get plot object for specified flow metric and whether full week or specified day of week.\n",
       "\n",
       "Parameters\n",
       "----------\n",
       "flow_metric : str\n",
       "    Either of 'arrivals', 'departures', 'occupancy' ('a', 'd', and 'o' are sufficient).\n",
       "    Default='occupancy'\n",
       "day_of_week : str\n",
       "    Either of 'week', 'Sun', 'Mon', 'Tue', 'Wed', 'Thu', 'Fri', 'Sat'. Default='week'\n",
       "\n",
       "Returns\n",
       "-------\n",
       "plot object from matplotlib\n",
       "\u001b[0;31mFile:\u001b[0m      ~/Documents/projects/hillmaker/src/hillmaker/scenario.py\n",
       "\u001b[0;31mType:\u001b[0m      method"
      ]
     },
     "metadata": {},
     "output_type": "display_data"
    }
   ],
   "source": [
    "scenario_1.get_plot?"
   ]
  },
  {
   "cell_type": "code",
   "execution_count": 28,
   "metadata": {},
   "outputs": [],
   "source": [
    "plot = scenario_1.get_plot('occupancy')"
   ]
  },
  {
   "cell_type": "code",
   "execution_count": 29,
   "metadata": {},
   "outputs": [
    {
     "data": {
      "image/png": "[encoded data removed]",
      "text/plain": [
       "<Figure size 1500x1000 with 1 Axes>"
      ]
     },
     "execution_count": 29,
     "metadata": {},
     "output_type": "execute_result"
    }
   ],
   "source": [
    "plot"
   ]
  },
  {
   "cell_type": "code",
   "execution_count": 30,
   "metadata": {},
   "outputs": [
    {
     "data": {
      "image/png": "[encoded data removed]",
      "text/plain": [
       "<Figure size 1500x1000 with 1 Axes>"
      ]
     },
     "execution_count": 30,
     "metadata": {},
     "output_type": "execute_result"
    }
   ],
   "source": [
    "scenario_1.get_plot('occ')"
   ]
  },
  {
   "cell_type": "code",
   "execution_count": 31,
   "metadata": {},
   "outputs": [
    {
     "data": {
      "image/png": "[encoded data removed]",
      "text/plain": [
       "<Figure size 1500x1000 with 1 Axes>"
      ]
     },
     "execution_count": 31,
     "metadata": {},
     "output_type": "execute_result"
    }
   ],
   "source": [
    "scenario_1.get_plot('departures', 'Mon')"
   ]
  },
  {
   "cell_type": "code",
   "execution_count": 32,
   "metadata": {},
   "outputs": [
    {
     "data": {
      "text/plain": [
       "\u001b[0;31mSignature:\u001b[0m\n",
       "\u001b[0mscenario_2\u001b[0m\u001b[0;34m.\u001b[0m\u001b[0mget_summary_df\u001b[0m\u001b[0;34m(\u001b[0m\u001b[0;34m\u001b[0m\n",
       "\u001b[0;34m\u001b[0m    \u001b[0mflow_metric\u001b[0m\u001b[0;34m:\u001b[0m \u001b[0mstr\u001b[0m \u001b[0;34m=\u001b[0m \u001b[0;34m'occupancy'\u001b[0m\u001b[0;34m,\u001b[0m\u001b[0;34m\u001b[0m\n",
       "\u001b[0;34m\u001b[0m    \u001b[0mby_category\u001b[0m\u001b[0;34m:\u001b[0m \u001b[0mbool\u001b[0m \u001b[0;34m=\u001b[0m \u001b[0;32mTrue\u001b[0m\u001b[0;34m,\u001b[0m\u001b[0;34m\u001b[0m\n",
       "\u001b[0;34m\u001b[0m    \u001b[0mstationary\u001b[0m\u001b[0;34m:\u001b[0m \u001b[0mbool\u001b[0m \u001b[0;34m=\u001b[0m \u001b[0;32mFalse\u001b[0m\u001b[0;34m,\u001b[0m\u001b[0;34m\u001b[0m\n",
       "\u001b[0;34m\u001b[0m\u001b[0;34m)\u001b[0m\u001b[0;34m\u001b[0m\u001b[0;34m\u001b[0m\u001b[0m\n",
       "\u001b[0;31mDocstring:\u001b[0m\n",
       "Get summary dataframe\n",
       "\n",
       "Parameters\n",
       "----------\n",
       "flow_metric : str\n",
       "    Either of 'arrivals', 'departures', 'occupancy' ('a', 'd', and 'o' are sufficient).\n",
       "    Default='occupancy'\n",
       "by_category : bool\n",
       "    Default=True corresponds to category specific statistics. A value of False gives overall statistics.\n",
       "stationary : bool\n",
       "    Default=False corresponds to the standard nonstationary statistics (i.e. by TOD and DOW)\n",
       "\n",
       "Returns\n",
       "-------\n",
       "DataFrame\n",
       "\u001b[0;31mFile:\u001b[0m      ~/Documents/projects/hillmaker/src/hillmaker/scenario.py\n",
       "\u001b[0;31mType:\u001b[0m      method"
      ]
     },
     "metadata": {},
     "output_type": "display_data"
    }
   ],
   "source": [
    "scenario_2.get_summary_df?"
   ]
  },
  {
   "cell_type": "code",
   "execution_count": 33,
   "metadata": {},
   "outputs": [
    {
     "data": {
      "text/html": [
       "<div>\n",
       "<style scoped>\n",
       "    .dataframe tbody tr th:only-of-type {\n",
       "        vertical-align: middle;\n",
       "    }\n",
       "\n",
       "    .dataframe tbody tr th {\n",
       "        vertical-align: top;\n",
       "    }\n",
       "\n",
       "    .dataframe thead th {\n",
       "        text-align: right;\n",
       "    }\n",
       "</style>\n",
       "<table border=\"1\" class=\"dataframe\">\n",
       "  <thead>\n",
       "    <tr style=\"text-align: right;\">\n",
       "      <th></th>\n",
       "      <th></th>\n",
       "      <th></th>\n",
       "      <th></th>\n",
       "      <th></th>\n",
       "      <th>count</th>\n",
       "      <th>mean</th>\n",
       "      <th>min</th>\n",
       "      <th>max</th>\n",
       "      <th>stdev</th>\n",
       "      <th>sem</th>\n",
       "      <th>var</th>\n",
       "      <th>cv</th>\n",
       "      <th>skew</th>\n",
       "      <th>kurt</th>\n",
       "      <th>p25</th>\n",
       "      <th>p50</th>\n",
       "      <th>p75</th>\n",
       "      <th>p95</th>\n",
       "      <th>p99</th>\n",
       "    </tr>\n",
       "    <tr>\n",
       "      <th>PatType</th>\n",
       "      <th>day_of_week</th>\n",
       "      <th>dow_name</th>\n",
       "      <th>bin_of_day</th>\n",
       "      <th>bin_of_day_str</th>\n",
       "      <th></th>\n",
       "      <th></th>\n",
       "      <th></th>\n",
       "      <th></th>\n",
       "      <th></th>\n",
       "      <th></th>\n",
       "      <th></th>\n",
       "      <th></th>\n",
       "      <th></th>\n",
       "      <th></th>\n",
       "      <th></th>\n",
       "      <th></th>\n",
       "      <th></th>\n",
       "      <th></th>\n",
       "      <th></th>\n",
       "    </tr>\n",
       "  </thead>\n",
       "  <tbody>\n",
       "    <tr>\n",
       "      <th rowspan=\"5\" valign=\"top\">ART</th>\n",
       "      <th rowspan=\"5\" valign=\"top\">0</th>\n",
       "      <th rowspan=\"5\" valign=\"top\">Mon</th>\n",
       "      <th>0</th>\n",
       "      <th>00:00</th>\n",
       "      <td>40.0</td>\n",
       "      <td>0.0</td>\n",
       "      <td>0.0</td>\n",
       "      <td>0.0</td>\n",
       "      <td>0.0</td>\n",
       "      <td>0.0</td>\n",
       "      <td>0.0</td>\n",
       "      <td>0.0</td>\n",
       "      <td>0.0</td>\n",
       "      <td>0.0</td>\n",
       "      <td>0.0</td>\n",
       "      <td>0.0</td>\n",
       "      <td>0.0</td>\n",
       "      <td>0.0</td>\n",
       "      <td>0.0</td>\n",
       "    </tr>\n",
       "    <tr>\n",
       "      <th>1</th>\n",
       "      <th>01:00</th>\n",
       "      <td>39.0</td>\n",
       "      <td>0.0</td>\n",
       "      <td>0.0</td>\n",
       "      <td>0.0</td>\n",
       "      <td>0.0</td>\n",
       "      <td>0.0</td>\n",
       "      <td>0.0</td>\n",
       "      <td>0.0</td>\n",
       "      <td>0.0</td>\n",
       "      <td>0.0</td>\n",
       "      <td>0.0</td>\n",
       "      <td>0.0</td>\n",
       "      <td>0.0</td>\n",
       "      <td>0.0</td>\n",
       "      <td>0.0</td>\n",
       "    </tr>\n",
       "    <tr>\n",
       "      <th>2</th>\n",
       "      <th>02:00</th>\n",
       "      <td>39.0</td>\n",
       "      <td>0.0</td>\n",
       "      <td>0.0</td>\n",
       "      <td>0.0</td>\n",
       "      <td>0.0</td>\n",
       "      <td>0.0</td>\n",
       "      <td>0.0</td>\n",
       "      <td>0.0</td>\n",
       "      <td>0.0</td>\n",
       "      <td>0.0</td>\n",
       "      <td>0.0</td>\n",
       "      <td>0.0</td>\n",
       "      <td>0.0</td>\n",
       "      <td>0.0</td>\n",
       "      <td>0.0</td>\n",
       "    </tr>\n",
       "    <tr>\n",
       "      <th>3</th>\n",
       "      <th>03:00</th>\n",
       "      <td>39.0</td>\n",
       "      <td>0.0</td>\n",
       "      <td>0.0</td>\n",
       "      <td>0.0</td>\n",
       "      <td>0.0</td>\n",
       "      <td>0.0</td>\n",
       "      <td>0.0</td>\n",
       "      <td>0.0</td>\n",
       "      <td>0.0</td>\n",
       "      <td>0.0</td>\n",
       "      <td>0.0</td>\n",
       "      <td>0.0</td>\n",
       "      <td>0.0</td>\n",
       "      <td>0.0</td>\n",
       "      <td>0.0</td>\n",
       "    </tr>\n",
       "    <tr>\n",
       "      <th>4</th>\n",
       "      <th>04:00</th>\n",
       "      <td>39.0</td>\n",
       "      <td>0.0</td>\n",
       "      <td>0.0</td>\n",
       "      <td>0.0</td>\n",
       "      <td>0.0</td>\n",
       "      <td>0.0</td>\n",
       "      <td>0.0</td>\n",
       "      <td>0.0</td>\n",
       "      <td>0.0</td>\n",
       "      <td>0.0</td>\n",
       "      <td>0.0</td>\n",
       "      <td>0.0</td>\n",
       "      <td>0.0</td>\n",
       "      <td>0.0</td>\n",
       "      <td>0.0</td>\n",
       "    </tr>\n",
       "    <tr>\n",
       "      <th>...</th>\n",
       "      <th>...</th>\n",
       "      <th>...</th>\n",
       "      <th>...</th>\n",
       "      <th>...</th>\n",
       "      <td>...</td>\n",
       "      <td>...</td>\n",
       "      <td>...</td>\n",
       "      <td>...</td>\n",
       "      <td>...</td>\n",
       "      <td>...</td>\n",
       "      <td>...</td>\n",
       "      <td>...</td>\n",
       "      <td>...</td>\n",
       "      <td>...</td>\n",
       "      <td>...</td>\n",
       "      <td>...</td>\n",
       "      <td>...</td>\n",
       "      <td>...</td>\n",
       "      <td>...</td>\n",
       "    </tr>\n",
       "    <tr>\n",
       "      <th rowspan=\"5\" valign=\"top\">OTH</th>\n",
       "      <th rowspan=\"5\" valign=\"top\">6</th>\n",
       "      <th rowspan=\"5\" valign=\"top\">Sun</th>\n",
       "      <th>19</th>\n",
       "      <th>19:00</th>\n",
       "      <td>39.0</td>\n",
       "      <td>0.0</td>\n",
       "      <td>0.0</td>\n",
       "      <td>0.0</td>\n",
       "      <td>0.0</td>\n",
       "      <td>0.0</td>\n",
       "      <td>0.0</td>\n",
       "      <td>0.0</td>\n",
       "      <td>0.0</td>\n",
       "      <td>0.0</td>\n",
       "      <td>0.0</td>\n",
       "      <td>0.0</td>\n",
       "      <td>0.0</td>\n",
       "      <td>0.0</td>\n",
       "      <td>0.0</td>\n",
       "    </tr>\n",
       "    <tr>\n",
       "      <th>20</th>\n",
       "      <th>20:00</th>\n",
       "      <td>39.0</td>\n",
       "      <td>0.0</td>\n",
       "      <td>0.0</td>\n",
       "      <td>0.0</td>\n",
       "      <td>0.0</td>\n",
       "      <td>0.0</td>\n",
       "      <td>0.0</td>\n",
       "      <td>0.0</td>\n",
       "      <td>0.0</td>\n",
       "      <td>0.0</td>\n",
       "      <td>0.0</td>\n",
       "      <td>0.0</td>\n",
       "      <td>0.0</td>\n",
       "      <td>0.0</td>\n",
       "      <td>0.0</td>\n",
       "    </tr>\n",
       "    <tr>\n",
       "      <th>21</th>\n",
       "      <th>21:00</th>\n",
       "      <td>39.0</td>\n",
       "      <td>0.0</td>\n",
       "      <td>0.0</td>\n",
       "      <td>0.0</td>\n",
       "      <td>0.0</td>\n",
       "      <td>0.0</td>\n",
       "      <td>0.0</td>\n",
       "      <td>0.0</td>\n",
       "      <td>0.0</td>\n",
       "      <td>0.0</td>\n",
       "      <td>0.0</td>\n",
       "      <td>0.0</td>\n",
       "      <td>0.0</td>\n",
       "      <td>0.0</td>\n",
       "      <td>0.0</td>\n",
       "    </tr>\n",
       "    <tr>\n",
       "      <th>22</th>\n",
       "      <th>22:00</th>\n",
       "      <td>39.0</td>\n",
       "      <td>0.0</td>\n",
       "      <td>0.0</td>\n",
       "      <td>0.0</td>\n",
       "      <td>0.0</td>\n",
       "      <td>0.0</td>\n",
       "      <td>0.0</td>\n",
       "      <td>0.0</td>\n",
       "      <td>0.0</td>\n",
       "      <td>0.0</td>\n",
       "      <td>0.0</td>\n",
       "      <td>0.0</td>\n",
       "      <td>0.0</td>\n",
       "      <td>0.0</td>\n",
       "      <td>0.0</td>\n",
       "    </tr>\n",
       "    <tr>\n",
       "      <th>23</th>\n",
       "      <th>23:00</th>\n",
       "      <td>39.0</td>\n",
       "      <td>0.0</td>\n",
       "      <td>0.0</td>\n",
       "      <td>0.0</td>\n",
       "      <td>0.0</td>\n",
       "      <td>0.0</td>\n",
       "      <td>0.0</td>\n",
       "      <td>0.0</td>\n",
       "      <td>0.0</td>\n",
       "      <td>0.0</td>\n",
       "      <td>0.0</td>\n",
       "      <td>0.0</td>\n",
       "      <td>0.0</td>\n",
       "      <td>0.0</td>\n",
       "      <td>0.0</td>\n",
       "    </tr>\n",
       "  </tbody>\n",
       "</table>\n",
       "<p>840 rows × 15 columns</p>\n",
       "</div>"
      ],
      "text/plain": [
       "                                                        count  mean  min  max  \\\n",
       "PatType day_of_week dow_name bin_of_day bin_of_day_str                          \n",
       "ART     0           Mon      0          00:00            40.0   0.0  0.0  0.0   \n",
       "                             1          01:00            39.0   0.0  0.0  0.0   \n",
       "                             2          02:00            39.0   0.0  0.0  0.0   \n",
       "                             3          03:00            39.0   0.0  0.0  0.0   \n",
       "                             4          04:00            39.0   0.0  0.0  0.0   \n",
       "...                                                       ...   ...  ...  ...   \n",
       "OTH     6           Sun      19         19:00            39.0   0.0  0.0  0.0   \n",
       "                             20         20:00            39.0   0.0  0.0  0.0   \n",
       "                             21         21:00            39.0   0.0  0.0  0.0   \n",
       "                             22         22:00            39.0   0.0  0.0  0.0   \n",
       "                             23         23:00            39.0   0.0  0.0  0.0   \n",
       "\n",
       "                                                        stdev  sem  var   cv  \\\n",
       "PatType day_of_week dow_name bin_of_day bin_of_day_str                         \n",
       "ART     0           Mon      0          00:00             0.0  0.0  0.0  0.0   \n",
       "                             1          01:00             0.0  0.0  0.0  0.0   \n",
       "                             2          02:00             0.0  0.0  0.0  0.0   \n",
       "                             3          03:00             0.0  0.0  0.0  0.0   \n",
       "                             4          04:00             0.0  0.0  0.0  0.0   \n",
       "...                                                       ...  ...  ...  ...   \n",
       "OTH     6           Sun      19         19:00             0.0  0.0  0.0  0.0   \n",
       "                             20         20:00             0.0  0.0  0.0  0.0   \n",
       "                             21         21:00             0.0  0.0  0.0  0.0   \n",
       "                             22         22:00             0.0  0.0  0.0  0.0   \n",
       "                             23         23:00             0.0  0.0  0.0  0.0   \n",
       "\n",
       "                                                        skew  kurt  p25  p50  \\\n",
       "PatType day_of_week dow_name bin_of_day bin_of_day_str                         \n",
       "ART     0           Mon      0          00:00            0.0   0.0  0.0  0.0   \n",
       "                             1          01:00            0.0   0.0  0.0  0.0   \n",
       "                             2          02:00            0.0   0.0  0.0  0.0   \n",
       "                             3          03:00            0.0   0.0  0.0  0.0   \n",
       "                             4          04:00            0.0   0.0  0.0  0.0   \n",
       "...                                                      ...   ...  ...  ...   \n",
       "OTH     6           Sun      19         19:00            0.0   0.0  0.0  0.0   \n",
       "                             20         20:00            0.0   0.0  0.0  0.0   \n",
       "                             21         21:00            0.0   0.0  0.0  0.0   \n",
       "                             22         22:00            0.0   0.0  0.0  0.0   \n",
       "                             23         23:00            0.0   0.0  0.0  0.0   \n",
       "\n",
       "                                                        p75  p95  p99  \n",
       "PatType day_of_week dow_name bin_of_day bin_of_day_str                 \n",
       "ART     0           Mon      0          00:00           0.0  0.0  0.0  \n",
       "                             1          01:00           0.0  0.0  0.0  \n",
       "                             2          02:00           0.0  0.0  0.0  \n",
       "                             3          03:00           0.0  0.0  0.0  \n",
       "                             4          04:00           0.0  0.0  0.0  \n",
       "...                                                     ...  ...  ...  \n",
       "OTH     6           Sun      19         19:00           0.0  0.0  0.0  \n",
       "                             20         20:00           0.0  0.0  0.0  \n",
       "                             21         21:00           0.0  0.0  0.0  \n",
       "                             22         22:00           0.0  0.0  0.0  \n",
       "                             23         23:00           0.0  0.0  0.0  \n",
       "\n",
       "[840 rows x 15 columns]"
      ]
     },
     "execution_count": 33,
     "metadata": {},
     "output_type": "execute_result"
    }
   ],
   "source": [
    "occ_summary_df = scenario_1.get_summary_df('o')\n",
    "occ_summary_df"
   ]
  },
  {
   "cell_type": "markdown",
   "metadata": {},
   "source": [
    "## Computing statistics with no plotting\n",
    "\n",
    "The default DOW and weekly plots can be supressed through key word arguments when creating a `Scenario` instance by setting `make_all_dow_plots=False` and `make_all_week_plots=False`.\n",
    "\n",
    "```\n",
    "\n",
    "```\n",
    "\n"
   ]
  },
  {
   "cell_type": "code",
   "execution_count": 47,
   "metadata": {},
   "outputs": [
    {
     "name": "stdout",
     "output_type": "stream",
     "text": [
      "dict_keys(['bydatetime', 'summaries', 'settings'])\n"
     ]
    }
   ],
   "source": [
    "start_date_ts = pd.Timestamp(start_date)\n",
    "scenario_6 = hm.Scenario(scenario_name=scenario_name, \n",
    "                         stops_df=stops_df,\n",
    "                         in_field=in_field_name,\n",
    "                         out_field=out_field_name,\n",
    "                         start_analysis_dt=start_date_ts,\n",
    "                         end_analysis_dt=start_date_ts + pd.Timedelta(90, 'd'),\n",
    "                         cat_field=cat_field_name,\n",
    "                         output_path=Path('./output'),\n",
    "                         verbosity=0,\n",
    "                         make_all_dow_plots=False,\n",
    "                         make_all_week_plots=False)\n",
    "\n",
    "scenario_6.make_hills()\n",
    "\n",
    "print(scenario_6.hills.keys())\n"
   ]
  },
  {
   "cell_type": "markdown",
   "metadata": {},
   "source": [
    "I also added a `compute_hills_stats` method that just does the bydatetime and summary stats, but does NOT create plots or export anything. It populates the `hills` attribute (a dict). "
   ]
  },
  {
   "cell_type": "code",
   "execution_count": 48,
   "metadata": {},
   "outputs": [
    {
     "name": "stdout",
     "output_type": "stream",
     "text": [
      "dict_keys(['bydatetime', 'summaries', 'settings'])\n"
     ]
    }
   ],
   "source": [
    "start_date_ts = pd.Timestamp(start_date)\n",
    "scenario_7 = hm.Scenario(scenario_name=scenario_name, \n",
    "                         stops_df=stops_df,\n",
    "                         in_field=in_field_name,\n",
    "                         out_field=out_field_name,\n",
    "                         start_analysis_dt=start_date_ts,\n",
    "                         end_analysis_dt=start_date_ts + pd.Timedelta(90, 'd'),\n",
    "                         cat_field=cat_field_name,\n",
    "                         output_path=Path('./output'),\n",
    "                         verbosity=0)\n",
    "\n",
    "scenario_7.compute_hills_stats()\n",
    "\n",
    "print(scenario_7.hills.keys())\n"
   ]
  },
  {
   "cell_type": "markdown",
   "metadata": {},
   "source": [
    "The plan is to add additional plot types and plotting related input arguments to allow better plot customization. For now, I've just added a function, `make_week_dow_plots()` to the `plotting` module that creates all of the DOW and weekly plots that are currently created. So, if you want, you can call `make_week_dow_plots()` after computing statistics with `compute_hills_stats` by passing in the resulting `hills` dictionary."
   ]
  },
  {
   "cell_type": "code",
   "execution_count": 49,
   "metadata": {},
   "outputs": [
    {
     "ename": "TypeError",
     "evalue": "make_week_dow_plots() missing 1 required positional argument: 'hills'",
     "output_type": "error",
     "traceback": [
      "\u001b[0;31m---------------------------------------------------------------------------\u001b[0m",
      "\u001b[0;31mTypeError\u001b[0m                                 Traceback (most recent call last)",
      "Cell \u001b[0;32mIn[49], line 1\u001b[0m\n\u001b[0;32m----> 1\u001b[0m scenario_7_plots \u001b[38;5;241m=\u001b[39m \u001b[43mhm\u001b[49m\u001b[38;5;241;43m.\u001b[39;49m\u001b[43mplotting\u001b[49m\u001b[38;5;241;43m.\u001b[39;49m\u001b[43mmake_week_dow_plots\u001b[49m\u001b[43m(\u001b[49m\u001b[43mscenario_7\u001b[49m\u001b[38;5;241;43m.\u001b[39;49m\u001b[43mhills\u001b[49m\u001b[43m)\u001b[49m\n",
      "\u001b[0;31mTypeError\u001b[0m: make_week_dow_plots() missing 1 required positional argument: 'hills'"
     ]
    }
   ],
   "source": [
    "scenario_7_plots = hm.plotting.make_week_dow_plots(scenario_7, scenario_7.hills)"
   ]
  },
  {
   "cell_type": "code",
   "execution_count": null,
   "metadata": {},
   "outputs": [],
   "source": []
  },
  {
   "cell_type": "code",
   "execution_count": null,
   "metadata": {},
   "outputs": [],
   "source": [
    "scenario_1.compute_hills_stats()"
   ]
  },
  {
   "cell_type": "code",
   "execution_count": null,
   "metadata": {},
   "outputs": [],
   "source": [
    "scenario_1.hills.keys()"
   ]
  },
  {
   "cell_type": "code",
   "execution_count": null,
   "metadata": {},
   "outputs": [],
   "source": [
    "scenario_1.hills['bydatetime'].keys()"
   ]
  },
  {
   "cell_type": "code",
   "execution_count": null,
   "metadata": {},
   "outputs": [],
   "source": [
    "scenario_1.get_summary_df('o')"
   ]
  },
  {
   "cell_type": "markdown",
   "metadata": {},
   "source": [
    "## Usage example 2 - the non-OO approach\n",
    "\n",
    "This is just the way that `make_hills` has been used in recent versions of hillmaker."
   ]
  },
  {
   "cell_type": "code",
   "execution_count": null,
   "metadata": {},
   "outputs": [],
   "source": [
    "# Required inputs\n",
    "scenario_name = 'ss_example_2'\n",
    "in_field_name = 'InRoomTS'\n",
    "out_field_name = 'OutRoomTS'\n",
    "start_date = '1996-01-01'\n",
    "end_date = pd.Timestamp('9/30/1996')\n",
    "\n",
    "# Optional inputs\n",
    "\n",
    "cat_field_name = 'PatType'\n",
    "verbosity = 1 # INFO level logging\n",
    "output_path = './output'\n",
    "bin_size_minutes = 60\n",
    "\n",
    "\n",
    "hills_2 = hm.make_hills(scenario_name=scenario_name, stops_df=stops_df,\n",
    "              in_field=in_field_name, out_field=out_field_name,\n",
    "              start_analysis_dt=start_date, end_analysis_dt=end_date,\n",
    "              cat_field=cat_field_name,\n",
    "              bin_size_minutes=bin_size_minutes,\n",
    "              output_path='./output', verbosity=verbosity)"
   ]
  },
  {
   "cell_type": "markdown",
   "metadata": {},
   "source": [
    "Now to get a plot we call the module level `get_plot` and pass in the hills dictionary. The `hills` dictionary contains a `'settings'` key that is used to store things needed for plots and dataframes."
   ]
  },
  {
   "cell_type": "code",
   "execution_count": null,
   "metadata": {},
   "outputs": [],
   "source": [
    "hills_2['settings']"
   ]
  },
  {
   "cell_type": "code",
   "execution_count": null,
   "metadata": {},
   "outputs": [],
   "source": [
    "plot = hm.get_plot(hills_2, 'o', 'week')\n",
    "plot"
   ]
  }
 ],
 "metadata": {
  "kernelspec": {
   "display_name": "Python [conda env:hm_oo]",
   "language": "python",
   "name": "conda-env-hm_oo-py"
  },
  "language_info": {
   "codemirror_mode": {
    "name": "ipython",
    "version": 3
   },
   "file_extension": ".py",
   "mimetype": "text/x-python",
   "name": "python",
   "nbconvert_exporter": "python",
   "pygments_lexer": "ipython3",
   "version": "3.10.12"
  }
 },
 "nbformat": 4,
 "nbformat_minor": 4
}
