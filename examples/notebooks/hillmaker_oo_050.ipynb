{
 "cells": [
  {
   "cell_type": "markdown",
   "metadata": {},
   "source": [
    "# hillmaker - OO design ideas\n",
    "\n",
    "https://github.com/misken/hillmaker/tree/oo"
   ]
  },
  {
   "cell_type": "markdown",
   "metadata": {},
   "source": [
    "Overall application design goals and objectives\n",
    "\n",
    "- should be easy to run a scenario and get all the standard outputs\n",
    "- scenario specific settings should be persistable as something like a json file\n",
    "- should be possible to generate only outputs wanted\n",
    "- should have a CLI\n",
    "- should be importable so that it can be used from notebook or other custom Python scripts\n",
    "- be nice to have a GUI for non-technie users\n",
    "- should be easy to explore multiple scenarios\n",
    "- global and scenario specific settings can be managed through settings files, command line args or function args\n",
    "- current occupancy, arrival and departure stats all still desirable\n",
    "- los summary would be nice\n",
    "- outputs should be in formats that lend themselves to further analysis and reporting such as csvs for the occ stats (bydatetime and summary), standard graphic file formats, perhaps JSON for los summary and occ stats\n",
    "- dataset profiling should be done to identify potential issues with horizon effects, warmup effects, missing data periods, or other anomolies.\n",
    "\n",
    "\n",
    "Should hillmaker be redesigned as an OO based application?\n",
    "\n",
    "- does OO design make for a better analyst experience? For example, does OO make it easier to create and manage a bunch of scenarios in which each is a separate hillmaker run? OO would make it easier to document scenarios through their settings (e.g. as json file).\n",
    "- does OO lead to potential performance gains by making it easier to only run the parts we want to run. For example, maybe we don't want individual day of week plots.\n",
    "- right now hillmaker is an (almost) all or nothing experience with each run standing alone. \n",
    "- OO would likely be better for those using hillmaker programmatically. \n",
    "- no matter what the design, there will always be a CLI.\n",
    "- not sure how OO or not affects GUI dev\n",
    "\n",
    "How should hillmaker be redesigned as an OO based application?"
   ]
  },
  {
   "cell_type": "markdown",
   "metadata": {},
   "source": [
    "## Use case 1 - overall and by patient type summaries\n",
    "\n",
    "Patients flow through a short stay unit for a variety of procedures, tests or therapies. Let's assume patients can be classified into one of five categories of patient types: ART (arterialgram), CAT (post cardiac-cath), MYE (myelogram), IVT (IV therapy), and OTH (other). From one of our hospital information systems we were able to get raw data about the entry and exit times of each patient and exported the data to a csv file. We call each row of such data a *stop* (as in, the patient stopped here for a while). \n",
    "\n",
    "- We want to generate summaries of occupancy as well as arrivals and discharges to go into a summary report for hospital administration. \n",
    "- We want these overall and by patient type. \n",
    "- We also want LOS summaries by patient type. \n",
    "- Volume and occupancy trends over time"
   ]
  },
  {
   "cell_type": "code",
   "execution_count": 1,
   "metadata": {},
   "outputs": [],
   "source": [
    "%load_ext autoreload\n",
    "%autoreload 2"
   ]
  },
  {
   "cell_type": "code",
   "execution_count": 2,
   "metadata": {},
   "outputs": [],
   "source": [
    "from pathlib import Path\n",
    "from pprint import pprint\n",
    "\n",
    "import pandas as pd\n",
    "import numpy as np\n",
    "import matplotlib.pyplot as plt\n",
    "from matplotlib.dates import DateFormatter\n",
    "from IPython.display import Image\n",
    "\n",
    "from datetime import datetime, date\n",
    "from typing import Dict, List, Optional, Tuple, Union"
   ]
  },
  {
   "cell_type": "code",
   "execution_count": 3,
   "metadata": {},
   "outputs": [
    {
     "name": "stdout",
     "output_type": "stream",
     "text": [
      "<class 'pandas.core.frame.DataFrame'>\n",
      "RangeIndex: 59877 entries, 0 to 59876\n",
      "Data columns (total 4 columns):\n",
      " #   Column     Non-Null Count  Dtype         \n",
      "---  ------     --------------  -----         \n",
      " 0   PatID      59877 non-null  int64         \n",
      " 1   InRoomTS   59877 non-null  datetime64[ns]\n",
      " 2   OutRoomTS  59877 non-null  datetime64[ns]\n",
      " 3   PatType    59877 non-null  object        \n",
      "dtypes: datetime64[ns](2), int64(1), object(1)\n",
      "memory usage: 1.8+ MB\n"
     ]
    }
   ],
   "source": [
    "ssu_stopdata = '../data/ShortStay.csv'\n",
    "stops_df = pd.read_csv(ssu_stopdata, parse_dates=['InRoomTS','OutRoomTS'])\n",
    "stops_df.info() # Check out the structure of the resulting DataFrame"
   ]
  },
  {
   "cell_type": "code",
   "execution_count": 4,
   "metadata": {},
   "outputs": [
    {
     "data": {
      "text/html": [
       "<div>\n",
       "<style scoped>\n",
       "    .dataframe tbody tr th:only-of-type {\n",
       "        vertical-align: middle;\n",
       "    }\n",
       "\n",
       "    .dataframe tbody tr th {\n",
       "        vertical-align: top;\n",
       "    }\n",
       "\n",
       "    .dataframe thead th {\n",
       "        text-align: right;\n",
       "    }\n",
       "</style>\n",
       "<table border=\"1\" class=\"dataframe\">\n",
       "  <thead>\n",
       "    <tr style=\"text-align: right;\">\n",
       "      <th></th>\n",
       "      <th>PatID</th>\n",
       "      <th>InRoomTS</th>\n",
       "      <th>OutRoomTS</th>\n",
       "      <th>PatType</th>\n",
       "    </tr>\n",
       "  </thead>\n",
       "  <tbody>\n",
       "    <tr>\n",
       "      <th>0</th>\n",
       "      <td>1</td>\n",
       "      <td>1996-01-01 07:44:00</td>\n",
       "      <td>1996-01-01 08:50:00</td>\n",
       "      <td>IVT</td>\n",
       "    </tr>\n",
       "    <tr>\n",
       "      <th>1</th>\n",
       "      <td>2</td>\n",
       "      <td>1996-01-01 08:28:00</td>\n",
       "      <td>1996-01-01 09:20:00</td>\n",
       "      <td>IVT</td>\n",
       "    </tr>\n",
       "    <tr>\n",
       "      <th>2</th>\n",
       "      <td>3</td>\n",
       "      <td>1996-01-01 11:44:00</td>\n",
       "      <td>1996-01-01 13:30:00</td>\n",
       "      <td>MYE</td>\n",
       "    </tr>\n",
       "    <tr>\n",
       "      <th>3</th>\n",
       "      <td>4</td>\n",
       "      <td>1996-01-01 11:51:00</td>\n",
       "      <td>1996-01-01 12:55:00</td>\n",
       "      <td>CAT</td>\n",
       "    </tr>\n",
       "    <tr>\n",
       "      <th>4</th>\n",
       "      <td>5</td>\n",
       "      <td>1996-01-01 12:10:00</td>\n",
       "      <td>1996-01-01 13:00:00</td>\n",
       "      <td>IVT</td>\n",
       "    </tr>\n",
       "  </tbody>\n",
       "</table>\n",
       "</div>"
      ],
      "text/plain": [
       "   PatID            InRoomTS           OutRoomTS PatType\n",
       "0      1 1996-01-01 07:44:00 1996-01-01 08:50:00     IVT\n",
       "1      2 1996-01-01 08:28:00 1996-01-01 09:20:00     IVT\n",
       "2      3 1996-01-01 11:44:00 1996-01-01 13:30:00     MYE\n",
       "3      4 1996-01-01 11:51:00 1996-01-01 12:55:00     CAT\n",
       "4      5 1996-01-01 12:10:00 1996-01-01 13:00:00     IVT"
      ]
     },
     "execution_count": 4,
     "metadata": {},
     "output_type": "execute_result"
    }
   ],
   "source": [
    "stops_df.head()"
   ]
  },
  {
   "cell_type": "markdown",
   "metadata": {},
   "source": [
    "## An OO version of hillmaker (0.5.0)\n",
    "\n",
    "This is a work in progress and just wanted to share some early ideas. To summarize:\n",
    "\n",
    "- added a `Scenario` class which has methods for running hillmaker (`make_hills()`) and for retrieving plots and dataframes from the results dictionary (`get_plot()`, `get_summary_df()`, and `get_bydatetime_df()`). \n",
    "- the plots and dataframes produced by `make_hills` are stored in a dictionary called `hills` that is an attribute of the `Scenario` class\n",
    "- the methods of the `Scenario` class are just wrappers that call module level functions of the same name that do the actual work. By doing this, I haven't broken the existing hillmaker API - you can still call a `make_hills` function and pass in a bunch of key word arguments and run things. The `make_hills()` function returns a `hills` dictionary and `get_plot` and `get_*_df` functions can be used to extract plots and dataframes from `hills` in a simple way.\n",
    "- the `Scenario` class is actually a `pydantic` model which handles input validation.\n",
    "\n",
    "So, hillmaker can be used in either an objected oriented way or a via standard function calls. It also has (or will have) a CLI. For now, this lets us try it out and see what makes the most sense for future development."
   ]
  },
  {
   "cell_type": "markdown",
   "metadata": {},
   "source": [
    "## Usage example 1 - the OO approach"
   ]
  },
  {
   "cell_type": "code",
   "execution_count": 6,
   "metadata": {},
   "outputs": [],
   "source": [
    "import hillmaker as hm\n",
    "from hillmaker import hmlib as hmlib"
   ]
  },
  {
   "cell_type": "markdown",
   "metadata": {},
   "source": [
    "Here are a collection of inputs that we'll use to create a scenario. Notice I purposely set one of the input dates to a string and the other to a `Timestamp` just to show that the `pydantic` model can handle the automatic transformation for us to a `datetime`."
   ]
  },
  {
   "cell_type": "code",
   "execution_count": 7,
   "metadata": {},
   "outputs": [],
   "source": [
    "# Required inputs\n",
    "scenario_name = 'ss_example_1'\n",
    "in_field_name = 'InRoomTS'\n",
    "out_field_name = 'OutRoomTS'\n",
    "start_date = '1996-01-01'\n",
    "end_date = pd.Timestamp('9/30/1996')\n",
    "\n",
    "# Optional inputs\n",
    "\n",
    "cat_field_name = 'PatType'\n",
    "verbosity = 1 # INFO level logging\n",
    "output_path = './output'\n",
    "bin_size_minutes = 60"
   ]
  },
  {
   "cell_type": "markdown",
   "metadata": {},
   "source": [
    "I created a `Scenario` class that is a Pydantic model. It handles a bunch of type constraints, validation, and default values. What does the `Scenario` class look like?"
   ]
  },
  {
   "cell_type": "code",
   "execution_count": null,
   "metadata": {},
   "outputs": [],
   "source": [
    "hm.Scenario??"
   ]
  },
  {
   "cell_type": "markdown",
   "metadata": {},
   "source": [
    "We can create scenarios a few different ways.\n",
    "\n",
    "- instantiate an instance of `Scenario` by passing in keyword args\n",
    "- if the args are in a dict, can use dictionary unpacking to do the same\n",
    "- there's a `create_scenario` method that can take a dict, a TOML path or keyword args and returns a `Scenario` object (precedence is in the reverse order - kwargs get the final say)"
   ]
  },
  {
   "cell_type": "markdown",
   "metadata": {},
   "source": [
    "Create a new hills scenario with keyword arguments. "
   ]
  },
  {
   "cell_type": "code",
   "execution_count": 8,
   "metadata": {},
   "outputs": [],
   "source": [
    "scenario_1 = hm.Scenario(scenario_name=scenario_name, \n",
    "                         stops_df=stops_df,\n",
    "                         in_field=in_field_name,\n",
    "                         out_field=out_field_name,\n",
    "                         start_analysis_dt=start_date,\n",
    "                         end_analysis_dt=end_date,\n",
    "                         cat_field=cat_field_name,\n",
    "                         output_path=Path('./output'),\n",
    "                         verbosity=verbosity)"
   ]
  },
  {
   "cell_type": "code",
   "execution_count": 9,
   "metadata": {},
   "outputs": [
    {
     "name": "stdout",
     "output_type": "stream",
     "text": [
      "{'bin_size_minutes': 60,\n",
      " 'cap': None,\n",
      " 'cat_field': 'PatType',\n",
      " 'cats_to_exclude': None,\n",
      " 'edge_bins': <EdgeBinsEnum.FRACTIONAL: 1>,\n",
      " 'end_analysis_dt': numpy.datetime64('1996-09-30T00:00:00.000000000'),\n",
      " 'export_bydatetime_csv': False,\n",
      " 'export_dow_plot': False,\n",
      " 'export_summaries_csv': False,\n",
      " 'export_week_plot': False,\n",
      " 'hills': None,\n",
      " 'in_field': 'InRoomTS',\n",
      " 'make_dow_plot': False,\n",
      " 'make_week_plot': False,\n",
      " 'nonstationary_stats': True,\n",
      " 'occ_weight_field': None,\n",
      " 'out_field': 'OutRoomTS',\n",
      " 'output_path': PosixPath('output'),\n",
      " 'percentiles': (0.25, 0.5, 0.75, 0.95, 0.99),\n",
      " 'scenario_name': 'ss_example_1',\n",
      " 'start_analysis_dt': numpy.datetime64('1996-01-01T00:00:00.000000000'),\n",
      " 'stationary_stats': True,\n",
      " 'stops_df':        PatID            InRoomTS           OutRoomTS PatType\n",
      "0          1 1996-01-01 07:44:00 1996-01-01 08:50:00     IVT\n",
      "1          2 1996-01-01 08:28:00 1996-01-01 09:20:00     IVT\n",
      "2          3 1996-01-01 11:44:00 1996-01-01 13:30:00     MYE\n",
      "3          4 1996-01-01 11:51:00 1996-01-01 12:55:00     CAT\n",
      "4          5 1996-01-01 12:10:00 1996-01-01 13:00:00     IVT\n",
      "...      ...                 ...                 ...     ...\n",
      "59872  59873 1996-09-30 19:31:00 1996-09-30 20:15:00     IVT\n",
      "59873  59874 1996-09-30 20:23:00 1996-09-30 21:30:00     IVT\n",
      "59874  59875 1996-09-30 21:00:00 1996-09-30 22:45:00     CAT\n",
      "59875  59876 1996-09-30 21:57:00 1996-09-30 22:40:00     IVT\n",
      "59876  59877 1996-09-30 22:45:00 1996-09-30 23:35:00     CAT\n",
      "\n",
      "[59877 rows x 4 columns],\n",
      " 'stops_preprocessed_df':                  InRoomTS           OutRoomTS PatType\n",
      "0     1996-01-01 07:44:00 1996-01-01 08:50:00     IVT\n",
      "1     1996-01-01 08:28:00 1996-01-01 09:20:00     IVT\n",
      "2     1996-01-01 11:44:00 1996-01-01 13:30:00     MYE\n",
      "3     1996-01-01 11:51:00 1996-01-01 12:55:00     CAT\n",
      "4     1996-01-01 12:10:00 1996-01-01 13:00:00     IVT\n",
      "...                   ...                 ...     ...\n",
      "59587 1996-09-29 16:47:00 1996-09-29 17:30:00     IVT\n",
      "59588 1996-09-29 16:56:00 1996-09-29 17:40:00     CAT\n",
      "59589 1996-09-29 17:52:00 1996-09-29 18:40:00     IVT\n",
      "59590 1996-09-29 18:16:00 1996-09-29 18:30:00     CAT\n",
      "59591 1996-09-29 19:51:00 1996-09-29 20:15:00     CAT\n",
      "\n",
      "[59592 rows x 3 columns],\n",
      " 'verbosity': 1,\n",
      " 'xlabel': 'Hour',\n",
      " 'ylabel': 'Patients'}\n"
     ]
    }
   ],
   "source": [
    "pprint(scenario_1.model_dump())"
   ]
  },
  {
   "cell_type": "markdown",
   "metadata": {},
   "source": [
    "You can use pydantic's `model_dump` function to create dictionary from a pydantic model. I'll do that and make a few changes and create a new scenario from the modified dict."
   ]
  },
  {
   "cell_type": "code",
   "execution_count": 11,
   "metadata": {},
   "outputs": [
    {
     "name": "stdout",
     "output_type": "stream",
     "text": [
      "{'scenario_name': 'ss_example_2', 'stops_df':        PatID            InRoomTS           OutRoomTS PatType\n",
      "0          1 1996-01-01 07:44:00 1996-01-01 08:50:00     IVT\n",
      "1          2 1996-01-01 08:28:00 1996-01-01 09:20:00     IVT\n",
      "2          3 1996-01-01 11:44:00 1996-01-01 13:30:00     MYE\n",
      "3          4 1996-01-01 11:51:00 1996-01-01 12:55:00     CAT\n",
      "4          5 1996-01-01 12:10:00 1996-01-01 13:00:00     IVT\n",
      "...      ...                 ...                 ...     ...\n",
      "59872  59873 1996-09-30 19:31:00 1996-09-30 20:15:00     IVT\n",
      "59873  59874 1996-09-30 20:23:00 1996-09-30 21:30:00     IVT\n",
      "59874  59875 1996-09-30 21:00:00 1996-09-30 22:45:00     CAT\n",
      "59875  59876 1996-09-30 21:57:00 1996-09-30 22:40:00     IVT\n",
      "59876  59877 1996-09-30 22:45:00 1996-09-30 23:35:00     CAT\n",
      "\n",
      "[59877 rows x 4 columns], 'in_field': 'InRoomTS', 'out_field': 'OutRoomTS', 'start_analysis_dt': numpy.datetime64('1996-01-01T00:00:00.000000000'), 'end_analysis_dt': numpy.datetime64('1996-09-30T00:00:00.000000000'), 'cat_field': 'PatType', 'bin_size_minutes': 30, 'cats_to_exclude': None, 'occ_weight_field': None, 'percentiles': [0.25, 0.5, 0.75, 0.95, 0.99], 'nonstationary_stats': True, 'stationary_stats': True, 'edge_bins': <EdgeBinsEnum.FRACTIONAL: 1>, 'output_path': PosixPath('output'), 'export_bydatetime_csv': False, 'export_summaries_csv': False, 'make_dow_plot': False, 'make_week_plot': False, 'export_dow_plot': False, 'export_week_plot': False, 'cap': None, 'xlabel': 'Hour', 'ylabel': 'Patients', 'verbosity': 1, 'stops_preprocessed_df':                  InRoomTS           OutRoomTS PatType\n",
      "0     1996-01-01 07:44:00 1996-01-01 08:50:00     IVT\n",
      "1     1996-01-01 08:28:00 1996-01-01 09:20:00     IVT\n",
      "2     1996-01-01 11:44:00 1996-01-01 13:30:00     MYE\n",
      "3     1996-01-01 11:51:00 1996-01-01 12:55:00     CAT\n",
      "4     1996-01-01 12:10:00 1996-01-01 13:00:00     IVT\n",
      "...                   ...                 ...     ...\n",
      "59587 1996-09-29 16:47:00 1996-09-29 17:30:00     IVT\n",
      "59588 1996-09-29 16:56:00 1996-09-29 17:40:00     CAT\n",
      "59589 1996-09-29 17:52:00 1996-09-29 18:40:00     IVT\n",
      "59590 1996-09-29 18:16:00 1996-09-29 18:30:00     CAT\n",
      "59591 1996-09-29 19:51:00 1996-09-29 20:15:00     CAT\n",
      "\n",
      "[59592 rows x 3 columns], 'hills': None}\n"
     ]
    }
   ],
   "source": [
    "# Dump pydantic model to dict (could wrap this with a to_dict() method\n",
    "scenario_2_dict = scenario_1.model_dump()\n",
    "\n",
    "# Make some changes\n",
    "scenario_2_dict['scenario_name'] = 'ss_example_2'\n",
    "scenario_2_dict['bin_size_minutes'] = 30\n",
    "\n",
    "# Make a new scenario using dictionary unpacking\n",
    "scenario_2 = hm.Scenario(**scenario_2_dict)\n",
    "\n",
    "print(scenario_2)"
   ]
  },
  {
   "cell_type": "markdown",
   "metadata": {},
   "source": [
    "Since the scenario objects are really just a Python class, attributes can be get and set in the usual way."
   ]
  },
  {
   "cell_type": "code",
   "execution_count": 12,
   "metadata": {},
   "outputs": [
    {
     "data": {
      "text/plain": [
       "60"
      ]
     },
     "execution_count": 12,
     "metadata": {},
     "output_type": "execute_result"
    }
   ],
   "source": [
    "scenario_1.bin_size_minutes"
   ]
  },
  {
   "cell_type": "markdown",
   "metadata": {},
   "source": [
    "While this is convenient, it does mean that as the programmer, you can get around some of the validation checks that were already done. For example, `bin_size_minutes` must evenly divide into 1440. I can add code to revalidate the model before allowing `make_hills` to run but I'm not going to bother for now. The standard Python error system will catch bad things."
   ]
  },
  {
   "cell_type": "code",
   "execution_count": 13,
   "metadata": {},
   "outputs": [],
   "source": [
    "scenario_1.bin_size_minutes = 17\n",
    "\n",
    "# Set it back to a valid value\n",
    "scenario_1.bin_size_minutes = 60"
   ]
  },
  {
   "cell_type": "markdown",
   "metadata": {},
   "source": [
    "Now let's generate hills by using the `make_hills` method of the scenario instance."
   ]
  },
  {
   "cell_type": "code",
   "execution_count": 22,
   "metadata": {},
   "outputs": [
    {
     "name": "stderr",
     "output_type": "stream",
     "text": [
      "2023-08-17 16:20:33,313 - hillmaker.bydatetime - INFO - min of intime: 1996-01-01 07:44:00\n",
      "2023-08-17 16:20:33,314 - hillmaker.bydatetime - INFO - max of intime: 1996-09-29 19:51:00\n",
      "2023-08-17 16:20:33,315 - hillmaker.bydatetime - INFO - min of outtime: 1996-01-01 08:50:00\n",
      "2023-08-17 16:20:33,315 - hillmaker.bydatetime - INFO - max of outtime: 1996-09-29 20:15:00\n",
      "2023-08-17 16:20:33,316 - hillmaker.bydatetime - INFO - start analysis: 1996-01-01, end analysis: 1996-09-30\n",
      "2023-08-17 16:20:33,330 - hillmaker.bydatetime - INFO - min of entry time_bin = 7\n",
      "2023-08-17 16:20:33,332 - hillmaker.bydatetime - INFO - max of exit time_bin = 6546 and num_bins=6553\n",
      "2023-08-17 16:20:33,947 - hillmaker.bydatetime - INFO - cat IVT {'inner': 33019}\n",
      "2023-08-17 16:20:33,992 - hillmaker.bydatetime - INFO - cat IVT num_arrivals_hm 33019 num_arrivals_stops 33019\n",
      "2023-08-17 16:20:33,993 - hillmaker.bydatetime - INFO - cat IVT num_departures_hm 33019 num_departures_stops 33019\n",
      "2023-08-17 16:20:33,995 - hillmaker.bydatetime - INFO - cat IVT tot_occ_hm 37871.13 tot_occ_stops 37871.13\n",
      "2023-08-17 16:20:34,000 - hillmaker.bydatetime - INFO - min of entry time_bin = 11\n",
      "2023-08-17 16:20:34,001 - hillmaker.bydatetime - INFO - max of exit time_bin = 6543 and num_bins=6553\n",
      "2023-08-17 16:20:34,129 - hillmaker.bydatetime - INFO - cat MYE {'inner': 6447}\n",
      "2023-08-17 16:20:34,140 - hillmaker.bydatetime - INFO - cat MYE num_arrivals_hm 6447 num_arrivals_stops 6447\n",
      "2023-08-17 16:20:34,140 - hillmaker.bydatetime - INFO - cat MYE num_departures_hm 6447 num_departures_stops 6447\n",
      "2023-08-17 16:20:34,142 - hillmaker.bydatetime - INFO - cat MYE tot_occ_hm 9210.75 tot_occ_stops 9210.75\n",
      "2023-08-17 16:20:34,147 - hillmaker.bydatetime - INFO - min of entry time_bin = 11\n",
      "2023-08-17 16:20:34,149 - hillmaker.bydatetime - INFO - max of exit time_bin = 6548 and num_bins=6553\n",
      "2023-08-17 16:20:34,495 - hillmaker.bydatetime - INFO - cat CAT {'inner': 10641}\n",
      "2023-08-17 16:20:34,511 - hillmaker.bydatetime - INFO - cat CAT num_arrivals_hm 10641 num_arrivals_stops 10641\n",
      "2023-08-17 16:20:34,512 - hillmaker.bydatetime - INFO - cat CAT num_departures_hm 10641 num_departures_stops 10641\n",
      "2023-08-17 16:20:34,514 - hillmaker.bydatetime - INFO - cat CAT tot_occ_hm 11107.40 tot_occ_stops 11107.40\n",
      "2023-08-17 16:20:34,523 - hillmaker.bydatetime - INFO - min of entry time_bin = 30\n",
      "2023-08-17 16:20:34,525 - hillmaker.bydatetime - INFO - max of exit time_bin = 6498 and num_bins=6553\n",
      "2023-08-17 16:20:34,638 - hillmaker.bydatetime - INFO - cat ART {'inner': 5738}\n",
      "2023-08-17 16:20:34,647 - hillmaker.bydatetime - INFO - cat ART num_arrivals_hm 5738 num_arrivals_stops 5738\n",
      "2023-08-17 16:20:34,648 - hillmaker.bydatetime - INFO - cat ART num_departures_hm 5738 num_departures_stops 5738\n",
      "2023-08-17 16:20:34,650 - hillmaker.bydatetime - INFO - cat ART tot_occ_hm 8491.98 tot_occ_stops 8491.98\n",
      "2023-08-17 16:20:34,655 - hillmaker.bydatetime - INFO - min of entry time_bin = 30\n",
      "2023-08-17 16:20:34,656 - hillmaker.bydatetime - INFO - max of exit time_bin = 6495 and num_bins=6553\n",
      "2023-08-17 16:20:34,750 - hillmaker.bydatetime - INFO - cat OTH {'inner': 3747}\n",
      "2023-08-17 16:20:34,757 - hillmaker.bydatetime - INFO - cat OTH num_arrivals_hm 3747 num_arrivals_stops 3747\n",
      "2023-08-17 16:20:34,758 - hillmaker.bydatetime - INFO - cat OTH num_departures_hm 3747 num_departures_stops 3747\n",
      "2023-08-17 16:20:34,759 - hillmaker.bydatetime - INFO - cat OTH tot_occ_hm 5628.47 tot_occ_stops 5628.47\n",
      "2023-08-17 16:20:35,108 - hillmaker.hills - INFO - Datetime matrix created (seconds): 1.8011\n",
      "2023-08-17 16:20:41,242 - hillmaker.summarize - INFO - Created nonstationary summaries - ['PatType']\n",
      "2023-08-17 16:20:42,373 - hillmaker.summarize - INFO - Created nonstationary summaries - []\n",
      "2023-08-17 16:20:42,408 - hillmaker.summarize - INFO - Created stationary summaries - ['PatType']\n",
      "2023-08-17 16:20:42,420 - hillmaker.summarize - INFO - Created stationary summaries - []\n",
      "2023-08-17 16:20:42,421 - hillmaker.hills - INFO - Summaries by datetime created (seconds): 7.3072\n",
      "2023-08-17 16:20:42,422 - hillmaker.hills - INFO - Total time (seconds): 9.1094\n"
     ]
    }
   ],
   "source": [
    "scenario_1.make_hills()"
   ]
  },
  {
   "cell_type": "markdown",
   "metadata": {},
   "source": [
    "All of the outputs get stored in the `hills` dictionary attribute."
   ]
  },
  {
   "cell_type": "code",
   "execution_count": null,
   "metadata": {},
   "outputs": [],
   "source": [
    "scenario_1.hills.keys()"
   ]
  },
  {
   "cell_type": "code",
   "execution_count": null,
   "metadata": {},
   "outputs": [],
   "source": [
    "pprint(scenario_1.hills['plots'].keys())"
   ]
  },
  {
   "cell_type": "markdown",
   "metadata": {},
   "source": [
    "As you pointed out, it's clunky to have to traverse these dictionaries to pull out plots and dataframes. Seems like we'd want to be able to quickly view a specific plot"
   ]
  },
  {
   "cell_type": "markdown",
   "metadata": {},
   "source": [
    "I added `get_plot()` as a method to the `Scenario` class."
   ]
  },
  {
   "cell_type": "code",
   "execution_count": null,
   "metadata": {},
   "outputs": [],
   "source": [
    "plot = scenario_1.get_plot('occupancy')"
   ]
  },
  {
   "cell_type": "code",
   "execution_count": null,
   "metadata": {},
   "outputs": [],
   "source": [
    "plot"
   ]
  },
  {
   "cell_type": "code",
   "execution_count": null,
   "metadata": {},
   "outputs": [],
   "source": [
    "scenario_1.get_plot('occ')"
   ]
  },
  {
   "cell_type": "code",
   "execution_count": null,
   "metadata": {},
   "outputs": [],
   "source": [
    "scenario_1.get_plot('departures', 'Mon')"
   ]
  },
  {
   "cell_type": "code",
   "execution_count": null,
   "metadata": {},
   "outputs": [],
   "source": [
    "scenario_1.get_summary_df?"
   ]
  },
  {
   "cell_type": "code",
   "execution_count": null,
   "metadata": {},
   "outputs": [],
   "source": [
    "occ_summary_df = scenario_1.get_summary_df('o')\n",
    "occ_summary_df"
   ]
  },
  {
   "cell_type": "markdown",
   "metadata": {},
   "source": [
    "I added a `compute_hills_stats` method that just does the bydatetime and summary stats, but does NOT create plots or export anything. It populates the `hills` attribute (a dict). "
   ]
  },
  {
   "cell_type": "code",
   "execution_count": 19,
   "metadata": {},
   "outputs": [
    {
     "name": "stderr",
     "output_type": "stream",
     "text": [
      "2023-08-17 15:42:37,079 - hillmaker.bydatetime - INFO - min of intime: 1996-01-01 07:44:00\n",
      "2023-08-17 15:42:37,080 - hillmaker.bydatetime - INFO - max of intime: 1996-09-29 19:51:00\n",
      "2023-08-17 15:42:37,081 - hillmaker.bydatetime - INFO - min of outtime: 1996-01-01 08:50:00\n",
      "2023-08-17 15:42:37,081 - hillmaker.bydatetime - INFO - max of outtime: 1996-09-29 20:15:00\n",
      "2023-08-17 15:42:37,082 - hillmaker.bydatetime - INFO - start analysis: 1996-01-01, end analysis: 1996-09-30\n",
      "2023-08-17 15:42:37,097 - hillmaker.bydatetime - INFO - min of entry time_bin = 7\n",
      "2023-08-17 15:42:37,098 - hillmaker.bydatetime - INFO - max of exit time_bin = 6546 and num_bins=6553\n",
      "2023-08-17 15:42:37,708 - hillmaker.bydatetime - INFO - cat IVT {'inner': 33019}\n",
      "2023-08-17 15:42:37,754 - hillmaker.bydatetime - INFO - cat IVT num_arrivals_hm 33019 num_arrivals_stops 33019\n",
      "2023-08-17 15:42:37,755 - hillmaker.bydatetime - INFO - cat IVT num_departures_hm 33019 num_departures_stops 33019\n",
      "2023-08-17 15:42:37,757 - hillmaker.bydatetime - INFO - cat IVT tot_occ_hm 37871.13 tot_occ_stops 37871.13\n",
      "2023-08-17 15:42:37,766 - hillmaker.bydatetime - INFO - min of entry time_bin = 11\n",
      "2023-08-17 15:42:37,768 - hillmaker.bydatetime - INFO - max of exit time_bin = 6543 and num_bins=6553\n",
      "2023-08-17 15:42:37,933 - hillmaker.bydatetime - INFO - cat MYE {'inner': 6447}\n",
      "2023-08-17 15:42:37,945 - hillmaker.bydatetime - INFO - cat MYE num_arrivals_hm 6447 num_arrivals_stops 6447\n",
      "2023-08-17 15:42:37,945 - hillmaker.bydatetime - INFO - cat MYE num_departures_hm 6447 num_departures_stops 6447\n",
      "2023-08-17 15:42:37,948 - hillmaker.bydatetime - INFO - cat MYE tot_occ_hm 9210.75 tot_occ_stops 9210.75\n",
      "2023-08-17 15:42:37,957 - hillmaker.bydatetime - INFO - min of entry time_bin = 11\n",
      "2023-08-17 15:42:37,959 - hillmaker.bydatetime - INFO - max of exit time_bin = 6548 and num_bins=6553\n",
      "2023-08-17 15:42:38,252 - hillmaker.bydatetime - INFO - cat CAT {'inner': 10641}\n",
      "2023-08-17 15:42:38,269 - hillmaker.bydatetime - INFO - cat CAT num_arrivals_hm 10641 num_arrivals_stops 10641\n",
      "2023-08-17 15:42:38,270 - hillmaker.bydatetime - INFO - cat CAT num_departures_hm 10641 num_departures_stops 10641\n",
      "2023-08-17 15:42:38,271 - hillmaker.bydatetime - INFO - cat CAT tot_occ_hm 11107.40 tot_occ_stops 11107.40\n",
      "2023-08-17 15:42:38,276 - hillmaker.bydatetime - INFO - min of entry time_bin = 30\n",
      "2023-08-17 15:42:38,278 - hillmaker.bydatetime - INFO - max of exit time_bin = 6498 and num_bins=6553\n",
      "2023-08-17 15:42:38,397 - hillmaker.bydatetime - INFO - cat ART {'inner': 5738}\n",
      "2023-08-17 15:42:38,407 - hillmaker.bydatetime - INFO - cat ART num_arrivals_hm 5738 num_arrivals_stops 5738\n",
      "2023-08-17 15:42:38,407 - hillmaker.bydatetime - INFO - cat ART num_departures_hm 5738 num_departures_stops 5738\n",
      "2023-08-17 15:42:38,409 - hillmaker.bydatetime - INFO - cat ART tot_occ_hm 8491.98 tot_occ_stops 8491.98\n",
      "2023-08-17 15:42:38,414 - hillmaker.bydatetime - INFO - min of entry time_bin = 30\n",
      "2023-08-17 15:42:38,416 - hillmaker.bydatetime - INFO - max of exit time_bin = 6495 and num_bins=6553\n",
      "2023-08-17 15:42:38,500 - hillmaker.bydatetime - INFO - cat OTH {'inner': 3747}\n",
      "2023-08-17 15:42:38,507 - hillmaker.bydatetime - INFO - cat OTH num_arrivals_hm 3747 num_arrivals_stops 3747\n",
      "2023-08-17 15:42:38,507 - hillmaker.bydatetime - INFO - cat OTH num_departures_hm 3747 num_departures_stops 3747\n",
      "2023-08-17 15:42:38,510 - hillmaker.bydatetime - INFO - cat OTH tot_occ_hm 5628.47 tot_occ_stops 5628.47\n",
      "2023-08-17 15:42:38,897 - hillmaker.hills - INFO - Datetime matrix created (seconds): 1.8251\n",
      "2023-08-17 15:42:45,045 - hillmaker.summarize - INFO - Created nonstationary summaries - ['PatType']\n",
      "2023-08-17 15:42:46,180 - hillmaker.summarize - INFO - Created nonstationary summaries - []\n",
      "2023-08-17 15:42:46,213 - hillmaker.summarize - INFO - Created stationary summaries - ['PatType']\n",
      "2023-08-17 15:42:46,226 - hillmaker.summarize - INFO - Created stationary summaries - []\n",
      "2023-08-17 15:42:46,227 - hillmaker.hills - INFO - Summaries by datetime created (seconds): 7.3238\n"
     ]
    }
   ],
   "source": [
    "scenario_1.compute_hills_stats()"
   ]
  },
  {
   "cell_type": "code",
   "execution_count": 20,
   "metadata": {},
   "outputs": [
    {
     "data": {
      "text/plain": [
       "dict_keys(['bydatetime', 'summaries', 'settings'])"
      ]
     },
     "execution_count": 20,
     "metadata": {},
     "output_type": "execute_result"
    }
   ],
   "source": [
    "scenario_1.hills.keys()"
   ]
  },
  {
   "cell_type": "code",
   "execution_count": 27,
   "metadata": {},
   "outputs": [
    {
     "data": {
      "text/plain": [
       "dict_keys(['PatType_datetime', 'datetime'])"
      ]
     },
     "execution_count": 27,
     "metadata": {},
     "output_type": "execute_result"
    }
   ],
   "source": [
    "scenario_1.hills['bydatetime'].keys()"
   ]
  },
  {
   "cell_type": "code",
   "execution_count": 21,
   "metadata": {},
   "outputs": [
    {
     "data": {
      "text/html": [
       "<div>\n",
       "<style scoped>\n",
       "    .dataframe tbody tr th:only-of-type {\n",
       "        vertical-align: middle;\n",
       "    }\n",
       "\n",
       "    .dataframe tbody tr th {\n",
       "        vertical-align: top;\n",
       "    }\n",
       "\n",
       "    .dataframe thead th {\n",
       "        text-align: right;\n",
       "    }\n",
       "</style>\n",
       "<table border=\"1\" class=\"dataframe\">\n",
       "  <thead>\n",
       "    <tr style=\"text-align: right;\">\n",
       "      <th></th>\n",
       "      <th></th>\n",
       "      <th></th>\n",
       "      <th></th>\n",
       "      <th></th>\n",
       "      <th>count</th>\n",
       "      <th>mean</th>\n",
       "      <th>min</th>\n",
       "      <th>max</th>\n",
       "      <th>stdev</th>\n",
       "      <th>sem</th>\n",
       "      <th>var</th>\n",
       "      <th>cv</th>\n",
       "      <th>skew</th>\n",
       "      <th>kurt</th>\n",
       "      <th>p25</th>\n",
       "      <th>p50</th>\n",
       "      <th>p75</th>\n",
       "      <th>p95</th>\n",
       "      <th>p99</th>\n",
       "    </tr>\n",
       "    <tr>\n",
       "      <th>PatType</th>\n",
       "      <th>day_of_week</th>\n",
       "      <th>dow_name</th>\n",
       "      <th>bin_of_day</th>\n",
       "      <th>bin_of_day_str</th>\n",
       "      <th></th>\n",
       "      <th></th>\n",
       "      <th></th>\n",
       "      <th></th>\n",
       "      <th></th>\n",
       "      <th></th>\n",
       "      <th></th>\n",
       "      <th></th>\n",
       "      <th></th>\n",
       "      <th></th>\n",
       "      <th></th>\n",
       "      <th></th>\n",
       "      <th></th>\n",
       "      <th></th>\n",
       "      <th></th>\n",
       "    </tr>\n",
       "  </thead>\n",
       "  <tbody>\n",
       "    <tr>\n",
       "      <th rowspan=\"5\" valign=\"top\">ART</th>\n",
       "      <th rowspan=\"5\" valign=\"top\">0</th>\n",
       "      <th rowspan=\"5\" valign=\"top\">Mon</th>\n",
       "      <th>0</th>\n",
       "      <th>00:00</th>\n",
       "      <td>40.0</td>\n",
       "      <td>0.0</td>\n",
       "      <td>0.0</td>\n",
       "      <td>0.0</td>\n",
       "      <td>0.0</td>\n",
       "      <td>0.0</td>\n",
       "      <td>0.0</td>\n",
       "      <td>0.0</td>\n",
       "      <td>0.0</td>\n",
       "      <td>0.0</td>\n",
       "      <td>0.0</td>\n",
       "      <td>0.0</td>\n",
       "      <td>0.0</td>\n",
       "      <td>0.0</td>\n",
       "      <td>0.0</td>\n",
       "    </tr>\n",
       "    <tr>\n",
       "      <th>1</th>\n",
       "      <th>01:00</th>\n",
       "      <td>39.0</td>\n",
       "      <td>0.0</td>\n",
       "      <td>0.0</td>\n",
       "      <td>0.0</td>\n",
       "      <td>0.0</td>\n",
       "      <td>0.0</td>\n",
       "      <td>0.0</td>\n",
       "      <td>0.0</td>\n",
       "      <td>0.0</td>\n",
       "      <td>0.0</td>\n",
       "      <td>0.0</td>\n",
       "      <td>0.0</td>\n",
       "      <td>0.0</td>\n",
       "      <td>0.0</td>\n",
       "      <td>0.0</td>\n",
       "    </tr>\n",
       "    <tr>\n",
       "      <th>2</th>\n",
       "      <th>02:00</th>\n",
       "      <td>39.0</td>\n",
       "      <td>0.0</td>\n",
       "      <td>0.0</td>\n",
       "      <td>0.0</td>\n",
       "      <td>0.0</td>\n",
       "      <td>0.0</td>\n",
       "      <td>0.0</td>\n",
       "      <td>0.0</td>\n",
       "      <td>0.0</td>\n",
       "      <td>0.0</td>\n",
       "      <td>0.0</td>\n",
       "      <td>0.0</td>\n",
       "      <td>0.0</td>\n",
       "      <td>0.0</td>\n",
       "      <td>0.0</td>\n",
       "    </tr>\n",
       "    <tr>\n",
       "      <th>3</th>\n",
       "      <th>03:00</th>\n",
       "      <td>39.0</td>\n",
       "      <td>0.0</td>\n",
       "      <td>0.0</td>\n",
       "      <td>0.0</td>\n",
       "      <td>0.0</td>\n",
       "      <td>0.0</td>\n",
       "      <td>0.0</td>\n",
       "      <td>0.0</td>\n",
       "      <td>0.0</td>\n",
       "      <td>0.0</td>\n",
       "      <td>0.0</td>\n",
       "      <td>0.0</td>\n",
       "      <td>0.0</td>\n",
       "      <td>0.0</td>\n",
       "      <td>0.0</td>\n",
       "    </tr>\n",
       "    <tr>\n",
       "      <th>4</th>\n",
       "      <th>04:00</th>\n",
       "      <td>39.0</td>\n",
       "      <td>0.0</td>\n",
       "      <td>0.0</td>\n",
       "      <td>0.0</td>\n",
       "      <td>0.0</td>\n",
       "      <td>0.0</td>\n",
       "      <td>0.0</td>\n",
       "      <td>0.0</td>\n",
       "      <td>0.0</td>\n",
       "      <td>0.0</td>\n",
       "      <td>0.0</td>\n",
       "      <td>0.0</td>\n",
       "      <td>0.0</td>\n",
       "      <td>0.0</td>\n",
       "      <td>0.0</td>\n",
       "    </tr>\n",
       "    <tr>\n",
       "      <th>...</th>\n",
       "      <th>...</th>\n",
       "      <th>...</th>\n",
       "      <th>...</th>\n",
       "      <th>...</th>\n",
       "      <td>...</td>\n",
       "      <td>...</td>\n",
       "      <td>...</td>\n",
       "      <td>...</td>\n",
       "      <td>...</td>\n",
       "      <td>...</td>\n",
       "      <td>...</td>\n",
       "      <td>...</td>\n",
       "      <td>...</td>\n",
       "      <td>...</td>\n",
       "      <td>...</td>\n",
       "      <td>...</td>\n",
       "      <td>...</td>\n",
       "      <td>...</td>\n",
       "      <td>...</td>\n",
       "    </tr>\n",
       "    <tr>\n",
       "      <th rowspan=\"5\" valign=\"top\">OTH</th>\n",
       "      <th rowspan=\"5\" valign=\"top\">6</th>\n",
       "      <th rowspan=\"5\" valign=\"top\">Sun</th>\n",
       "      <th>19</th>\n",
       "      <th>19:00</th>\n",
       "      <td>39.0</td>\n",
       "      <td>0.0</td>\n",
       "      <td>0.0</td>\n",
       "      <td>0.0</td>\n",
       "      <td>0.0</td>\n",
       "      <td>0.0</td>\n",
       "      <td>0.0</td>\n",
       "      <td>0.0</td>\n",
       "      <td>0.0</td>\n",
       "      <td>0.0</td>\n",
       "      <td>0.0</td>\n",
       "      <td>0.0</td>\n",
       "      <td>0.0</td>\n",
       "      <td>0.0</td>\n",
       "      <td>0.0</td>\n",
       "    </tr>\n",
       "    <tr>\n",
       "      <th>20</th>\n",
       "      <th>20:00</th>\n",
       "      <td>39.0</td>\n",
       "      <td>0.0</td>\n",
       "      <td>0.0</td>\n",
       "      <td>0.0</td>\n",
       "      <td>0.0</td>\n",
       "      <td>0.0</td>\n",
       "      <td>0.0</td>\n",
       "      <td>0.0</td>\n",
       "      <td>0.0</td>\n",
       "      <td>0.0</td>\n",
       "      <td>0.0</td>\n",
       "      <td>0.0</td>\n",
       "      <td>0.0</td>\n",
       "      <td>0.0</td>\n",
       "      <td>0.0</td>\n",
       "    </tr>\n",
       "    <tr>\n",
       "      <th>21</th>\n",
       "      <th>21:00</th>\n",
       "      <td>39.0</td>\n",
       "      <td>0.0</td>\n",
       "      <td>0.0</td>\n",
       "      <td>0.0</td>\n",
       "      <td>0.0</td>\n",
       "      <td>0.0</td>\n",
       "      <td>0.0</td>\n",
       "      <td>0.0</td>\n",
       "      <td>0.0</td>\n",
       "      <td>0.0</td>\n",
       "      <td>0.0</td>\n",
       "      <td>0.0</td>\n",
       "      <td>0.0</td>\n",
       "      <td>0.0</td>\n",
       "      <td>0.0</td>\n",
       "    </tr>\n",
       "    <tr>\n",
       "      <th>22</th>\n",
       "      <th>22:00</th>\n",
       "      <td>39.0</td>\n",
       "      <td>0.0</td>\n",
       "      <td>0.0</td>\n",
       "      <td>0.0</td>\n",
       "      <td>0.0</td>\n",
       "      <td>0.0</td>\n",
       "      <td>0.0</td>\n",
       "      <td>0.0</td>\n",
       "      <td>0.0</td>\n",
       "      <td>0.0</td>\n",
       "      <td>0.0</td>\n",
       "      <td>0.0</td>\n",
       "      <td>0.0</td>\n",
       "      <td>0.0</td>\n",
       "      <td>0.0</td>\n",
       "    </tr>\n",
       "    <tr>\n",
       "      <th>23</th>\n",
       "      <th>23:00</th>\n",
       "      <td>39.0</td>\n",
       "      <td>0.0</td>\n",
       "      <td>0.0</td>\n",
       "      <td>0.0</td>\n",
       "      <td>0.0</td>\n",
       "      <td>0.0</td>\n",
       "      <td>0.0</td>\n",
       "      <td>0.0</td>\n",
       "      <td>0.0</td>\n",
       "      <td>0.0</td>\n",
       "      <td>0.0</td>\n",
       "      <td>0.0</td>\n",
       "      <td>0.0</td>\n",
       "      <td>0.0</td>\n",
       "      <td>0.0</td>\n",
       "    </tr>\n",
       "  </tbody>\n",
       "</table>\n",
       "<p>840 rows × 15 columns</p>\n",
       "</div>"
      ],
      "text/plain": [
       "                                                        count  mean  min  max  \\\n",
       "PatType day_of_week dow_name bin_of_day bin_of_day_str                          \n",
       "ART     0           Mon      0          00:00            40.0   0.0  0.0  0.0   \n",
       "                             1          01:00            39.0   0.0  0.0  0.0   \n",
       "                             2          02:00            39.0   0.0  0.0  0.0   \n",
       "                             3          03:00            39.0   0.0  0.0  0.0   \n",
       "                             4          04:00            39.0   0.0  0.0  0.0   \n",
       "...                                                       ...   ...  ...  ...   \n",
       "OTH     6           Sun      19         19:00            39.0   0.0  0.0  0.0   \n",
       "                             20         20:00            39.0   0.0  0.0  0.0   \n",
       "                             21         21:00            39.0   0.0  0.0  0.0   \n",
       "                             22         22:00            39.0   0.0  0.0  0.0   \n",
       "                             23         23:00            39.0   0.0  0.0  0.0   \n",
       "\n",
       "                                                        stdev  sem  var   cv  \\\n",
       "PatType day_of_week dow_name bin_of_day bin_of_day_str                         \n",
       "ART     0           Mon      0          00:00             0.0  0.0  0.0  0.0   \n",
       "                             1          01:00             0.0  0.0  0.0  0.0   \n",
       "                             2          02:00             0.0  0.0  0.0  0.0   \n",
       "                             3          03:00             0.0  0.0  0.0  0.0   \n",
       "                             4          04:00             0.0  0.0  0.0  0.0   \n",
       "...                                                       ...  ...  ...  ...   \n",
       "OTH     6           Sun      19         19:00             0.0  0.0  0.0  0.0   \n",
       "                             20         20:00             0.0  0.0  0.0  0.0   \n",
       "                             21         21:00             0.0  0.0  0.0  0.0   \n",
       "                             22         22:00             0.0  0.0  0.0  0.0   \n",
       "                             23         23:00             0.0  0.0  0.0  0.0   \n",
       "\n",
       "                                                        skew  kurt  p25  p50  \\\n",
       "PatType day_of_week dow_name bin_of_day bin_of_day_str                         \n",
       "ART     0           Mon      0          00:00            0.0   0.0  0.0  0.0   \n",
       "                             1          01:00            0.0   0.0  0.0  0.0   \n",
       "                             2          02:00            0.0   0.0  0.0  0.0   \n",
       "                             3          03:00            0.0   0.0  0.0  0.0   \n",
       "                             4          04:00            0.0   0.0  0.0  0.0   \n",
       "...                                                      ...   ...  ...  ...   \n",
       "OTH     6           Sun      19         19:00            0.0   0.0  0.0  0.0   \n",
       "                             20         20:00            0.0   0.0  0.0  0.0   \n",
       "                             21         21:00            0.0   0.0  0.0  0.0   \n",
       "                             22         22:00            0.0   0.0  0.0  0.0   \n",
       "                             23         23:00            0.0   0.0  0.0  0.0   \n",
       "\n",
       "                                                        p75  p95  p99  \n",
       "PatType day_of_week dow_name bin_of_day bin_of_day_str                 \n",
       "ART     0           Mon      0          00:00           0.0  0.0  0.0  \n",
       "                             1          01:00           0.0  0.0  0.0  \n",
       "                             2          02:00           0.0  0.0  0.0  \n",
       "                             3          03:00           0.0  0.0  0.0  \n",
       "                             4          04:00           0.0  0.0  0.0  \n",
       "...                                                     ...  ...  ...  \n",
       "OTH     6           Sun      19         19:00           0.0  0.0  0.0  \n",
       "                             20         20:00           0.0  0.0  0.0  \n",
       "                             21         21:00           0.0  0.0  0.0  \n",
       "                             22         22:00           0.0  0.0  0.0  \n",
       "                             23         23:00           0.0  0.0  0.0  \n",
       "\n",
       "[840 rows x 15 columns]"
      ]
     },
     "execution_count": 21,
     "metadata": {},
     "output_type": "execute_result"
    }
   ],
   "source": [
    "scenario_1.get_summary_df('o')"
   ]
  },
  {
   "cell_type": "markdown",
   "metadata": {},
   "source": [
    "## Usage example 2 - the non-OO approach\n",
    "\n",
    "This is just the way that `make_hills` has been used in recent versions of hillmaker."
   ]
  },
  {
   "cell_type": "code",
   "execution_count": 24,
   "metadata": {},
   "outputs": [
    {
     "name": "stderr",
     "output_type": "stream",
     "text": [
      "2023-08-17 16:34:02,888 - hillmaker.bydatetime - INFO - min of intime: 1996-01-01 07:44:00\n",
      "2023-08-17 16:34:02,889 - hillmaker.bydatetime - INFO - max of intime: 1996-09-29 19:51:00\n",
      "2023-08-17 16:34:02,890 - hillmaker.bydatetime - INFO - min of outtime: 1996-01-01 08:50:00\n",
      "2023-08-17 16:34:02,895 - hillmaker.bydatetime - INFO - max of outtime: 1996-09-29 20:15:00\n",
      "2023-08-17 16:34:02,896 - hillmaker.bydatetime - INFO - start analysis: 1996-01-01, end analysis: 1996-09-30\n",
      "2023-08-17 16:34:02,913 - hillmaker.bydatetime - INFO - min of entry time_bin = 7\n",
      "2023-08-17 16:34:02,915 - hillmaker.bydatetime - INFO - max of exit time_bin = 6546 and num_bins=6553\n",
      "2023-08-17 16:34:03,523 - hillmaker.bydatetime - INFO - cat IVT {'inner': 33019}\n",
      "2023-08-17 16:34:03,569 - hillmaker.bydatetime - INFO - cat IVT num_arrivals_hm 33019 num_arrivals_stops 33019\n",
      "2023-08-17 16:34:03,569 - hillmaker.bydatetime - INFO - cat IVT num_departures_hm 33019 num_departures_stops 33019\n",
      "2023-08-17 16:34:03,571 - hillmaker.bydatetime - INFO - cat IVT tot_occ_hm 37871.13 tot_occ_stops 37871.13\n",
      "2023-08-17 16:34:03,578 - hillmaker.bydatetime - INFO - min of entry time_bin = 11\n",
      "2023-08-17 16:34:03,579 - hillmaker.bydatetime - INFO - max of exit time_bin = 6543 and num_bins=6553\n",
      "2023-08-17 16:34:03,735 - hillmaker.bydatetime - INFO - cat MYE {'inner': 6447}\n",
      "2023-08-17 16:34:03,747 - hillmaker.bydatetime - INFO - cat MYE num_arrivals_hm 6447 num_arrivals_stops 6447\n",
      "2023-08-17 16:34:03,748 - hillmaker.bydatetime - INFO - cat MYE num_departures_hm 6447 num_departures_stops 6447\n",
      "2023-08-17 16:34:03,751 - hillmaker.bydatetime - INFO - cat MYE tot_occ_hm 9210.75 tot_occ_stops 9210.75\n",
      "2023-08-17 16:34:03,760 - hillmaker.bydatetime - INFO - min of entry time_bin = 11\n",
      "2023-08-17 16:34:03,762 - hillmaker.bydatetime - INFO - max of exit time_bin = 6548 and num_bins=6553\n",
      "2023-08-17 16:34:04,207 - hillmaker.bydatetime - INFO - cat CAT {'inner': 10641}\n",
      "2023-08-17 16:34:04,224 - hillmaker.bydatetime - INFO - cat CAT num_arrivals_hm 10641 num_arrivals_stops 10641\n",
      "2023-08-17 16:34:04,225 - hillmaker.bydatetime - INFO - cat CAT num_departures_hm 10641 num_departures_stops 10641\n",
      "2023-08-17 16:34:04,226 - hillmaker.bydatetime - INFO - cat CAT tot_occ_hm 11107.40 tot_occ_stops 11107.40\n",
      "2023-08-17 16:34:04,232 - hillmaker.bydatetime - INFO - min of entry time_bin = 30\n",
      "2023-08-17 16:34:04,233 - hillmaker.bydatetime - INFO - max of exit time_bin = 6498 and num_bins=6553\n",
      "2023-08-17 16:34:04,346 - hillmaker.bydatetime - INFO - cat ART {'inner': 5738}\n",
      "2023-08-17 16:34:04,356 - hillmaker.bydatetime - INFO - cat ART num_arrivals_hm 5738 num_arrivals_stops 5738\n",
      "2023-08-17 16:34:04,356 - hillmaker.bydatetime - INFO - cat ART num_departures_hm 5738 num_departures_stops 5738\n",
      "2023-08-17 16:34:04,358 - hillmaker.bydatetime - INFO - cat ART tot_occ_hm 8491.98 tot_occ_stops 8491.98\n",
      "2023-08-17 16:34:04,363 - hillmaker.bydatetime - INFO - min of entry time_bin = 30\n",
      "2023-08-17 16:34:04,364 - hillmaker.bydatetime - INFO - max of exit time_bin = 6495 and num_bins=6553\n",
      "2023-08-17 16:34:04,440 - hillmaker.bydatetime - INFO - cat OTH {'inner': 3747}\n",
      "2023-08-17 16:34:04,448 - hillmaker.bydatetime - INFO - cat OTH num_arrivals_hm 3747 num_arrivals_stops 3747\n",
      "2023-08-17 16:34:04,448 - hillmaker.bydatetime - INFO - cat OTH num_departures_hm 3747 num_departures_stops 3747\n",
      "2023-08-17 16:34:04,450 - hillmaker.bydatetime - INFO - cat OTH tot_occ_hm 5628.47 tot_occ_stops 5628.47\n",
      "2023-08-17 16:34:04,799 - hillmaker.hills - INFO - Datetime matrix created (seconds): 1.9236\n",
      "2023-08-17 16:34:10,933 - hillmaker.summarize - INFO - Created nonstationary summaries - ['PatType']\n",
      "2023-08-17 16:34:12,067 - hillmaker.summarize - INFO - Created nonstationary summaries - []\n",
      "2023-08-17 16:34:12,121 - hillmaker.summarize - INFO - Created stationary summaries - ['PatType']\n",
      "2023-08-17 16:34:12,140 - hillmaker.summarize - INFO - Created stationary summaries - []\n",
      "2023-08-17 16:34:12,141 - hillmaker.hills - INFO - Summaries by datetime created (seconds): 7.3354\n",
      "2023-08-17 16:34:12,390 - hillmaker.hills - INFO - By datetime exported to csv in ./output (seconds): 0.2453\n",
      "2023-08-17 16:34:12,465 - hillmaker.hills - INFO - Summaries exported to csv in ./output (seconds): 0.0746\n",
      "2023-08-17 16:34:13,169 - hillmaker.hills - INFO - Full week plots created (seconds): 0.7070\n",
      "2023-08-17 16:34:14,978 - hillmaker.hills - INFO - Individual day of week plots created (seconds): 1.8083\n",
      "2023-08-17 16:34:14,979 - hillmaker.hills - INFO - Total time (seconds): 12.0992\n"
     ]
    }
   ],
   "source": [
    "# Required inputs\n",
    "scenario_name = 'ss_example_2'\n",
    "in_field_name = 'InRoomTS'\n",
    "out_field_name = 'OutRoomTS'\n",
    "start_date = '1996-01-01'\n",
    "end_date = pd.Timestamp('9/30/1996')\n",
    "\n",
    "# Optional inputs\n",
    "\n",
    "cat_field_name = 'PatType'\n",
    "verbosity = 1 # INFO level logging\n",
    "output_path = './output'\n",
    "bin_size_minutes = 60\n",
    "\n",
    "\n",
    "hills_2 = hm.make_hills(scenario_name=scenario_name, stops_df=stops_df,\n",
    "              in_field=in_field_name, out_field=out_field_name,\n",
    "              start_analysis_dt=start_date, end_analysis_dt=end_date,\n",
    "              cat_field=cat_field_name,\n",
    "              bin_size_minutes=bin_size_minutes,\n",
    "              output_path='./output', verbosity=verbosity)"
   ]
  },
  {
   "cell_type": "markdown",
   "metadata": {},
   "source": [
    "Now to get a plot we call the module level `get_plot` and pass in the hills dictionary. The `hills` dictionary contains a `'settings'` key that is used to store things needed for plots and dataframes."
   ]
  },
  {
   "cell_type": "code",
   "execution_count": 25,
   "metadata": {},
   "outputs": [
    {
     "data": {
      "text/plain": [
       "{'scenario_name': 'ss_example_2', 'cat_field': 'PatType'}"
      ]
     },
     "execution_count": 25,
     "metadata": {},
     "output_type": "execute_result"
    }
   ],
   "source": [
    "hills_2['settings']"
   ]
  },
  {
   "cell_type": "code",
   "execution_count": 26,
   "metadata": {},
   "outputs": [
    {
     "data": {
      "image/png": "[encoded data removed]",
      "text/plain": [
       "<Figure size 1500x1000 with 1 Axes>"
      ]
     },
     "execution_count": 26,
     "metadata": {},
     "output_type": "execute_result"
    }
   ],
   "source": [
    "plot = hm.get_plot(hills_2, 'o', 'week')\n",
    "plot"
   ]
  }
 ],
 "metadata": {
  "kernelspec": {
   "display_name": "Python [conda env:hm_oo]",
   "language": "python",
   "name": "conda-env-hm_oo-py"
  },
  "language_info": {
   "codemirror_mode": {
    "name": "ipython",
    "version": 3
   },
   "file_extension": ".py",
   "mimetype": "text/x-python",
   "name": "python",
   "nbconvert_exporter": "python",
   "pygments_lexer": "ipython3",
   "version": "3.10.12"
  }
 },
 "nbformat": 4,
 "nbformat_minor": 4
}
